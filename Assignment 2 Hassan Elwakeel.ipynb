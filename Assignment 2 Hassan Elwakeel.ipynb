{
 "cells":[
  {
   "cell_type":"markdown",
   "source":[
    "**Hassan Elwakeel**\n",
    "**900211274**"
   ],
   "attachments":{
    
   },
   "metadata":{
    "datalore":{
     "type":"MD",
     "hide_input_from_viewers":false,
     "hide_output_from_viewers":false
    }
   }
  },
  {
   "cell_type":"markdown",
   "source":[
    "# Assignment 2\n",
    "**Table of contents**\n",
    "- Abstract\n",
    "- Part 1\n",
    "- Part 2"
   ],
   "attachments":{
    
   },
   "metadata":{
    "datalore":{
     "type":"MD",
     "hide_input_from_viewers":false,
     "hide_output_from_viewers":false
    }
   }
  },
  {
   "cell_type":"markdown",
   "source":[
    "# Abstract\n",
    "\n",
    "This notebook includes a csv folder \"results.csv\" which is for the first part. The first part has 43188 variables and 9 columns which includes some football results of international team whether they won or lost and in which tournament such as fifa world cup qualifications and it also shows the results of winning and losing on home pitch or away pitch. On the other hand the second part includes a csv folder \"covid_data.csv\" which has 122843 variables and 11 columns which includes the covid-19 data. especially the daily average cases in each region, country, continent and whether income affects the number of cases or not. "
   ],
   "attachments":{
    
   },
   "metadata":{
    "datalore":{
     "type":"MD",
     "hide_input_from_viewers":false,
     "hide_output_from_viewers":false
    }
   }
  },
  {
   "cell_type":"markdown",
   "source":[
    "# Part I"
   ],
   "attachments":{
    
   },
   "metadata":{
    "datalore":{
     "type":"MD",
     "hide_input_from_viewers":false,
     "hide_output_from_viewers":false
    }
   }
  },
  {
   "cell_type":"code",
   "source":[
    "import pandas as pd"
   ],
   "execution_count":1,
   "outputs":[
    
   ],
   "metadata":{
    "datalore":{
     "type":"CODE",
     "hide_input_from_viewers":false,
     "hide_output_from_viewers":false
    }
   }
  },
  {
   "cell_type":"code",
   "source":[
    "df=pd.read_csv('results.csv')"
   ],
   "execution_count":2,
   "outputs":[
    
   ],
   "metadata":{
    "datalore":{
     "type":"CODE",
     "hide_input_from_viewers":false,
     "hide_output_from_viewers":false
    }
   }
  },
  {
   "cell_type":"code",
   "source":[
    "df"
   ],
   "execution_count":3,
   "outputs":[
    {
     "data":{
      "text\/html":[
       "<div>\n",
       "<style scoped>\n",
       "    .dataframe tbody tr th:only-of-type {\n",
       "        vertical-align: middle;\n",
       "    }\n",
       "\n",
       "    .dataframe tbody tr th {\n",
       "        vertical-align: top;\n",
       "    }\n",
       "\n",
       "    .dataframe thead th {\n",
       "        text-align: right;\n",
       "    }\n",
       "<\/style>\n",
       "<table border=\"1\" class=\"dataframe\">\n",
       "  <thead>\n",
       "    <tr style=\"text-align: right;\">\n",
       "      <th><\/th>\n",
       "      <th>date<\/th>\n",
       "      <th>home_team<\/th>\n",
       "      <th>away_team<\/th>\n",
       "      <th>home_score<\/th>\n",
       "      <th>away_score<\/th>\n",
       "      <th>tournament<\/th>\n",
       "      <th>city<\/th>\n",
       "      <th>country<\/th>\n",
       "      <th>neutral<\/th>\n",
       "    <\/tr>\n",
       "  <\/thead>\n",
       "  <tbody>\n",
       "    <tr>\n",
       "      <th>0<\/th>\n",
       "      <td>1872-11-30<\/td>\n",
       "      <td>Scotland<\/td>\n",
       "      <td>England<\/td>\n",
       "      <td>0<\/td>\n",
       "      <td>0<\/td>\n",
       "      <td>Friendly<\/td>\n",
       "      <td>Glasgow<\/td>\n",
       "      <td>Scotland<\/td>\n",
       "      <td>False<\/td>\n",
       "    <\/tr>\n",
       "    <tr>\n",
       "      <th>1<\/th>\n",
       "      <td>1873-03-08<\/td>\n",
       "      <td>England<\/td>\n",
       "      <td>Scotland<\/td>\n",
       "      <td>4<\/td>\n",
       "      <td>2<\/td>\n",
       "      <td>Friendly<\/td>\n",
       "      <td>London<\/td>\n",
       "      <td>England<\/td>\n",
       "      <td>False<\/td>\n",
       "    <\/tr>\n",
       "    <tr>\n",
       "      <th>2<\/th>\n",
       "      <td>1874-03-07<\/td>\n",
       "      <td>Scotland<\/td>\n",
       "      <td>England<\/td>\n",
       "      <td>2<\/td>\n",
       "      <td>1<\/td>\n",
       "      <td>Friendly<\/td>\n",
       "      <td>Glasgow<\/td>\n",
       "      <td>Scotland<\/td>\n",
       "      <td>False<\/td>\n",
       "    <\/tr>\n",
       "    <tr>\n",
       "      <th>3<\/th>\n",
       "      <td>1875-03-06<\/td>\n",
       "      <td>England<\/td>\n",
       "      <td>Scotland<\/td>\n",
       "      <td>2<\/td>\n",
       "      <td>2<\/td>\n",
       "      <td>Friendly<\/td>\n",
       "      <td>London<\/td>\n",
       "      <td>England<\/td>\n",
       "      <td>False<\/td>\n",
       "    <\/tr>\n",
       "    <tr>\n",
       "      <th>4<\/th>\n",
       "      <td>1876-03-04<\/td>\n",
       "      <td>Scotland<\/td>\n",
       "      <td>England<\/td>\n",
       "      <td>3<\/td>\n",
       "      <td>0<\/td>\n",
       "      <td>Friendly<\/td>\n",
       "      <td>Glasgow<\/td>\n",
       "      <td>Scotland<\/td>\n",
       "      <td>False<\/td>\n",
       "    <\/tr>\n",
       "    <tr>\n",
       "      <th>...<\/th>\n",
       "      <td>...<\/td>\n",
       "      <td>...<\/td>\n",
       "      <td>...<\/td>\n",
       "      <td>...<\/td>\n",
       "      <td>...<\/td>\n",
       "      <td>...<\/td>\n",
       "      <td>...<\/td>\n",
       "      <td>...<\/td>\n",
       "      <td>...<\/td>\n",
       "    <\/tr>\n",
       "    <tr>\n",
       "      <th>43183<\/th>\n",
       "      <td>2\/1\/2022<\/td>\n",
       "      <td>Suriname<\/td>\n",
       "      <td>Guyana<\/td>\n",
       "      <td>2<\/td>\n",
       "      <td>1<\/td>\n",
       "      <td>Friendly<\/td>\n",
       "      <td>Paramaribo<\/td>\n",
       "      <td>Suriname<\/td>\n",
       "      <td>False<\/td>\n",
       "    <\/tr>\n",
       "    <tr>\n",
       "      <th>43184<\/th>\n",
       "      <td>2\/2\/2022<\/td>\n",
       "      <td>Burkina Faso<\/td>\n",
       "      <td>Senegal<\/td>\n",
       "      <td>1<\/td>\n",
       "      <td>3<\/td>\n",
       "      <td>African Cup of Nations<\/td>\n",
       "      <td>Yaoundé<\/td>\n",
       "      <td>Cameroon<\/td>\n",
       "      <td>True<\/td>\n",
       "    <\/tr>\n",
       "    <tr>\n",
       "      <th>43185<\/th>\n",
       "      <td>2\/3\/2022<\/td>\n",
       "      <td>Cameroon<\/td>\n",
       "      <td>Egypt<\/td>\n",
       "      <td>0<\/td>\n",
       "      <td>0<\/td>\n",
       "      <td>African Cup of Nations<\/td>\n",
       "      <td>Yaoundé<\/td>\n",
       "      <td>Cameroon<\/td>\n",
       "      <td>False<\/td>\n",
       "    <\/tr>\n",
       "    <tr>\n",
       "      <th>43186<\/th>\n",
       "      <td>2\/5\/2022<\/td>\n",
       "      <td>Cameroon<\/td>\n",
       "      <td>Burkina Faso<\/td>\n",
       "      <td>3<\/td>\n",
       "      <td>3<\/td>\n",
       "      <td>African Cup of Nations<\/td>\n",
       "      <td>Yaoundé<\/td>\n",
       "      <td>Cameroon<\/td>\n",
       "      <td>False<\/td>\n",
       "    <\/tr>\n",
       "    <tr>\n",
       "      <th>43187<\/th>\n",
       "      <td>2\/6\/2022<\/td>\n",
       "      <td>Senegal<\/td>\n",
       "      <td>Egypt<\/td>\n",
       "      <td>0<\/td>\n",
       "      <td>0<\/td>\n",
       "      <td>African Cup of Nations<\/td>\n",
       "      <td>Yaoundé<\/td>\n",
       "      <td>Cameroon<\/td>\n",
       "      <td>True<\/td>\n",
       "    <\/tr>\n",
       "  <\/tbody>\n",
       "<\/table>\n",
       "<p>43188 rows × 9 columns<\/p>\n",
       "<\/div>"
      ]
     },
     "metadata":{
      
     },
     "output_type":"display_data"
    }
   ],
   "metadata":{
    "datalore":{
     "type":"CODE",
     "hide_input_from_viewers":false,
     "hide_output_from_viewers":false
    }
   }
  },
  {
   "cell_type":"code",
   "source":[
    "x= df['home_score']-df['away_score']"
   ],
   "execution_count":4,
   "outputs":[
    
   ],
   "metadata":{
    "datalore":{
     "type":"CODE",
     "hide_input_from_viewers":false,
     "hide_output_from_viewers":false
    }
   }
  },
  {
   "cell_type":"code",
   "source":[
    "x"
   ],
   "execution_count":5,
   "outputs":[
    {
     "data":{
      "text\/html":[
       
      ]
     },
     "metadata":{
      
     },
     "output_type":"display_data"
    }
   ],
   "metadata":{
    "datalore":{
     "type":"CODE",
     "hide_input_from_viewers":false,
     "hide_output_from_viewers":false
    }
   }
  },
  {
   "cell_type":"code",
   "source":[
    "conditions=[(x<0),(x>0),(x==0)]"
   ],
   "execution_count":6,
   "outputs":[
    
   ],
   "metadata":{
    "datalore":{
     "type":"CODE",
     "hide_input_from_viewers":false,
     "hide_output_from_viewers":false
    }
   }
  },
  {
   "cell_type":"code",
   "source":[
    "values=['lose','win','draw']"
   ],
   "execution_count":7,
   "outputs":[
    
   ],
   "metadata":{
    "datalore":{
     "type":"CODE",
     "hide_input_from_viewers":false,
     "hide_output_from_viewers":false
    }
   }
  },
  {
   "cell_type":"code",
   "source":[
    "import numpy as np"
   ],
   "execution_count":8,
   "outputs":[
    
   ],
   "metadata":{
    "datalore":{
     "type":"CODE",
     "hide_input_from_viewers":false,
     "hide_output_from_viewers":false
    }
   }
  },
  {
   "cell_type":"code",
   "source":[
    "df['result_home']=np.select(conditions,values)"
   ],
   "execution_count":9,
   "outputs":[
    
   ],
   "metadata":{
    "datalore":{
     "type":"CODE",
     "hide_input_from_viewers":false,
     "hide_output_from_viewers":false
    }
   }
  },
  {
   "cell_type":"code",
   "source":[
    "df['result_home'][0:3]"
   ],
   "execution_count":10,
   "outputs":[
    {
     "data":{
      "text\/html":[
       
      ]
     },
     "metadata":{
      
     },
     "output_type":"display_data"
    }
   ],
   "metadata":{
    "datalore":{
     "type":"CODE",
     "hide_input_from_viewers":false,
     "hide_output_from_viewers":false
    }
   }
  },
  {
   "cell_type":"code",
   "source":[
    "df['result_home'].value_counts()"
   ],
   "execution_count":11,
   "outputs":[
    {
     "data":{
      "text\/html":[
       
      ]
     },
     "metadata":{
      
     },
     "output_type":"display_data"
    }
   ],
   "metadata":{
    "datalore":{
     "type":"CODE",
     "hide_input_from_viewers":false,
     "hide_output_from_viewers":false
    }
   }
  },
  {
   "cell_type":"code",
   "source":[
    "df['result_home'].value_counts(normalize=True)"
   ],
   "execution_count":12,
   "outputs":[
    {
     "data":{
      "text\/html":[
       
      ]
     },
     "metadata":{
      
     },
     "output_type":"display_data"
    }
   ],
   "metadata":{
    "datalore":{
     "type":"CODE",
     "hide_input_from_viewers":false,
     "hide_output_from_viewers":false
    }
   }
  },
  {
   "cell_type":"code",
   "source":[
    "X=df['result_home'].value_counts()"
   ],
   "execution_count":13,
   "outputs":[
    
   ],
   "metadata":{
    "datalore":{
     "type":"CODE",
     "hide_input_from_viewers":false,
     "hide_output_from_viewers":false
    }
   }
  },
  {
   "cell_type":"code",
   "source":[
    "X=np.array(X)"
   ],
   "execution_count":14,
   "outputs":[
    
   ],
   "metadata":{
    "datalore":{
     "type":"CODE",
     "hide_input_from_viewers":false,
     "hide_output_from_viewers":false
    }
   }
  },
  {
   "cell_type":"code",
   "source":[
    "X"
   ],
   "execution_count":15,
   "outputs":[
    {
     "data":{
      "text\/html":[
       
      ]
     },
     "metadata":{
      
     },
     "output_type":"display_data"
    }
   ],
   "metadata":{
    "datalore":{
     "type":"CODE",
     "hide_input_from_viewers":false,
     "hide_output_from_viewers":false
    }
   }
  },
  {
   "cell_type":"code",
   "source":[
    "X.sum()"
   ],
   "execution_count":16,
   "outputs":[
    {
     "data":{
      "text\/plain":[
       "43188"
      ]
     },
     "metadata":{
      
     },
     "output_type":"display_data"
    }
   ],
   "metadata":{
    "datalore":{
     "type":"CODE",
     "hide_input_from_viewers":false,
     "hide_output_from_viewers":false
    }
   }
  },
  {
   "cell_type":"code",
   "source":[
    "df.head()"
   ],
   "execution_count":17,
   "outputs":[
    {
     "data":{
      "text\/html":[
       "<div>\n",
       "<style scoped>\n",
       "    .dataframe tbody tr th:only-of-type {\n",
       "        vertical-align: middle;\n",
       "    }\n",
       "\n",
       "    .dataframe tbody tr th {\n",
       "        vertical-align: top;\n",
       "    }\n",
       "\n",
       "    .dataframe thead th {\n",
       "        text-align: right;\n",
       "    }\n",
       "<\/style>\n",
       "<table border=\"1\" class=\"dataframe\">\n",
       "  <thead>\n",
       "    <tr style=\"text-align: right;\">\n",
       "      <th><\/th>\n",
       "      <th>date<\/th>\n",
       "      <th>home_team<\/th>\n",
       "      <th>away_team<\/th>\n",
       "      <th>home_score<\/th>\n",
       "      <th>away_score<\/th>\n",
       "      <th>tournament<\/th>\n",
       "      <th>city<\/th>\n",
       "      <th>country<\/th>\n",
       "      <th>neutral<\/th>\n",
       "      <th>result_home<\/th>\n",
       "    <\/tr>\n",
       "  <\/thead>\n",
       "  <tbody>\n",
       "    <tr>\n",
       "      <th>0<\/th>\n",
       "      <td>1872-11-30<\/td>\n",
       "      <td>Scotland<\/td>\n",
       "      <td>England<\/td>\n",
       "      <td>0<\/td>\n",
       "      <td>0<\/td>\n",
       "      <td>Friendly<\/td>\n",
       "      <td>Glasgow<\/td>\n",
       "      <td>Scotland<\/td>\n",
       "      <td>False<\/td>\n",
       "      <td>draw<\/td>\n",
       "    <\/tr>\n",
       "    <tr>\n",
       "      <th>1<\/th>\n",
       "      <td>1873-03-08<\/td>\n",
       "      <td>England<\/td>\n",
       "      <td>Scotland<\/td>\n",
       "      <td>4<\/td>\n",
       "      <td>2<\/td>\n",
       "      <td>Friendly<\/td>\n",
       "      <td>London<\/td>\n",
       "      <td>England<\/td>\n",
       "      <td>False<\/td>\n",
       "      <td>win<\/td>\n",
       "    <\/tr>\n",
       "    <tr>\n",
       "      <th>2<\/th>\n",
       "      <td>1874-03-07<\/td>\n",
       "      <td>Scotland<\/td>\n",
       "      <td>England<\/td>\n",
       "      <td>2<\/td>\n",
       "      <td>1<\/td>\n",
       "      <td>Friendly<\/td>\n",
       "      <td>Glasgow<\/td>\n",
       "      <td>Scotland<\/td>\n",
       "      <td>False<\/td>\n",
       "      <td>win<\/td>\n",
       "    <\/tr>\n",
       "    <tr>\n",
       "      <th>3<\/th>\n",
       "      <td>1875-03-06<\/td>\n",
       "      <td>England<\/td>\n",
       "      <td>Scotland<\/td>\n",
       "      <td>2<\/td>\n",
       "      <td>2<\/td>\n",
       "      <td>Friendly<\/td>\n",
       "      <td>London<\/td>\n",
       "      <td>England<\/td>\n",
       "      <td>False<\/td>\n",
       "      <td>draw<\/td>\n",
       "    <\/tr>\n",
       "    <tr>\n",
       "      <th>4<\/th>\n",
       "      <td>1876-03-04<\/td>\n",
       "      <td>Scotland<\/td>\n",
       "      <td>England<\/td>\n",
       "      <td>3<\/td>\n",
       "      <td>0<\/td>\n",
       "      <td>Friendly<\/td>\n",
       "      <td>Glasgow<\/td>\n",
       "      <td>Scotland<\/td>\n",
       "      <td>False<\/td>\n",
       "      <td>win<\/td>\n",
       "    <\/tr>\n",
       "  <\/tbody>\n",
       "<\/table>\n",
       "<\/div>"
      ]
     },
     "metadata":{
      
     },
     "output_type":"display_data"
    }
   ],
   "metadata":{
    "datalore":{
     "type":"CODE",
     "hide_input_from_viewers":false,
     "hide_output_from_viewers":false
    }
   }
  },
  {
   "cell_type":"code",
   "source":[
    "df_noneutral=df[df['neutral']==False]"
   ],
   "execution_count":18,
   "outputs":[
    
   ],
   "metadata":{
    "datalore":{
     "type":"CODE",
     "hide_input_from_viewers":false,
     "hide_output_from_viewers":false
    }
   }
  },
  {
   "cell_type":"code",
   "source":[
    "df_noneutral.shape"
   ],
   "execution_count":19,
   "outputs":[
    {
     "data":{
      "text\/plain":[
       "(32481, 10)"
      ]
     },
     "metadata":{
      
     },
     "output_type":"display_data"
    }
   ],
   "metadata":{
    "datalore":{
     "type":"CODE",
     "hide_input_from_viewers":false,
     "hide_output_from_viewers":false
    }
   }
  },
  {
   "cell_type":"code",
   "source":[
    "x=df_noneutral['result_home'].value_counts()"
   ],
   "execution_count":20,
   "outputs":[
    
   ],
   "metadata":{
    "datalore":{
     "type":"CODE",
     "hide_input_from_viewers":false,
     "hide_output_from_viewers":false
    }
   }
  },
  {
   "cell_type":"code",
   "source":[
    "x"
   ],
   "execution_count":21,
   "outputs":[
    {
     "data":{
      "text\/html":[
       
      ]
     },
     "metadata":{
      
     },
     "output_type":"display_data"
    }
   ],
   "metadata":{
    "datalore":{
     "type":"CODE",
     "hide_input_from_viewers":false,
     "hide_output_from_viewers":false
    }
   }
  },
  {
   "cell_type":"code",
   "source":[
    "df_noneutral['result_home'].value_counts(normalize=True)"
   ],
   "execution_count":22,
   "outputs":[
    {
     "data":{
      "text\/html":[
       
      ]
     },
     "metadata":{
      
     },
     "output_type":"display_data"
    }
   ],
   "metadata":{
    "datalore":{
     "type":"CODE",
     "hide_input_from_viewers":false,
     "hide_output_from_viewers":false
    }
   }
  },
  {
   "cell_type":"markdown",
   "source":[
    "The below codes shows the winning games at home and then comes a graph that shows winning at home"
   ],
   "attachments":{
    
   },
   "metadata":{
    "datalore":{
     "type":"MD",
     "hide_input_from_viewers":false,
     "hide_output_from_viewers":false
    }
   }
  },
  {
   "cell_type":"code",
   "source":[
    "df_noneutralegy=df_noneutral[df_noneutral['country']=='Egypt']"
   ],
   "execution_count":23,
   "outputs":[
    
   ],
   "metadata":{
    "datalore":{
     "type":"CODE",
     "hide_input_from_viewers":false,
     "hide_output_from_viewers":false
    }
   }
  },
  {
   "cell_type":"code",
   "source":[
    "df_noneutralegy"
   ],
   "execution_count":24,
   "outputs":[
    {
     "data":{
      "text\/html":[
       "<div>\n",
       "<style scoped>\n",
       "    .dataframe tbody tr th:only-of-type {\n",
       "        vertical-align: middle;\n",
       "    }\n",
       "\n",
       "    .dataframe tbody tr th {\n",
       "        vertical-align: top;\n",
       "    }\n",
       "\n",
       "    .dataframe thead th {\n",
       "        text-align: right;\n",
       "    }\n",
       "<\/style>\n",
       "<table border=\"1\" class=\"dataframe\">\n",
       "  <thead>\n",
       "    <tr style=\"text-align: right;\">\n",
       "      <th><\/th>\n",
       "      <th>date<\/th>\n",
       "      <th>home_team<\/th>\n",
       "      <th>away_team<\/th>\n",
       "      <th>home_score<\/th>\n",
       "      <th>away_score<\/th>\n",
       "      <th>tournament<\/th>\n",
       "      <th>city<\/th>\n",
       "      <th>country<\/th>\n",
       "      <th>neutral<\/th>\n",
       "      <th>result_home<\/th>\n",
       "    <\/tr>\n",
       "  <\/thead>\n",
       "  <tbody>\n",
       "    <tr>\n",
       "      <th>1463<\/th>\n",
       "      <td>2\/19\/1932<\/td>\n",
       "      <td>Egypt<\/td>\n",
       "      <td>Hungary<\/td>\n",
       "      <td>0<\/td>\n",
       "      <td>0<\/td>\n",
       "      <td>Friendly<\/td>\n",
       "      <td>Cairo<\/td>\n",
       "      <td>Egypt<\/td>\n",
       "      <td>False<\/td>\n",
       "      <td>draw<\/td>\n",
       "    <\/tr>\n",
       "    <tr>\n",
       "      <th>1661<\/th>\n",
       "      <td>3\/16\/1934<\/td>\n",
       "      <td>Egypt<\/td>\n",
       "      <td>Israel<\/td>\n",
       "      <td>7<\/td>\n",
       "      <td>1<\/td>\n",
       "      <td>FIFA World Cup qualification<\/td>\n",
       "      <td>Cairo<\/td>\n",
       "      <td>Egypt<\/td>\n",
       "      <td>False<\/td>\n",
       "      <td>win<\/td>\n",
       "    <\/tr>\n",
       "    <tr>\n",
       "      <th>1895<\/th>\n",
       "      <td>6\/19\/1936<\/td>\n",
       "      <td>Egypt<\/td>\n",
       "      <td>Greece<\/td>\n",
       "      <td>3<\/td>\n",
       "      <td>1<\/td>\n",
       "      <td>Friendly<\/td>\n",
       "      <td>Cairo<\/td>\n",
       "      <td>Egypt<\/td>\n",
       "      <td>False<\/td>\n",
       "      <td>win<\/td>\n",
       "    <\/tr>\n",
       "    <tr>\n",
       "      <th>2927<\/th>\n",
       "      <td>12\/24\/1948<\/td>\n",
       "      <td>Egypt<\/td>\n",
       "      <td>Norway<\/td>\n",
       "      <td>1<\/td>\n",
       "      <td>1<\/td>\n",
       "      <td>Friendly<\/td>\n",
       "      <td>Cairo<\/td>\n",
       "      <td>Egypt<\/td>\n",
       "      <td>False<\/td>\n",
       "      <td>draw<\/td>\n",
       "    <\/tr>\n",
       "    <tr>\n",
       "      <th>3080<\/th>\n",
       "      <td>2\/17\/1950<\/td>\n",
       "      <td>Egypt<\/td>\n",
       "      <td>Greece<\/td>\n",
       "      <td>2<\/td>\n",
       "      <td>0<\/td>\n",
       "      <td>Friendly<\/td>\n",
       "      <td>Cairo<\/td>\n",
       "      <td>Egypt<\/td>\n",
       "      <td>False<\/td>\n",
       "      <td>win<\/td>\n",
       "    <\/tr>\n",
       "    <tr>\n",
       "      <th>...<\/th>\n",
       "      <td>...<\/td>\n",
       "      <td>...<\/td>\n",
       "      <td>...<\/td>\n",
       "      <td>...<\/td>\n",
       "      <td>...<\/td>\n",
       "      <td>...<\/td>\n",
       "      <td>...<\/td>\n",
       "      <td>...<\/td>\n",
       "      <td>...<\/td>\n",
       "      <td>...<\/td>\n",
       "    <\/tr>\n",
       "    <tr>\n",
       "      <th>42165<\/th>\n",
       "      <td>3\/29\/2021<\/td>\n",
       "      <td>Egypt<\/td>\n",
       "      <td>Comoros<\/td>\n",
       "      <td>4<\/td>\n",
       "      <td>0<\/td>\n",
       "      <td>African Cup of Nations qualification<\/td>\n",
       "      <td>Cairo<\/td>\n",
       "      <td>Egypt<\/td>\n",
       "      <td>False<\/td>\n",
       "      <td>win<\/td>\n",
       "    <\/tr>\n",
       "    <tr>\n",
       "      <th>42590<\/th>\n",
       "      <td>9\/1\/2021<\/td>\n",
       "      <td>Egypt<\/td>\n",
       "      <td>Angola<\/td>\n",
       "      <td>1<\/td>\n",
       "      <td>0<\/td>\n",
       "      <td>FIFA World Cup qualification<\/td>\n",
       "      <td>Cairo<\/td>\n",
       "      <td>Egypt<\/td>\n",
       "      <td>False<\/td>\n",
       "      <td>win<\/td>\n",
       "    <\/tr>\n",
       "    <tr>\n",
       "      <th>42758<\/th>\n",
       "      <td>9\/30\/2021<\/td>\n",
       "      <td>Egypt<\/td>\n",
       "      <td>Liberia<\/td>\n",
       "      <td>2<\/td>\n",
       "      <td>0<\/td>\n",
       "      <td>Friendly<\/td>\n",
       "      <td>Alexandria<\/td>\n",
       "      <td>Egypt<\/td>\n",
       "      <td>False<\/td>\n",
       "      <td>win<\/td>\n",
       "    <\/tr>\n",
       "    <tr>\n",
       "      <th>42812<\/th>\n",
       "      <td>10\/8\/2021<\/td>\n",
       "      <td>Egypt<\/td>\n",
       "      <td>Libya<\/td>\n",
       "      <td>1<\/td>\n",
       "      <td>0<\/td>\n",
       "      <td>FIFA World Cup qualification<\/td>\n",
       "      <td>Alexandria<\/td>\n",
       "      <td>Egypt<\/td>\n",
       "      <td>False<\/td>\n",
       "      <td>win<\/td>\n",
       "    <\/tr>\n",
       "    <tr>\n",
       "      <th>43040<\/th>\n",
       "      <td>11\/16\/2021<\/td>\n",
       "      <td>Egypt<\/td>\n",
       "      <td>Gabon<\/td>\n",
       "      <td>2<\/td>\n",
       "      <td>1<\/td>\n",
       "      <td>FIFA World Cup qualification<\/td>\n",
       "      <td>Alexandria<\/td>\n",
       "      <td>Egypt<\/td>\n",
       "      <td>False<\/td>\n",
       "      <td>win<\/td>\n",
       "    <\/tr>\n",
       "  <\/tbody>\n",
       "<\/table>\n",
       "<p>258 rows × 10 columns<\/p>\n",
       "<\/div>"
      ]
     },
     "metadata":{
      
     },
     "output_type":"display_data"
    }
   ],
   "metadata":{
    "datalore":{
     "type":"CODE",
     "hide_input_from_viewers":false,
     "hide_output_from_viewers":false
    }
   }
  },
  {
   "cell_type":"code",
   "source":[
    "df_noneutralegy.shape"
   ],
   "execution_count":25,
   "outputs":[
    {
     "data":{
      "text\/plain":[
       "(258, 10)"
      ]
     },
     "metadata":{
      
     },
     "output_type":"display_data"
    }
   ],
   "metadata":{
    "datalore":{
     "type":"CODE",
     "hide_input_from_viewers":false,
     "hide_output_from_viewers":false
    }
   }
  },
  {
   "cell_type":"code",
   "source":[
    "df_noneutralegy['result_home'].value_counts(normalize=True) #do this for every country"
   ],
   "execution_count":26,
   "outputs":[
    {
     "data":{
      "text\/html":[
       
      ]
     },
     "metadata":{
      
     },
     "output_type":"display_data"
    }
   ],
   "metadata":{
    "datalore":{
     "type":"CODE",
     "hide_input_from_viewers":false,
     "hide_output_from_viewers":false
    }
   }
  },
  {
   "cell_type":"code",
   "source":[
    "0.662791\/0.166667"
   ],
   "execution_count":27,
   "outputs":[
    {
     "data":{
      "text\/plain":[
       "3.976738046523907"
      ]
     },
     "metadata":{
      
     },
     "output_type":"display_data"
    }
   ],
   "metadata":{
    "datalore":{
     "type":"CODE",
     "hide_input_from_viewers":false,
     "hide_output_from_viewers":false
    }
   }
  },
  {
   "cell_type":"code",
   "source":[
    "import statsmodels.api as sm\n",
    "from statsmodels.stats.proportion import proportion_confint"
   ],
   "execution_count":28,
   "outputs":[
    
   ],
   "metadata":{
    "datalore":{
     "type":"CODE",
     "hide_input_from_viewers":false,
     "hide_output_from_viewers":false
    }
   }
  },
  {
   "cell_type":"code",
   "source":[
    "df_noneutralegy['result_home'].value_counts()"
   ],
   "execution_count":29,
   "outputs":[
    {
     "data":{
      "text\/html":[
       
      ]
     },
     "metadata":{
      
     },
     "output_type":"display_data"
    }
   ],
   "metadata":{
    "datalore":{
     "type":"CODE",
     "hide_input_from_viewers":false,
     "hide_output_from_viewers":false
    }
   }
  },
  {
   "cell_type":"code",
   "source":[
    "df_noneutralegy.shape"
   ],
   "execution_count":30,
   "outputs":[
    {
     "data":{
      "text\/plain":[
       "(258, 10)"
      ]
     },
     "metadata":{
      
     },
     "output_type":"display_data"
    }
   ],
   "metadata":{
    "datalore":{
     "type":"CODE",
     "hide_input_from_viewers":false,
     "hide_output_from_viewers":false
    }
   }
  },
  {
   "cell_type":"code",
   "source":[
    "CI_egy=proportion_confint(count=171,nobs=258,alpha=(1-.95))\n",
    "CI_egy"
   ],
   "execution_count":31,
   "outputs":[
    {
     "data":{
      "text\/plain":[
       "(0.6051039288730269, 0.7204774664758102)"
      ]
     },
     "metadata":{
      
     },
     "output_type":"display_data"
    }
   ],
   "metadata":{
    "datalore":{
     "type":"CODE",
     "hide_input_from_viewers":false,
     "hide_output_from_viewers":false
    }
   }
  },
  {
   "cell_type":"code",
   "source":[
    "df_noneutralgre=df_noneutral[df_noneutral['country']=='Greece']"
   ],
   "execution_count":32,
   "outputs":[
    
   ],
   "metadata":{
    "datalore":{
     "type":"CODE",
     "hide_input_from_viewers":false,
     "hide_output_from_viewers":false
    }
   }
  },
  {
   "cell_type":"code",
   "source":[
    "df_noneutralgre"
   ],
   "execution_count":33,
   "outputs":[
    {
     "data":{
      "text\/html":[
       "<div>\n",
       "<style scoped>\n",
       "    .dataframe tbody tr th:only-of-type {\n",
       "        vertical-align: middle;\n",
       "    }\n",
       "\n",
       "    .dataframe tbody tr th {\n",
       "        vertical-align: top;\n",
       "    }\n",
       "\n",
       "    .dataframe thead th {\n",
       "        text-align: right;\n",
       "    }\n",
       "<\/style>\n",
       "<table border=\"1\" class=\"dataframe\">\n",
       "  <thead>\n",
       "    <tr style=\"text-align: right;\">\n",
       "      <th><\/th>\n",
       "      <th>date<\/th>\n",
       "      <th>home_team<\/th>\n",
       "      <th>away_team<\/th>\n",
       "      <th>home_score<\/th>\n",
       "      <th>away_score<\/th>\n",
       "      <th>tournament<\/th>\n",
       "      <th>city<\/th>\n",
       "      <th>country<\/th>\n",
       "      <th>neutral<\/th>\n",
       "      <th>result_home<\/th>\n",
       "    <\/tr>\n",
       "  <\/thead>\n",
       "  <tbody>\n",
       "    <tr>\n",
       "      <th>1268<\/th>\n",
       "      <td>1\/26\/1930<\/td>\n",
       "      <td>Greece<\/td>\n",
       "      <td>Yugoslavia<\/td>\n",
       "      <td>2<\/td>\n",
       "      <td>1<\/td>\n",
       "      <td>Balkan Cup<\/td>\n",
       "      <td>Athens<\/td>\n",
       "      <td>Greece<\/td>\n",
       "      <td>False<\/td>\n",
       "      <td>win<\/td>\n",
       "    <\/tr>\n",
       "    <tr>\n",
       "      <th>1364<\/th>\n",
       "      <td>12\/7\/1930<\/td>\n",
       "      <td>Greece<\/td>\n",
       "      <td>Bulgaria<\/td>\n",
       "      <td>6<\/td>\n",
       "      <td>1<\/td>\n",
       "      <td>Balkan Cup<\/td>\n",
       "      <td>Athens<\/td>\n",
       "      <td>Greece<\/td>\n",
       "      <td>False<\/td>\n",
       "      <td>win<\/td>\n",
       "    <\/tr>\n",
       "    <tr>\n",
       "      <th>1455<\/th>\n",
       "      <td>11\/29\/1931<\/td>\n",
       "      <td>Greece<\/td>\n",
       "      <td>Romania<\/td>\n",
       "      <td>2<\/td>\n",
       "      <td>4<\/td>\n",
       "      <td>Balkan Cup<\/td>\n",
       "      <td>Athens<\/td>\n",
       "      <td>Greece<\/td>\n",
       "      <td>False<\/td>\n",
       "      <td>lose<\/td>\n",
       "    <\/tr>\n",
       "    <tr>\n",
       "      <th>1472<\/th>\n",
       "      <td>3\/27\/1932<\/td>\n",
       "      <td>Greece<\/td>\n",
       "      <td>Bulgaria<\/td>\n",
       "      <td>1<\/td>\n",
       "      <td>2<\/td>\n",
       "      <td>Friendly<\/td>\n",
       "      <td>Athens<\/td>\n",
       "      <td>Greece<\/td>\n",
       "      <td>False<\/td>\n",
       "      <td>lose<\/td>\n",
       "    <\/tr>\n",
       "    <tr>\n",
       "      <th>1473<\/th>\n",
       "      <td>3\/30\/1932<\/td>\n",
       "      <td>Greece<\/td>\n",
       "      <td>Bulgaria<\/td>\n",
       "      <td>2<\/td>\n",
       "      <td>2<\/td>\n",
       "      <td>Friendly<\/td>\n",
       "      <td>Athens<\/td>\n",
       "      <td>Greece<\/td>\n",
       "      <td>False<\/td>\n",
       "      <td>draw<\/td>\n",
       "    <\/tr>\n",
       "    <tr>\n",
       "      <th>...<\/th>\n",
       "      <td>...<\/td>\n",
       "      <td>...<\/td>\n",
       "      <td>...<\/td>\n",
       "      <td>...<\/td>\n",
       "      <td>...<\/td>\n",
       "      <td>...<\/td>\n",
       "      <td>...<\/td>\n",
       "      <td>...<\/td>\n",
       "      <td>...<\/td>\n",
       "      <td>...<\/td>\n",
       "    <\/tr>\n",
       "    <tr>\n",
       "      <th>42128<\/th>\n",
       "      <td>3\/28\/2021<\/td>\n",
       "      <td>Greece<\/td>\n",
       "      <td>Honduras<\/td>\n",
       "      <td>2<\/td>\n",
       "      <td>1<\/td>\n",
       "      <td>Friendly<\/td>\n",
       "      <td>Thessaloniki<\/td>\n",
       "      <td>Greece<\/td>\n",
       "      <td>False<\/td>\n",
       "      <td>win<\/td>\n",
       "    <\/tr>\n",
       "    <tr>\n",
       "      <th>42203<\/th>\n",
       "      <td>3\/31\/2021<\/td>\n",
       "      <td>Greece<\/td>\n",
       "      <td>Georgia<\/td>\n",
       "      <td>1<\/td>\n",
       "      <td>1<\/td>\n",
       "      <td>FIFA World Cup qualification<\/td>\n",
       "      <td>Thessaloniki<\/td>\n",
       "      <td>Greece<\/td>\n",
       "      <td>False<\/td>\n",
       "      <td>draw<\/td>\n",
       "    <\/tr>\n",
       "    <tr>\n",
       "      <th>42737<\/th>\n",
       "      <td>9\/8\/2021<\/td>\n",
       "      <td>Greece<\/td>\n",
       "      <td>Sweden<\/td>\n",
       "      <td>2<\/td>\n",
       "      <td>1<\/td>\n",
       "      <td>FIFA World Cup qualification<\/td>\n",
       "      <td>Athens<\/td>\n",
       "      <td>Greece<\/td>\n",
       "      <td>False<\/td>\n",
       "      <td>win<\/td>\n",
       "    <\/tr>\n",
       "    <tr>\n",
       "      <th>42946<\/th>\n",
       "      <td>11\/11\/2021<\/td>\n",
       "      <td>Greece<\/td>\n",
       "      <td>Spain<\/td>\n",
       "      <td>0<\/td>\n",
       "      <td>1<\/td>\n",
       "      <td>FIFA World Cup qualification<\/td>\n",
       "      <td>Athens<\/td>\n",
       "      <td>Greece<\/td>\n",
       "      <td>False<\/td>\n",
       "      <td>lose<\/td>\n",
       "    <\/tr>\n",
       "    <tr>\n",
       "      <th>43005<\/th>\n",
       "      <td>11\/14\/2021<\/td>\n",
       "      <td>Greece<\/td>\n",
       "      <td>Kosovo<\/td>\n",
       "      <td>1<\/td>\n",
       "      <td>1<\/td>\n",
       "      <td>FIFA World Cup qualification<\/td>\n",
       "      <td>Athens<\/td>\n",
       "      <td>Greece<\/td>\n",
       "      <td>False<\/td>\n",
       "      <td>draw<\/td>\n",
       "    <\/tr>\n",
       "  <\/tbody>\n",
       "<\/table>\n",
       "<p>270 rows × 10 columns<\/p>\n",
       "<\/div>"
      ]
     },
     "metadata":{
      
     },
     "output_type":"display_data"
    }
   ],
   "metadata":{
    "datalore":{
     "type":"CODE",
     "hide_input_from_viewers":false,
     "hide_output_from_viewers":false
    }
   }
  },
  {
   "cell_type":"code",
   "source":[
    "df_noneutralgre['result_home'].value_counts() "
   ],
   "execution_count":34,
   "outputs":[
    {
     "data":{
      "text\/html":[
       
      ]
     },
     "metadata":{
      
     },
     "output_type":"display_data"
    }
   ],
   "metadata":{
    "datalore":{
     "type":"CODE",
     "hide_input_from_viewers":false,
     "hide_output_from_viewers":false
    }
   }
  },
  {
   "cell_type":"code",
   "source":[
    "df_noneutralgre.shape"
   ],
   "execution_count":35,
   "outputs":[
    {
     "data":{
      "text\/plain":[
       "(270, 10)"
      ]
     },
     "metadata":{
      
     },
     "output_type":"display_data"
    }
   ],
   "metadata":{
    "datalore":{
     "type":"CODE",
     "hide_input_from_viewers":false,
     "hide_output_from_viewers":false
    }
   }
  },
  {
   "cell_type":"code",
   "source":[
    "CI_gre=proportion_confint(count=128,nobs=270,alpha=(1-.95))\n",
    "CI_gre"
   ],
   "execution_count":36,
   "outputs":[
    {
     "data":{
      "text\/plain":[
       "(0.4145144974686389, 0.5336336506795093)"
      ]
     },
     "metadata":{
      
     },
     "output_type":"display_data"
    }
   ],
   "metadata":{
    "datalore":{
     "type":"CODE",
     "hide_input_from_viewers":false,
     "hide_output_from_viewers":false
    }
   }
  },
  {
   "cell_type":"code",
   "source":[
    "df_noneutralpor=df_noneutral[df_noneutral['country']=='Portugal']"
   ],
   "execution_count":37,
   "outputs":[
    
   ],
   "metadata":{
    "datalore":{
     "type":"CODE",
     "hide_input_from_viewers":false,
     "hide_output_from_viewers":false
    }
   }
  },
  {
   "cell_type":"code",
   "source":[
    "df_noneutralpor"
   ],
   "execution_count":38,
   "outputs":[
    {
     "data":{
      "text\/html":[
       "<div>\n",
       "<style scoped>\n",
       "    .dataframe tbody tr th:only-of-type {\n",
       "        vertical-align: middle;\n",
       "    }\n",
       "\n",
       "    .dataframe tbody tr th {\n",
       "        vertical-align: top;\n",
       "    }\n",
       "\n",
       "    .dataframe thead th {\n",
       "        text-align: right;\n",
       "    }\n",
       "<\/style>\n",
       "<table border=\"1\" class=\"dataframe\">\n",
       "  <thead>\n",
       "    <tr style=\"text-align: right;\">\n",
       "      <th><\/th>\n",
       "      <th>date<\/th>\n",
       "      <th>home_team<\/th>\n",
       "      <th>away_team<\/th>\n",
       "      <th>home_score<\/th>\n",
       "      <th>away_score<\/th>\n",
       "      <th>tournament<\/th>\n",
       "      <th>city<\/th>\n",
       "      <th>country<\/th>\n",
       "      <th>neutral<\/th>\n",
       "      <th>result_home<\/th>\n",
       "    <\/tr>\n",
       "  <\/thead>\n",
       "  <tbody>\n",
       "    <tr>\n",
       "      <th>689<\/th>\n",
       "      <td>12\/17\/1922<\/td>\n",
       "      <td>Portugal<\/td>\n",
       "      <td>Spain<\/td>\n",
       "      <td>1<\/td>\n",
       "      <td>2<\/td>\n",
       "      <td>Friendly<\/td>\n",
       "      <td>Lisbon<\/td>\n",
       "      <td>Portugal<\/td>\n",
       "      <td>False<\/td>\n",
       "      <td>lose<\/td>\n",
       "    <\/tr>\n",
       "    <tr>\n",
       "      <th>896<\/th>\n",
       "      <td>6\/18\/1925<\/td>\n",
       "      <td>Portugal<\/td>\n",
       "      <td>Italy<\/td>\n",
       "      <td>1<\/td>\n",
       "      <td>0<\/td>\n",
       "      <td>Friendly<\/td>\n",
       "      <td>Lisbon<\/td>\n",
       "      <td>Portugal<\/td>\n",
       "      <td>False<\/td>\n",
       "      <td>win<\/td>\n",
       "    <\/tr>\n",
       "    <tr>\n",
       "      <th>1028<\/th>\n",
       "      <td>12\/26\/1926<\/td>\n",
       "      <td>Portugal<\/td>\n",
       "      <td>Hungary<\/td>\n",
       "      <td>3<\/td>\n",
       "      <td>3<\/td>\n",
       "      <td>Friendly<\/td>\n",
       "      <td>Porto<\/td>\n",
       "      <td>Portugal<\/td>\n",
       "      <td>False<\/td>\n",
       "      <td>draw<\/td>\n",
       "    <\/tr>\n",
       "    <tr>\n",
       "      <th>1035<\/th>\n",
       "      <td>3\/16\/1927<\/td>\n",
       "      <td>Portugal<\/td>\n",
       "      <td>France<\/td>\n",
       "      <td>4<\/td>\n",
       "      <td>0<\/td>\n",
       "      <td>Friendly<\/td>\n",
       "      <td>Lisbon<\/td>\n",
       "      <td>Portugal<\/td>\n",
       "      <td>False<\/td>\n",
       "      <td>win<\/td>\n",
       "    <\/tr>\n",
       "    <tr>\n",
       "      <th>1111<\/th>\n",
       "      <td>1\/8\/1928<\/td>\n",
       "      <td>Portugal<\/td>\n",
       "      <td>Spain<\/td>\n",
       "      <td>2<\/td>\n",
       "      <td>2<\/td>\n",
       "      <td>Friendly<\/td>\n",
       "      <td>Lisbon<\/td>\n",
       "      <td>Portugal<\/td>\n",
       "      <td>False<\/td>\n",
       "      <td>draw<\/td>\n",
       "    <\/tr>\n",
       "    <tr>\n",
       "      <th>...<\/th>\n",
       "      <td>...<\/td>\n",
       "      <td>...<\/td>\n",
       "      <td>...<\/td>\n",
       "      <td>...<\/td>\n",
       "      <td>...<\/td>\n",
       "      <td>...<\/td>\n",
       "      <td>...<\/td>\n",
       "      <td>...<\/td>\n",
       "      <td>...<\/td>\n",
       "      <td>...<\/td>\n",
       "    <\/tr>\n",
       "    <tr>\n",
       "      <th>42373<\/th>\n",
       "      <td>6\/9\/2021<\/td>\n",
       "      <td>Portugal<\/td>\n",
       "      <td>Israel<\/td>\n",
       "      <td>4<\/td>\n",
       "      <td>0<\/td>\n",
       "      <td>Friendly<\/td>\n",
       "      <td>Lisbon<\/td>\n",
       "      <td>Portugal<\/td>\n",
       "      <td>False<\/td>\n",
       "      <td>win<\/td>\n",
       "    <\/tr>\n",
       "    <tr>\n",
       "      <th>42594<\/th>\n",
       "      <td>9\/1\/2021<\/td>\n",
       "      <td>Portugal<\/td>\n",
       "      <td>Republic of Ireland<\/td>\n",
       "      <td>2<\/td>\n",
       "      <td>1<\/td>\n",
       "      <td>FIFA World Cup qualification<\/td>\n",
       "      <td>Faro-Loulé<\/td>\n",
       "      <td>Portugal<\/td>\n",
       "      <td>False<\/td>\n",
       "      <td>win<\/td>\n",
       "    <\/tr>\n",
       "    <tr>\n",
       "      <th>42834<\/th>\n",
       "      <td>10\/9\/2021<\/td>\n",
       "      <td>Portugal<\/td>\n",
       "      <td>Qatar<\/td>\n",
       "      <td>3<\/td>\n",
       "      <td>0<\/td>\n",
       "      <td>Friendly<\/td>\n",
       "      <td>Faro-Loulé<\/td>\n",
       "      <td>Portugal<\/td>\n",
       "      <td>False<\/td>\n",
       "      <td>win<\/td>\n",
       "    <\/tr>\n",
       "    <tr>\n",
       "      <th>42882<\/th>\n",
       "      <td>10\/12\/2021<\/td>\n",
       "      <td>Portugal<\/td>\n",
       "      <td>Luxembourg<\/td>\n",
       "      <td>5<\/td>\n",
       "      <td>0<\/td>\n",
       "      <td>FIFA World Cup qualification<\/td>\n",
       "      <td>Faro-Loulé<\/td>\n",
       "      <td>Portugal<\/td>\n",
       "      <td>False<\/td>\n",
       "      <td>win<\/td>\n",
       "    <\/tr>\n",
       "    <tr>\n",
       "      <th>43002<\/th>\n",
       "      <td>11\/14\/2021<\/td>\n",
       "      <td>Portugal<\/td>\n",
       "      <td>Serbia<\/td>\n",
       "      <td>1<\/td>\n",
       "      <td>2<\/td>\n",
       "      <td>FIFA World Cup qualification<\/td>\n",
       "      <td>Lisbon<\/td>\n",
       "      <td>Portugal<\/td>\n",
       "      <td>False<\/td>\n",
       "      <td>lose<\/td>\n",
       "    <\/tr>\n",
       "  <\/tbody>\n",
       "<\/table>\n",
       "<p>296 rows × 10 columns<\/p>\n",
       "<\/div>"
      ]
     },
     "metadata":{
      
     },
     "output_type":"display_data"
    }
   ],
   "metadata":{
    "datalore":{
     "type":"CODE",
     "hide_input_from_viewers":false,
     "hide_output_from_viewers":false
    }
   }
  },
  {
   "cell_type":"code",
   "source":[
    "df_noneutralpor['result_home'].value_counts() "
   ],
   "execution_count":39,
   "outputs":[
    {
     "data":{
      "text\/html":[
       
      ]
     },
     "metadata":{
      
     },
     "output_type":"display_data"
    }
   ],
   "metadata":{
    "datalore":{
     "type":"CODE",
     "hide_input_from_viewers":false,
     "hide_output_from_viewers":false
    }
   }
  },
  {
   "cell_type":"code",
   "source":[
    "df_noneutralpor.shape"
   ],
   "execution_count":40,
   "outputs":[
    {
     "data":{
      "text\/plain":[
       "(296, 10)"
      ]
     },
     "metadata":{
      
     },
     "output_type":"display_data"
    }
   ],
   "metadata":{
    "datalore":{
     "type":"CODE",
     "hide_input_from_viewers":false,
     "hide_output_from_viewers":false
    }
   }
  },
  {
   "cell_type":"code",
   "source":[
    "CI_por=proportion_confint(count=170,nobs=296,alpha=(1-.95))\n",
    "CI_por"
   ],
   "execution_count":41,
   "outputs":[
    {
     "data":{
      "text\/plain":[
       "(0.5179968526717824, 0.6306517959768663)"
      ]
     },
     "metadata":{
      
     },
     "output_type":"display_data"
    }
   ],
   "metadata":{
    "datalore":{
     "type":"CODE",
     "hide_input_from_viewers":false,
     "hide_output_from_viewers":false
    }
   }
  },
  {
   "cell_type":"code",
   "source":[
    "df_noneutralusa=df_noneutral[df_noneutral['country']=='United States']"
   ],
   "execution_count":42,
   "outputs":[
    
   ],
   "metadata":{
    "datalore":{
     "type":"CODE",
     "hide_input_from_viewers":false,
     "hide_output_from_viewers":false
    }
   }
  },
  {
   "cell_type":"code",
   "source":[
    "df_noneutralusa"
   ],
   "execution_count":43,
   "outputs":[
    {
     "data":{
      "text\/html":[
       "<div>\n",
       "<style scoped>\n",
       "    .dataframe tbody tr th:only-of-type {\n",
       "        vertical-align: middle;\n",
       "    }\n",
       "\n",
       "    .dataframe tbody tr th {\n",
       "        vertical-align: top;\n",
       "    }\n",
       "\n",
       "    .dataframe thead th {\n",
       "        text-align: right;\n",
       "    }\n",
       "<\/style>\n",
       "<table border=\"1\" class=\"dataframe\">\n",
       "  <thead>\n",
       "    <tr style=\"text-align: right;\">\n",
       "      <th><\/th>\n",
       "      <th>date<\/th>\n",
       "      <th>home_team<\/th>\n",
       "      <th>away_team<\/th>\n",
       "      <th>home_score<\/th>\n",
       "      <th>away_score<\/th>\n",
       "      <th>tournament<\/th>\n",
       "      <th>city<\/th>\n",
       "      <th>country<\/th>\n",
       "      <th>neutral<\/th>\n",
       "      <th>result_home<\/th>\n",
       "    <\/tr>\n",
       "  <\/thead>\n",
       "  <tbody>\n",
       "    <tr>\n",
       "      <th>41<\/th>\n",
       "      <td>1885-11-28<\/td>\n",
       "      <td>United States<\/td>\n",
       "      <td>Canada<\/td>\n",
       "      <td>0<\/td>\n",
       "      <td>1<\/td>\n",
       "      <td>Friendly<\/td>\n",
       "      <td>Newark<\/td>\n",
       "      <td>United States<\/td>\n",
       "      <td>False<\/td>\n",
       "      <td>lose<\/td>\n",
       "    <\/tr>\n",
       "    <tr>\n",
       "      <th>48<\/th>\n",
       "      <td>1886-11-25<\/td>\n",
       "      <td>United States<\/td>\n",
       "      <td>Canada<\/td>\n",
       "      <td>3<\/td>\n",
       "      <td>2<\/td>\n",
       "      <td>Friendly<\/td>\n",
       "      <td>Newark<\/td>\n",
       "      <td>United States<\/td>\n",
       "      <td>False<\/td>\n",
       "      <td>win<\/td>\n",
       "    <\/tr>\n",
       "    <tr>\n",
       "      <th>935<\/th>\n",
       "      <td>11\/8\/1925<\/td>\n",
       "      <td>United States<\/td>\n",
       "      <td>Canada<\/td>\n",
       "      <td>6<\/td>\n",
       "      <td>1<\/td>\n",
       "      <td>Friendly<\/td>\n",
       "      <td>New York<\/td>\n",
       "      <td>United States<\/td>\n",
       "      <td>False<\/td>\n",
       "      <td>win<\/td>\n",
       "    <\/tr>\n",
       "    <tr>\n",
       "      <th>1022<\/th>\n",
       "      <td>11\/6\/1926<\/td>\n",
       "      <td>United States<\/td>\n",
       "      <td>Canada<\/td>\n",
       "      <td>6<\/td>\n",
       "      <td>2<\/td>\n",
       "      <td>Friendly<\/td>\n",
       "      <td>New York<\/td>\n",
       "      <td>United States<\/td>\n",
       "      <td>False<\/td>\n",
       "      <td>win<\/td>\n",
       "    <\/tr>\n",
       "    <tr>\n",
       "      <th>1790<\/th>\n",
       "      <td>5\/19\/1935<\/td>\n",
       "      <td>United States<\/td>\n",
       "      <td>Scotland<\/td>\n",
       "      <td>1<\/td>\n",
       "      <td>5<\/td>\n",
       "      <td>Friendly<\/td>\n",
       "      <td>New York<\/td>\n",
       "      <td>United States<\/td>\n",
       "      <td>False<\/td>\n",
       "      <td>lose<\/td>\n",
       "    <\/tr>\n",
       "    <tr>\n",
       "      <th>...<\/th>\n",
       "      <td>...<\/td>\n",
       "      <td>...<\/td>\n",
       "      <td>...<\/td>\n",
       "      <td>...<\/td>\n",
       "      <td>...<\/td>\n",
       "      <td>...<\/td>\n",
       "      <td>...<\/td>\n",
       "      <td>...<\/td>\n",
       "      <td>...<\/td>\n",
       "      <td>...<\/td>\n",
       "    <\/tr>\n",
       "    <tr>\n",
       "      <th>42757<\/th>\n",
       "      <td>9\/24\/2021<\/td>\n",
       "      <td>El Salvador<\/td>\n",
       "      <td>Guatemala<\/td>\n",
       "      <td>0<\/td>\n",
       "      <td>2<\/td>\n",
       "      <td>Friendly<\/td>\n",
       "      <td>Washington<\/td>\n",
       "      <td>United States<\/td>\n",
       "      <td>False<\/td>\n",
       "      <td>lose<\/td>\n",
       "    <\/tr>\n",
       "    <tr>\n",
       "      <th>42776<\/th>\n",
       "      <td>10\/7\/2021<\/td>\n",
       "      <td>United States<\/td>\n",
       "      <td>Jamaica<\/td>\n",
       "      <td>2<\/td>\n",
       "      <td>0<\/td>\n",
       "      <td>FIFA World Cup qualification<\/td>\n",
       "      <td>Austin<\/td>\n",
       "      <td>United States<\/td>\n",
       "      <td>False<\/td>\n",
       "      <td>win<\/td>\n",
       "    <\/tr>\n",
       "    <tr>\n",
       "      <th>42908<\/th>\n",
       "      <td>10\/13\/2021<\/td>\n",
       "      <td>United States<\/td>\n",
       "      <td>Costa Rica<\/td>\n",
       "      <td>2<\/td>\n",
       "      <td>1<\/td>\n",
       "      <td>FIFA World Cup qualification<\/td>\n",
       "      <td>Columbus<\/td>\n",
       "      <td>United States<\/td>\n",
       "      <td>False<\/td>\n",
       "      <td>win<\/td>\n",
       "    <\/tr>\n",
       "    <tr>\n",
       "      <th>42966<\/th>\n",
       "      <td>11\/12\/2021<\/td>\n",
       "      <td>United States<\/td>\n",
       "      <td>Mexico<\/td>\n",
       "      <td>2<\/td>\n",
       "      <td>0<\/td>\n",
       "      <td>FIFA World Cup qualification<\/td>\n",
       "      <td>Cincinnati<\/td>\n",
       "      <td>United States<\/td>\n",
       "      <td>False<\/td>\n",
       "      <td>win<\/td>\n",
       "    <\/tr>\n",
       "    <tr>\n",
       "      <th>43103<\/th>\n",
       "      <td>12\/18\/2021<\/td>\n",
       "      <td>United States<\/td>\n",
       "      <td>Bosnia and Herzegovina<\/td>\n",
       "      <td>1<\/td>\n",
       "      <td>0<\/td>\n",
       "      <td>Friendly<\/td>\n",
       "      <td>Los Angeles<\/td>\n",
       "      <td>United States<\/td>\n",
       "      <td>False<\/td>\n",
       "      <td>win<\/td>\n",
       "    <\/tr>\n",
       "  <\/tbody>\n",
       "<\/table>\n",
       "<p>413 rows × 10 columns<\/p>\n",
       "<\/div>"
      ]
     },
     "metadata":{
      
     },
     "output_type":"display_data"
    }
   ],
   "metadata":{
    "datalore":{
     "type":"CODE",
     "hide_input_from_viewers":false,
     "hide_output_from_viewers":false
    }
   }
  },
  {
   "cell_type":"code",
   "source":[
    "df_noneutralusa['result_home'].value_counts() "
   ],
   "execution_count":44,
   "outputs":[
    {
     "data":{
      "text\/html":[
       
      ]
     },
     "metadata":{
      
     },
     "output_type":"display_data"
    }
   ],
   "metadata":{
    "datalore":{
     "type":"CODE",
     "hide_input_from_viewers":false,
     "hide_output_from_viewers":false
    }
   }
  },
  {
   "cell_type":"code",
   "source":[
    "df_noneutralusa.shape"
   ],
   "execution_count":45,
   "outputs":[
    {
     "data":{
      "text\/plain":[
       "(413, 10)"
      ]
     },
     "metadata":{
      
     },
     "output_type":"display_data"
    }
   ],
   "metadata":{
    "datalore":{
     "type":"CODE",
     "hide_input_from_viewers":false,
     "hide_output_from_viewers":false
    }
   }
  },
  {
   "cell_type":"code",
   "source":[
    "CI_usa=proportion_confint(count=230,nobs=413,alpha=(1-.95))\n",
    "CI_usa"
   ],
   "execution_count":46,
   "outputs":[
    {
     "data":{
      "text\/plain":[
       "(0.5089922370968902, 0.6048092156876135)"
      ]
     },
     "metadata":{
      
     },
     "output_type":"display_data"
    }
   ],
   "metadata":{
    "datalore":{
     "type":"CODE",
     "hide_input_from_viewers":false,
     "hide_output_from_viewers":false
    }
   }
  },
  {
   "cell_type":"code",
   "source":[
    "df_noneutralfr=df_noneutral[df_noneutral['country']=='France']"
   ],
   "execution_count":47,
   "outputs":[
    
   ],
   "metadata":{
    "datalore":{
     "type":"CODE",
     "hide_input_from_viewers":false,
     "hide_output_from_viewers":false
    }
   }
  },
  {
   "cell_type":"code",
   "source":[
    "df_noneutralfr"
   ],
   "execution_count":48,
   "outputs":[
    {
     "data":{
      "text\/html":[
       "<div>\n",
       "<style scoped>\n",
       "    .dataframe tbody tr th:only-of-type {\n",
       "        vertical-align: middle;\n",
       "    }\n",
       "\n",
       "    .dataframe tbody tr th {\n",
       "        vertical-align: top;\n",
       "    }\n",
       "\n",
       "    .dataframe thead th {\n",
       "        text-align: right;\n",
       "    }\n",
       "<\/style>\n",
       "<table border=\"1\" class=\"dataframe\">\n",
       "  <thead>\n",
       "    <tr style=\"text-align: right;\">\n",
       "      <th><\/th>\n",
       "      <th>date<\/th>\n",
       "      <th>home_team<\/th>\n",
       "      <th>away_team<\/th>\n",
       "      <th>home_score<\/th>\n",
       "      <th>away_score<\/th>\n",
       "      <th>tournament<\/th>\n",
       "      <th>city<\/th>\n",
       "      <th>country<\/th>\n",
       "      <th>neutral<\/th>\n",
       "      <th>result_home<\/th>\n",
       "    <\/tr>\n",
       "  <\/thead>\n",
       "  <tbody>\n",
       "    <tr>\n",
       "      <th>166<\/th>\n",
       "      <td>2\/12\/1905<\/td>\n",
       "      <td>France<\/td>\n",
       "      <td>Switzerland<\/td>\n",
       "      <td>1<\/td>\n",
       "      <td>0<\/td>\n",
       "      <td>Friendly<\/td>\n",
       "      <td>Paris<\/td>\n",
       "      <td>France<\/td>\n",
       "      <td>False<\/td>\n",
       "      <td>win<\/td>\n",
       "    <\/tr>\n",
       "    <tr>\n",
       "      <th>185<\/th>\n",
       "      <td>4\/22\/1906<\/td>\n",
       "      <td>France<\/td>\n",
       "      <td>Belgium<\/td>\n",
       "      <td>0<\/td>\n",
       "      <td>5<\/td>\n",
       "      <td>Friendly<\/td>\n",
       "      <td>Saint-Cloud<\/td>\n",
       "      <td>France<\/td>\n",
       "      <td>False<\/td>\n",
       "      <td>lose<\/td>\n",
       "    <\/tr>\n",
       "    <tr>\n",
       "      <th>215<\/th>\n",
       "      <td>4\/12\/1908<\/td>\n",
       "      <td>France<\/td>\n",
       "      <td>Belgium<\/td>\n",
       "      <td>1<\/td>\n",
       "      <td>2<\/td>\n",
       "      <td>Friendly<\/td>\n",
       "      <td>Colombes<\/td>\n",
       "      <td>France<\/td>\n",
       "      <td>False<\/td>\n",
       "      <td>lose<\/td>\n",
       "    <\/tr>\n",
       "    <tr>\n",
       "      <th>257<\/th>\n",
       "      <td>4\/3\/1910<\/td>\n",
       "      <td>France<\/td>\n",
       "      <td>Belgium<\/td>\n",
       "      <td>0<\/td>\n",
       "      <td>4<\/td>\n",
       "      <td>Friendly<\/td>\n",
       "      <td>Gentilly<\/td>\n",
       "      <td>France<\/td>\n",
       "      <td>False<\/td>\n",
       "      <td>lose<\/td>\n",
       "    <\/tr>\n",
       "    <tr>\n",
       "      <th>277<\/th>\n",
       "      <td>1\/1\/1911<\/td>\n",
       "      <td>France<\/td>\n",
       "      <td>Hungary<\/td>\n",
       "      <td>0<\/td>\n",
       "      <td>3<\/td>\n",
       "      <td>Friendly<\/td>\n",
       "      <td>Maisons-Alfort<\/td>\n",
       "      <td>France<\/td>\n",
       "      <td>False<\/td>\n",
       "      <td>lose<\/td>\n",
       "    <\/tr>\n",
       "    <tr>\n",
       "      <th>...<\/th>\n",
       "      <td>...<\/td>\n",
       "      <td>...<\/td>\n",
       "      <td>...<\/td>\n",
       "      <td>...<\/td>\n",
       "      <td>...<\/td>\n",
       "      <td>...<\/td>\n",
       "      <td>...<\/td>\n",
       "      <td>...<\/td>\n",
       "      <td>...<\/td>\n",
       "      <td>...<\/td>\n",
       "    <\/tr>\n",
       "    <tr>\n",
       "      <th>42244<\/th>\n",
       "      <td>6\/2\/2021<\/td>\n",
       "      <td>France<\/td>\n",
       "      <td>Wales<\/td>\n",
       "      <td>3<\/td>\n",
       "      <td>0<\/td>\n",
       "      <td>Friendly<\/td>\n",
       "      <td>Nice<\/td>\n",
       "      <td>France<\/td>\n",
       "      <td>False<\/td>\n",
       "      <td>win<\/td>\n",
       "    <\/tr>\n",
       "    <tr>\n",
       "      <th>42346<\/th>\n",
       "      <td>6\/8\/2021<\/td>\n",
       "      <td>France<\/td>\n",
       "      <td>Bulgaria<\/td>\n",
       "      <td>3<\/td>\n",
       "      <td>0<\/td>\n",
       "      <td>Friendly<\/td>\n",
       "      <td>Paris<\/td>\n",
       "      <td>France<\/td>\n",
       "      <td>False<\/td>\n",
       "      <td>win<\/td>\n",
       "    <\/tr>\n",
       "    <tr>\n",
       "      <th>42597<\/th>\n",
       "      <td>9\/1\/2021<\/td>\n",
       "      <td>France<\/td>\n",
       "      <td>Bosnia and Herzegovina<\/td>\n",
       "      <td>1<\/td>\n",
       "      <td>1<\/td>\n",
       "      <td>FIFA World Cup qualification<\/td>\n",
       "      <td>Strasbourg<\/td>\n",
       "      <td>France<\/td>\n",
       "      <td>False<\/td>\n",
       "      <td>draw<\/td>\n",
       "    <\/tr>\n",
       "    <tr>\n",
       "      <th>42723<\/th>\n",
       "      <td>9\/7\/2021<\/td>\n",
       "      <td>France<\/td>\n",
       "      <td>Finland<\/td>\n",
       "      <td>2<\/td>\n",
       "      <td>0<\/td>\n",
       "      <td>FIFA World Cup qualification<\/td>\n",
       "      <td>Lyon<\/td>\n",
       "      <td>France<\/td>\n",
       "      <td>False<\/td>\n",
       "      <td>win<\/td>\n",
       "    <\/tr>\n",
       "    <tr>\n",
       "      <th>42988<\/th>\n",
       "      <td>11\/13\/2021<\/td>\n",
       "      <td>France<\/td>\n",
       "      <td>Kazakhstan<\/td>\n",
       "      <td>8<\/td>\n",
       "      <td>0<\/td>\n",
       "      <td>FIFA World Cup qualification<\/td>\n",
       "      <td>Paris<\/td>\n",
       "      <td>France<\/td>\n",
       "      <td>False<\/td>\n",
       "      <td>win<\/td>\n",
       "    <\/tr>\n",
       "  <\/tbody>\n",
       "<\/table>\n",
       "<p>462 rows × 10 columns<\/p>\n",
       "<\/div>"
      ]
     },
     "metadata":{
      
     },
     "output_type":"display_data"
    }
   ],
   "metadata":{
    "datalore":{
     "type":"CODE",
     "hide_input_from_viewers":false,
     "hide_output_from_viewers":false
    }
   }
  },
  {
   "cell_type":"code",
   "source":[
    "df_noneutralfr['result_home'].value_counts() "
   ],
   "execution_count":49,
   "outputs":[
    {
     "data":{
      "text\/html":[
       
      ]
     },
     "metadata":{
      
     },
     "output_type":"display_data"
    }
   ],
   "metadata":{
    "datalore":{
     "type":"CODE",
     "hide_input_from_viewers":false,
     "hide_output_from_viewers":false
    }
   }
  },
  {
   "cell_type":"code",
   "source":[
    "df_noneutralfr.shape"
   ],
   "execution_count":50,
   "outputs":[
    {
     "data":{
      "text\/plain":[
       "(462, 10)"
      ]
     },
     "metadata":{
      
     },
     "output_type":"display_data"
    }
   ],
   "metadata":{
    "datalore":{
     "type":"CODE",
     "hide_input_from_viewers":false,
     "hide_output_from_viewers":false
    }
   }
  },
  {
   "cell_type":"code",
   "source":[
    "CI_fr=proportion_confint(count=268,nobs=462,alpha=(1-.95))\n",
    "CI_fr"
   ],
   "execution_count":51,
   "outputs":[
    {
     "data":{
      "text\/plain":[
       "(0.5350823444775694, 0.6250908156955908)"
      ]
     },
     "metadata":{
      
     },
     "output_type":"display_data"
    }
   ],
   "metadata":{
    "datalore":{
     "type":"CODE",
     "hide_input_from_viewers":false,
     "hide_output_from_viewers":false
    }
   }
  },
  {
   "cell_type":"code",
   "source":[
    "df_noneutralmy=df_noneutral[df_noneutral['country']=='Malaysia']"
   ],
   "execution_count":52,
   "outputs":[
    
   ],
   "metadata":{
    "datalore":{
     "type":"CODE",
     "hide_input_from_viewers":false,
     "hide_output_from_viewers":false
    }
   }
  },
  {
   "cell_type":"code",
   "source":[
    "df_noneutralmy"
   ],
   "execution_count":53,
   "outputs":[
    {
     "data":{
      "text\/html":[
       "<div>\n",
       "<style scoped>\n",
       "    .dataframe tbody tr th:only-of-type {\n",
       "        vertical-align: middle;\n",
       "    }\n",
       "\n",
       "    .dataframe tbody tr th {\n",
       "        vertical-align: top;\n",
       "    }\n",
       "\n",
       "    .dataframe thead th {\n",
       "        text-align: right;\n",
       "    }\n",
       "<\/style>\n",
       "<table border=\"1\" class=\"dataframe\">\n",
       "  <thead>\n",
       "    <tr style=\"text-align: right;\">\n",
       "      <th><\/th>\n",
       "      <th>date<\/th>\n",
       "      <th>home_team<\/th>\n",
       "      <th>away_team<\/th>\n",
       "      <th>home_score<\/th>\n",
       "      <th>away_score<\/th>\n",
       "      <th>tournament<\/th>\n",
       "      <th>city<\/th>\n",
       "      <th>country<\/th>\n",
       "      <th>neutral<\/th>\n",
       "      <th>result_home<\/th>\n",
       "    <\/tr>\n",
       "  <\/thead>\n",
       "  <tbody>\n",
       "    <tr>\n",
       "      <th>5674<\/th>\n",
       "      <td>8\/22\/1964<\/td>\n",
       "      <td>Malaysia<\/td>\n",
       "      <td>Thailand<\/td>\n",
       "      <td>3<\/td>\n",
       "      <td>0<\/td>\n",
       "      <td>Merdeka Tournament<\/td>\n",
       "      <td>Kuala Lumpur<\/td>\n",
       "      <td>Malaysia<\/td>\n",
       "      <td>False<\/td>\n",
       "      <td>win<\/td>\n",
       "    <\/tr>\n",
       "    <tr>\n",
       "      <th>5677<\/th>\n",
       "      <td>8\/24\/1964<\/td>\n",
       "      <td>Malaysia<\/td>\n",
       "      <td>India<\/td>\n",
       "      <td>1<\/td>\n",
       "      <td>1<\/td>\n",
       "      <td>Merdeka Tournament<\/td>\n",
       "      <td>Kuala Lumpur<\/td>\n",
       "      <td>Malaysia<\/td>\n",
       "      <td>False<\/td>\n",
       "      <td>draw<\/td>\n",
       "    <\/tr>\n",
       "    <tr>\n",
       "      <th>5680<\/th>\n",
       "      <td>8\/28\/1964<\/td>\n",
       "      <td>Malaysia<\/td>\n",
       "      <td>Myanmar<\/td>\n",
       "      <td>0<\/td>\n",
       "      <td>3<\/td>\n",
       "      <td>Merdeka Tournament<\/td>\n",
       "      <td>Kuala Lumpur<\/td>\n",
       "      <td>Malaysia<\/td>\n",
       "      <td>False<\/td>\n",
       "      <td>lose<\/td>\n",
       "    <\/tr>\n",
       "    <tr>\n",
       "      <th>5683<\/th>\n",
       "      <td>8\/30\/1964<\/td>\n",
       "      <td>Malaysia<\/td>\n",
       "      <td>Vietnam Republic<\/td>\n",
       "      <td>1<\/td>\n",
       "      <td>2<\/td>\n",
       "      <td>Merdeka Tournament<\/td>\n",
       "      <td>Kuala Lumpur<\/td>\n",
       "      <td>Malaysia<\/td>\n",
       "      <td>False<\/td>\n",
       "      <td>lose<\/td>\n",
       "    <\/tr>\n",
       "    <tr>\n",
       "      <th>5686<\/th>\n",
       "      <td>9\/2\/1964<\/td>\n",
       "      <td>Malaysia<\/td>\n",
       "      <td>Taiwan<\/td>\n",
       "      <td>5<\/td>\n",
       "      <td>2<\/td>\n",
       "      <td>Merdeka Tournament<\/td>\n",
       "      <td>Kuala Lumpur<\/td>\n",
       "      <td>Malaysia<\/td>\n",
       "      <td>False<\/td>\n",
       "      <td>win<\/td>\n",
       "    <\/tr>\n",
       "    <tr>\n",
       "      <th>...<\/th>\n",
       "      <td>...<\/td>\n",
       "      <td>...<\/td>\n",
       "      <td>...<\/td>\n",
       "      <td>...<\/td>\n",
       "      <td>...<\/td>\n",
       "      <td>...<\/td>\n",
       "      <td>...<\/td>\n",
       "      <td>...<\/td>\n",
       "      <td>...<\/td>\n",
       "      <td>...<\/td>\n",
       "    <\/tr>\n",
       "    <tr>\n",
       "      <th>41300<\/th>\n",
       "      <td>9\/10\/2019<\/td>\n",
       "      <td>Malaysia<\/td>\n",
       "      <td>United Arab Emirates<\/td>\n",
       "      <td>1<\/td>\n",
       "      <td>2<\/td>\n",
       "      <td>FIFA World Cup qualification<\/td>\n",
       "      <td>Kuala Lumpur<\/td>\n",
       "      <td>Malaysia<\/td>\n",
       "      <td>False<\/td>\n",
       "      <td>lose<\/td>\n",
       "    <\/tr>\n",
       "    <tr>\n",
       "      <th>41334<\/th>\n",
       "      <td>10\/5\/2019<\/td>\n",
       "      <td>Malaysia<\/td>\n",
       "      <td>Sri Lanka<\/td>\n",
       "      <td>6<\/td>\n",
       "      <td>0<\/td>\n",
       "      <td>Friendly<\/td>\n",
       "      <td>Kuala Lumpur<\/td>\n",
       "      <td>Malaysia<\/td>\n",
       "      <td>False<\/td>\n",
       "      <td>win<\/td>\n",
       "    <\/tr>\n",
       "    <tr>\n",
       "      <th>41516<\/th>\n",
       "      <td>11\/9\/2019<\/td>\n",
       "      <td>Malaysia<\/td>\n",
       "      <td>Tajikistan<\/td>\n",
       "      <td>1<\/td>\n",
       "      <td>0<\/td>\n",
       "      <td>Friendly<\/td>\n",
       "      <td>Kuala Lumpur<\/td>\n",
       "      <td>Malaysia<\/td>\n",
       "      <td>False<\/td>\n",
       "      <td>win<\/td>\n",
       "    <\/tr>\n",
       "    <tr>\n",
       "      <th>41571<\/th>\n",
       "      <td>11\/14\/2019<\/td>\n",
       "      <td>Malaysia<\/td>\n",
       "      <td>Thailand<\/td>\n",
       "      <td>2<\/td>\n",
       "      <td>1<\/td>\n",
       "      <td>FIFA World Cup qualification<\/td>\n",
       "      <td>Kuala Lumpur<\/td>\n",
       "      <td>Malaysia<\/td>\n",
       "      <td>False<\/td>\n",
       "      <td>win<\/td>\n",
       "    <\/tr>\n",
       "    <tr>\n",
       "      <th>41697<\/th>\n",
       "      <td>11\/19\/2019<\/td>\n",
       "      <td>Malaysia<\/td>\n",
       "      <td>Indonesia<\/td>\n",
       "      <td>2<\/td>\n",
       "      <td>0<\/td>\n",
       "      <td>FIFA World Cup qualification<\/td>\n",
       "      <td>Kuala Lumpur<\/td>\n",
       "      <td>Malaysia<\/td>\n",
       "      <td>False<\/td>\n",
       "      <td>win<\/td>\n",
       "    <\/tr>\n",
       "  <\/tbody>\n",
       "<\/table>\n",
       "<p>275 rows × 10 columns<\/p>\n",
       "<\/div>"
      ]
     },
     "metadata":{
      
     },
     "output_type":"display_data"
    }
   ],
   "metadata":{
    "datalore":{
     "type":"CODE",
     "hide_input_from_viewers":false,
     "hide_output_from_viewers":false
    }
   }
  },
  {
   "cell_type":"code",
   "source":[
    "df_noneutralmy['result_home'].value_counts() "
   ],
   "execution_count":54,
   "outputs":[
    {
     "data":{
      "text\/html":[
       
      ]
     },
     "metadata":{
      
     },
     "output_type":"display_data"
    }
   ],
   "metadata":{
    "datalore":{
     "type":"CODE",
     "hide_input_from_viewers":false,
     "hide_output_from_viewers":false
    }
   }
  },
  {
   "cell_type":"code",
   "source":[
    "df_noneutralmy.shape"
   ],
   "execution_count":55,
   "outputs":[
    {
     "data":{
      "text\/plain":[
       "(275, 10)"
      ]
     },
     "metadata":{
      
     },
     "output_type":"display_data"
    }
   ],
   "metadata":{
    "datalore":{
     "type":"CODE",
     "hide_input_from_viewers":false,
     "hide_output_from_viewers":false
    }
   }
  },
  {
   "cell_type":"code",
   "source":[
    "CI_my=proportion_confint(count=129,nobs=275,alpha=(1-.95))\n",
    "CI_my"
   ],
   "execution_count":56,
   "outputs":[
    {
     "data":{
      "text\/plain":[
       "(0.4101087952116519, 0.5280730229701663)"
      ]
     },
     "metadata":{
      
     },
     "output_type":"display_data"
    }
   ],
   "metadata":{
    "datalore":{
     "type":"CODE",
     "hide_input_from_viewers":false,
     "hide_output_from_viewers":false
    }
   }
  },
  {
   "cell_type":"code",
   "source":[
    "df_noneutraleng=df_noneutral[df_noneutral['country']=='England']"
   ],
   "execution_count":57,
   "outputs":[
    
   ],
   "metadata":{
    "datalore":{
     "type":"CODE",
     "hide_input_from_viewers":false,
     "hide_output_from_viewers":false
    }
   }
  },
  {
   "cell_type":"code",
   "source":[
    "df_noneutraleng"
   ],
   "execution_count":58,
   "outputs":[
    {
     "data":{
      "text\/html":[
       "<div>\n",
       "<style scoped>\n",
       "    .dataframe tbody tr th:only-of-type {\n",
       "        vertical-align: middle;\n",
       "    }\n",
       "\n",
       "    .dataframe tbody tr th {\n",
       "        vertical-align: top;\n",
       "    }\n",
       "\n",
       "    .dataframe thead th {\n",
       "        text-align: right;\n",
       "    }\n",
       "<\/style>\n",
       "<table border=\"1\" class=\"dataframe\">\n",
       "  <thead>\n",
       "    <tr style=\"text-align: right;\">\n",
       "      <th><\/th>\n",
       "      <th>date<\/th>\n",
       "      <th>home_team<\/th>\n",
       "      <th>away_team<\/th>\n",
       "      <th>home_score<\/th>\n",
       "      <th>away_score<\/th>\n",
       "      <th>tournament<\/th>\n",
       "      <th>city<\/th>\n",
       "      <th>country<\/th>\n",
       "      <th>neutral<\/th>\n",
       "      <th>result_home<\/th>\n",
       "    <\/tr>\n",
       "  <\/thead>\n",
       "  <tbody>\n",
       "    <tr>\n",
       "      <th>1<\/th>\n",
       "      <td>1873-03-08<\/td>\n",
       "      <td>England<\/td>\n",
       "      <td>Scotland<\/td>\n",
       "      <td>4<\/td>\n",
       "      <td>2<\/td>\n",
       "      <td>Friendly<\/td>\n",
       "      <td>London<\/td>\n",
       "      <td>England<\/td>\n",
       "      <td>False<\/td>\n",
       "      <td>win<\/td>\n",
       "    <\/tr>\n",
       "    <tr>\n",
       "      <th>3<\/th>\n",
       "      <td>1875-03-06<\/td>\n",
       "      <td>England<\/td>\n",
       "      <td>Scotland<\/td>\n",
       "      <td>2<\/td>\n",
       "      <td>2<\/td>\n",
       "      <td>Friendly<\/td>\n",
       "      <td>London<\/td>\n",
       "      <td>England<\/td>\n",
       "      <td>False<\/td>\n",
       "      <td>draw<\/td>\n",
       "    <\/tr>\n",
       "    <tr>\n",
       "      <th>6<\/th>\n",
       "      <td>1877-03-03<\/td>\n",
       "      <td>England<\/td>\n",
       "      <td>Scotland<\/td>\n",
       "      <td>1<\/td>\n",
       "      <td>3<\/td>\n",
       "      <td>Friendly<\/td>\n",
       "      <td>London<\/td>\n",
       "      <td>England<\/td>\n",
       "      <td>False<\/td>\n",
       "      <td>lose<\/td>\n",
       "    <\/tr>\n",
       "    <tr>\n",
       "      <th>10<\/th>\n",
       "      <td>1879-01-18<\/td>\n",
       "      <td>England<\/td>\n",
       "      <td>Wales<\/td>\n",
       "      <td>2<\/td>\n",
       "      <td>1<\/td>\n",
       "      <td>Friendly<\/td>\n",
       "      <td>London<\/td>\n",
       "      <td>England<\/td>\n",
       "      <td>False<\/td>\n",
       "      <td>win<\/td>\n",
       "    <\/tr>\n",
       "    <tr>\n",
       "      <th>11<\/th>\n",
       "      <td>1879-04-05<\/td>\n",
       "      <td>England<\/td>\n",
       "      <td>Scotland<\/td>\n",
       "      <td>5<\/td>\n",
       "      <td>4<\/td>\n",
       "      <td>Friendly<\/td>\n",
       "      <td>London<\/td>\n",
       "      <td>England<\/td>\n",
       "      <td>False<\/td>\n",
       "      <td>win<\/td>\n",
       "    <\/tr>\n",
       "    <tr>\n",
       "      <th>...<\/th>\n",
       "      <td>...<\/td>\n",
       "      <td>...<\/td>\n",
       "      <td>...<\/td>\n",
       "      <td>...<\/td>\n",
       "      <td>...<\/td>\n",
       "      <td>...<\/td>\n",
       "      <td>...<\/td>\n",
       "      <td>...<\/td>\n",
       "      <td>...<\/td>\n",
       "      <td>...<\/td>\n",
       "    <\/tr>\n",
       "    <tr>\n",
       "      <th>42521<\/th>\n",
       "      <td>7\/7\/2021<\/td>\n",
       "      <td>England<\/td>\n",
       "      <td>Denmark<\/td>\n",
       "      <td>2<\/td>\n",
       "      <td>1<\/td>\n",
       "      <td>UEFA Euro<\/td>\n",
       "      <td>London<\/td>\n",
       "      <td>England<\/td>\n",
       "      <td>False<\/td>\n",
       "      <td>win<\/td>\n",
       "    <\/tr>\n",
       "    <tr>\n",
       "      <th>42533<\/th>\n",
       "      <td>7\/11\/2021<\/td>\n",
       "      <td>England<\/td>\n",
       "      <td>Italy<\/td>\n",
       "      <td>1<\/td>\n",
       "      <td>1<\/td>\n",
       "      <td>UEFA Euro<\/td>\n",
       "      <td>London<\/td>\n",
       "      <td>England<\/td>\n",
       "      <td>False<\/td>\n",
       "      <td>draw<\/td>\n",
       "    <\/tr>\n",
       "    <tr>\n",
       "      <th>42680<\/th>\n",
       "      <td>9\/5\/2021<\/td>\n",
       "      <td>England<\/td>\n",
       "      <td>Andorra<\/td>\n",
       "      <td>4<\/td>\n",
       "      <td>0<\/td>\n",
       "      <td>FIFA World Cup qualification<\/td>\n",
       "      <td>London<\/td>\n",
       "      <td>England<\/td>\n",
       "      <td>False<\/td>\n",
       "      <td>win<\/td>\n",
       "    <\/tr>\n",
       "    <tr>\n",
       "      <th>42893<\/th>\n",
       "      <td>10\/12\/2021<\/td>\n",
       "      <td>England<\/td>\n",
       "      <td>Hungary<\/td>\n",
       "      <td>1<\/td>\n",
       "      <td>1<\/td>\n",
       "      <td>FIFA World Cup qualification<\/td>\n",
       "      <td>London<\/td>\n",
       "      <td>England<\/td>\n",
       "      <td>False<\/td>\n",
       "      <td>draw<\/td>\n",
       "    <\/tr>\n",
       "    <tr>\n",
       "      <th>42972<\/th>\n",
       "      <td>11\/12\/2021<\/td>\n",
       "      <td>England<\/td>\n",
       "      <td>Albania<\/td>\n",
       "      <td>5<\/td>\n",
       "      <td>0<\/td>\n",
       "      <td>FIFA World Cup qualification<\/td>\n",
       "      <td>London<\/td>\n",
       "      <td>England<\/td>\n",
       "      <td>False<\/td>\n",
       "      <td>win<\/td>\n",
       "    <\/tr>\n",
       "  <\/tbody>\n",
       "<\/table>\n",
       "<p>499 rows × 10 columns<\/p>\n",
       "<\/div>"
      ]
     },
     "metadata":{
      
     },
     "output_type":"display_data"
    }
   ],
   "metadata":{
    "datalore":{
     "type":"CODE",
     "hide_input_from_viewers":false,
     "hide_output_from_viewers":false
    }
   }
  },
  {
   "cell_type":"code",
   "source":[
    "df_noneutraleng['result_home'].value_counts() "
   ],
   "execution_count":59,
   "outputs":[
    {
     "data":{
      "text\/html":[
       
      ]
     },
     "metadata":{
      
     },
     "output_type":"display_data"
    }
   ],
   "metadata":{
    "datalore":{
     "type":"CODE",
     "hide_input_from_viewers":false,
     "hide_output_from_viewers":false
    }
   }
  },
  {
   "cell_type":"code",
   "source":[
    "df_noneutraleng.shape"
   ],
   "execution_count":60,
   "outputs":[
    {
     "data":{
      "text\/plain":[
       "(499, 10)"
      ]
     },
     "metadata":{
      
     },
     "output_type":"display_data"
    }
   ],
   "metadata":{
    "datalore":{
     "type":"CODE",
     "hide_input_from_viewers":false,
     "hide_output_from_viewers":false
    }
   }
  },
  {
   "cell_type":"code",
   "source":[
    "CI_eng=proportion_confint(count=319,nobs=499,alpha=(1-.95))\n",
    "CI_eng"
   ],
   "execution_count":61,
   "outputs":[
    {
     "data":{
      "text\/plain":[
       "(0.5971449281308193, 0.6814121860976375)"
      ]
     },
     "metadata":{
      
     },
     "output_type":"display_data"
    }
   ],
   "metadata":{
    "datalore":{
     "type":"CODE",
     "hide_input_from_viewers":false,
     "hide_output_from_viewers":false
    }
   }
  },
  {
   "cell_type":"code",
   "source":[
    "df_noneutralse=df_noneutral[df_noneutral['country']=='Sweden']"
   ],
   "execution_count":62,
   "outputs":[
    
   ],
   "metadata":{
    "datalore":{
     "type":"CODE",
     "hide_input_from_viewers":false,
     "hide_output_from_viewers":false
    }
   }
  },
  {
   "cell_type":"code",
   "source":[
    "df_noneutralse"
   ],
   "execution_count":63,
   "outputs":[
    {
     "data":{
      "text\/html":[
       "<div>\n",
       "<style scoped>\n",
       "    .dataframe tbody tr th:only-of-type {\n",
       "        vertical-align: middle;\n",
       "    }\n",
       "\n",
       "    .dataframe tbody tr th {\n",
       "        vertical-align: top;\n",
       "    }\n",
       "\n",
       "    .dataframe thead th {\n",
       "        text-align: right;\n",
       "    }\n",
       "<\/style>\n",
       "<table border=\"1\" class=\"dataframe\">\n",
       "  <thead>\n",
       "    <tr style=\"text-align: right;\">\n",
       "      <th><\/th>\n",
       "      <th>date<\/th>\n",
       "      <th>home_team<\/th>\n",
       "      <th>away_team<\/th>\n",
       "      <th>home_score<\/th>\n",
       "      <th>away_score<\/th>\n",
       "      <th>tournament<\/th>\n",
       "      <th>city<\/th>\n",
       "      <th>country<\/th>\n",
       "      <th>neutral<\/th>\n",
       "      <th>result_home<\/th>\n",
       "    <\/tr>\n",
       "  <\/thead>\n",
       "  <tbody>\n",
       "    <tr>\n",
       "      <th>224<\/th>\n",
       "      <td>7\/12\/1908<\/td>\n",
       "      <td>Sweden<\/td>\n",
       "      <td>Norway<\/td>\n",
       "      <td>11<\/td>\n",
       "      <td>3<\/td>\n",
       "      <td>Friendly<\/td>\n",
       "      <td>Gothenburg<\/td>\n",
       "      <td>Sweden<\/td>\n",
       "      <td>False<\/td>\n",
       "      <td>win<\/td>\n",
       "    <\/tr>\n",
       "    <tr>\n",
       "      <th>296<\/th>\n",
       "      <td>6\/18\/1911<\/td>\n",
       "      <td>Sweden<\/td>\n",
       "      <td>Germany<\/td>\n",
       "      <td>2<\/td>\n",
       "      <td>4<\/td>\n",
       "      <td>Friendly<\/td>\n",
       "      <td>Solna<\/td>\n",
       "      <td>Sweden<\/td>\n",
       "      <td>False<\/td>\n",
       "      <td>lose<\/td>\n",
       "    <\/tr>\n",
       "    <tr>\n",
       "      <th>298<\/th>\n",
       "      <td>9\/17\/1911<\/td>\n",
       "      <td>Sweden<\/td>\n",
       "      <td>Norway<\/td>\n",
       "      <td>4<\/td>\n",
       "      <td>1<\/td>\n",
       "      <td>Friendly<\/td>\n",
       "      <td>Solna<\/td>\n",
       "      <td>Sweden<\/td>\n",
       "      <td>False<\/td>\n",
       "      <td>win<\/td>\n",
       "    <\/tr>\n",
       "    <tr>\n",
       "      <th>328<\/th>\n",
       "      <td>6\/20\/1912<\/td>\n",
       "      <td>Sweden<\/td>\n",
       "      <td>Hungary<\/td>\n",
       "      <td>2<\/td>\n",
       "      <td>2<\/td>\n",
       "      <td>Friendly<\/td>\n",
       "      <td>Gothenburg<\/td>\n",
       "      <td>Sweden<\/td>\n",
       "      <td>False<\/td>\n",
       "      <td>draw<\/td>\n",
       "    <\/tr>\n",
       "    <tr>\n",
       "      <th>330<\/th>\n",
       "      <td>6\/27\/1912<\/td>\n",
       "      <td>Sweden<\/td>\n",
       "      <td>Finland<\/td>\n",
       "      <td>7<\/td>\n",
       "      <td>1<\/td>\n",
       "      <td>Friendly<\/td>\n",
       "      <td>Solna<\/td>\n",
       "      <td>Sweden<\/td>\n",
       "      <td>False<\/td>\n",
       "      <td>win<\/td>\n",
       "    <\/tr>\n",
       "    <tr>\n",
       "      <th>...<\/th>\n",
       "      <td>...<\/td>\n",
       "      <td>...<\/td>\n",
       "      <td>...<\/td>\n",
       "      <td>...<\/td>\n",
       "      <td>...<\/td>\n",
       "      <td>...<\/td>\n",
       "      <td>...<\/td>\n",
       "      <td>...<\/td>\n",
       "      <td>...<\/td>\n",
       "      <td>...<\/td>\n",
       "    <\/tr>\n",
       "    <tr>\n",
       "      <th>42301<\/th>\n",
       "      <td>6\/5\/2021<\/td>\n",
       "      <td>Sweden<\/td>\n",
       "      <td>Armenia<\/td>\n",
       "      <td>3<\/td>\n",
       "      <td>1<\/td>\n",
       "      <td>Friendly<\/td>\n",
       "      <td>Stockholm<\/td>\n",
       "      <td>Sweden<\/td>\n",
       "      <td>False<\/td>\n",
       "      <td>win<\/td>\n",
       "    <\/tr>\n",
       "    <tr>\n",
       "      <th>42623<\/th>\n",
       "      <td>9\/2\/2021<\/td>\n",
       "      <td>Sweden<\/td>\n",
       "      <td>Spain<\/td>\n",
       "      <td>2<\/td>\n",
       "      <td>1<\/td>\n",
       "      <td>FIFA World Cup qualification<\/td>\n",
       "      <td>Stockholm<\/td>\n",
       "      <td>Sweden<\/td>\n",
       "      <td>False<\/td>\n",
       "      <td>win<\/td>\n",
       "    <\/tr>\n",
       "    <tr>\n",
       "      <th>42670<\/th>\n",
       "      <td>9\/5\/2021<\/td>\n",
       "      <td>Sweden<\/td>\n",
       "      <td>Uzbekistan<\/td>\n",
       "      <td>2<\/td>\n",
       "      <td>1<\/td>\n",
       "      <td>Friendly<\/td>\n",
       "      <td>Stockholm<\/td>\n",
       "      <td>Sweden<\/td>\n",
       "      <td>False<\/td>\n",
       "      <td>win<\/td>\n",
       "    <\/tr>\n",
       "    <tr>\n",
       "      <th>42815<\/th>\n",
       "      <td>10\/9\/2021<\/td>\n",
       "      <td>Sweden<\/td>\n",
       "      <td>Kosovo<\/td>\n",
       "      <td>3<\/td>\n",
       "      <td>0<\/td>\n",
       "      <td>FIFA World Cup qualification<\/td>\n",
       "      <td>Stockholm<\/td>\n",
       "      <td>Sweden<\/td>\n",
       "      <td>False<\/td>\n",
       "      <td>win<\/td>\n",
       "    <\/tr>\n",
       "    <tr>\n",
       "      <th>42885<\/th>\n",
       "      <td>10\/12\/2021<\/td>\n",
       "      <td>Sweden<\/td>\n",
       "      <td>Greece<\/td>\n",
       "      <td>2<\/td>\n",
       "      <td>0<\/td>\n",
       "      <td>FIFA World Cup qualification<\/td>\n",
       "      <td>Stockholm<\/td>\n",
       "      <td>Sweden<\/td>\n",
       "      <td>False<\/td>\n",
       "      <td>win<\/td>\n",
       "    <\/tr>\n",
       "  <\/tbody>\n",
       "<\/table>\n",
       "<p>483 rows × 10 columns<\/p>\n",
       "<\/div>"
      ]
     },
     "metadata":{
      
     },
     "output_type":"display_data"
    }
   ],
   "metadata":{
    "datalore":{
     "type":"CODE",
     "hide_input_from_viewers":false,
     "hide_output_from_viewers":false
    }
   }
  },
  {
   "cell_type":"code",
   "source":[
    "df_noneutralse['result_home'].value_counts() "
   ],
   "execution_count":64,
   "outputs":[
    {
     "data":{
      "text\/html":[
       
      ]
     },
     "metadata":{
      
     },
     "output_type":"display_data"
    }
   ],
   "metadata":{
    "datalore":{
     "type":"CODE",
     "hide_input_from_viewers":false,
     "hide_output_from_viewers":false
    }
   }
  },
  {
   "cell_type":"code",
   "source":[
    "df_noneutralse.shape"
   ],
   "execution_count":65,
   "outputs":[
    {
     "data":{
      "text\/plain":[
       "(483, 10)"
      ]
     },
     "metadata":{
      
     },
     "output_type":"display_data"
    }
   ],
   "metadata":{
    "datalore":{
     "type":"CODE",
     "hide_input_from_viewers":false,
     "hide_output_from_viewers":false
    }
   }
  },
  {
   "cell_type":"code",
   "source":[
    "CI_se=proportion_confint(count=287,nobs=483,alpha=(1-.95))\n",
    "CI_se"
   ],
   "execution_count":66,
   "outputs":[
    {
     "data":{
      "text\/plain":[
       "(0.5504107373284738, 0.6379950597729754)"
      ]
     },
     "metadata":{
      
     },
     "output_type":"display_data"
    }
   ],
   "metadata":{
    "datalore":{
     "type":"CODE",
     "hide_input_from_viewers":false,
     "hide_output_from_viewers":false
    }
   }
  },
  {
   "cell_type":"code",
   "source":[
    "df_noneutralger=df_noneutral[df_noneutral['country']=='Germany']"
   ],
   "execution_count":67,
   "outputs":[
    
   ],
   "metadata":{
    "datalore":{
     "type":"CODE",
     "hide_input_from_viewers":false,
     "hide_output_from_viewers":false
    }
   }
  },
  {
   "cell_type":"code",
   "source":[
    "df_noneutralger"
   ],
   "execution_count":68,
   "outputs":[
    {
     "data":{
      "text\/html":[
       "<div>\n",
       "<style scoped>\n",
       "    .dataframe tbody tr th:only-of-type {\n",
       "        vertical-align: middle;\n",
       "    }\n",
       "\n",
       "    .dataframe tbody tr th {\n",
       "        vertical-align: top;\n",
       "    }\n",
       "\n",
       "    .dataframe thead th {\n",
       "        text-align: right;\n",
       "    }\n",
       "<\/style>\n",
       "<table border=\"1\" class=\"dataframe\">\n",
       "  <thead>\n",
       "    <tr style=\"text-align: right;\">\n",
       "      <th><\/th>\n",
       "      <th>date<\/th>\n",
       "      <th>home_team<\/th>\n",
       "      <th>away_team<\/th>\n",
       "      <th>home_score<\/th>\n",
       "      <th>away_score<\/th>\n",
       "      <th>tournament<\/th>\n",
       "      <th>city<\/th>\n",
       "      <th>country<\/th>\n",
       "      <th>neutral<\/th>\n",
       "      <th>result_home<\/th>\n",
       "    <\/tr>\n",
       "  <\/thead>\n",
       "  <tbody>\n",
       "    <tr>\n",
       "      <th>238<\/th>\n",
       "      <td>4\/4\/1909<\/td>\n",
       "      <td>Germany<\/td>\n",
       "      <td>Switzerland<\/td>\n",
       "      <td>1<\/td>\n",
       "      <td>0<\/td>\n",
       "      <td>Friendly<\/td>\n",
       "      <td>Karlsruhe<\/td>\n",
       "      <td>Germany<\/td>\n",
       "      <td>False<\/td>\n",
       "      <td>win<\/td>\n",
       "    <\/tr>\n",
       "    <tr>\n",
       "      <th>264<\/th>\n",
       "      <td>5\/16\/1910<\/td>\n",
       "      <td>Germany<\/td>\n",
       "      <td>Belgium<\/td>\n",
       "      <td>0<\/td>\n",
       "      <td>3<\/td>\n",
       "      <td>Friendly<\/td>\n",
       "      <td>Duisburg<\/td>\n",
       "      <td>Germany<\/td>\n",
       "      <td>False<\/td>\n",
       "      <td>lose<\/td>\n",
       "    <\/tr>\n",
       "    <tr>\n",
       "      <th>273<\/th>\n",
       "      <td>10\/16\/1910<\/td>\n",
       "      <td>Germany<\/td>\n",
       "      <td>Netherlands<\/td>\n",
       "      <td>1<\/td>\n",
       "      <td>2<\/td>\n",
       "      <td>Friendly<\/td>\n",
       "      <td>Kleve<\/td>\n",
       "      <td>Germany<\/td>\n",
       "      <td>False<\/td>\n",
       "      <td>lose<\/td>\n",
       "    <\/tr>\n",
       "    <tr>\n",
       "      <th>286<\/th>\n",
       "      <td>3\/26\/1911<\/td>\n",
       "      <td>Germany<\/td>\n",
       "      <td>Switzerland<\/td>\n",
       "      <td>6<\/td>\n",
       "      <td>2<\/td>\n",
       "      <td>Friendly<\/td>\n",
       "      <td>Stuttgart<\/td>\n",
       "      <td>Germany<\/td>\n",
       "      <td>False<\/td>\n",
       "      <td>win<\/td>\n",
       "    <\/tr>\n",
       "    <tr>\n",
       "      <th>301<\/th>\n",
       "      <td>10\/9\/1911<\/td>\n",
       "      <td>Germany<\/td>\n",
       "      <td>Austria<\/td>\n",
       "      <td>1<\/td>\n",
       "      <td>2<\/td>\n",
       "      <td>Friendly<\/td>\n",
       "      <td>Dresden<\/td>\n",
       "      <td>Germany<\/td>\n",
       "      <td>False<\/td>\n",
       "      <td>lose<\/td>\n",
       "    <\/tr>\n",
       "    <tr>\n",
       "      <th>...<\/th>\n",
       "      <td>...<\/td>\n",
       "      <td>...<\/td>\n",
       "      <td>...<\/td>\n",
       "      <td>...<\/td>\n",
       "      <td>...<\/td>\n",
       "      <td>...<\/td>\n",
       "      <td>...<\/td>\n",
       "      <td>...<\/td>\n",
       "      <td>...<\/td>\n",
       "      <td>...<\/td>\n",
       "    <\/tr>\n",
       "    <tr>\n",
       "      <th>42456<\/th>\n",
       "      <td>6\/19\/2021<\/td>\n",
       "      <td>Germany<\/td>\n",
       "      <td>Portugal<\/td>\n",
       "      <td>4<\/td>\n",
       "      <td>2<\/td>\n",
       "      <td>UEFA Euro<\/td>\n",
       "      <td>Munich<\/td>\n",
       "      <td>Germany<\/td>\n",
       "      <td>False<\/td>\n",
       "      <td>win<\/td>\n",
       "    <\/tr>\n",
       "    <tr>\n",
       "      <th>42474<\/th>\n",
       "      <td>6\/23\/2021<\/td>\n",
       "      <td>Germany<\/td>\n",
       "      <td>Hungary<\/td>\n",
       "      <td>2<\/td>\n",
       "      <td>2<\/td>\n",
       "      <td>UEFA Euro<\/td>\n",
       "      <td>Munich<\/td>\n",
       "      <td>Germany<\/td>\n",
       "      <td>False<\/td>\n",
       "      <td>draw<\/td>\n",
       "    <\/tr>\n",
       "    <tr>\n",
       "      <th>42684<\/th>\n",
       "      <td>9\/5\/2021<\/td>\n",
       "      <td>Germany<\/td>\n",
       "      <td>Armenia<\/td>\n",
       "      <td>6<\/td>\n",
       "      <td>0<\/td>\n",
       "      <td>FIFA World Cup qualification<\/td>\n",
       "      <td>Stuttgart<\/td>\n",
       "      <td>Germany<\/td>\n",
       "      <td>False<\/td>\n",
       "      <td>win<\/td>\n",
       "    <\/tr>\n",
       "    <tr>\n",
       "      <th>42805<\/th>\n",
       "      <td>10\/8\/2021<\/td>\n",
       "      <td>Germany<\/td>\n",
       "      <td>Romania<\/td>\n",
       "      <td>2<\/td>\n",
       "      <td>1<\/td>\n",
       "      <td>FIFA World Cup qualification<\/td>\n",
       "      <td>Hamburg<\/td>\n",
       "      <td>Germany<\/td>\n",
       "      <td>False<\/td>\n",
       "      <td>win<\/td>\n",
       "    <\/tr>\n",
       "    <tr>\n",
       "      <th>42950<\/th>\n",
       "      <td>11\/11\/2021<\/td>\n",
       "      <td>Germany<\/td>\n",
       "      <td>Liechtenstein<\/td>\n",
       "      <td>9<\/td>\n",
       "      <td>0<\/td>\n",
       "      <td>FIFA World Cup qualification<\/td>\n",
       "      <td>Wolfsburg<\/td>\n",
       "      <td>Germany<\/td>\n",
       "      <td>False<\/td>\n",
       "      <td>win<\/td>\n",
       "    <\/tr>\n",
       "  <\/tbody>\n",
       "<\/table>\n",
       "<p>433 rows × 10 columns<\/p>\n",
       "<\/div>"
      ]
     },
     "metadata":{
      
     },
     "output_type":"display_data"
    }
   ],
   "metadata":{
    "datalore":{
     "type":"CODE",
     "hide_input_from_viewers":false,
     "hide_output_from_viewers":false
    }
   }
  },
  {
   "cell_type":"code",
   "source":[
    "df_noneutralger['result_home'].value_counts() "
   ],
   "execution_count":69,
   "outputs":[
    {
     "data":{
      "text\/html":[
       
      ]
     },
     "metadata":{
      
     },
     "output_type":"display_data"
    }
   ],
   "metadata":{
    "datalore":{
     "type":"CODE",
     "hide_input_from_viewers":false,
     "hide_output_from_viewers":false
    }
   }
  },
  {
   "cell_type":"code",
   "source":[
    "df_noneutralger.shape"
   ],
   "execution_count":70,
   "outputs":[
    {
     "data":{
      "text\/plain":[
       "(433, 10)"
      ]
     },
     "metadata":{
      
     },
     "output_type":"display_data"
    }
   ],
   "metadata":{
    "datalore":{
     "type":"CODE",
     "hide_input_from_viewers":false,
     "hide_output_from_viewers":false
    }
   }
  },
  {
   "cell_type":"code",
   "source":[
    "CI_ger=proportion_confint(count=271,nobs=433,alpha=(1-.95))\n",
    "CI_ger"
   ],
   "execution_count":71,
   "outputs":[
    {
     "data":{
      "text\/plain":[
       "(0.580287721783519, 0.6714443798331091)"
      ]
     },
     "metadata":{
      
     },
     "output_type":"display_data"
    }
   ],
   "metadata":{
    "datalore":{
     "type":"CODE",
     "hide_input_from_viewers":false,
     "hide_output_from_viewers":false
    }
   }
  },
  {
   "cell_type":"code",
   "source":[
    "df_noneutralbra=df_noneutral[df_noneutral['country']=='Brazil']"
   ],
   "execution_count":72,
   "outputs":[
    
   ],
   "metadata":{
    "datalore":{
     "type":"CODE",
     "hide_input_from_viewers":false,
     "hide_output_from_viewers":false
    }
   }
  },
  {
   "cell_type":"code",
   "source":[
    "df_noneutralbra"
   ],
   "execution_count":73,
   "outputs":[
    {
     "data":{
      "text\/html":[
       "<div>\n",
       "<style scoped>\n",
       "    .dataframe tbody tr th:only-of-type {\n",
       "        vertical-align: middle;\n",
       "    }\n",
       "\n",
       "    .dataframe tbody tr th {\n",
       "        vertical-align: top;\n",
       "    }\n",
       "\n",
       "    .dataframe thead th {\n",
       "        text-align: right;\n",
       "    }\n",
       "<\/style>\n",
       "<table border=\"1\" class=\"dataframe\">\n",
       "  <thead>\n",
       "    <tr style=\"text-align: right;\">\n",
       "      <th><\/th>\n",
       "      <th>date<\/th>\n",
       "      <th>home_team<\/th>\n",
       "      <th>away_team<\/th>\n",
       "      <th>home_score<\/th>\n",
       "      <th>away_score<\/th>\n",
       "      <th>tournament<\/th>\n",
       "      <th>city<\/th>\n",
       "      <th>country<\/th>\n",
       "      <th>neutral<\/th>\n",
       "      <th>result_home<\/th>\n",
       "    <\/tr>\n",
       "  <\/thead>\n",
       "  <tbody>\n",
       "    <tr>\n",
       "      <th>503<\/th>\n",
       "      <td>5\/11\/1919<\/td>\n",
       "      <td>Brazil<\/td>\n",
       "      <td>Chile<\/td>\n",
       "      <td>6<\/td>\n",
       "      <td>0<\/td>\n",
       "      <td>Copa América<\/td>\n",
       "      <td>Rio de Janeiro<\/td>\n",
       "      <td>Brazil<\/td>\n",
       "      <td>False<\/td>\n",
       "      <td>win<\/td>\n",
       "    <\/tr>\n",
       "    <tr>\n",
       "      <th>508<\/th>\n",
       "      <td>5\/18\/1919<\/td>\n",
       "      <td>Brazil<\/td>\n",
       "      <td>Argentina<\/td>\n",
       "      <td>3<\/td>\n",
       "      <td>1<\/td>\n",
       "      <td>Copa América<\/td>\n",
       "      <td>Rio de Janeiro<\/td>\n",
       "      <td>Brazil<\/td>\n",
       "      <td>False<\/td>\n",
       "      <td>win<\/td>\n",
       "    <\/tr>\n",
       "    <tr>\n",
       "      <th>512<\/th>\n",
       "      <td>5\/26\/1919<\/td>\n",
       "      <td>Brazil<\/td>\n",
       "      <td>Uruguay<\/td>\n",
       "      <td>2<\/td>\n",
       "      <td>2<\/td>\n",
       "      <td>Copa América<\/td>\n",
       "      <td>Rio de Janeiro<\/td>\n",
       "      <td>Brazil<\/td>\n",
       "      <td>False<\/td>\n",
       "      <td>draw<\/td>\n",
       "    <\/tr>\n",
       "    <tr>\n",
       "      <th>513<\/th>\n",
       "      <td>5\/29\/1919<\/td>\n",
       "      <td>Brazil<\/td>\n",
       "      <td>Uruguay<\/td>\n",
       "      <td>1<\/td>\n",
       "      <td>0<\/td>\n",
       "      <td>Copa América<\/td>\n",
       "      <td>Rio de Janeiro<\/td>\n",
       "      <td>Brazil<\/td>\n",
       "      <td>False<\/td>\n",
       "      <td>win<\/td>\n",
       "    <\/tr>\n",
       "    <tr>\n",
       "      <th>515<\/th>\n",
       "      <td>6\/1\/1919<\/td>\n",
       "      <td>Brazil<\/td>\n",
       "      <td>Argentina<\/td>\n",
       "      <td>3<\/td>\n",
       "      <td>3<\/td>\n",
       "      <td>Friendly<\/td>\n",
       "      <td>Rio de Janeiro<\/td>\n",
       "      <td>Brazil<\/td>\n",
       "      <td>False<\/td>\n",
       "      <td>draw<\/td>\n",
       "    <\/tr>\n",
       "    <tr>\n",
       "      <th>...<\/th>\n",
       "      <td>...<\/td>\n",
       "      <td>...<\/td>\n",
       "      <td>...<\/td>\n",
       "      <td>...<\/td>\n",
       "      <td>...<\/td>\n",
       "      <td>...<\/td>\n",
       "      <td>...<\/td>\n",
       "      <td>...<\/td>\n",
       "      <td>...<\/td>\n",
       "      <td>...<\/td>\n",
       "    <\/tr>\n",
       "    <tr>\n",
       "      <th>42513<\/th>\n",
       "      <td>7\/5\/2021<\/td>\n",
       "      <td>Brazil<\/td>\n",
       "      <td>Peru<\/td>\n",
       "      <td>1<\/td>\n",
       "      <td>0<\/td>\n",
       "      <td>Copa América<\/td>\n",
       "      <td>Rio de Janeiro<\/td>\n",
       "      <td>Brazil<\/td>\n",
       "      <td>False<\/td>\n",
       "      <td>win<\/td>\n",
       "    <\/tr>\n",
       "    <tr>\n",
       "      <th>42529<\/th>\n",
       "      <td>7\/10\/2021<\/td>\n",
       "      <td>Brazil<\/td>\n",
       "      <td>Argentina<\/td>\n",
       "      <td>0<\/td>\n",
       "      <td>1<\/td>\n",
       "      <td>Copa América<\/td>\n",
       "      <td>Rio de Janeiro<\/td>\n",
       "      <td>Brazil<\/td>\n",
       "      <td>False<\/td>\n",
       "      <td>lose<\/td>\n",
       "    <\/tr>\n",
       "    <tr>\n",
       "      <th>42756<\/th>\n",
       "      <td>9\/9\/2021<\/td>\n",
       "      <td>Brazil<\/td>\n",
       "      <td>Peru<\/td>\n",
       "      <td>2<\/td>\n",
       "      <td>0<\/td>\n",
       "      <td>FIFA World Cup qualification<\/td>\n",
       "      <td>Recife<\/td>\n",
       "      <td>Brazil<\/td>\n",
       "      <td>False<\/td>\n",
       "      <td>win<\/td>\n",
       "    <\/tr>\n",
       "    <tr>\n",
       "      <th>42916<\/th>\n",
       "      <td>10\/14\/2021<\/td>\n",
       "      <td>Brazil<\/td>\n",
       "      <td>Uruguay<\/td>\n",
       "      <td>4<\/td>\n",
       "      <td>1<\/td>\n",
       "      <td>FIFA World Cup qualification<\/td>\n",
       "      <td>Manaus<\/td>\n",
       "      <td>Brazil<\/td>\n",
       "      <td>False<\/td>\n",
       "      <td>win<\/td>\n",
       "    <\/tr>\n",
       "    <tr>\n",
       "      <th>42956<\/th>\n",
       "      <td>11\/11\/2021<\/td>\n",
       "      <td>Brazil<\/td>\n",
       "      <td>Colombia<\/td>\n",
       "      <td>1<\/td>\n",
       "      <td>0<\/td>\n",
       "      <td>FIFA World Cup qualification<\/td>\n",
       "      <td>São Paulo<\/td>\n",
       "      <td>Brazil<\/td>\n",
       "      <td>False<\/td>\n",
       "      <td>win<\/td>\n",
       "    <\/tr>\n",
       "  <\/tbody>\n",
       "<\/table>\n",
       "<p>354 rows × 10 columns<\/p>\n",
       "<\/div>"
      ]
     },
     "metadata":{
      
     },
     "output_type":"display_data"
    }
   ],
   "metadata":{
    "datalore":{
     "type":"CODE",
     "hide_input_from_viewers":false,
     "hide_output_from_viewers":false
    }
   }
  },
  {
   "cell_type":"code",
   "source":[
    "df_noneutralbra['result_home'].value_counts() "
   ],
   "execution_count":74,
   "outputs":[
    {
     "data":{
      "text\/html":[
       
      ]
     },
     "metadata":{
      
     },
     "output_type":"display_data"
    }
   ],
   "metadata":{
    "datalore":{
     "type":"CODE",
     "hide_input_from_viewers":false,
     "hide_output_from_viewers":false
    }
   }
  },
  {
   "cell_type":"code",
   "source":[
    "df_noneutralbra.shape"
   ],
   "execution_count":75,
   "outputs":[
    {
     "data":{
      "text\/plain":[
       "(354, 10)"
      ]
     },
     "metadata":{
      
     },
     "output_type":"display_data"
    }
   ],
   "metadata":{
    "datalore":{
     "type":"CODE",
     "hide_input_from_viewers":false,
     "hide_output_from_viewers":false
    }
   }
  },
  {
   "cell_type":"code",
   "source":[
    "CI_bra=proportion_confint(count=260,nobs=354,alpha=(1-.95))\n",
    "CI_bra"
   ],
   "execution_count":76,
   "outputs":[
    {
     "data":{
      "text\/plain":[
       "(0.6884594670837961, 0.7804670865885203)"
      ]
     },
     "metadata":{
      
     },
     "output_type":"display_data"
    }
   ],
   "metadata":{
    "datalore":{
     "type":"CODE",
     "hide_input_from_viewers":false,
     "hide_output_from_viewers":false
    }
   }
  },
  {
   "cell_type":"code",
   "source":[
    "df_noneutralqtr=df_noneutral[df_noneutral['country']=='Qatar']"
   ],
   "execution_count":77,
   "outputs":[
    
   ],
   "metadata":{
    "datalore":{
     "type":"CODE",
     "hide_input_from_viewers":false,
     "hide_output_from_viewers":false
    }
   }
  },
  {
   "cell_type":"code",
   "source":[
    "df_noneutralqtr"
   ],
   "execution_count":78,
   "outputs":[
    {
     "data":{
      "text\/html":[
       "<div>\n",
       "<style scoped>\n",
       "    .dataframe tbody tr th:only-of-type {\n",
       "        vertical-align: middle;\n",
       "    }\n",
       "\n",
       "    .dataframe tbody tr th {\n",
       "        vertical-align: top;\n",
       "    }\n",
       "\n",
       "    .dataframe thead th {\n",
       "        text-align: right;\n",
       "    }\n",
       "<\/style>\n",
       "<table border=\"1\" class=\"dataframe\">\n",
       "  <thead>\n",
       "    <tr style=\"text-align: right;\">\n",
       "      <th><\/th>\n",
       "      <th>date<\/th>\n",
       "      <th>home_team<\/th>\n",
       "      <th>away_team<\/th>\n",
       "      <th>home_score<\/th>\n",
       "      <th>away_score<\/th>\n",
       "      <th>tournament<\/th>\n",
       "      <th>city<\/th>\n",
       "      <th>country<\/th>\n",
       "      <th>neutral<\/th>\n",
       "      <th>result_home<\/th>\n",
       "    <\/tr>\n",
       "  <\/thead>\n",
       "  <tbody>\n",
       "    <tr>\n",
       "      <th>8993<\/th>\n",
       "      <td>2\/27\/1974<\/td>\n",
       "      <td>Qatar<\/td>\n",
       "      <td>Morocco<\/td>\n",
       "      <td>0<\/td>\n",
       "      <td>1<\/td>\n",
       "      <td>Friendly<\/td>\n",
       "      <td>Doha<\/td>\n",
       "      <td>Qatar<\/td>\n",
       "      <td>False<\/td>\n",
       "      <td>lose<\/td>\n",
       "    <\/tr>\n",
       "    <tr>\n",
       "      <th>9744<\/th>\n",
       "      <td>3\/26\/1976<\/td>\n",
       "      <td>Qatar<\/td>\n",
       "      <td>Saudi Arabia<\/td>\n",
       "      <td>1<\/td>\n",
       "      <td>0<\/td>\n",
       "      <td>Gulf Cup<\/td>\n",
       "      <td>Doha<\/td>\n",
       "      <td>Qatar<\/td>\n",
       "      <td>False<\/td>\n",
       "      <td>win<\/td>\n",
       "    <\/tr>\n",
       "    <tr>\n",
       "      <th>9751<\/th>\n",
       "      <td>3\/28\/1976<\/td>\n",
       "      <td>Qatar<\/td>\n",
       "      <td>Kuwait<\/td>\n",
       "      <td>0<\/td>\n",
       "      <td>4<\/td>\n",
       "      <td>Gulf Cup<\/td>\n",
       "      <td>Doha<\/td>\n",
       "      <td>Qatar<\/td>\n",
       "      <td>False<\/td>\n",
       "      <td>lose<\/td>\n",
       "    <\/tr>\n",
       "    <tr>\n",
       "      <th>9757<\/th>\n",
       "      <td>4\/1\/1976<\/td>\n",
       "      <td>Qatar<\/td>\n",
       "      <td>United Arab Emirates<\/td>\n",
       "      <td>3<\/td>\n",
       "      <td>1<\/td>\n",
       "      <td>Gulf Cup<\/td>\n",
       "      <td>Doha<\/td>\n",
       "      <td>Qatar<\/td>\n",
       "      <td>False<\/td>\n",
       "      <td>win<\/td>\n",
       "    <\/tr>\n",
       "    <tr>\n",
       "      <th>9761<\/th>\n",
       "      <td>4\/3\/1976<\/td>\n",
       "      <td>Qatar<\/td>\n",
       "      <td>Iraq<\/td>\n",
       "      <td>0<\/td>\n",
       "      <td>0<\/td>\n",
       "      <td>Gulf Cup<\/td>\n",
       "      <td>Doha<\/td>\n",
       "      <td>Qatar<\/td>\n",
       "      <td>False<\/td>\n",
       "      <td>draw<\/td>\n",
       "    <\/tr>\n",
       "    <tr>\n",
       "      <th>...<\/th>\n",
       "      <td>...<\/td>\n",
       "      <td>...<\/td>\n",
       "      <td>...<\/td>\n",
       "      <td>...<\/td>\n",
       "      <td>...<\/td>\n",
       "      <td>...<\/td>\n",
       "      <td>...<\/td>\n",
       "      <td>...<\/td>\n",
       "      <td>...<\/td>\n",
       "      <td>...<\/td>\n",
       "    <\/tr>\n",
       "    <tr>\n",
       "      <th>43076<\/th>\n",
       "      <td>12\/3\/2021<\/td>\n",
       "      <td>Qatar<\/td>\n",
       "      <td>Oman<\/td>\n",
       "      <td>2<\/td>\n",
       "      <td>1<\/td>\n",
       "      <td>Arab Cup<\/td>\n",
       "      <td>Al Rayyan<\/td>\n",
       "      <td>Qatar<\/td>\n",
       "      <td>False<\/td>\n",
       "      <td>win<\/td>\n",
       "    <\/tr>\n",
       "    <tr>\n",
       "      <th>43085<\/th>\n",
       "      <td>12\/6\/2021<\/td>\n",
       "      <td>Qatar<\/td>\n",
       "      <td>Iraq<\/td>\n",
       "      <td>3<\/td>\n",
       "      <td>0<\/td>\n",
       "      <td>Arab Cup<\/td>\n",
       "      <td>Al Khor<\/td>\n",
       "      <td>Qatar<\/td>\n",
       "      <td>False<\/td>\n",
       "      <td>win<\/td>\n",
       "    <\/tr>\n",
       "    <tr>\n",
       "      <th>43095<\/th>\n",
       "      <td>12\/10\/2021<\/td>\n",
       "      <td>Qatar<\/td>\n",
       "      <td>United Arab Emirates<\/td>\n",
       "      <td>5<\/td>\n",
       "      <td>0<\/td>\n",
       "      <td>Arab Cup<\/td>\n",
       "      <td>Al Khor<\/td>\n",
       "      <td>Qatar<\/td>\n",
       "      <td>False<\/td>\n",
       "      <td>win<\/td>\n",
       "    <\/tr>\n",
       "    <tr>\n",
       "      <th>43100<\/th>\n",
       "      <td>12\/15\/2021<\/td>\n",
       "      <td>Qatar<\/td>\n",
       "      <td>Algeria<\/td>\n",
       "      <td>1<\/td>\n",
       "      <td>2<\/td>\n",
       "      <td>Arab Cup<\/td>\n",
       "      <td>Doha<\/td>\n",
       "      <td>Qatar<\/td>\n",
       "      <td>False<\/td>\n",
       "      <td>lose<\/td>\n",
       "    <\/tr>\n",
       "    <tr>\n",
       "      <th>43101<\/th>\n",
       "      <td>12\/18\/2021<\/td>\n",
       "      <td>Qatar<\/td>\n",
       "      <td>Egypt<\/td>\n",
       "      <td>0<\/td>\n",
       "      <td>0<\/td>\n",
       "      <td>Arab Cup<\/td>\n",
       "      <td>Doha<\/td>\n",
       "      <td>Qatar<\/td>\n",
       "      <td>False<\/td>\n",
       "      <td>draw<\/td>\n",
       "    <\/tr>\n",
       "  <\/tbody>\n",
       "<\/table>\n",
       "<p>259 rows × 10 columns<\/p>\n",
       "<\/div>"
      ]
     },
     "metadata":{
      
     },
     "output_type":"display_data"
    }
   ],
   "metadata":{
    "datalore":{
     "type":"CODE",
     "hide_input_from_viewers":false,
     "hide_output_from_viewers":false
    }
   }
  },
  {
   "cell_type":"code",
   "source":[
    "df_noneutralqtr['result_home'].value_counts() "
   ],
   "execution_count":79,
   "outputs":[
    {
     "data":{
      "text\/html":[
       
      ]
     },
     "metadata":{
      
     },
     "output_type":"display_data"
    }
   ],
   "metadata":{
    "datalore":{
     "type":"CODE",
     "hide_input_from_viewers":false,
     "hide_output_from_viewers":false
    }
   }
  },
  {
   "cell_type":"code",
   "source":[
    "df_noneutralqtr.shape"
   ],
   "execution_count":80,
   "outputs":[
    {
     "data":{
      "text\/plain":[
       "(259, 10)"
      ]
     },
     "metadata":{
      
     },
     "output_type":"display_data"
    }
   ],
   "metadata":{
    "datalore":{
     "type":"CODE",
     "hide_input_from_viewers":false,
     "hide_output_from_viewers":false
    }
   }
  },
  {
   "cell_type":"code",
   "source":[
    "CI_qtr=proportion_confint(count=135,nobs=259,alpha=(1-.95))\n",
    "CI_qtr"
   ],
   "execution_count":81,
   "outputs":[
    {
     "data":{
      "text\/plain":[
       "(0.46039734708330093, 0.5820736953877415)"
      ]
     },
     "metadata":{
      
     },
     "output_type":"display_data"
    }
   ],
   "metadata":{
    "datalore":{
     "type":"CODE",
     "hide_input_from_viewers":false,
     "hide_output_from_viewers":false
    }
   }
  },
  {
   "cell_type":"code",
   "source":[
    "df_noneutralsp=df_noneutral[df_noneutral['country']=='Spain']"
   ],
   "execution_count":82,
   "outputs":[
    
   ],
   "metadata":{
    "datalore":{
     "type":"CODE",
     "hide_input_from_viewers":false,
     "hide_output_from_viewers":false
    }
   }
  },
  {
   "cell_type":"code",
   "source":[
    "df_noneutralsp"
   ],
   "execution_count":83,
   "outputs":[
    {
     "data":{
      "text\/html":[
       "<div>\n",
       "<style scoped>\n",
       "    .dataframe tbody tr th:only-of-type {\n",
       "        vertical-align: middle;\n",
       "    }\n",
       "\n",
       "    .dataframe tbody tr th {\n",
       "        vertical-align: top;\n",
       "    }\n",
       "\n",
       "    .dataframe thead th {\n",
       "        text-align: right;\n",
       "    }\n",
       "<\/style>\n",
       "<table border=\"1\" class=\"dataframe\">\n",
       "  <thead>\n",
       "    <tr style=\"text-align: right;\">\n",
       "      <th><\/th>\n",
       "      <th>date<\/th>\n",
       "      <th>home_team<\/th>\n",
       "      <th>away_team<\/th>\n",
       "      <th>home_score<\/th>\n",
       "      <th>away_score<\/th>\n",
       "      <th>tournament<\/th>\n",
       "      <th>city<\/th>\n",
       "      <th>country<\/th>\n",
       "      <th>neutral<\/th>\n",
       "      <th>result_home<\/th>\n",
       "    <\/tr>\n",
       "  <\/thead>\n",
       "  <tbody>\n",
       "    <tr>\n",
       "      <th>347<\/th>\n",
       "      <td>12\/1\/1912<\/td>\n",
       "      <td>Catalonia<\/td>\n",
       "      <td>France<\/td>\n",
       "      <td>1<\/td>\n",
       "      <td>0<\/td>\n",
       "      <td>Friendly<\/td>\n",
       "      <td>Barcelona<\/td>\n",
       "      <td>Spain<\/td>\n",
       "      <td>False<\/td>\n",
       "      <td>win<\/td>\n",
       "    <\/tr>\n",
       "    <tr>\n",
       "      <th>415<\/th>\n",
       "      <td>1\/3\/1915<\/td>\n",
       "      <td>Basque Country<\/td>\n",
       "      <td>Catalonia<\/td>\n",
       "      <td>6<\/td>\n",
       "      <td>1<\/td>\n",
       "      <td>Friendly<\/td>\n",
       "      <td>Bilbao<\/td>\n",
       "      <td>Spain<\/td>\n",
       "      <td>False<\/td>\n",
       "      <td>win<\/td>\n",
       "    <\/tr>\n",
       "    <tr>\n",
       "      <th>417<\/th>\n",
       "      <td>2\/7\/1915<\/td>\n",
       "      <td>Catalonia<\/td>\n",
       "      <td>Basque Country<\/td>\n",
       "      <td>2<\/td>\n",
       "      <td>2<\/td>\n",
       "      <td>Friendly<\/td>\n",
       "      <td>Barcelona<\/td>\n",
       "      <td>Spain<\/td>\n",
       "      <td>False<\/td>\n",
       "      <td>draw<\/td>\n",
       "    <\/tr>\n",
       "    <tr>\n",
       "      <th>419<\/th>\n",
       "      <td>5\/13\/1915<\/td>\n",
       "      <td>Basque Country<\/td>\n",
       "      <td>Catalonia<\/td>\n",
       "      <td>1<\/td>\n",
       "      <td>0<\/td>\n",
       "      <td>Friendly<\/td>\n",
       "      <td>Madrid<\/td>\n",
       "      <td>Spain<\/td>\n",
       "      <td>False<\/td>\n",
       "      <td>win<\/td>\n",
       "    <\/tr>\n",
       "    <tr>\n",
       "      <th>432<\/th>\n",
       "      <td>5\/21\/1916<\/td>\n",
       "      <td>Catalonia<\/td>\n",
       "      <td>Basque Country<\/td>\n",
       "      <td>1<\/td>\n",
       "      <td>3<\/td>\n",
       "      <td>Friendly<\/td>\n",
       "      <td>Barcelona<\/td>\n",
       "      <td>Spain<\/td>\n",
       "      <td>False<\/td>\n",
       "      <td>lose<\/td>\n",
       "    <\/tr>\n",
       "    <tr>\n",
       "      <th>...<\/th>\n",
       "      <td>...<\/td>\n",
       "      <td>...<\/td>\n",
       "      <td>...<\/td>\n",
       "      <td>...<\/td>\n",
       "      <td>...<\/td>\n",
       "      <td>...<\/td>\n",
       "      <td>...<\/td>\n",
       "      <td>...<\/td>\n",
       "      <td>...<\/td>\n",
       "      <td>...<\/td>\n",
       "    <\/tr>\n",
       "    <tr>\n",
       "      <th>42416<\/th>\n",
       "      <td>6\/14\/2021<\/td>\n",
       "      <td>Spain<\/td>\n",
       "      <td>Sweden<\/td>\n",
       "      <td>0<\/td>\n",
       "      <td>0<\/td>\n",
       "      <td>UEFA Euro<\/td>\n",
       "      <td>Seville<\/td>\n",
       "      <td>Spain<\/td>\n",
       "      <td>False<\/td>\n",
       "      <td>draw<\/td>\n",
       "    <\/tr>\n",
       "    <tr>\n",
       "      <th>42454<\/th>\n",
       "      <td>6\/19\/2021<\/td>\n",
       "      <td>Spain<\/td>\n",
       "      <td>Poland<\/td>\n",
       "      <td>1<\/td>\n",
       "      <td>1<\/td>\n",
       "      <td>UEFA Euro<\/td>\n",
       "      <td>Seville<\/td>\n",
       "      <td>Spain<\/td>\n",
       "      <td>False<\/td>\n",
       "      <td>draw<\/td>\n",
       "    <\/tr>\n",
       "    <tr>\n",
       "      <th>42472<\/th>\n",
       "      <td>6\/23\/2021<\/td>\n",
       "      <td>Spain<\/td>\n",
       "      <td>Slovakia<\/td>\n",
       "      <td>5<\/td>\n",
       "      <td>0<\/td>\n",
       "      <td>UEFA Euro<\/td>\n",
       "      <td>Seville<\/td>\n",
       "      <td>Spain<\/td>\n",
       "      <td>False<\/td>\n",
       "      <td>win<\/td>\n",
       "    <\/tr>\n",
       "    <tr>\n",
       "      <th>42675<\/th>\n",
       "      <td>9\/5\/2021<\/td>\n",
       "      <td>Spain<\/td>\n",
       "      <td>Georgia<\/td>\n",
       "      <td>4<\/td>\n",
       "      <td>0<\/td>\n",
       "      <td>FIFA World Cup qualification<\/td>\n",
       "      <td>Badajoz<\/td>\n",
       "      <td>Spain<\/td>\n",
       "      <td>False<\/td>\n",
       "      <td>win<\/td>\n",
       "    <\/tr>\n",
       "    <tr>\n",
       "      <th>43004<\/th>\n",
       "      <td>11\/14\/2021<\/td>\n",
       "      <td>Spain<\/td>\n",
       "      <td>Sweden<\/td>\n",
       "      <td>1<\/td>\n",
       "      <td>0<\/td>\n",
       "      <td>FIFA World Cup qualification<\/td>\n",
       "      <td>Seville<\/td>\n",
       "      <td>Spain<\/td>\n",
       "      <td>False<\/td>\n",
       "      <td>win<\/td>\n",
       "    <\/tr>\n",
       "  <\/tbody>\n",
       "<\/table>\n",
       "<p>414 rows × 10 columns<\/p>\n",
       "<\/div>"
      ]
     },
     "metadata":{
      
     },
     "output_type":"display_data"
    }
   ],
   "metadata":{
    "datalore":{
     "type":"CODE",
     "hide_input_from_viewers":false,
     "hide_output_from_viewers":false
    }
   }
  },
  {
   "cell_type":"code",
   "source":[
    "df_noneutralsp['result_home'].value_counts() "
   ],
   "execution_count":84,
   "outputs":[
    {
     "data":{
      "text\/html":[
       
      ]
     },
     "metadata":{
      
     },
     "output_type":"display_data"
    }
   ],
   "metadata":{
    "datalore":{
     "type":"CODE",
     "hide_input_from_viewers":false,
     "hide_output_from_viewers":false
    }
   }
  },
  {
   "cell_type":"code",
   "source":[
    "df_noneutralsp.shape"
   ],
   "execution_count":85,
   "outputs":[
    {
     "data":{
      "text\/plain":[
       "(414, 10)"
      ]
     },
     "metadata":{
      
     },
     "output_type":"display_data"
    }
   ],
   "metadata":{
    "datalore":{
     "type":"CODE",
     "hide_input_from_viewers":false,
     "hide_output_from_viewers":false
    }
   }
  },
  {
   "cell_type":"code",
   "source":[
    "CI_sp=proportion_confint(count=276,nobs=414,alpha=(1-.95))\n",
    "CI_sp"
   ],
   "execution_count":86,
   "outputs":[
    {
     "data":{
      "text\/plain":[
       "(0.6212576953545179, 0.7120756379788153)"
      ]
     },
     "metadata":{
      
     },
     "output_type":"display_data"
    }
   ],
   "metadata":{
    "datalore":{
     "type":"CODE",
     "hide_input_from_viewers":false,
     "hide_output_from_viewers":false
    }
   }
  },
  {
   "cell_type":"code",
   "source":[
    "df_noneutraluae=df_noneutral[df_noneutral['country']=='United Arab Emirates']"
   ],
   "execution_count":87,
   "outputs":[
    
   ],
   "metadata":{
    "datalore":{
     "type":"CODE",
     "hide_input_from_viewers":false,
     "hide_output_from_viewers":false
    }
   }
  },
  {
   "cell_type":"code",
   "source":[
    "df_noneutraluae"
   ],
   "execution_count":88,
   "outputs":[
    {
     "data":{
      "text\/html":[
       "<div>\n",
       "<style scoped>\n",
       "    .dataframe tbody tr th:only-of-type {\n",
       "        vertical-align: middle;\n",
       "    }\n",
       "\n",
       "    .dataframe tbody tr th {\n",
       "        vertical-align: top;\n",
       "    }\n",
       "\n",
       "    .dataframe thead th {\n",
       "        text-align: right;\n",
       "    }\n",
       "<\/style>\n",
       "<table border=\"1\" class=\"dataframe\">\n",
       "  <thead>\n",
       "    <tr style=\"text-align: right;\">\n",
       "      <th><\/th>\n",
       "      <th>date<\/th>\n",
       "      <th>home_team<\/th>\n",
       "      <th>away_team<\/th>\n",
       "      <th>home_score<\/th>\n",
       "      <th>away_score<\/th>\n",
       "      <th>tournament<\/th>\n",
       "      <th>city<\/th>\n",
       "      <th>country<\/th>\n",
       "      <th>neutral<\/th>\n",
       "      <th>result_home<\/th>\n",
       "    <\/tr>\n",
       "  <\/thead>\n",
       "  <tbody>\n",
       "    <tr>\n",
       "      <th>11150<\/th>\n",
       "      <td>10\/21\/1979<\/td>\n",
       "      <td>United Arab Emirates<\/td>\n",
       "      <td>India<\/td>\n",
       "      <td>0<\/td>\n",
       "      <td>0<\/td>\n",
       "      <td>Friendly<\/td>\n",
       "      <td>Abu Dhabi<\/td>\n",
       "      <td>United Arab Emirates<\/td>\n",
       "      <td>False<\/td>\n",
       "      <td>draw<\/td>\n",
       "    <\/tr>\n",
       "    <tr>\n",
       "      <th>11465<\/th>\n",
       "      <td>8\/5\/1980<\/td>\n",
       "      <td>United Arab Emirates<\/td>\n",
       "      <td>Iran<\/td>\n",
       "      <td>0<\/td>\n",
       "      <td>2<\/td>\n",
       "      <td>Friendly<\/td>\n",
       "      <td>Al Ain<\/td>\n",
       "      <td>United Arab Emirates<\/td>\n",
       "      <td>False<\/td>\n",
       "      <td>lose<\/td>\n",
       "    <\/tr>\n",
       "    <tr>\n",
       "      <th>11466<\/th>\n",
       "      <td>8\/7\/1980<\/td>\n",
       "      <td>United Arab Emirates<\/td>\n",
       "      <td>Iran<\/td>\n",
       "      <td>0<\/td>\n",
       "      <td>3<\/td>\n",
       "      <td>Friendly<\/td>\n",
       "      <td>Abu Dhabi<\/td>\n",
       "      <td>United Arab Emirates<\/td>\n",
       "      <td>False<\/td>\n",
       "      <td>lose<\/td>\n",
       "    <\/tr>\n",
       "    <tr>\n",
       "      <th>12119<\/th>\n",
       "      <td>10\/26\/1981<\/td>\n",
       "      <td>United Arab Emirates<\/td>\n",
       "      <td>India<\/td>\n",
       "      <td>2<\/td>\n",
       "      <td>0<\/td>\n",
       "      <td>Friendly<\/td>\n",
       "      <td>Abu Dhabi<\/td>\n",
       "      <td>United Arab Emirates<\/td>\n",
       "      <td>False<\/td>\n",
       "      <td>win<\/td>\n",
       "    <\/tr>\n",
       "    <tr>\n",
       "      <th>12125<\/th>\n",
       "      <td>10\/28\/1981<\/td>\n",
       "      <td>United Arab Emirates<\/td>\n",
       "      <td>India<\/td>\n",
       "      <td>3<\/td>\n",
       "      <td>1<\/td>\n",
       "      <td>Friendly<\/td>\n",
       "      <td>Sharjah<\/td>\n",
       "      <td>United Arab Emirates<\/td>\n",
       "      <td>False<\/td>\n",
       "      <td>win<\/td>\n",
       "    <\/tr>\n",
       "    <tr>\n",
       "      <th>...<\/th>\n",
       "      <td>...<\/td>\n",
       "      <td>...<\/td>\n",
       "      <td>...<\/td>\n",
       "      <td>...<\/td>\n",
       "      <td>...<\/td>\n",
       "      <td>...<\/td>\n",
       "      <td>...<\/td>\n",
       "      <td>...<\/td>\n",
       "      <td>...<\/td>\n",
       "      <td>...<\/td>\n",
       "    <\/tr>\n",
       "    <tr>\n",
       "      <th>42395<\/th>\n",
       "      <td>6\/11\/2021<\/td>\n",
       "      <td>United Arab Emirates<\/td>\n",
       "      <td>Indonesia<\/td>\n",
       "      <td>5<\/td>\n",
       "      <td>0<\/td>\n",
       "      <td>FIFA World Cup qualification<\/td>\n",
       "      <td>Dubai<\/td>\n",
       "      <td>United Arab Emirates<\/td>\n",
       "      <td>False<\/td>\n",
       "      <td>win<\/td>\n",
       "    <\/tr>\n",
       "    <tr>\n",
       "      <th>42431<\/th>\n",
       "      <td>6\/15\/2021<\/td>\n",
       "      <td>United Arab Emirates<\/td>\n",
       "      <td>Vietnam<\/td>\n",
       "      <td>3<\/td>\n",
       "      <td>2<\/td>\n",
       "      <td>FIFA World Cup qualification<\/td>\n",
       "      <td>Dubai<\/td>\n",
       "      <td>United Arab Emirates<\/td>\n",
       "      <td>False<\/td>\n",
       "      <td>win<\/td>\n",
       "    <\/tr>\n",
       "    <tr>\n",
       "      <th>42618<\/th>\n",
       "      <td>9\/2\/2021<\/td>\n",
       "      <td>United Arab Emirates<\/td>\n",
       "      <td>Lebanon<\/td>\n",
       "      <td>0<\/td>\n",
       "      <td>0<\/td>\n",
       "      <td>FIFA World Cup qualification<\/td>\n",
       "      <td>Dubai<\/td>\n",
       "      <td>United Arab Emirates<\/td>\n",
       "      <td>False<\/td>\n",
       "      <td>draw<\/td>\n",
       "    <\/tr>\n",
       "    <tr>\n",
       "      <th>42771<\/th>\n",
       "      <td>10\/7\/2021<\/td>\n",
       "      <td>United Arab Emirates<\/td>\n",
       "      <td>Iran<\/td>\n",
       "      <td>0<\/td>\n",
       "      <td>1<\/td>\n",
       "      <td>FIFA World Cup qualification<\/td>\n",
       "      <td>Dubai<\/td>\n",
       "      <td>United Arab Emirates<\/td>\n",
       "      <td>False<\/td>\n",
       "      <td>lose<\/td>\n",
       "    <\/tr>\n",
       "    <tr>\n",
       "      <th>42878<\/th>\n",
       "      <td>10\/12\/2021<\/td>\n",
       "      <td>United Arab Emirates<\/td>\n",
       "      <td>Iraq<\/td>\n",
       "      <td>2<\/td>\n",
       "      <td>2<\/td>\n",
       "      <td>FIFA World Cup qualification<\/td>\n",
       "      <td>Dubai<\/td>\n",
       "      <td>United Arab Emirates<\/td>\n",
       "      <td>False<\/td>\n",
       "      <td>draw<\/td>\n",
       "    <\/tr>\n",
       "  <\/tbody>\n",
       "<\/table>\n",
       "<p>232 rows × 10 columns<\/p>\n",
       "<\/div>"
      ]
     },
     "metadata":{
      
     },
     "output_type":"display_data"
    }
   ],
   "metadata":{
    "datalore":{
     "type":"CODE",
     "hide_input_from_viewers":false,
     "hide_output_from_viewers":false
    }
   }
  },
  {
   "cell_type":"code",
   "source":[
    "df_noneutraluae['result_home'].value_counts() "
   ],
   "execution_count":89,
   "outputs":[
    {
     "data":{
      "text\/html":[
       
      ]
     },
     "metadata":{
      
     },
     "output_type":"display_data"
    }
   ],
   "metadata":{
    "datalore":{
     "type":"CODE",
     "hide_input_from_viewers":false,
     "hide_output_from_viewers":false
    }
   }
  },
  {
   "cell_type":"code",
   "source":[
    "df_noneutraluae.shape"
   ],
   "execution_count":90,
   "outputs":[
    {
     "data":{
      "text\/plain":[
       "(232, 10)"
      ]
     },
     "metadata":{
      
     },
     "output_type":"display_data"
    }
   ],
   "metadata":{
    "datalore":{
     "type":"CODE",
     "hide_input_from_viewers":false,
     "hide_output_from_viewers":false
    }
   }
  },
  {
   "cell_type":"code",
   "source":[
    "CI_uae=proportion_confint(count=120,nobs=232,alpha=(1-.95))\n",
    "CI_uae"
   ],
   "execution_count":91,
   "outputs":[
    {
     "data":{
      "text\/plain":[
       "(0.45294067232046065, 0.5815420863002291)"
      ]
     },
     "metadata":{
      
     },
     "output_type":"display_data"
    }
   ],
   "metadata":{
    "datalore":{
     "type":"CODE",
     "hide_input_from_viewers":false,
     "hide_output_from_viewers":false
    }
   }
  },
  {
   "cell_type":"code",
   "source":[
    "df_noneutralsa=df_noneutral[df_noneutral['country']=='South Africa']"
   ],
   "execution_count":92,
   "outputs":[
    
   ],
   "metadata":{
    "datalore":{
     "type":"CODE",
     "hide_input_from_viewers":false,
     "hide_output_from_viewers":false
    }
   }
  },
  {
   "cell_type":"code",
   "source":[
    "df_noneutralsa"
   ],
   "execution_count":93,
   "outputs":[
    {
     "data":{
      "text\/html":[
       "<div>\n",
       "<style scoped>\n",
       "    .dataframe tbody tr th:only-of-type {\n",
       "        vertical-align: middle;\n",
       "    }\n",
       "\n",
       "    .dataframe tbody tr th {\n",
       "        vertical-align: top;\n",
       "    }\n",
       "\n",
       "    .dataframe thead th {\n",
       "        text-align: right;\n",
       "    }\n",
       "<\/style>\n",
       "<table border=\"1\" class=\"dataframe\">\n",
       "  <thead>\n",
       "    <tr style=\"text-align: right;\">\n",
       "      <th><\/th>\n",
       "      <th>date<\/th>\n",
       "      <th>home_team<\/th>\n",
       "      <th>away_team<\/th>\n",
       "      <th>home_score<\/th>\n",
       "      <th>away_score<\/th>\n",
       "      <th>tournament<\/th>\n",
       "      <th>city<\/th>\n",
       "      <th>country<\/th>\n",
       "      <th>neutral<\/th>\n",
       "      <th>result_home<\/th>\n",
       "    <\/tr>\n",
       "  <\/thead>\n",
       "  <tbody>\n",
       "    <tr>\n",
       "      <th>3131<\/th>\n",
       "      <td>6\/24\/1950<\/td>\n",
       "      <td>South Africa<\/td>\n",
       "      <td>Australia<\/td>\n",
       "      <td>3<\/td>\n",
       "      <td>2<\/td>\n",
       "      <td>Friendly<\/td>\n",
       "      <td>Durban<\/td>\n",
       "      <td>South Africa<\/td>\n",
       "      <td>False<\/td>\n",
       "      <td>win<\/td>\n",
       "    <\/tr>\n",
       "    <tr>\n",
       "      <th>3143<\/th>\n",
       "      <td>7\/1\/1950<\/td>\n",
       "      <td>South Africa<\/td>\n",
       "      <td>Australia<\/td>\n",
       "      <td>2<\/td>\n",
       "      <td>1<\/td>\n",
       "      <td>Friendly<\/td>\n",
       "      <td>Johannesburg<\/td>\n",
       "      <td>South Africa<\/td>\n",
       "      <td>False<\/td>\n",
       "      <td>win<\/td>\n",
       "    <\/tr>\n",
       "    <tr>\n",
       "      <th>3149<\/th>\n",
       "      <td>7\/8\/1950<\/td>\n",
       "      <td>South Africa<\/td>\n",
       "      <td>Australia<\/td>\n",
       "      <td>1<\/td>\n",
       "      <td>2<\/td>\n",
       "      <td>Friendly<\/td>\n",
       "      <td>Port Elizabeth<\/td>\n",
       "      <td>South Africa<\/td>\n",
       "      <td>False<\/td>\n",
       "      <td>lose<\/td>\n",
       "    <\/tr>\n",
       "    <tr>\n",
       "      <th>3159<\/th>\n",
       "      <td>7\/23\/1950<\/td>\n",
       "      <td>South Africa<\/td>\n",
       "      <td>Australia<\/td>\n",
       "      <td>0<\/td>\n",
       "      <td>2<\/td>\n",
       "      <td>Friendly<\/td>\n",
       "      <td>Cape Town<\/td>\n",
       "      <td>South Africa<\/td>\n",
       "      <td>False<\/td>\n",
       "      <td>lose<\/td>\n",
       "    <\/tr>\n",
       "    <tr>\n",
       "      <th>3635<\/th>\n",
       "      <td>5\/1\/1954<\/td>\n",
       "      <td>South Africa<\/td>\n",
       "      <td>Israel<\/td>\n",
       "      <td>2<\/td>\n",
       "      <td>1<\/td>\n",
       "      <td>Friendly<\/td>\n",
       "      <td>Johannesburg<\/td>\n",
       "      <td>South Africa<\/td>\n",
       "      <td>False<\/td>\n",
       "      <td>win<\/td>\n",
       "    <\/tr>\n",
       "    <tr>\n",
       "      <th>...<\/th>\n",
       "      <td>...<\/td>\n",
       "      <td>...<\/td>\n",
       "      <td>...<\/td>\n",
       "      <td>...<\/td>\n",
       "      <td>...<\/td>\n",
       "      <td>...<\/td>\n",
       "      <td>...<\/td>\n",
       "      <td>...<\/td>\n",
       "      <td>...<\/td>\n",
       "      <td>...<\/td>\n",
       "    <\/tr>\n",
       "    <tr>\n",
       "      <th>42556<\/th>\n",
       "      <td>7\/16\/2021<\/td>\n",
       "      <td>South Africa<\/td>\n",
       "      <td>Mozambique<\/td>\n",
       "      <td>3<\/td>\n",
       "      <td>0<\/td>\n",
       "      <td>COSAFA Cup<\/td>\n",
       "      <td>Port Elizabeth<\/td>\n",
       "      <td>South Africa<\/td>\n",
       "      <td>False<\/td>\n",
       "      <td>win<\/td>\n",
       "    <\/tr>\n",
       "    <tr>\n",
       "      <th>42562<\/th>\n",
       "      <td>7\/18\/2021<\/td>\n",
       "      <td>South Africa<\/td>\n",
       "      <td>Senegal<\/td>\n",
       "      <td>0<\/td>\n",
       "      <td>0<\/td>\n",
       "      <td>COSAFA Cup<\/td>\n",
       "      <td>Port Elizabeth<\/td>\n",
       "      <td>South Africa<\/td>\n",
       "      <td>False<\/td>\n",
       "      <td>draw<\/td>\n",
       "    <\/tr>\n",
       "    <tr>\n",
       "      <th>42698<\/th>\n",
       "      <td>9\/6\/2021<\/td>\n",
       "      <td>South Africa<\/td>\n",
       "      <td>Ghana<\/td>\n",
       "      <td>1<\/td>\n",
       "      <td>0<\/td>\n",
       "      <td>FIFA World Cup qualification<\/td>\n",
       "      <td>Johannesburg<\/td>\n",
       "      <td>South Africa<\/td>\n",
       "      <td>False<\/td>\n",
       "      <td>win<\/td>\n",
       "    <\/tr>\n",
       "    <tr>\n",
       "      <th>42898<\/th>\n",
       "      <td>10\/12\/2021<\/td>\n",
       "      <td>South Africa<\/td>\n",
       "      <td>Ethiopia<\/td>\n",
       "      <td>1<\/td>\n",
       "      <td>0<\/td>\n",
       "      <td>FIFA World Cup qualification<\/td>\n",
       "      <td>Johannesburg<\/td>\n",
       "      <td>South Africa<\/td>\n",
       "      <td>False<\/td>\n",
       "      <td>win<\/td>\n",
       "    <\/tr>\n",
       "    <tr>\n",
       "      <th>42932<\/th>\n",
       "      <td>11\/11\/2021<\/td>\n",
       "      <td>South Africa<\/td>\n",
       "      <td>Zimbabwe<\/td>\n",
       "      <td>1<\/td>\n",
       "      <td>0<\/td>\n",
       "      <td>FIFA World Cup qualification<\/td>\n",
       "      <td>Johannesburg<\/td>\n",
       "      <td>South Africa<\/td>\n",
       "      <td>False<\/td>\n",
       "      <td>win<\/td>\n",
       "    <\/tr>\n",
       "  <\/tbody>\n",
       "<\/table>\n",
       "<p>207 rows × 10 columns<\/p>\n",
       "<\/div>"
      ]
     },
     "metadata":{
      
     },
     "output_type":"display_data"
    }
   ],
   "metadata":{
    "datalore":{
     "type":"CODE",
     "hide_input_from_viewers":false,
     "hide_output_from_viewers":false
    }
   }
  },
  {
   "cell_type":"code",
   "source":[
    "df_noneutralsa['result_home'].value_counts() "
   ],
   "execution_count":94,
   "outputs":[
    {
     "data":{
      "text\/html":[
       
      ]
     },
     "metadata":{
      
     },
     "output_type":"display_data"
    }
   ],
   "metadata":{
    "datalore":{
     "type":"CODE",
     "hide_input_from_viewers":false,
     "hide_output_from_viewers":false
    }
   }
  },
  {
   "cell_type":"code",
   "source":[
    "df_noneutralsa.shape"
   ],
   "execution_count":95,
   "outputs":[
    {
     "data":{
      "text\/plain":[
       "(207, 10)"
      ]
     },
     "metadata":{
      
     },
     "output_type":"display_data"
    }
   ],
   "metadata":{
    "datalore":{
     "type":"CODE",
     "hide_input_from_viewers":false,
     "hide_output_from_viewers":false
    }
   }
  },
  {
   "cell_type":"code",
   "source":[
    "CI_sa=proportion_confint(count=111,nobs=207,alpha=(1-.95))\n",
    "CI_sa"
   ],
   "execution_count":96,
   "outputs":[
    {
     "data":{
      "text\/plain":[
       "(0.46829749427207346, 0.6041662738438687)"
      ]
     },
     "metadata":{
      
     },
     "output_type":"display_data"
    }
   ],
   "metadata":{
    "datalore":{
     "type":"CODE",
     "hide_input_from_viewers":false,
     "hide_output_from_viewers":false
    }
   }
  },
  {
   "cell_type":"code",
   "source":[
    "\n",
    "CI_country = {}\n",
    "CI_country['result_home'] = ['Egypt','Greece','Portugal','United States','France','Malaysia','England','Sweden','Germany','Brazil','Qatar','Spain','United Arab Emirates','South Africa']\n",
    "CI_country['lb'] = [CI_egy[0],CI_gre[0],CI_por[0],CI_usa[0],CI_fr[0],CI_my[0],CI_eng[0],CI_se[0],CI_ger[0],CI_bra[0],CI_qtr[0],CI_sp[0],CI_uae[0],CI_sa[0]]\n",
    "CI_country['ub'] = [CI_egy[1],CI_gre[1],CI_por[1],CI_usa[1],CI_fr[1],CI_my[1],CI_eng[1],CI_se[1],CI_ger[1],CI_bra[1],CI_qtr[1],CI_sp[1],CI_uae[1],CI_sa[1]]\n",
    "df_CI= pd.DataFrame(CI_country)\n",
    "df_CI"
   ],
   "execution_count":97,
   "outputs":[
    {
     "data":{
      "text\/html":[
       "<div>\n",
       "<style scoped>\n",
       "    .dataframe tbody tr th:only-of-type {\n",
       "        vertical-align: middle;\n",
       "    }\n",
       "\n",
       "    .dataframe tbody tr th {\n",
       "        vertical-align: top;\n",
       "    }\n",
       "\n",
       "    .dataframe thead th {\n",
       "        text-align: right;\n",
       "    }\n",
       "<\/style>\n",
       "<table border=\"1\" class=\"dataframe\">\n",
       "  <thead>\n",
       "    <tr style=\"text-align: right;\">\n",
       "      <th><\/th>\n",
       "      <th>result_home<\/th>\n",
       "      <th>lb<\/th>\n",
       "      <th>ub<\/th>\n",
       "    <\/tr>\n",
       "  <\/thead>\n",
       "  <tbody>\n",
       "    <tr>\n",
       "      <th>0<\/th>\n",
       "      <td>Egypt<\/td>\n",
       "      <td>0.605104<\/td>\n",
       "      <td>0.720477<\/td>\n",
       "    <\/tr>\n",
       "    <tr>\n",
       "      <th>1<\/th>\n",
       "      <td>Greece<\/td>\n",
       "      <td>0.414514<\/td>\n",
       "      <td>0.533634<\/td>\n",
       "    <\/tr>\n",
       "    <tr>\n",
       "      <th>2<\/th>\n",
       "      <td>Portugal<\/td>\n",
       "      <td>0.517997<\/td>\n",
       "      <td>0.630652<\/td>\n",
       "    <\/tr>\n",
       "    <tr>\n",
       "      <th>3<\/th>\n",
       "      <td>United States<\/td>\n",
       "      <td>0.508992<\/td>\n",
       "      <td>0.604809<\/td>\n",
       "    <\/tr>\n",
       "    <tr>\n",
       "      <th>4<\/th>\n",
       "      <td>France<\/td>\n",
       "      <td>0.535082<\/td>\n",
       "      <td>0.625091<\/td>\n",
       "    <\/tr>\n",
       "    <tr>\n",
       "      <th>5<\/th>\n",
       "      <td>Malaysia<\/td>\n",
       "      <td>0.410109<\/td>\n",
       "      <td>0.528073<\/td>\n",
       "    <\/tr>\n",
       "    <tr>\n",
       "      <th>6<\/th>\n",
       "      <td>England<\/td>\n",
       "      <td>0.597145<\/td>\n",
       "      <td>0.681412<\/td>\n",
       "    <\/tr>\n",
       "    <tr>\n",
       "      <th>7<\/th>\n",
       "      <td>Sweden<\/td>\n",
       "      <td>0.550411<\/td>\n",
       "      <td>0.637995<\/td>\n",
       "    <\/tr>\n",
       "    <tr>\n",
       "      <th>8<\/th>\n",
       "      <td>Germany<\/td>\n",
       "      <td>0.580288<\/td>\n",
       "      <td>0.671444<\/td>\n",
       "    <\/tr>\n",
       "    <tr>\n",
       "      <th>9<\/th>\n",
       "      <td>Brazil<\/td>\n",
       "      <td>0.688459<\/td>\n",
       "      <td>0.780467<\/td>\n",
       "    <\/tr>\n",
       "    <tr>\n",
       "      <th>10<\/th>\n",
       "      <td>Qatar<\/td>\n",
       "      <td>0.460397<\/td>\n",
       "      <td>0.582074<\/td>\n",
       "    <\/tr>\n",
       "    <tr>\n",
       "      <th>11<\/th>\n",
       "      <td>Spain<\/td>\n",
       "      <td>0.621258<\/td>\n",
       "      <td>0.712076<\/td>\n",
       "    <\/tr>\n",
       "    <tr>\n",
       "      <th>12<\/th>\n",
       "      <td>United Arab Emirates<\/td>\n",
       "      <td>0.452941<\/td>\n",
       "      <td>0.581542<\/td>\n",
       "    <\/tr>\n",
       "    <tr>\n",
       "      <th>13<\/th>\n",
       "      <td>South Africa<\/td>\n",
       "      <td>0.468297<\/td>\n",
       "      <td>0.604166<\/td>\n",
       "    <\/tr>\n",
       "  <\/tbody>\n",
       "<\/table>\n",
       "<\/div>"
      ]
     },
     "metadata":{
      
     },
     "output_type":"display_data"
    }
   ],
   "metadata":{
    "datalore":{
     "type":"CODE",
     "hide_input_from_viewers":false,
     "hide_output_from_viewers":false
    }
   }
  },
  {
   "cell_type":"markdown",
   "source":[
    "# Statistical Comparison Between the Winning Countries in Football based on home matches"
   ],
   "attachments":{
    
   },
   "metadata":{
    "datalore":{
     "type":"MD",
     "hide_input_from_viewers":false,
     "hide_output_from_viewers":false
    }
   }
  },
  {
   "cell_type":"markdown",
   "source":[
    "In this part I will analyze the following grap. This graph shows the probability that the following 14 countries could win a match at home. I believe that the probability is high in this graph because usually a football team will have a higher probability to win if he is playing in stadium infront of their fans and at their home."
   ],
   "attachments":{
    
   },
   "metadata":{
    "datalore":{
     "type":"MD",
     "hide_input_from_viewers":false,
     "hide_output_from_viewers":false
    }
   }
  },
  {
   "cell_type":"code",
   "source":[
    "import matplotlib.pyplot as plt\n",
    "for lb,ub,y in zip(df_CI['lb'],df_CI['ub'],range(len(df_CI))):\n",
    "    plt.plot((lb,ub),(y,y),'ro-')\n",
    "plt.yticks(range(len(df_CI)),list(df_CI['result_home']))"
   ],
   "execution_count":98,
   "outputs":[
    {
     "data":{
      "text\/plain":[
       "([<matplotlib.axis.YTick at 0x7f7a06c31370>,\n",
       "  <matplotlib.axis.YTick at 0x7f7a06eebbb0>,\n",
       "  <matplotlib.axis.YTick at 0x7f7a06ed0f40>,\n",
       "  <matplotlib.axis.YTick at 0x7f7a06c10520>,\n",
       "  <matplotlib.axis.YTick at 0x7f7a06c10c70>,\n",
       "  <matplotlib.axis.YTick at 0x7f7a06c19400>,\n",
       "  <matplotlib.axis.YTick at 0x7f7a06c10d60>,\n",
       "  <matplotlib.axis.YTick at 0x7f7a06c19c70>,\n",
       "  <matplotlib.axis.YTick at 0x7f7a06c20130>,\n",
       "  <matplotlib.axis.YTick at 0x7f7a06c20880>,\n",
       "  <matplotlib.axis.YTick at 0x7f7a06c210a0>,\n",
       "  <matplotlib.axis.YTick at 0x7f7a06c21760>,\n",
       "  <matplotlib.axis.YTick at 0x7f7a06bab040>,\n",
       "  <matplotlib.axis.YTick at 0x7f7a06c21b50>],\n",
       " [Text(0, 0, 'Egypt'),\n",
       "  Text(0, 1, 'Greece'),\n",
       "  Text(0, 2, 'Portugal'),\n",
       "  Text(0, 3, 'United States'),\n",
       "  Text(0, 4, 'France'),\n",
       "  Text(0, 5, 'Malaysia'),\n",
       "  Text(0, 6, 'England'),\n",
       "  Text(0, 7, 'Sweden'),\n",
       "  Text(0, 8, 'Germany'),\n",
       "  Text(0, 9, 'Brazil'),\n",
       "  Text(0, 10, 'Qatar'),\n",
       "  Text(0, 11, 'Spain'),\n",
       "  Text(0, 12, 'United Arab Emirates'),\n",
       "  Text(0, 13, 'South Africa')])"
      ],
      "image\/png":"[encoded data removed]"
     },
     "metadata":{
      "image\/png":{
       
      }
     },
     "output_type":"display_data"
    }
   ],
   "metadata":{
    "datalore":{
     "type":"CODE",
     "hide_input_from_viewers":false,
     "hide_output_from_viewers":false
    }
   }
  },
  {
   "cell_type":"markdown",
   "source":[
    "below are some codes of home results and losing "
   ],
   "attachments":{
    
   },
   "metadata":{
    "datalore":{
     "type":"MD",
     "hide_input_from_viewers":false,
     "hide_output_from_viewers":false
    }
   }
  },
  {
   "cell_type":"code",
   "source":[
    "CI_egy=proportion_confint(count=43,nobs=258,alpha=(1-.95))\n",
    "CI_egy"
   ],
   "execution_count":99,
   "outputs":[
    {
     "data":{
      "text\/plain":[
       "(0.12119174183927744, 0.21214159149405587)"
      ]
     },
     "metadata":{
      
     },
     "output_type":"display_data"
    }
   ],
   "metadata":{
    "datalore":{
     "type":"CODE",
     "hide_input_from_viewers":false,
     "hide_output_from_viewers":false
    }
   }
  },
  {
   "cell_type":"code",
   "source":[
    "CI_gre=proportion_confint(count=81,nobs=270,alpha=(1-.95))\n",
    "CI_gre"
   ],
   "execution_count":100,
   "outputs":[
    {
     "data":{
      "text\/plain":[
       "(0.24533921602296285, 0.35466078397703715)"
      ]
     },
     "metadata":{
      
     },
     "output_type":"display_data"
    }
   ],
   "metadata":{
    "datalore":{
     "type":"CODE",
     "hide_input_from_viewers":false,
     "hide_output_from_viewers":false
    }
   }
  },
  {
   "cell_type":"code",
   "source":[
    "CI_por=proportion_confint(count=52,nobs=296,alpha=(1-.95))\n",
    "CI_por"
   ],
   "execution_count":101,
   "outputs":[
    {
     "data":{
      "text\/plain":[
       "(0.1323238781720271, 0.21902747317932428)"
      ]
     },
     "metadata":{
      
     },
     "output_type":"display_data"
    }
   ],
   "metadata":{
    "datalore":{
     "type":"CODE",
     "hide_input_from_viewers":false,
     "hide_output_from_viewers":false
    }
   }
  },
  {
   "cell_type":"code",
   "source":[
    "CI_usa=proportion_confint(count=92,nobs=413,alpha=(1-.95))\n",
    "CI_usa"
   ],
   "execution_count":102,
   "outputs":[
    {
     "data":{
      "text\/plain":[
       "(0.1826302643443685, 0.262890316769433)"
      ]
     },
     "metadata":{
      
     },
     "output_type":"display_data"
    }
   ],
   "metadata":{
    "datalore":{
     "type":"CODE",
     "hide_input_from_viewers":false,
     "hide_output_from_viewers":false
    }
   }
  },
  {
   "cell_type":"code",
   "source":[
    "CI_fr=proportion_confint(count=99,nobs=462,alpha=(1-.95))\n",
    "CI_fr"
   ],
   "execution_count":103,
   "outputs":[
    {
     "data":{
      "text\/plain":[
       "(0.17686982795630007, 0.2517016006151285)"
      ]
     },
     "metadata":{
      
     },
     "output_type":"display_data"
    }
   ],
   "metadata":{
    "datalore":{
     "type":"CODE",
     "hide_input_from_viewers":false,
     "hide_output_from_viewers":false
    }
   }
  },
  {
   "cell_type":"code",
   "source":[
    "CI_my=proportion_confint(count=77,nobs=275,alpha=(1-.95))\n",
    "CI_my"
   ],
   "execution_count":104,
   "outputs":[
    {
     "data":{
      "text\/plain":[
       "(0.22693269802318997, 0.33306730197681006)"
      ]
     },
     "metadata":{
      
     },
     "output_type":"display_data"
    }
   ],
   "metadata":{
    "datalore":{
     "type":"CODE",
     "hide_input_from_viewers":false,
     "hide_output_from_viewers":false
    }
   }
  },
  {
   "cell_type":"code",
   "source":[
    "CI_eng=proportion_confint(count=75,nobs=499,alpha=(1-.95))\n",
    "CI_eng"
   ],
   "execution_count":105,
   "outputs":[
    {
     "data":{
      "text\/plain":[
       "(0.11894531042786341, 0.18165589197694623)"
      ]
     },
     "metadata":{
      
     },
     "output_type":"display_data"
    }
   ],
   "metadata":{
    "datalore":{
     "type":"CODE",
     "hide_input_from_viewers":false,
     "hide_output_from_viewers":false
    }
   }
  },
  {
   "cell_type":"code",
   "source":[
    "CI_se=proportion_confint(count=99,nobs=483,alpha=(1-.95))\n",
    "CI_se"
   ],
   "execution_count":106,
   "outputs":[
    {
     "data":{
      "text\/plain":[
       "(0.1689682723602105, 0.24096961583854726)"
      ]
     },
     "metadata":{
      
     },
     "output_type":"display_data"
    }
   ],
   "metadata":{
    "datalore":{
     "type":"CODE",
     "hide_input_from_viewers":false,
     "hide_output_from_viewers":false
    }
   }
  },
  {
   "cell_type":"code",
   "source":[
    "CI_ger=proportion_confint(count=73,nobs=433,alpha=(1-.95))\n",
    "CI_ger"
   ],
   "execution_count":107,
   "outputs":[
    {
     "data":{
      "text\/plain":[
       "(0.13332743886070297, 0.20385500917624855)"
      ]
     },
     "metadata":{
      
     },
     "output_type":"display_data"
    }
   ],
   "metadata":{
    "datalore":{
     "type":"CODE",
     "hide_input_from_viewers":false,
     "hide_output_from_viewers":false
    }
   }
  },
  {
   "cell_type":"code",
   "source":[
    "CI_sp=proportion_confint(count=57,nobs=414,alpha=(1-.95))\n",
    "CI_sp"
   ],
   "execution_count":108,
   "outputs":[
    {
     "data":{
      "text\/plain":[
       "(0.10449025281780361, 0.1708720660227761)"
      ]
     },
     "metadata":{
      
     },
     "output_type":"display_data"
    }
   ],
   "metadata":{
    "datalore":{
     "type":"CODE",
     "hide_input_from_viewers":false,
     "hide_output_from_viewers":false
    }
   }
  },
  {
   "cell_type":"code",
   "source":[
    "CI_uae=proportion_confint(count=54,nobs=232,alpha=(1-.95))\n",
    "CI_uae"
   ],
   "execution_count":109,
   "outputs":[
    {
     "data":{
      "text\/plain":[
       "(0.1783806501924808, 0.2871365911868295)"
      ]
     },
     "metadata":{
      
     },
     "output_type":"display_data"
    }
   ],
   "metadata":{
    "datalore":{
     "type":"CODE",
     "hide_input_from_viewers":false,
     "hide_output_from_viewers":false
    }
   }
  },
  {
   "cell_type":"code",
   "source":[
    "CI_sa=proportion_confint(count=39,nobs=207,alpha=(1-.95))\n",
    "CI_sa"
   ],
   "execution_count":110,
   "outputs":[
    {
     "data":{
      "text\/plain":[
       "(0.13513618710244651, 0.24167540710045204)"
      ]
     },
     "metadata":{
      
     },
     "output_type":"display_data"
    }
   ],
   "metadata":{
    "datalore":{
     "type":"CODE",
     "hide_input_from_viewers":false,
     "hide_output_from_viewers":false
    }
   }
  },
  {
   "cell_type":"code",
   "source":[
    "CI_country = {}\n",
    "CI_country['result_home'] = ['Egypt','Greece','Portugal','United States','France','Malaysia','England','Sweden','Germany','Brazil','Qatar','Spain','United Arab Emirates','South Africa']\n",
    "CI_country['lb'] = [CI_egy[0],CI_gre[0],CI_por[0],CI_usa[0],CI_fr[0],CI_my[0],CI_eng[0],CI_se[0],CI_ger[0],CI_bra[0],CI_qtr[0],CI_sp[0],CI_uae[0],CI_sa[0]]\n",
    "CI_country['ub'] = [CI_egy[1],CI_gre[1],CI_por[1],CI_usa[1],CI_fr[1],CI_my[1],CI_eng[1],CI_se[1],CI_ger[1],CI_bra[1],CI_qtr[1],CI_sp[1],CI_uae[1],CI_sa[1]]\n",
    "df_CI= pd.DataFrame(CI_country)\n",
    "df_CI"
   ],
   "execution_count":111,
   "outputs":[
    {
     "data":{
      "text\/html":[
       "<div>\n",
       "<style scoped>\n",
       "    .dataframe tbody tr th:only-of-type {\n",
       "        vertical-align: middle;\n",
       "    }\n",
       "\n",
       "    .dataframe tbody tr th {\n",
       "        vertical-align: top;\n",
       "    }\n",
       "\n",
       "    .dataframe thead th {\n",
       "        text-align: right;\n",
       "    }\n",
       "<\/style>\n",
       "<table border=\"1\" class=\"dataframe\">\n",
       "  <thead>\n",
       "    <tr style=\"text-align: right;\">\n",
       "      <th><\/th>\n",
       "      <th>result_home<\/th>\n",
       "      <th>lb<\/th>\n",
       "      <th>ub<\/th>\n",
       "    <\/tr>\n",
       "  <\/thead>\n",
       "  <tbody>\n",
       "    <tr>\n",
       "      <th>0<\/th>\n",
       "      <td>Egypt<\/td>\n",
       "      <td>0.121192<\/td>\n",
       "      <td>0.212142<\/td>\n",
       "    <\/tr>\n",
       "    <tr>\n",
       "      <th>1<\/th>\n",
       "      <td>Greece<\/td>\n",
       "      <td>0.245339<\/td>\n",
       "      <td>0.354661<\/td>\n",
       "    <\/tr>\n",
       "    <tr>\n",
       "      <th>2<\/th>\n",
       "      <td>Portugal<\/td>\n",
       "      <td>0.132324<\/td>\n",
       "      <td>0.219027<\/td>\n",
       "    <\/tr>\n",
       "    <tr>\n",
       "      <th>3<\/th>\n",
       "      <td>United States<\/td>\n",
       "      <td>0.182630<\/td>\n",
       "      <td>0.262890<\/td>\n",
       "    <\/tr>\n",
       "    <tr>\n",
       "      <th>4<\/th>\n",
       "      <td>France<\/td>\n",
       "      <td>0.176870<\/td>\n",
       "      <td>0.251702<\/td>\n",
       "    <\/tr>\n",
       "    <tr>\n",
       "      <th>5<\/th>\n",
       "      <td>Malaysia<\/td>\n",
       "      <td>0.226933<\/td>\n",
       "      <td>0.333067<\/td>\n",
       "    <\/tr>\n",
       "    <tr>\n",
       "      <th>6<\/th>\n",
       "      <td>England<\/td>\n",
       "      <td>0.118945<\/td>\n",
       "      <td>0.181656<\/td>\n",
       "    <\/tr>\n",
       "    <tr>\n",
       "      <th>7<\/th>\n",
       "      <td>Sweden<\/td>\n",
       "      <td>0.168968<\/td>\n",
       "      <td>0.240970<\/td>\n",
       "    <\/tr>\n",
       "    <tr>\n",
       "      <th>8<\/th>\n",
       "      <td>Germany<\/td>\n",
       "      <td>0.133327<\/td>\n",
       "      <td>0.203855<\/td>\n",
       "    <\/tr>\n",
       "    <tr>\n",
       "      <th>9<\/th>\n",
       "      <td>Brazil<\/td>\n",
       "      <td>0.688459<\/td>\n",
       "      <td>0.780467<\/td>\n",
       "    <\/tr>\n",
       "    <tr>\n",
       "      <th>10<\/th>\n",
       "      <td>Qatar<\/td>\n",
       "      <td>0.460397<\/td>\n",
       "      <td>0.582074<\/td>\n",
       "    <\/tr>\n",
       "    <tr>\n",
       "      <th>11<\/th>\n",
       "      <td>Spain<\/td>\n",
       "      <td>0.104490<\/td>\n",
       "      <td>0.170872<\/td>\n",
       "    <\/tr>\n",
       "    <tr>\n",
       "      <th>12<\/th>\n",
       "      <td>United Arab Emirates<\/td>\n",
       "      <td>0.178381<\/td>\n",
       "      <td>0.287137<\/td>\n",
       "    <\/tr>\n",
       "    <tr>\n",
       "      <th>13<\/th>\n",
       "      <td>South Africa<\/td>\n",
       "      <td>0.135136<\/td>\n",
       "      <td>0.241675<\/td>\n",
       "    <\/tr>\n",
       "  <\/tbody>\n",
       "<\/table>\n",
       "<\/div>"
      ]
     },
     "metadata":{
      
     },
     "output_type":"display_data"
    }
   ],
   "metadata":{
    "datalore":{
     "type":"CODE",
     "hide_input_from_viewers":false,
     "hide_output_from_viewers":false
    }
   }
  },
  {
   "cell_type":"markdown",
   "source":[
    "# Statistical Comparison Between the losing Countries in Football based on home matches"
   ],
   "attachments":{
    
   },
   "metadata":{
    "datalore":{
     "type":"MD",
     "hide_input_from_viewers":false,
     "hide_output_from_viewers":false
    }
   }
  },
  {
   "cell_type":"markdown",
   "source":[
    "In this part I will analyze the following grap. This graph shows the probability that the following 14 countries could lose a match at home. I believe that the probability is low for most of the countries in this graph because usually a football team will have a higher probability to win if he is playing in stadium infront of their fans and at their home."
   ],
   "attachments":{
    
   },
   "metadata":{
    "datalore":{
     "type":"MD",
     "hide_input_from_viewers":false,
     "hide_output_from_viewers":false
    }
   }
  },
  {
   "cell_type":"code",
   "source":[
    "import matplotlib.pyplot as plt\n",
    "for lb,ub,y in zip(df_CI['lb'],df_CI['ub'],range(len(df_CI))):\n",
    "    plt.plot((lb,ub),(y,y),'ro-')\n",
    "plt.yticks(range(len(df_CI)),list(df_CI['result_home']))"
   ],
   "execution_count":112,
   "outputs":[
    {
     "data":{
      "text\/plain":[
       "([<matplotlib.axis.YTick at 0x7f7a04b04250>,\n",
       "  <matplotlib.axis.YTick at 0x7f7a04af5a90>,\n",
       "  <matplotlib.axis.YTick at 0x7f7a04afc9d0>,\n",
       "  <matplotlib.axis.YTick at 0x7f7a04aca430>,\n",
       "  <matplotlib.axis.YTick at 0x7f7a04acab80>,\n",
       "  <matplotlib.axis.YTick at 0x7f7a04ad1310>,\n",
       "  <matplotlib.axis.YTick at 0x7f7a04acae50>,\n",
       "  <matplotlib.axis.YTick at 0x7f7a04ad1940>,\n",
       "  <matplotlib.axis.YTick at 0x7f7a04ad7040>,\n",
       "  <matplotlib.axis.YTick at 0x7f7a04ad7790>,\n",
       "  <matplotlib.axis.YTick at 0x7f7a04adf040>,\n",
       "  <matplotlib.axis.YTick at 0x7f7a04adf670>,\n",
       "  <matplotlib.axis.YTick at 0x7f7a04adfdc0>,\n",
       "  <matplotlib.axis.YTick at 0x7f7a04adfa60>],\n",
       " [Text(0, 0, 'Egypt'),\n",
       "  Text(0, 1, 'Greece'),\n",
       "  Text(0, 2, 'Portugal'),\n",
       "  Text(0, 3, 'United States'),\n",
       "  Text(0, 4, 'France'),\n",
       "  Text(0, 5, 'Malaysia'),\n",
       "  Text(0, 6, 'England'),\n",
       "  Text(0, 7, 'Sweden'),\n",
       "  Text(0, 8, 'Germany'),\n",
       "  Text(0, 9, 'Brazil'),\n",
       "  Text(0, 10, 'Qatar'),\n",
       "  Text(0, 11, 'Spain'),\n",
       "  Text(0, 12, 'United Arab Emirates'),\n",
       "  Text(0, 13, 'South Africa')])"
      ],
      "image\/png":"[encoded data removed]"
     },
     "metadata":{
      "image\/png":{
       
      }
     },
     "output_type":"display_data"
    }
   ],
   "metadata":{
    "datalore":{
     "type":"CODE",
     "hide_input_from_viewers":false,
     "hide_output_from_viewers":false
    }
   }
  },
  {
   "cell_type":"code",
   "source":[
    "import numpy as np"
   ],
   "execution_count":113,
   "outputs":[
    
   ],
   "metadata":{
    "datalore":{
     "type":"CODE",
     "hide_input_from_viewers":false,
     "hide_output_from_viewers":false
    }
   }
  },
  {
   "cell_type":"code",
   "source":[
    "import statsmodels.api as sm\n",
    "from statsmodels.stats.proportion import proportion_confint"
   ],
   "execution_count":114,
   "outputs":[
    
   ],
   "metadata":{
    "datalore":{
     "type":"CODE",
     "hide_input_from_viewers":false,
     "hide_output_from_viewers":false
    }
   }
  },
  {
   "cell_type":"code",
   "source":[
    "dfbra=df[df['country']=='Brazil']"
   ],
   "execution_count":115,
   "outputs":[
    
   ],
   "metadata":{
    "datalore":{
     "type":"CODE",
     "hide_input_from_viewers":false,
     "hide_output_from_viewers":false
    }
   }
  },
  {
   "cell_type":"code",
   "source":[
    "dfbra.head()"
   ],
   "execution_count":116,
   "outputs":[
    {
     "data":{
      "text\/html":[
       "<div>\n",
       "<style scoped>\n",
       "    .dataframe tbody tr th:only-of-type {\n",
       "        vertical-align: middle;\n",
       "    }\n",
       "\n",
       "    .dataframe tbody tr th {\n",
       "        vertical-align: top;\n",
       "    }\n",
       "\n",
       "    .dataframe thead th {\n",
       "        text-align: right;\n",
       "    }\n",
       "<\/style>\n",
       "<table border=\"1\" class=\"dataframe\">\n",
       "  <thead>\n",
       "    <tr style=\"text-align: right;\">\n",
       "      <th><\/th>\n",
       "      <th>date<\/th>\n",
       "      <th>home_team<\/th>\n",
       "      <th>away_team<\/th>\n",
       "      <th>home_score<\/th>\n",
       "      <th>away_score<\/th>\n",
       "      <th>tournament<\/th>\n",
       "      <th>city<\/th>\n",
       "      <th>country<\/th>\n",
       "      <th>neutral<\/th>\n",
       "      <th>result_home<\/th>\n",
       "    <\/tr>\n",
       "  <\/thead>\n",
       "  <tbody>\n",
       "    <tr>\n",
       "      <th>503<\/th>\n",
       "      <td>5\/11\/1919<\/td>\n",
       "      <td>Brazil<\/td>\n",
       "      <td>Chile<\/td>\n",
       "      <td>6<\/td>\n",
       "      <td>0<\/td>\n",
       "      <td>Copa América<\/td>\n",
       "      <td>Rio de Janeiro<\/td>\n",
       "      <td>Brazil<\/td>\n",
       "      <td>False<\/td>\n",
       "      <td>win<\/td>\n",
       "    <\/tr>\n",
       "    <tr>\n",
       "      <th>505<\/th>\n",
       "      <td>5\/13\/1919<\/td>\n",
       "      <td>Argentina<\/td>\n",
       "      <td>Uruguay<\/td>\n",
       "      <td>2<\/td>\n",
       "      <td>3<\/td>\n",
       "      <td>Copa América<\/td>\n",
       "      <td>Rio de Janeiro<\/td>\n",
       "      <td>Brazil<\/td>\n",
       "      <td>True<\/td>\n",
       "      <td>lose<\/td>\n",
       "    <\/tr>\n",
       "    <tr>\n",
       "      <th>507<\/th>\n",
       "      <td>5\/17\/1919<\/td>\n",
       "      <td>Chile<\/td>\n",
       "      <td>Uruguay<\/td>\n",
       "      <td>0<\/td>\n",
       "      <td>2<\/td>\n",
       "      <td>Copa América<\/td>\n",
       "      <td>Rio de Janeiro<\/td>\n",
       "      <td>Brazil<\/td>\n",
       "      <td>True<\/td>\n",
       "      <td>lose<\/td>\n",
       "    <\/tr>\n",
       "    <tr>\n",
       "      <th>508<\/th>\n",
       "      <td>5\/18\/1919<\/td>\n",
       "      <td>Brazil<\/td>\n",
       "      <td>Argentina<\/td>\n",
       "      <td>3<\/td>\n",
       "      <td>1<\/td>\n",
       "      <td>Copa América<\/td>\n",
       "      <td>Rio de Janeiro<\/td>\n",
       "      <td>Brazil<\/td>\n",
       "      <td>False<\/td>\n",
       "      <td>win<\/td>\n",
       "    <\/tr>\n",
       "    <tr>\n",
       "      <th>510<\/th>\n",
       "      <td>5\/22\/1919<\/td>\n",
       "      <td>Argentina<\/td>\n",
       "      <td>Chile<\/td>\n",
       "      <td>4<\/td>\n",
       "      <td>1<\/td>\n",
       "      <td>Copa América<\/td>\n",
       "      <td>Rio de Janeiro<\/td>\n",
       "      <td>Brazil<\/td>\n",
       "      <td>True<\/td>\n",
       "      <td>win<\/td>\n",
       "    <\/tr>\n",
       "  <\/tbody>\n",
       "<\/table>\n",
       "<\/div>"
      ]
     },
     "metadata":{
      
     },
     "output_type":"display_data"
    }
   ],
   "metadata":{
    "datalore":{
     "type":"CODE",
     "hide_input_from_viewers":false,
     "hide_output_from_viewers":false
    }
   }
  },
  {
   "cell_type":"code",
   "source":[
    "\n",
    "conditions = [\n",
    "    (dfbra['tournament']=='Friendly'),\n",
    "    (dfbra['tournament']=='Copa América'),\n",
    "    (dfbra['tournament']=='FIFA World Cup qualification')\n",
    "    ]"
   ],
   "execution_count":117,
   "outputs":[
    
   ],
   "metadata":{
    "datalore":{
     "type":"CODE",
     "hide_input_from_viewers":false,
     "hide_output_from_viewers":false
    }
   }
  },
  {
   "cell_type":"code",
   "source":[
    "values=['Friendly','Copa América','FIFA World Cup qualification']\n"
   ],
   "execution_count":118,
   "outputs":[
    
   ],
   "metadata":{
    "datalore":{
     "type":"CODE",
     "hide_input_from_viewers":false,
     "hide_output_from_viewers":false
    }
   }
  },
  {
   "cell_type":"code",
   "source":[
    "dfbra['typematch'] = np.select(conditions, values)"
   ],
   "execution_count":119,
   "outputs":[
    {
     "name":"stderr",
     "text":[
      "<ipython-input-119-8c959ec913db>:1: SettingWithCopyWarning: \n",
      "A value is trying to be set on a copy of a slice from a DataFrame.\n",
      "Try using .loc[row_indexer,col_indexer] = value instead\n",
      "\n",
      "See the caveats in the documentation: https:\/\/pandas.pydata.org\/pandas-docs\/stable\/user_guide\/indexing.html#returning-a-view-versus-a-copy\n",
      "  dfbra['typematch'] = np.select(conditions, values)\n"
     ],
     "output_type":"stream"
    }
   ],
   "metadata":{
    "datalore":{
     "type":"CODE",
     "hide_input_from_viewers":false,
     "hide_output_from_viewers":false
    }
   }
  },
  {
   "cell_type":"code",
   "source":[
    "dfbra['typematch'].value_counts()"
   ],
   "execution_count":120,
   "outputs":[
    {
     "data":{
      "text\/html":[
       
      ]
     },
     "metadata":{
      
     },
     "output_type":"display_data"
    }
   ],
   "metadata":{
    "datalore":{
     "type":"CODE",
     "hide_input_from_viewers":false,
     "hide_output_from_viewers":false
    }
   }
  },
  {
   "cell_type":"code",
   "source":[
    "x=pd.crosstab(dfbra['typematch'],dfbra['result_home'],margins=True)\n",
    "x"
   ],
   "execution_count":121,
   "outputs":[
    {
     "data":{
      "text\/html":[
       "<div>\n",
       "<style scoped>\n",
       "    .dataframe tbody tr th:only-of-type {\n",
       "        vertical-align: middle;\n",
       "    }\n",
       "\n",
       "    .dataframe tbody tr th {\n",
       "        vertical-align: top;\n",
       "    }\n",
       "\n",
       "    .dataframe thead th {\n",
       "        text-align: right;\n",
       "    }\n",
       "<\/style>\n",
       "<table border=\"1\" class=\"dataframe\">\n",
       "  <thead>\n",
       "    <tr style=\"text-align: right;\">\n",
       "      <th>result_home<\/th>\n",
       "      <th>draw<\/th>\n",
       "      <th>lose<\/th>\n",
       "      <th>win<\/th>\n",
       "      <th>All<\/th>\n",
       "    <\/tr>\n",
       "    <tr>\n",
       "      <th>typematch<\/th>\n",
       "      <th><\/th>\n",
       "      <th><\/th>\n",
       "      <th><\/th>\n",
       "      <th><\/th>\n",
       "    <\/tr>\n",
       "  <\/thead>\n",
       "  <tbody>\n",
       "    <tr>\n",
       "      <th>0<\/th>\n",
       "      <td>32<\/td>\n",
       "      <td>62<\/td>\n",
       "      <td>82<\/td>\n",
       "      <td>176<\/td>\n",
       "    <\/tr>\n",
       "    <tr>\n",
       "      <th>Copa América<\/th>\n",
       "      <td>36<\/td>\n",
       "      <td>41<\/td>\n",
       "      <td>60<\/td>\n",
       "      <td>137<\/td>\n",
       "    <\/tr>\n",
       "    <tr>\n",
       "      <th>FIFA World Cup qualification<\/th>\n",
       "      <td>12<\/td>\n",
       "      <td>0<\/td>\n",
       "      <td>48<\/td>\n",
       "      <td>60<\/td>\n",
       "    <\/tr>\n",
       "    <tr>\n",
       "      <th>Friendly<\/th>\n",
       "      <td>38<\/td>\n",
       "      <td>10<\/td>\n",
       "      <td>146<\/td>\n",
       "      <td>194<\/td>\n",
       "    <\/tr>\n",
       "    <tr>\n",
       "      <th>All<\/th>\n",
       "      <td>118<\/td>\n",
       "      <td>113<\/td>\n",
       "      <td>336<\/td>\n",
       "      <td>567<\/td>\n",
       "    <\/tr>\n",
       "  <\/tbody>\n",
       "<\/table>\n",
       "<\/div>"
      ]
     },
     "metadata":{
      
     },
     "output_type":"display_data"
    }
   ],
   "metadata":{
    "datalore":{
     "type":"CODE",
     "hide_input_from_viewers":false,
     "hide_output_from_viewers":false
    }
   }
  },
  {
   "cell_type":"code",
   "source":[
    "CI_brawin_friendly=proportion_confint(count=146,nobs=194,alpha=(1-.95))\n",
    "CI_brawin_friendly\n",
    "                       "
   ],
   "execution_count":122,
   "outputs":[
    {
     "data":{
      "text\/plain":[
       "(0.6918558124106731, 0.8132988267645846)"
      ]
     },
     "metadata":{
      
     },
     "output_type":"display_data"
    }
   ],
   "metadata":{
    "datalore":{
     "type":"CODE",
     "hide_input_from_viewers":false,
     "hide_output_from_viewers":false
    }
   }
  },
  {
   "cell_type":"code",
   "source":[
    "CI_brawin_CopaAmérica=proportion_confint(count=60,nobs=137,alpha=(1-.95))\n",
    "CI_brawin_CopaAmérica"
   ],
   "execution_count":123,
   "outputs":[
    {
     "data":{
      "text\/plain":[
       "(0.354877784454012, 0.521034624305112)"
      ]
     },
     "metadata":{
      
     },
     "output_type":"display_data"
    }
   ],
   "metadata":{
    "datalore":{
     "type":"CODE",
     "hide_input_from_viewers":false,
     "hide_output_from_viewers":false
    }
   }
  },
  {
   "cell_type":"code",
   "source":[
    "CI_brawin_Worldcup=proportion_confint(count=48,nobs=60,alpha=(1-.95))\n",
    "CI_brawin_Worldcup"
   ],
   "execution_count":124,
   "outputs":[
    {
     "data":{
      "text\/plain":[
       "(0.6987878950494673, 0.9012121049505328)"
      ]
     },
     "metadata":{
      
     },
     "output_type":"display_data"
    }
   ],
   "metadata":{
    "datalore":{
     "type":"CODE",
     "hide_input_from_viewers":false,
     "hide_output_from_viewers":false
    }
   }
  },
  {
   "cell_type":"code",
   "source":[
    "ci_brawin = {}\n",
    "ci_brawin['Typematch'] = ['Friendly','Copa América','FIFA World Cup qualification']\n",
    "ci_brawin['lb'] = [CI_brawin_friendly[0],CI_brawin_CopaAmérica[0],CI_brawin_Worldcup[0]]\n",
    "ci_brawin['ub'] = [CI_brawin_friendly[1],CI_brawin_CopaAmérica[1],CI_brawin_Worldcup[1]]\n",
    "df_ci= pd.DataFrame(ci_brawin)\n",
    "df_ci"
   ],
   "execution_count":125,
   "outputs":[
    {
     "data":{
      "text\/html":[
       "<div>\n",
       "<style scoped>\n",
       "    .dataframe tbody tr th:only-of-type {\n",
       "        vertical-align: middle;\n",
       "    }\n",
       "\n",
       "    .dataframe tbody tr th {\n",
       "        vertical-align: top;\n",
       "    }\n",
       "\n",
       "    .dataframe thead th {\n",
       "        text-align: right;\n",
       "    }\n",
       "<\/style>\n",
       "<table border=\"1\" class=\"dataframe\">\n",
       "  <thead>\n",
       "    <tr style=\"text-align: right;\">\n",
       "      <th><\/th>\n",
       "      <th>Typematch<\/th>\n",
       "      <th>lb<\/th>\n",
       "      <th>ub<\/th>\n",
       "    <\/tr>\n",
       "  <\/thead>\n",
       "  <tbody>\n",
       "    <tr>\n",
       "      <th>0<\/th>\n",
       "      <td>Friendly<\/td>\n",
       "      <td>0.691856<\/td>\n",
       "      <td>0.813299<\/td>\n",
       "    <\/tr>\n",
       "    <tr>\n",
       "      <th>1<\/th>\n",
       "      <td>Copa América<\/td>\n",
       "      <td>0.354878<\/td>\n",
       "      <td>0.521035<\/td>\n",
       "    <\/tr>\n",
       "    <tr>\n",
       "      <th>2<\/th>\n",
       "      <td>FIFA World Cup qualification<\/td>\n",
       "      <td>0.698788<\/td>\n",
       "      <td>0.901212<\/td>\n",
       "    <\/tr>\n",
       "  <\/tbody>\n",
       "<\/table>\n",
       "<\/div>"
      ]
     },
     "metadata":{
      
     },
     "output_type":"display_data"
    }
   ],
   "metadata":{
    "datalore":{
     "type":"CODE",
     "hide_input_from_viewers":false,
     "hide_output_from_viewers":false
    }
   }
  },
  {
   "cell_type":"markdown",
   "source":[
    "# Statistical Analysis of Football Matches Over the World and Comparing the Winning Countries with different competitions "
   ],
   "attachments":{
    
   },
   "metadata":{
    "datalore":{
     "type":"MD",
     "hide_input_from_viewers":false,
     "hide_output_from_viewers":false
    }
   }
  },
  {
   "cell_type":"markdown",
   "source":[
    "In this part I will analyze the following graph. This graph shows the probability that Brazil could win a match in different types of tournaments such as the following: Friendly matches, Copa América and FIFA World Cup qualification. I think the probability of winning Friendly matches is high because it is brazil with the best players in the world. As you can see their world cup qualifications wins are also very high since they are the only country that qualified to all world cups and the country with most world cup wins with 5 championships including 3 consecitive ones."
   ],
   "attachments":{
    
   },
   "metadata":{
    "datalore":{
     "type":"MD",
     "hide_input_from_viewers":false,
     "hide_output_from_viewers":false
    }
   }
  },
  {
   "cell_type":"code",
   "source":[
    "import matplotlib.pyplot as plt\n",
    "for lb,ub,y in zip(df_ci['lb'],df_ci['ub'],range(len(df_ci))):\n",
    "    plt.plot((lb,ub),(y,y),'ro-')\n",
    "plt.yticks(range(len(df_ci)),list(df_ci['Typematch']))"
   ],
   "execution_count":126,
   "outputs":[
    {
     "data":{
      "text\/plain":[
       "([<matplotlib.axis.YTick at 0x7f7a049f8550>,\n",
       "  <matplotlib.axis.YTick at 0x7f7a049eed90>,\n",
       "  <matplotlib.axis.YTick at 0x7f7a04affd00>],\n",
       " [Text(0, 0, 'Friendly'),\n",
       "  Text(0, 1, 'Copa América'),\n",
       "  Text(0, 2, 'FIFA World Cup qualification')])"
      ],
      "image\/png":"[encoded data removed]"
     },
     "metadata":{
      "image\/png":{
       
      }
     },
     "output_type":"display_data"
    }
   ],
   "metadata":{
    "datalore":{
     "type":"CODE",
     "hide_input_from_viewers":false,
     "hide_output_from_viewers":false
    }
   }
  },
  {
   "cell_type":"markdown",
   "source":[
    "# Part II"
   ],
   "attachments":{
    
   },
   "metadata":{
    "datalore":{
     "type":"MD",
     "hide_input_from_viewers":false,
     "hide_output_from_viewers":false
    }
   }
  },
  {
   "cell_type":"code",
   "source":[
    "import numpy as np"
   ],
   "execution_count":127,
   "outputs":[
    
   ],
   "metadata":{
    "datalore":{
     "type":"CODE",
     "hide_input_from_viewers":false,
     "hide_output_from_viewers":false
    }
   }
  },
  {
   "cell_type":"code",
   "source":[
    "df=pd.read_csv('covid_data.csv',encoding='latin-1')"
   ],
   "execution_count":128,
   "outputs":[
    
   ],
   "metadata":{
    "datalore":{
     "type":"CODE",
     "hide_input_from_viewers":false,
     "hide_output_from_viewers":false
    }
   }
  },
  {
   "cell_type":"code",
   "source":[
    "df"
   ],
   "execution_count":129,
   "outputs":[
    {
     "data":{
      "text\/html":[
       "<div>\n",
       "<style scoped>\n",
       "    .dataframe tbody tr th:only-of-type {\n",
       "        vertical-align: middle;\n",
       "    }\n",
       "\n",
       "    .dataframe tbody tr th {\n",
       "        vertical-align: top;\n",
       "    }\n",
       "\n",
       "    .dataframe thead th {\n",
       "        text-align: right;\n",
       "    }\n",
       "<\/style>\n",
       "<table border=\"1\" class=\"dataframe\">\n",
       "  <thead>\n",
       "    <tr style=\"text-align: right;\">\n",
       "      <th><\/th>\n",
       "      <th>date<\/th>\n",
       "      <th>iso3c<\/th>\n",
       "      <th>country<\/th>\n",
       "      <th>income<\/th>\n",
       "      <th>region<\/th>\n",
       "      <th>continent<\/th>\n",
       "      <th>dcases<\/th>\n",
       "      <th>ddeaths<\/th>\n",
       "      <th>population<\/th>\n",
       "      <th>weekdays<\/th>\n",
       "      <th>month<\/th>\n",
       "    <\/tr>\n",
       "  <\/thead>\n",
       "  <tbody>\n",
       "    <tr>\n",
       "      <th>0<\/th>\n",
       "      <td>2020-02-24<\/td>\n",
       "      <td>AFG<\/td>\n",
       "      <td>Afghanistan<\/td>\n",
       "      <td>Low income<\/td>\n",
       "      <td>South Asia<\/td>\n",
       "      <td>Asia<\/td>\n",
       "      <td>5<\/td>\n",
       "      <td>0<\/td>\n",
       "      <td>38041754<\/td>\n",
       "      <td>Mon<\/td>\n",
       "      <td>Feb<\/td>\n",
       "    <\/tr>\n",
       "    <tr>\n",
       "      <th>1<\/th>\n",
       "      <td>2020-02-25<\/td>\n",
       "      <td>AFG<\/td>\n",
       "      <td>Afghanistan<\/td>\n",
       "      <td>Low income<\/td>\n",
       "      <td>South Asia<\/td>\n",
       "      <td>Asia<\/td>\n",
       "      <td>0<\/td>\n",
       "      <td>0<\/td>\n",
       "      <td>38041754<\/td>\n",
       "      <td>Tue<\/td>\n",
       "      <td>Feb<\/td>\n",
       "    <\/tr>\n",
       "    <tr>\n",
       "      <th>2<\/th>\n",
       "      <td>2020-02-26<\/td>\n",
       "      <td>AFG<\/td>\n",
       "      <td>Afghanistan<\/td>\n",
       "      <td>Low income<\/td>\n",
       "      <td>South Asia<\/td>\n",
       "      <td>Asia<\/td>\n",
       "      <td>0<\/td>\n",
       "      <td>0<\/td>\n",
       "      <td>38041754<\/td>\n",
       "      <td>Wed<\/td>\n",
       "      <td>Feb<\/td>\n",
       "    <\/tr>\n",
       "    <tr>\n",
       "      <th>3<\/th>\n",
       "      <td>2020-02-27<\/td>\n",
       "      <td>AFG<\/td>\n",
       "      <td>Afghanistan<\/td>\n",
       "      <td>Low income<\/td>\n",
       "      <td>South Asia<\/td>\n",
       "      <td>Asia<\/td>\n",
       "      <td>0<\/td>\n",
       "      <td>0<\/td>\n",
       "      <td>38041754<\/td>\n",
       "      <td>Thu<\/td>\n",
       "      <td>Feb<\/td>\n",
       "    <\/tr>\n",
       "    <tr>\n",
       "      <th>4<\/th>\n",
       "      <td>2020-02-28<\/td>\n",
       "      <td>AFG<\/td>\n",
       "      <td>Afghanistan<\/td>\n",
       "      <td>Low income<\/td>\n",
       "      <td>South Asia<\/td>\n",
       "      <td>Asia<\/td>\n",
       "      <td>0<\/td>\n",
       "      <td>0<\/td>\n",
       "      <td>38041754<\/td>\n",
       "      <td>Fri<\/td>\n",
       "      <td>Feb<\/td>\n",
       "    <\/tr>\n",
       "    <tr>\n",
       "      <th>...<\/th>\n",
       "      <td>...<\/td>\n",
       "      <td>...<\/td>\n",
       "      <td>...<\/td>\n",
       "      <td>...<\/td>\n",
       "      <td>...<\/td>\n",
       "      <td>...<\/td>\n",
       "      <td>...<\/td>\n",
       "      <td>...<\/td>\n",
       "      <td>...<\/td>\n",
       "      <td>...<\/td>\n",
       "      <td>...<\/td>\n",
       "    <\/tr>\n",
       "    <tr>\n",
       "      <th>122838<\/th>\n",
       "      <td>2021-12-27<\/td>\n",
       "      <td>ZWE<\/td>\n",
       "      <td>Zimbabwe<\/td>\n",
       "      <td>Lower middle income<\/td>\n",
       "      <td>Sub-Saharan Africa<\/td>\n",
       "      <td>Africa<\/td>\n",
       "      <td>1098<\/td>\n",
       "      <td>17<\/td>\n",
       "      <td>14645468<\/td>\n",
       "      <td>Mon<\/td>\n",
       "      <td>Dec<\/td>\n",
       "    <\/tr>\n",
       "    <tr>\n",
       "      <th>122839<\/th>\n",
       "      <td>2021-12-28<\/td>\n",
       "      <td>ZWE<\/td>\n",
       "      <td>Zimbabwe<\/td>\n",
       "      <td>Lower middle income<\/td>\n",
       "      <td>Sub-Saharan Africa<\/td>\n",
       "      <td>Africa<\/td>\n",
       "      <td>2099<\/td>\n",
       "      <td>32<\/td>\n",
       "      <td>14645468<\/td>\n",
       "      <td>Tue<\/td>\n",
       "      <td>Dec<\/td>\n",
       "    <\/tr>\n",
       "    <tr>\n",
       "      <th>122840<\/th>\n",
       "      <td>2021-12-29<\/td>\n",
       "      <td>ZWE<\/td>\n",
       "      <td>Zimbabwe<\/td>\n",
       "      <td>Lower middle income<\/td>\n",
       "      <td>Sub-Saharan Africa<\/td>\n",
       "      <td>Africa<\/td>\n",
       "      <td>0<\/td>\n",
       "      <td>0<\/td>\n",
       "      <td>14645468<\/td>\n",
       "      <td>Wed<\/td>\n",
       "      <td>Dec<\/td>\n",
       "    <\/tr>\n",
       "    <tr>\n",
       "      <th>122841<\/th>\n",
       "      <td>2021-12-30<\/td>\n",
       "      <td>ZWE<\/td>\n",
       "      <td>Zimbabwe<\/td>\n",
       "      <td>Lower middle income<\/td>\n",
       "      <td>Sub-Saharan Africa<\/td>\n",
       "      <td>Africa<\/td>\n",
       "      <td>4180<\/td>\n",
       "      <td>57<\/td>\n",
       "      <td>14645468<\/td>\n",
       "      <td>Thu<\/td>\n",
       "      <td>Dec<\/td>\n",
       "    <\/tr>\n",
       "    <tr>\n",
       "      <th>122842<\/th>\n",
       "      <td>2021-12-31<\/td>\n",
       "      <td>ZWE<\/td>\n",
       "      <td>Zimbabwe<\/td>\n",
       "      <td>Lower middle income<\/td>\n",
       "      <td>Sub-Saharan Africa<\/td>\n",
       "      <td>Africa<\/td>\n",
       "      <td>1530<\/td>\n",
       "      <td>7<\/td>\n",
       "      <td>14645468<\/td>\n",
       "      <td>Fri<\/td>\n",
       "      <td>Dec<\/td>\n",
       "    <\/tr>\n",
       "  <\/tbody>\n",
       "<\/table>\n",
       "<p>122843 rows × 11 columns<\/p>\n",
       "<\/div>"
      ]
     },
     "metadata":{
      
     },
     "output_type":"display_data"
    }
   ],
   "metadata":{
    "datalore":{
     "type":"CODE",
     "hide_input_from_viewers":false,
     "hide_output_from_viewers":false
    }
   }
  },
  {
   "cell_type":"code",
   "source":[
    "df.head()"
   ],
   "execution_count":130,
   "outputs":[
    {
     "data":{
      "text\/html":[
       "<div>\n",
       "<style scoped>\n",
       "    .dataframe tbody tr th:only-of-type {\n",
       "        vertical-align: middle;\n",
       "    }\n",
       "\n",
       "    .dataframe tbody tr th {\n",
       "        vertical-align: top;\n",
       "    }\n",
       "\n",
       "    .dataframe thead th {\n",
       "        text-align: right;\n",
       "    }\n",
       "<\/style>\n",
       "<table border=\"1\" class=\"dataframe\">\n",
       "  <thead>\n",
       "    <tr style=\"text-align: right;\">\n",
       "      <th><\/th>\n",
       "      <th>date<\/th>\n",
       "      <th>iso3c<\/th>\n",
       "      <th>country<\/th>\n",
       "      <th>income<\/th>\n",
       "      <th>region<\/th>\n",
       "      <th>continent<\/th>\n",
       "      <th>dcases<\/th>\n",
       "      <th>ddeaths<\/th>\n",
       "      <th>population<\/th>\n",
       "      <th>weekdays<\/th>\n",
       "      <th>month<\/th>\n",
       "    <\/tr>\n",
       "  <\/thead>\n",
       "  <tbody>\n",
       "    <tr>\n",
       "      <th>0<\/th>\n",
       "      <td>2020-02-24<\/td>\n",
       "      <td>AFG<\/td>\n",
       "      <td>Afghanistan<\/td>\n",
       "      <td>Low income<\/td>\n",
       "      <td>South Asia<\/td>\n",
       "      <td>Asia<\/td>\n",
       "      <td>5<\/td>\n",
       "      <td>0<\/td>\n",
       "      <td>38041754<\/td>\n",
       "      <td>Mon<\/td>\n",
       "      <td>Feb<\/td>\n",
       "    <\/tr>\n",
       "    <tr>\n",
       "      <th>1<\/th>\n",
       "      <td>2020-02-25<\/td>\n",
       "      <td>AFG<\/td>\n",
       "      <td>Afghanistan<\/td>\n",
       "      <td>Low income<\/td>\n",
       "      <td>South Asia<\/td>\n",
       "      <td>Asia<\/td>\n",
       "      <td>0<\/td>\n",
       "      <td>0<\/td>\n",
       "      <td>38041754<\/td>\n",
       "      <td>Tue<\/td>\n",
       "      <td>Feb<\/td>\n",
       "    <\/tr>\n",
       "    <tr>\n",
       "      <th>2<\/th>\n",
       "      <td>2020-02-26<\/td>\n",
       "      <td>AFG<\/td>\n",
       "      <td>Afghanistan<\/td>\n",
       "      <td>Low income<\/td>\n",
       "      <td>South Asia<\/td>\n",
       "      <td>Asia<\/td>\n",
       "      <td>0<\/td>\n",
       "      <td>0<\/td>\n",
       "      <td>38041754<\/td>\n",
       "      <td>Wed<\/td>\n",
       "      <td>Feb<\/td>\n",
       "    <\/tr>\n",
       "    <tr>\n",
       "      <th>3<\/th>\n",
       "      <td>2020-02-27<\/td>\n",
       "      <td>AFG<\/td>\n",
       "      <td>Afghanistan<\/td>\n",
       "      <td>Low income<\/td>\n",
       "      <td>South Asia<\/td>\n",
       "      <td>Asia<\/td>\n",
       "      <td>0<\/td>\n",
       "      <td>0<\/td>\n",
       "      <td>38041754<\/td>\n",
       "      <td>Thu<\/td>\n",
       "      <td>Feb<\/td>\n",
       "    <\/tr>\n",
       "    <tr>\n",
       "      <th>4<\/th>\n",
       "      <td>2020-02-28<\/td>\n",
       "      <td>AFG<\/td>\n",
       "      <td>Afghanistan<\/td>\n",
       "      <td>Low income<\/td>\n",
       "      <td>South Asia<\/td>\n",
       "      <td>Asia<\/td>\n",
       "      <td>0<\/td>\n",
       "      <td>0<\/td>\n",
       "      <td>38041754<\/td>\n",
       "      <td>Fri<\/td>\n",
       "      <td>Feb<\/td>\n",
       "    <\/tr>\n",
       "  <\/tbody>\n",
       "<\/table>\n",
       "<\/div>"
      ]
     },
     "metadata":{
      
     },
     "output_type":"display_data"
    }
   ],
   "metadata":{
    "datalore":{
     "type":"CODE",
     "hide_input_from_viewers":false,
     "hide_output_from_viewers":false
    }
   }
  },
  {
   "cell_type":"code",
   "source":[
    "df['region'].unique()"
   ],
   "execution_count":131,
   "outputs":[
    {
     "data":{
      "text\/html":[
       
      ]
     },
     "metadata":{
      
     },
     "output_type":"display_data"
    }
   ],
   "metadata":{
    "datalore":{
     "type":"CODE",
     "hide_input_from_viewers":false,
     "hide_output_from_viewers":false
    }
   }
  },
  {
   "cell_type":"code",
   "source":[
    "df['income'].unique()"
   ],
   "execution_count":132,
   "outputs":[
    {
     "data":{
      "text\/html":[
       
      ]
     },
     "metadata":{
      
     },
     "output_type":"display_data"
    }
   ],
   "metadata":{
    "datalore":{
     "type":"CODE",
     "hide_input_from_viewers":false,
     "hide_output_from_viewers":false
    }
   }
  },
  {
   "cell_type":"code",
   "source":[
    "df['continent'].unique()"
   ],
   "execution_count":133,
   "outputs":[
    {
     "data":{
      "text\/html":[
       
      ]
     },
     "metadata":{
      
     },
     "output_type":"display_data"
    }
   ],
   "metadata":{
    "datalore":{
     "type":"CODE",
     "hide_input_from_viewers":false,
     "hide_output_from_viewers":false
    }
   }
  },
  {
   "cell_type":"code",
   "source":[
    "from pandas.api.types import CategoricalDtype\n",
    "cats=['Sat', 'Sun', 'Mon','Tue','Wed','Thu','Fri']\n",
    "cat_type = CategoricalDtype(categories=cats, ordered=True)\n",
    "df['weekdays'] = df['weekdays'].astype(cat_type)"
   ],
   "execution_count":134,
   "outputs":[
    
   ],
   "metadata":{
    "datalore":{
     "type":"CODE",
     "hide_input_from_viewers":false,
     "hide_output_from_viewers":false
    }
   }
  },
  {
   "cell_type":"code",
   "source":[
    "from pandas.api.types import CategoricalDtype\n",
    "cats=['Jan','Feb','Mar','Apr','May','Jun','Jul','Aug','Sep','Oct','Nov','Dec']\n",
    "cat_type= CategoricalDtype(categories=cats, ordered=True)\n",
    "df['month']=df['month'].astype(cat_type)"
   ],
   "execution_count":135,
   "outputs":[
    
   ],
   "metadata":{
    "datalore":{
     "type":"CODE",
     "hide_input_from_viewers":false,
     "hide_output_from_viewers":false
    }
   }
  },
  {
   "cell_type":"code",
   "source":[
    "dfegy=df[df['country']=='Egypt']"
   ],
   "execution_count":136,
   "outputs":[
    
   ],
   "metadata":{
    "datalore":{
     "type":"CODE",
     "hide_input_from_viewers":false,
     "hide_output_from_viewers":false
    }
   }
  },
  {
   "cell_type":"code",
   "source":[
    "stats=dfegy.groupby(\"weekdays\").agg({\"dcases\": [np.mean, np.std, np.size]})"
   ],
   "execution_count":137,
   "outputs":[
    
   ],
   "metadata":{
    "datalore":{
     "type":"CODE",
     "hide_input_from_viewers":false,
     "hide_output_from_viewers":false
    }
   }
  },
  {
   "cell_type":"code",
   "source":[
    "stats=pd.DataFrame(stats)"
   ],
   "execution_count":138,
   "outputs":[
    
   ],
   "metadata":{
    "datalore":{
     "type":"CODE",
     "hide_input_from_viewers":false,
     "hide_output_from_viewers":false
    }
   }
  },
  {
   "cell_type":"code",
   "source":[
    "stats"
   ],
   "execution_count":139,
   "outputs":[
    {
     "data":{
      "text\/html":[
       "<div>\n",
       "<style scoped>\n",
       "    .dataframe tbody tr th:only-of-type {\n",
       "        vertical-align: middle;\n",
       "    }\n",
       "\n",
       "    .dataframe tbody tr th {\n",
       "        vertical-align: top;\n",
       "    }\n",
       "\n",
       "    .dataframe thead tr th {\n",
       "        text-align: left;\n",
       "    }\n",
       "\n",
       "    .dataframe thead tr:last-of-type th {\n",
       "        text-align: right;\n",
       "    }\n",
       "<\/style>\n",
       "<table border=\"1\" class=\"dataframe\">\n",
       "  <thead>\n",
       "    <tr>\n",
       "      <th><\/th>\n",
       "      <th colspan=\"3\" halign=\"left\">dcases<\/th>\n",
       "    <\/tr>\n",
       "    <tr>\n",
       "      <th><\/th>\n",
       "      <th>mean<\/th>\n",
       "      <th>std<\/th>\n",
       "      <th>size<\/th>\n",
       "    <\/tr>\n",
       "    <tr>\n",
       "      <th>weekdays<\/th>\n",
       "      <th><\/th>\n",
       "      <th><\/th>\n",
       "      <th><\/th>\n",
       "    <\/tr>\n",
       "  <\/thead>\n",
       "  <tbody>\n",
       "    <tr>\n",
       "      <th>Sat<\/th>\n",
       "      <td>558.806122<\/td>\n",
       "      <td>421.803605<\/td>\n",
       "      <td>98<\/td>\n",
       "    <\/tr>\n",
       "    <tr>\n",
       "      <th>Sun<\/th>\n",
       "      <td>545.520408<\/td>\n",
       "      <td>422.358748<\/td>\n",
       "      <td>98<\/td>\n",
       "    <\/tr>\n",
       "    <tr>\n",
       "      <th>Mon<\/th>\n",
       "      <td>561.846939<\/td>\n",
       "      <td>442.137949<\/td>\n",
       "      <td>98<\/td>\n",
       "    <\/tr>\n",
       "    <tr>\n",
       "      <th>Tue<\/th>\n",
       "      <td>566.153061<\/td>\n",
       "      <td>419.125460<\/td>\n",
       "      <td>98<\/td>\n",
       "    <\/tr>\n",
       "    <tr>\n",
       "      <th>Wed<\/th>\n",
       "      <td>561.479592<\/td>\n",
       "      <td>406.337812<\/td>\n",
       "      <td>98<\/td>\n",
       "    <\/tr>\n",
       "    <tr>\n",
       "      <th>Thu<\/th>\n",
       "      <td>567.683673<\/td>\n",
       "      <td>410.020004<\/td>\n",
       "      <td>98<\/td>\n",
       "    <\/tr>\n",
       "    <tr>\n",
       "      <th>Fri<\/th>\n",
       "      <td>567.161616<\/td>\n",
       "      <td>428.533849<\/td>\n",
       "      <td>99<\/td>\n",
       "    <\/tr>\n",
       "  <\/tbody>\n",
       "<\/table>\n",
       "<\/div>"
      ]
     },
     "metadata":{
      
     },
     "output_type":"display_data"
    }
   ],
   "metadata":{
    "datalore":{
     "type":"CODE",
     "hide_input_from_viewers":false,
     "hide_output_from_viewers":false
    }
   }
  },
  {
   "cell_type":"code",
   "source":[
    "import scipy.stats"
   ],
   "execution_count":140,
   "outputs":[
    
   ],
   "metadata":{
    "datalore":{
     "type":"CODE",
     "hide_input_from_viewers":false,
     "hide_output_from_viewers":false
    }
   }
  },
  {
   "cell_type":"code",
   "source":[
    "from scipy.stats import t"
   ],
   "execution_count":141,
   "outputs":[
    
   ],
   "metadata":{
    "datalore":{
     "type":"CODE",
     "hide_input_from_viewers":false,
     "hide_output_from_viewers":false
    }
   }
  },
  {
   "cell_type":"code",
   "source":[
    "stats.index"
   ],
   "execution_count":142,
   "outputs":[
    {
     "data":{
      "text\/plain":[
       "CategoricalIndex(['Sat', 'Sun', 'Mon', 'Tue', 'Wed', 'Thu', 'Fri'], categories=['Sat', 'Sun', 'Mon', 'Tue', 'Wed', 'Thu', 'Fri'], ordered=True, dtype='category', name='weekdays')"
      ]
     },
     "metadata":{
      
     },
     "output_type":"display_data"
    }
   ],
   "metadata":{
    "datalore":{
     "type":"CODE",
     "hide_input_from_viewers":false,
     "hide_output_from_viewers":false
    }
   }
  },
  {
   "cell_type":"code",
   "source":[
    "stats.shape"
   ],
   "execution_count":143,
   "outputs":[
    {
     "data":{
      "text\/plain":[
       "(7, 3)"
      ]
     },
     "metadata":{
      
     },
     "output_type":"display_data"
    }
   ],
   "metadata":{
    "datalore":{
     "type":"CODE",
     "hide_input_from_viewers":false,
     "hide_output_from_viewers":false
    }
   }
  },
  {
   "cell_type":"code",
   "source":[
    "stats.columns=['mean','std','size']"
   ],
   "execution_count":144,
   "outputs":[
    
   ],
   "metadata":{
    "datalore":{
     "type":"CODE",
     "hide_input_from_viewers":false,
     "hide_output_from_viewers":false
    }
   }
  },
  {
   "cell_type":"code",
   "source":[
    "stats.columns"
   ],
   "execution_count":145,
   "outputs":[
    {
     "data":{
      "text\/plain":[
       "Index(['mean', 'std', 'size'], dtype='object')"
      ]
     },
     "metadata":{
      
     },
     "output_type":"display_data"
    }
   ],
   "metadata":{
    "datalore":{
     "type":"CODE",
     "hide_input_from_viewers":false,
     "hide_output_from_viewers":false
    }
   }
  },
  {
   "cell_type":"code",
   "source":[
    "x=dfegy['dcases']"
   ],
   "execution_count":146,
   "outputs":[
    
   ],
   "metadata":{
    "datalore":{
     "type":"CODE",
     "hide_input_from_viewers":false,
     "hide_output_from_viewers":false
    }
   }
  },
  {
   "cell_type":"code",
   "source":[
    "def get_ci_lb(x, alpha=0.05):\n",
    "    sample_s=np.std(x)\n",
    "    sample_mean=np.mean(x)\n",
    "    sample_size=len(x)\n",
    "    margin_of_error = t.ppf(1 - alpha\/2,sample_size-1)*sample_s\/np.sqrt(sample_size-1)\n",
    "    return sample_mean - margin_of_error"
   ],
   "execution_count":147,
   "outputs":[
    
   ],
   "metadata":{
    "datalore":{
     "type":"CODE",
     "hide_input_from_viewers":false,
     "hide_output_from_viewers":false
    }
   }
  },
  {
   "cell_type":"code",
   "source":[
    "get_ci_lb(x)"
   ],
   "execution_count":148,
   "outputs":[
    {
     "data":{
      "text\/plain":[
       "529.7945911276134"
      ]
     },
     "metadata":{
      
     },
     "output_type":"display_data"
    }
   ],
   "metadata":{
    "datalore":{
     "type":"CODE",
     "hide_input_from_viewers":false,
     "hide_output_from_viewers":false
    }
   }
  },
  {
   "cell_type":"code",
   "source":[
    "def get_ci_ub(x, alpha=0.05):\n",
    "    sample_s=np.std(x)\n",
    "    sample_mean=np.mean(x)\n",
    "    sample_size=len(x)\n",
    "    margin_of_error = t.ppf(1 - alpha\/2,sample_size-1)*sample_s\/np.sqrt(sample_size-1)\n",
    "    return sample_mean + margin_of_error"
   ],
   "execution_count":149,
   "outputs":[
    
   ],
   "metadata":{
    "datalore":{
     "type":"CODE",
     "hide_input_from_viewers":false,
     "hide_output_from_viewers":false
    }
   }
  },
  {
   "cell_type":"code",
   "source":[
    "get_ci_ub(x)"
   ],
   "execution_count":150,
   "outputs":[
    {
     "data":{
      "text\/plain":[
       "592.6944918418188"
      ]
     },
     "metadata":{
      
     },
     "output_type":"display_data"
    }
   ],
   "metadata":{
    "datalore":{
     "type":"CODE",
     "hide_input_from_viewers":false,
     "hide_output_from_viewers":false
    }
   }
  },
  {
   "cell_type":"code",
   "source":[
    "ci_dcases=statsw=dfegy.groupby(\"weekdays\").agg({\"dcases\": [np.mean, np.std, np.size,get_ci_lb,get_ci_ub]})\n",
    "statsw"
   ],
   "execution_count":151,
   "outputs":[
    {
     "data":{
      "text\/html":[
       "<div>\n",
       "<style scoped>\n",
       "    .dataframe tbody tr th:only-of-type {\n",
       "        vertical-align: middle;\n",
       "    }\n",
       "\n",
       "    .dataframe tbody tr th {\n",
       "        vertical-align: top;\n",
       "    }\n",
       "\n",
       "    .dataframe thead tr th {\n",
       "        text-align: left;\n",
       "    }\n",
       "\n",
       "    .dataframe thead tr:last-of-type th {\n",
       "        text-align: right;\n",
       "    }\n",
       "<\/style>\n",
       "<table border=\"1\" class=\"dataframe\">\n",
       "  <thead>\n",
       "    <tr>\n",
       "      <th><\/th>\n",
       "      <th colspan=\"5\" halign=\"left\">dcases<\/th>\n",
       "    <\/tr>\n",
       "    <tr>\n",
       "      <th><\/th>\n",
       "      <th>mean<\/th>\n",
       "      <th>std<\/th>\n",
       "      <th>size<\/th>\n",
       "      <th>get_ci_lb<\/th>\n",
       "      <th>get_ci_ub<\/th>\n",
       "    <\/tr>\n",
       "    <tr>\n",
       "      <th>weekdays<\/th>\n",
       "      <th><\/th>\n",
       "      <th><\/th>\n",
       "      <th><\/th>\n",
       "      <th><\/th>\n",
       "      <th><\/th>\n",
       "    <\/tr>\n",
       "  <\/thead>\n",
       "  <tbody>\n",
       "    <tr>\n",
       "      <th>Sat<\/th>\n",
       "      <td>558.806122<\/td>\n",
       "      <td>421.803605<\/td>\n",
       "      <td>98<\/td>\n",
       "      <td>474.239849<\/td>\n",
       "      <td>643.372396<\/td>\n",
       "    <\/tr>\n",
       "    <tr>\n",
       "      <th>Sun<\/th>\n",
       "      <td>545.520408<\/td>\n",
       "      <td>422.358748<\/td>\n",
       "      <td>98<\/td>\n",
       "      <td>460.842836<\/td>\n",
       "      <td>630.197981<\/td>\n",
       "    <\/tr>\n",
       "    <tr>\n",
       "      <th>Mon<\/th>\n",
       "      <td>561.846939<\/td>\n",
       "      <td>442.137949<\/td>\n",
       "      <td>98<\/td>\n",
       "      <td>473.203887<\/td>\n",
       "      <td>650.489990<\/td>\n",
       "    <\/tr>\n",
       "    <tr>\n",
       "      <th>Tue<\/th>\n",
       "      <td>566.153061<\/td>\n",
       "      <td>419.125460<\/td>\n",
       "      <td>98<\/td>\n",
       "      <td>482.123722<\/td>\n",
       "      <td>650.182401<\/td>\n",
       "    <\/tr>\n",
       "    <tr>\n",
       "      <th>Wed<\/th>\n",
       "      <td>561.479592<\/td>\n",
       "      <td>406.337812<\/td>\n",
       "      <td>98<\/td>\n",
       "      <td>480.014014<\/td>\n",
       "      <td>642.945170<\/td>\n",
       "    <\/tr>\n",
       "    <tr>\n",
       "      <th>Thu<\/th>\n",
       "      <td>567.683673<\/td>\n",
       "      <td>410.020004<\/td>\n",
       "      <td>98<\/td>\n",
       "      <td>485.479863<\/td>\n",
       "      <td>649.887484<\/td>\n",
       "    <\/tr>\n",
       "    <tr>\n",
       "      <th>Fri<\/th>\n",
       "      <td>567.161616<\/td>\n",
       "      <td>428.533849<\/td>\n",
       "      <td>99<\/td>\n",
       "      <td>481.692047<\/td>\n",
       "      <td>652.631185<\/td>\n",
       "    <\/tr>\n",
       "  <\/tbody>\n",
       "<\/table>\n",
       "<\/div>"
      ]
     },
     "metadata":{
      
     },
     "output_type":"display_data"
    }
   ],
   "metadata":{
    "datalore":{
     "type":"CODE",
     "hide_input_from_viewers":false,
     "hide_output_from_viewers":false
    }
   }
  },
  {
   "cell_type":"code",
   "source":[
    "statsw.columns=['mean','std','size','lb','ub']"
   ],
   "execution_count":152,
   "outputs":[
    
   ],
   "metadata":{
    "datalore":{
     "type":"CODE",
     "hide_input_from_viewers":false,
     "hide_output_from_viewers":false
    }
   }
  },
  {
   "cell_type":"code",
   "source":[
    "statsw['month']=statsw.index"
   ],
   "execution_count":153,
   "outputs":[
    
   ],
   "metadata":{
    "datalore":{
     "type":"CODE",
     "hide_input_from_viewers":false,
     "hide_output_from_viewers":false
    }
   }
  },
  {
   "cell_type":"code",
   "source":[
    "statsw"
   ],
   "execution_count":154,
   "outputs":[
    {
     "data":{
      "text\/html":[
       "<div>\n",
       "<style scoped>\n",
       "    .dataframe tbody tr th:only-of-type {\n",
       "        vertical-align: middle;\n",
       "    }\n",
       "\n",
       "    .dataframe tbody tr th {\n",
       "        vertical-align: top;\n",
       "    }\n",
       "\n",
       "    .dataframe thead th {\n",
       "        text-align: right;\n",
       "    }\n",
       "<\/style>\n",
       "<table border=\"1\" class=\"dataframe\">\n",
       "  <thead>\n",
       "    <tr style=\"text-align: right;\">\n",
       "      <th><\/th>\n",
       "      <th>mean<\/th>\n",
       "      <th>std<\/th>\n",
       "      <th>size<\/th>\n",
       "      <th>lb<\/th>\n",
       "      <th>ub<\/th>\n",
       "      <th>month<\/th>\n",
       "    <\/tr>\n",
       "    <tr>\n",
       "      <th>weekdays<\/th>\n",
       "      <th><\/th>\n",
       "      <th><\/th>\n",
       "      <th><\/th>\n",
       "      <th><\/th>\n",
       "      <th><\/th>\n",
       "      <th><\/th>\n",
       "    <\/tr>\n",
       "  <\/thead>\n",
       "  <tbody>\n",
       "    <tr>\n",
       "      <th>Sat<\/th>\n",
       "      <td>558.806122<\/td>\n",
       "      <td>421.803605<\/td>\n",
       "      <td>98<\/td>\n",
       "      <td>474.239849<\/td>\n",
       "      <td>643.372396<\/td>\n",
       "      <td>Sat<\/td>\n",
       "    <\/tr>\n",
       "    <tr>\n",
       "      <th>Sun<\/th>\n",
       "      <td>545.520408<\/td>\n",
       "      <td>422.358748<\/td>\n",
       "      <td>98<\/td>\n",
       "      <td>460.842836<\/td>\n",
       "      <td>630.197981<\/td>\n",
       "      <td>Sun<\/td>\n",
       "    <\/tr>\n",
       "    <tr>\n",
       "      <th>Mon<\/th>\n",
       "      <td>561.846939<\/td>\n",
       "      <td>442.137949<\/td>\n",
       "      <td>98<\/td>\n",
       "      <td>473.203887<\/td>\n",
       "      <td>650.489990<\/td>\n",
       "      <td>Mon<\/td>\n",
       "    <\/tr>\n",
       "    <tr>\n",
       "      <th>Tue<\/th>\n",
       "      <td>566.153061<\/td>\n",
       "      <td>419.125460<\/td>\n",
       "      <td>98<\/td>\n",
       "      <td>482.123722<\/td>\n",
       "      <td>650.182401<\/td>\n",
       "      <td>Tue<\/td>\n",
       "    <\/tr>\n",
       "    <tr>\n",
       "      <th>Wed<\/th>\n",
       "      <td>561.479592<\/td>\n",
       "      <td>406.337812<\/td>\n",
       "      <td>98<\/td>\n",
       "      <td>480.014014<\/td>\n",
       "      <td>642.945170<\/td>\n",
       "      <td>Wed<\/td>\n",
       "    <\/tr>\n",
       "    <tr>\n",
       "      <th>Thu<\/th>\n",
       "      <td>567.683673<\/td>\n",
       "      <td>410.020004<\/td>\n",
       "      <td>98<\/td>\n",
       "      <td>485.479863<\/td>\n",
       "      <td>649.887484<\/td>\n",
       "      <td>Thu<\/td>\n",
       "    <\/tr>\n",
       "    <tr>\n",
       "      <th>Fri<\/th>\n",
       "      <td>567.161616<\/td>\n",
       "      <td>428.533849<\/td>\n",
       "      <td>99<\/td>\n",
       "      <td>481.692047<\/td>\n",
       "      <td>652.631185<\/td>\n",
       "      <td>Fri<\/td>\n",
       "    <\/tr>\n",
       "  <\/tbody>\n",
       "<\/table>\n",
       "<\/div>"
      ]
     },
     "metadata":{
      
     },
     "output_type":"display_data"
    }
   ],
   "metadata":{
    "datalore":{
     "type":"CODE",
     "hide_input_from_viewers":false,
     "hide_output_from_viewers":false
    }
   }
  },
  {
   "cell_type":"code",
   "source":[
    "df['totcases'] = df.groupby(['country'])['dcases'].cumsum()"
   ],
   "execution_count":255,
   "outputs":[
    
   ],
   "metadata":{
    "datalore":{
     "type":"CODE",
     "hide_input_from_viewers":false,
     "hide_output_from_viewers":false
    }
   }
  },
  {
   "cell_type":"code",
   "source":[
    "df.loc[df['country']=='China'].head(6)"
   ],
   "execution_count":256,
   "outputs":[
    {
     "data":{
      "text\/html":[
       "<div>\n",
       "<style scoped>\n",
       "    .dataframe tbody tr th:only-of-type {\n",
       "        vertical-align: middle;\n",
       "    }\n",
       "\n",
       "    .dataframe tbody tr th {\n",
       "        vertical-align: top;\n",
       "    }\n",
       "\n",
       "    .dataframe thead th {\n",
       "        text-align: right;\n",
       "    }\n",
       "<\/style>\n",
       "<table border=\"1\" class=\"dataframe\">\n",
       "  <thead>\n",
       "    <tr style=\"text-align: right;\">\n",
       "      <th><\/th>\n",
       "      <th>date<\/th>\n",
       "      <th>iso3c<\/th>\n",
       "      <th>country<\/th>\n",
       "      <th>income<\/th>\n",
       "      <th>region<\/th>\n",
       "      <th>continent<\/th>\n",
       "      <th>dcases<\/th>\n",
       "      <th>ddeaths<\/th>\n",
       "      <th>population<\/th>\n",
       "      <th>weekdays<\/th>\n",
       "      <th>month<\/th>\n",
       "      <th>year<\/th>\n",
       "      <th>totcases<\/th>\n",
       "    <\/tr>\n",
       "  <\/thead>\n",
       "  <tbody>\n",
       "    <tr>\n",
       "      <th>21405<\/th>\n",
       "      <td>2020-01-22<\/td>\n",
       "      <td>CHN<\/td>\n",
       "      <td>China<\/td>\n",
       "      <td>Upper middle income<\/td>\n",
       "      <td>East Asia &amp; Pacific<\/td>\n",
       "      <td>Asia<\/td>\n",
       "      <td>548<\/td>\n",
       "      <td>17<\/td>\n",
       "      <td>1397715000<\/td>\n",
       "      <td>Wed<\/td>\n",
       "      <td>Jan<\/td>\n",
       "      <td>2020<\/td>\n",
       "      <td>548<\/td>\n",
       "    <\/tr>\n",
       "    <tr>\n",
       "      <th>21406<\/th>\n",
       "      <td>2020-01-23<\/td>\n",
       "      <td>CHN<\/td>\n",
       "      <td>China<\/td>\n",
       "      <td>Upper middle income<\/td>\n",
       "      <td>East Asia &amp; Pacific<\/td>\n",
       "      <td>Asia<\/td>\n",
       "      <td>95<\/td>\n",
       "      <td>1<\/td>\n",
       "      <td>1397715000<\/td>\n",
       "      <td>Thu<\/td>\n",
       "      <td>Jan<\/td>\n",
       "      <td>2020<\/td>\n",
       "      <td>643<\/td>\n",
       "    <\/tr>\n",
       "    <tr>\n",
       "      <th>21407<\/th>\n",
       "      <td>2020-01-24<\/td>\n",
       "      <td>CHN<\/td>\n",
       "      <td>China<\/td>\n",
       "      <td>Upper middle income<\/td>\n",
       "      <td>East Asia &amp; Pacific<\/td>\n",
       "      <td>Asia<\/td>\n",
       "      <td>277<\/td>\n",
       "      <td>8<\/td>\n",
       "      <td>1397715000<\/td>\n",
       "      <td>Fri<\/td>\n",
       "      <td>Jan<\/td>\n",
       "      <td>2020<\/td>\n",
       "      <td>920<\/td>\n",
       "    <\/tr>\n",
       "    <tr>\n",
       "      <th>21408<\/th>\n",
       "      <td>2020-01-25<\/td>\n",
       "      <td>CHN<\/td>\n",
       "      <td>China<\/td>\n",
       "      <td>Upper middle income<\/td>\n",
       "      <td>East Asia &amp; Pacific<\/td>\n",
       "      <td>Asia<\/td>\n",
       "      <td>486<\/td>\n",
       "      <td>16<\/td>\n",
       "      <td>1397715000<\/td>\n",
       "      <td>Sat<\/td>\n",
       "      <td>Jan<\/td>\n",
       "      <td>2020<\/td>\n",
       "      <td>1406<\/td>\n",
       "    <\/tr>\n",
       "    <tr>\n",
       "      <th>21409<\/th>\n",
       "      <td>2020-01-26<\/td>\n",
       "      <td>CHN<\/td>\n",
       "      <td>China<\/td>\n",
       "      <td>Upper middle income<\/td>\n",
       "      <td>East Asia &amp; Pacific<\/td>\n",
       "      <td>Asia<\/td>\n",
       "      <td>669<\/td>\n",
       "      <td>14<\/td>\n",
       "      <td>1397715000<\/td>\n",
       "      <td>Sun<\/td>\n",
       "      <td>Jan<\/td>\n",
       "      <td>2020<\/td>\n",
       "      <td>2075<\/td>\n",
       "    <\/tr>\n",
       "    <tr>\n",
       "      <th>21410<\/th>\n",
       "      <td>2020-01-27<\/td>\n",
       "      <td>CHN<\/td>\n",
       "      <td>China<\/td>\n",
       "      <td>Upper middle income<\/td>\n",
       "      <td>East Asia &amp; Pacific<\/td>\n",
       "      <td>Asia<\/td>\n",
       "      <td>802<\/td>\n",
       "      <td>26<\/td>\n",
       "      <td>1397715000<\/td>\n",
       "      <td>Mon<\/td>\n",
       "      <td>Jan<\/td>\n",
       "      <td>2020<\/td>\n",
       "      <td>2877<\/td>\n",
       "    <\/tr>\n",
       "  <\/tbody>\n",
       "<\/table>\n",
       "<\/div>"
      ]
     },
     "metadata":{
      
     },
     "output_type":"display_data"
    }
   ],
   "metadata":{
    "datalore":{
     "type":"CODE",
     "hide_input_from_viewers":false,
     "hide_output_from_viewers":false
    }
   }
  },
  {
   "cell_type":"code",
   "source":[
    "df['totdeaths'] = df.groupby(['country'])['ddeaths'].cumsum()"
   ],
   "execution_count":259,
   "outputs":[
    
   ],
   "metadata":{
    "datalore":{
     "type":"CODE",
     "hide_input_from_viewers":false,
     "hide_output_from_viewers":false
    }
   }
  },
  {
   "cell_type":"code",
   "source":[
    "df['totdeaths'].loc[df['country']=='China']"
   ],
   "execution_count":260,
   "outputs":[
    {
     "data":{
      "text\/html":[
       
      ]
     },
     "metadata":{
      
     },
     "output_type":"display_data"
    }
   ],
   "metadata":{
    "datalore":{
     "type":"CODE",
     "hide_input_from_viewers":false,
     "hide_output_from_viewers":false
    }
   }
  },
  {
   "cell_type":"code",
   "source":[
    "df['cfr']=df['totdeaths']\/df['totcases']"
   ],
   "execution_count":261,
   "outputs":[
    
   ],
   "metadata":{
    "datalore":{
     "type":"CODE",
     "hide_input_from_viewers":false,
     "hide_output_from_viewers":false
    }
   }
  },
  {
   "cell_type":"code",
   "source":[
    "import matplotlib.pyplot as plt"
   ],
   "execution_count":262,
   "outputs":[
    
   ],
   "metadata":{
    "datalore":{
     "type":"CODE",
     "hide_input_from_viewers":false,
     "hide_output_from_viewers":false
    }
   }
  },
  {
   "cell_type":"code",
   "source":[
    "df_chi=df.loc[df['country']=='China']"
   ],
   "execution_count":263,
   "outputs":[
    
   ],
   "metadata":{
    "datalore":{
     "type":"CODE",
     "hide_input_from_viewers":false,
     "hide_output_from_viewers":false
    }
   }
  },
  {
   "cell_type":"code",
   "source":[
    "df_chi['date'] = pd.to_datetime(df_chi['date'],format='%Y-%m-%d')"
   ],
   "execution_count":264,
   "outputs":[
    {
     "name":"stderr",
     "text":[
      "<ipython-input-264-f09aa949778e>:1: SettingWithCopyWarning: \n",
      "A value is trying to be set on a copy of a slice from a DataFrame.\n",
      "Try using .loc[row_indexer,col_indexer] = value instead\n",
      "\n",
      "See the caveats in the documentation: https:\/\/pandas.pydata.org\/pandas-docs\/stable\/user_guide\/indexing.html#returning-a-view-versus-a-copy\n",
      "  df_chi['date'] = pd.to_datetime(df_chi['date'],format='%Y-%m-%d')\n"
     ],
     "output_type":"stream"
    }
   ],
   "metadata":{
    "datalore":{
     "type":"CODE",
     "hide_input_from_viewers":false,
     "hide_output_from_viewers":false
    }
   }
  },
  {
   "cell_type":"markdown",
   "source":[
    "# Case Fatality Rate of covid-19 "
   ],
   "attachments":{
    
   },
   "metadata":{
    "datalore":{
     "type":"MD",
     "hide_input_from_viewers":false,
     "hide_output_from_viewers":false
    }
   }
  },
  {
   "cell_type":"markdown",
   "source":[
    "This is a graph that shows the difference between deaths and confirmed cases of Covid-19. This ratio is called case fatality rate (CFR). The CFR is made on the country China, I chose China because it is the country were Covid-19 started. As you can see the cases\/deaths started from the buttom but later on they started increasing faster and faster with a higher rate and we can conclude that the ratio of deaths and cases started to decrease gradually, yet it is still high."
   ],
   "attachments":{
    
   },
   "metadata":{
    "datalore":{
     "type":"MD",
     "hide_input_from_viewers":false,
     "hide_output_from_viewers":false
    }
   }
  },
  {
   "cell_type":"code",
   "source":[
    "plt.plot( 'date', 'cfr', data=df_chi,  color='black', markersize=4,     linewidth=1)\n",
    "plt.xlabel(\"Date\")\n",
    "plt.ylabel(\"CFR\")\n",
    "plt.xticks(rotation=90)\n",
    "plt.show()"
   ],
   "execution_count":268,
   "outputs":[
    {
     "data":{
      "image\/png":"[encoded data removed]"
     },
     "metadata":{
      "image\/png":{
       
      }
     },
     "output_type":"display_data"
    }
   ],
   "metadata":{
    "datalore":{
     "type":"CODE",
     "hide_input_from_viewers":false,
     "hide_output_from_viewers":false
    }
   }
  },
  {
   "cell_type":"code",
   "source":[
    "import matplotlib.pyplot as plt"
   ],
   "execution_count":155,
   "outputs":[
    
   ],
   "metadata":{
    "datalore":{
     "type":"CODE",
     "hide_input_from_viewers":false,
     "hide_output_from_viewers":false
    }
   }
  },
  {
   "cell_type":"code",
   "source":[
    "df['date'][0]"
   ],
   "execution_count":156,
   "outputs":[
    {
     "data":{
      "text\/plain":[
       "'2020-02-24'"
      ]
     },
     "metadata":{
      
     },
     "output_type":"display_data"
    }
   ],
   "metadata":{
    "datalore":{
     "type":"CODE",
     "hide_input_from_viewers":false,
     "hide_output_from_viewers":false
    }
   }
  },
  {
   "cell_type":"code",
   "source":[
    "df['date'] = pd. to_datetime(df['date'],format='%Y-%m-%d')"
   ],
   "execution_count":157,
   "outputs":[
    
   ],
   "metadata":{
    "datalore":{
     "type":"CODE",
     "hide_input_from_viewers":false,
     "hide_output_from_viewers":false
    }
   }
  },
  {
   "cell_type":"code",
   "source":[
    "df['date'][0]"
   ],
   "execution_count":158,
   "outputs":[
    {
     "data":{
      "text\/plain":[
       "Timestamp('2020-02-24 00:00:00')"
      ]
     },
     "metadata":{
      
     },
     "output_type":"display_data"
    }
   ],
   "metadata":{
    "datalore":{
     "type":"CODE",
     "hide_input_from_viewers":false,
     "hide_output_from_viewers":false
    }
   }
  },
  {
   "cell_type":"code",
   "source":[
    "df['year'] = pd. DatetimeIndex(df['date']). year"
   ],
   "execution_count":159,
   "outputs":[
    
   ],
   "metadata":{
    "datalore":{
     "type":"CODE",
     "hide_input_from_viewers":false,
     "hide_output_from_viewers":false
    }
   }
  },
  {
   "cell_type":"code",
   "source":[
    "df['year'][0]"
   ],
   "execution_count":160,
   "outputs":[
    {
     "data":{
      "text\/plain":[
       "2020"
      ]
     },
     "metadata":{
      
     },
     "output_type":"display_data"
    }
   ],
   "metadata":{
    "datalore":{
     "type":"CODE",
     "hide_input_from_viewers":false,
     "hide_output_from_viewers":false
    }
   }
  },
  {
   "cell_type":"code",
   "source":[
    "statsdcases=df.groupby(['continent','year','month']).agg({\"dcases\": [np.mean, np.std, np.size,get_ci_lb,get_ci_ub]})"
   ],
   "execution_count":161,
   "outputs":[
    
   ],
   "metadata":{
    "datalore":{
     "type":"CODE",
     "hide_input_from_viewers":false,
     "hide_output_from_viewers":false
    }
   }
  },
  {
   "cell_type":"code",
   "source":[
    "statsdcases"
   ],
   "execution_count":162,
   "outputs":[
    {
     "data":{
      "text\/html":[
       "<div>\n",
       "<style scoped>\n",
       "    .dataframe tbody tr th:only-of-type {\n",
       "        vertical-align: middle;\n",
       "    }\n",
       "\n",
       "    .dataframe tbody tr th {\n",
       "        vertical-align: top;\n",
       "    }\n",
       "\n",
       "    .dataframe thead tr th {\n",
       "        text-align: left;\n",
       "    }\n",
       "\n",
       "    .dataframe thead tr:last-of-type th {\n",
       "        text-align: right;\n",
       "    }\n",
       "<\/style>\n",
       "<table border=\"1\" class=\"dataframe\">\n",
       "  <thead>\n",
       "    <tr>\n",
       "      <th><\/th>\n",
       "      <th><\/th>\n",
       "      <th><\/th>\n",
       "      <th colspan=\"5\" halign=\"left\">dcases<\/th>\n",
       "    <\/tr>\n",
       "    <tr>\n",
       "      <th><\/th>\n",
       "      <th><\/th>\n",
       "      <th><\/th>\n",
       "      <th>mean<\/th>\n",
       "      <th>std<\/th>\n",
       "      <th>size<\/th>\n",
       "      <th>get_ci_lb<\/th>\n",
       "      <th>get_ci_ub<\/th>\n",
       "    <\/tr>\n",
       "    <tr>\n",
       "      <th>continent<\/th>\n",
       "      <th>year<\/th>\n",
       "      <th>month<\/th>\n",
       "      <th><\/th>\n",
       "      <th><\/th>\n",
       "      <th><\/th>\n",
       "      <th><\/th>\n",
       "      <th><\/th>\n",
       "    <\/tr>\n",
       "  <\/thead>\n",
       "  <tbody>\n",
       "    <tr>\n",
       "      <th rowspan=\"5\" valign=\"top\">Africa<\/th>\n",
       "      <th rowspan=\"5\" valign=\"top\">2020<\/th>\n",
       "      <th>Jan<\/th>\n",
       "      <td>NaN<\/td>\n",
       "      <td>NaN<\/td>\n",
       "      <td>NaN<\/td>\n",
       "      <td>NaN<\/td>\n",
       "      <td>NaN<\/td>\n",
       "    <\/tr>\n",
       "    <tr>\n",
       "      <th>Feb<\/th>\n",
       "      <td>0.130435<\/td>\n",
       "      <td>0.344350<\/td>\n",
       "      <td>23.0<\/td>\n",
       "      <td>-0.018473<\/td>\n",
       "      <td>0.279343<\/td>\n",
       "    <\/tr>\n",
       "    <tr>\n",
       "      <th>Mar<\/th>\n",
       "      <td>7.053988<\/td>\n",
       "      <td>19.438419<\/td>\n",
       "      <td>815.0<\/td>\n",
       "      <td>5.717465<\/td>\n",
       "      <td>8.390511<\/td>\n",
       "    <\/tr>\n",
       "    <tr>\n",
       "      <th>Apr<\/th>\n",
       "      <td>21.675871<\/td>\n",
       "      <td>47.034430<\/td>\n",
       "      <td>1521.0<\/td>\n",
       "      <td>19.310249<\/td>\n",
       "      <td>24.041493<\/td>\n",
       "    <\/tr>\n",
       "    <tr>\n",
       "      <th>May<\/th>\n",
       "      <td>66.293072<\/td>\n",
       "      <td>174.256499<\/td>\n",
       "      <td>1631.0<\/td>\n",
       "      <td>57.829909<\/td>\n",
       "      <td>74.756235<\/td>\n",
       "    <\/tr>\n",
       "    <tr>\n",
       "      <th>...<\/th>\n",
       "      <th>...<\/th>\n",
       "      <th>...<\/th>\n",
       "      <td>...<\/td>\n",
       "      <td>...<\/td>\n",
       "      <td>...<\/td>\n",
       "      <td>...<\/td>\n",
       "      <td>...<\/td>\n",
       "    <\/tr>\n",
       "    <tr>\n",
       "      <th rowspan=\"5\" valign=\"top\">South America(continent)<\/th>\n",
       "      <th rowspan=\"5\" valign=\"top\">2021<\/th>\n",
       "      <th>Aug<\/th>\n",
       "      <td>3711.341398<\/td>\n",
       "      <td>8223.952633<\/td>\n",
       "      <td>372.0<\/td>\n",
       "      <td>2872.893048<\/td>\n",
       "      <td>4549.789748<\/td>\n",
       "    <\/tr>\n",
       "    <tr>\n",
       "      <th>Sep<\/th>\n",
       "      <td>2457.269444<\/td>\n",
       "      <td>8382.716252<\/td>\n",
       "      <td>360.0<\/td>\n",
       "      <td>1588.412630<\/td>\n",
       "      <td>3326.126259<\/td>\n",
       "    <\/tr>\n",
       "    <tr>\n",
       "      <th>Oct<\/th>\n",
       "      <td>1618.491935<\/td>\n",
       "      <td>3515.728407<\/td>\n",
       "      <td>372.0<\/td>\n",
       "      <td>1260.056422<\/td>\n",
       "      <td>1976.927449<\/td>\n",
       "    <\/tr>\n",
       "    <tr>\n",
       "      <th>Nov<\/th>\n",
       "      <td>1576.597222<\/td>\n",
       "      <td>2788.302480<\/td>\n",
       "      <td>360.0<\/td>\n",
       "      <td>1287.593570<\/td>\n",
       "      <td>1865.600874<\/td>\n",
       "    <\/tr>\n",
       "    <tr>\n",
       "      <th>Dec<\/th>\n",
       "      <td>2217.798387<\/td>\n",
       "      <td>5128.601112<\/td>\n",
       "      <td>372.0<\/td>\n",
       "      <td>1694.927290<\/td>\n",
       "      <td>2740.669485<\/td>\n",
       "    <\/tr>\n",
       "  <\/tbody>\n",
       "<\/table>\n",
       "<p>144 rows × 5 columns<\/p>\n",
       "<\/div>"
      ]
     },
     "metadata":{
      
     },
     "output_type":"display_data"
    }
   ],
   "metadata":{
    "datalore":{
     "type":"CODE",
     "hide_input_from_viewers":false,
     "hide_output_from_viewers":false
    }
   }
  },
  {
   "cell_type":"code",
   "source":[
    "statsdcases=statsdcases.reset_index()\n",
    "statsdcases"
   ],
   "execution_count":163,
   "outputs":[
    {
     "data":{
      "text\/html":[
       "<div>\n",
       "<style scoped>\n",
       "    .dataframe tbody tr th:only-of-type {\n",
       "        vertical-align: middle;\n",
       "    }\n",
       "\n",
       "    .dataframe tbody tr th {\n",
       "        vertical-align: top;\n",
       "    }\n",
       "\n",
       "    .dataframe thead tr th {\n",
       "        text-align: left;\n",
       "    }\n",
       "<\/style>\n",
       "<table border=\"1\" class=\"dataframe\">\n",
       "  <thead>\n",
       "    <tr>\n",
       "      <th><\/th>\n",
       "      <th>continent<\/th>\n",
       "      <th>year<\/th>\n",
       "      <th>month<\/th>\n",
       "      <th colspan=\"5\" halign=\"left\">dcases<\/th>\n",
       "    <\/tr>\n",
       "    <tr>\n",
       "      <th><\/th>\n",
       "      <th><\/th>\n",
       "      <th><\/th>\n",
       "      <th><\/th>\n",
       "      <th>mean<\/th>\n",
       "      <th>std<\/th>\n",
       "      <th>size<\/th>\n",
       "      <th>get_ci_lb<\/th>\n",
       "      <th>get_ci_ub<\/th>\n",
       "    <\/tr>\n",
       "  <\/thead>\n",
       "  <tbody>\n",
       "    <tr>\n",
       "      <th>0<\/th>\n",
       "      <td>Africa<\/td>\n",
       "      <td>2020<\/td>\n",
       "      <td>Jan<\/td>\n",
       "      <td>NaN<\/td>\n",
       "      <td>NaN<\/td>\n",
       "      <td>NaN<\/td>\n",
       "      <td>NaN<\/td>\n",
       "      <td>NaN<\/td>\n",
       "    <\/tr>\n",
       "    <tr>\n",
       "      <th>1<\/th>\n",
       "      <td>Africa<\/td>\n",
       "      <td>2020<\/td>\n",
       "      <td>Feb<\/td>\n",
       "      <td>0.130435<\/td>\n",
       "      <td>0.344350<\/td>\n",
       "      <td>23.0<\/td>\n",
       "      <td>-0.018473<\/td>\n",
       "      <td>0.279343<\/td>\n",
       "    <\/tr>\n",
       "    <tr>\n",
       "      <th>2<\/th>\n",
       "      <td>Africa<\/td>\n",
       "      <td>2020<\/td>\n",
       "      <td>Mar<\/td>\n",
       "      <td>7.053988<\/td>\n",
       "      <td>19.438419<\/td>\n",
       "      <td>815.0<\/td>\n",
       "      <td>5.717465<\/td>\n",
       "      <td>8.390511<\/td>\n",
       "    <\/tr>\n",
       "    <tr>\n",
       "      <th>3<\/th>\n",
       "      <td>Africa<\/td>\n",
       "      <td>2020<\/td>\n",
       "      <td>Apr<\/td>\n",
       "      <td>21.675871<\/td>\n",
       "      <td>47.034430<\/td>\n",
       "      <td>1521.0<\/td>\n",
       "      <td>19.310249<\/td>\n",
       "      <td>24.041493<\/td>\n",
       "    <\/tr>\n",
       "    <tr>\n",
       "      <th>4<\/th>\n",
       "      <td>Africa<\/td>\n",
       "      <td>2020<\/td>\n",
       "      <td>May<\/td>\n",
       "      <td>66.293072<\/td>\n",
       "      <td>174.256499<\/td>\n",
       "      <td>1631.0<\/td>\n",
       "      <td>57.829909<\/td>\n",
       "      <td>74.756235<\/td>\n",
       "    <\/tr>\n",
       "    <tr>\n",
       "      <th>...<\/th>\n",
       "      <td>...<\/td>\n",
       "      <td>...<\/td>\n",
       "      <td>...<\/td>\n",
       "      <td>...<\/td>\n",
       "      <td>...<\/td>\n",
       "      <td>...<\/td>\n",
       "      <td>...<\/td>\n",
       "      <td>...<\/td>\n",
       "    <\/tr>\n",
       "    <tr>\n",
       "      <th>139<\/th>\n",
       "      <td>South America(continent)<\/td>\n",
       "      <td>2021<\/td>\n",
       "      <td>Aug<\/td>\n",
       "      <td>3711.341398<\/td>\n",
       "      <td>8223.952633<\/td>\n",
       "      <td>372.0<\/td>\n",
       "      <td>2872.893048<\/td>\n",
       "      <td>4549.789748<\/td>\n",
       "    <\/tr>\n",
       "    <tr>\n",
       "      <th>140<\/th>\n",
       "      <td>South America(continent)<\/td>\n",
       "      <td>2021<\/td>\n",
       "      <td>Sep<\/td>\n",
       "      <td>2457.269444<\/td>\n",
       "      <td>8382.716252<\/td>\n",
       "      <td>360.0<\/td>\n",
       "      <td>1588.412630<\/td>\n",
       "      <td>3326.126259<\/td>\n",
       "    <\/tr>\n",
       "    <tr>\n",
       "      <th>141<\/th>\n",
       "      <td>South America(continent)<\/td>\n",
       "      <td>2021<\/td>\n",
       "      <td>Oct<\/td>\n",
       "      <td>1618.491935<\/td>\n",
       "      <td>3515.728407<\/td>\n",
       "      <td>372.0<\/td>\n",
       "      <td>1260.056422<\/td>\n",
       "      <td>1976.927449<\/td>\n",
       "    <\/tr>\n",
       "    <tr>\n",
       "      <th>142<\/th>\n",
       "      <td>South America(continent)<\/td>\n",
       "      <td>2021<\/td>\n",
       "      <td>Nov<\/td>\n",
       "      <td>1576.597222<\/td>\n",
       "      <td>2788.302480<\/td>\n",
       "      <td>360.0<\/td>\n",
       "      <td>1287.593570<\/td>\n",
       "      <td>1865.600874<\/td>\n",
       "    <\/tr>\n",
       "    <tr>\n",
       "      <th>143<\/th>\n",
       "      <td>South America(continent)<\/td>\n",
       "      <td>2021<\/td>\n",
       "      <td>Dec<\/td>\n",
       "      <td>2217.798387<\/td>\n",
       "      <td>5128.601112<\/td>\n",
       "      <td>372.0<\/td>\n",
       "      <td>1694.927290<\/td>\n",
       "      <td>2740.669485<\/td>\n",
       "    <\/tr>\n",
       "  <\/tbody>\n",
       "<\/table>\n",
       "<p>144 rows × 8 columns<\/p>\n",
       "<\/div>"
      ]
     },
     "metadata":{
      
     },
     "output_type":"display_data"
    }
   ],
   "metadata":{
    "datalore":{
     "type":"CODE",
     "hide_input_from_viewers":false,
     "hide_output_from_viewers":false
    }
   }
  },
  {
   "cell_type":"code",
   "source":[
    "statsAs20=statsdcases[(statsdcases['continent']=='Asia') & (statsdcases['year']==2020)]"
   ],
   "execution_count":164,
   "outputs":[
    
   ],
   "metadata":{
    "datalore":{
     "type":"CODE",
     "hide_input_from_viewers":false,
     "hide_output_from_viewers":false
    }
   }
  },
  {
   "cell_type":"code",
   "source":[
    "statsAs20"
   ],
   "execution_count":165,
   "outputs":[
    {
     "data":{
      "text\/html":[
       "<div>\n",
       "<style scoped>\n",
       "    .dataframe tbody tr th:only-of-type {\n",
       "        vertical-align: middle;\n",
       "    }\n",
       "\n",
       "    .dataframe tbody tr th {\n",
       "        vertical-align: top;\n",
       "    }\n",
       "\n",
       "    .dataframe thead tr th {\n",
       "        text-align: left;\n",
       "    }\n",
       "<\/style>\n",
       "<table border=\"1\" class=\"dataframe\">\n",
       "  <thead>\n",
       "    <tr>\n",
       "      <th><\/th>\n",
       "      <th>continent<\/th>\n",
       "      <th>year<\/th>\n",
       "      <th>month<\/th>\n",
       "      <th colspan=\"5\" halign=\"left\">dcases<\/th>\n",
       "    <\/tr>\n",
       "    <tr>\n",
       "      <th><\/th>\n",
       "      <th><\/th>\n",
       "      <th><\/th>\n",
       "      <th><\/th>\n",
       "      <th>mean<\/th>\n",
       "      <th>std<\/th>\n",
       "      <th>size<\/th>\n",
       "      <th>get_ci_lb<\/th>\n",
       "      <th>get_ci_ub<\/th>\n",
       "    <\/tr>\n",
       "  <\/thead>\n",
       "  <tbody>\n",
       "    <tr>\n",
       "      <th>24<\/th>\n",
       "      <td>Asia<\/td>\n",
       "      <td>2020<\/td>\n",
       "      <td>Jan<\/td>\n",
       "      <td>111.000000<\/td>\n",
       "      <td>410.875728<\/td>\n",
       "      <td>89.0<\/td>\n",
       "      <td>24.448081<\/td>\n",
       "      <td>197.551919<\/td>\n",
       "    <\/tr>\n",
       "    <tr>\n",
       "      <th>25<\/th>\n",
       "      <td>Asia<\/td>\n",
       "      <td>2020<\/td>\n",
       "      <td>Feb<\/td>\n",
       "      <td>165.493274<\/td>\n",
       "      <td>942.082908<\/td>\n",
       "      <td>446.0<\/td>\n",
       "      <td>77.822955<\/td>\n",
       "      <td>253.163592<\/td>\n",
       "    <\/tr>\n",
       "    <tr>\n",
       "      <th>26<\/th>\n",
       "      <td>Asia<\/td>\n",
       "      <td>2020<\/td>\n",
       "      <td>Mar<\/td>\n",
       "      <td>81.610111<\/td>\n",
       "      <td>303.900086<\/td>\n",
       "      <td>1167.0<\/td>\n",
       "      <td>64.156129<\/td>\n",
       "      <td>99.064094<\/td>\n",
       "    <\/tr>\n",
       "    <tr>\n",
       "      <th>27<\/th>\n",
       "      <td>Asia<\/td>\n",
       "      <td>2020<\/td>\n",
       "      <td>Apr<\/td>\n",
       "      <td>255.156600<\/td>\n",
       "      <td>629.879960<\/td>\n",
       "      <td>1341.0<\/td>\n",
       "      <td>221.413580<\/td>\n",
       "      <td>288.899619<\/td>\n",
       "    <\/tr>\n",
       "    <tr>\n",
       "      <th>28<\/th>\n",
       "      <td>Asia<\/td>\n",
       "      <td>2020<\/td>\n",
       "      <td>May<\/td>\n",
       "      <td>433.419355<\/td>\n",
       "      <td>937.308182<\/td>\n",
       "      <td>1426.0<\/td>\n",
       "      <td>384.729356<\/td>\n",
       "      <td>482.109354<\/td>\n",
       "    <\/tr>\n",
       "    <tr>\n",
       "      <th>29<\/th>\n",
       "      <td>Asia<\/td>\n",
       "      <td>2020<\/td>\n",
       "      <td>Jun<\/td>\n",
       "      <td>845.336232<\/td>\n",
       "      <td>2187.082379<\/td>\n",
       "      <td>1380.0<\/td>\n",
       "      <td>729.843398<\/td>\n",
       "      <td>960.829065<\/td>\n",
       "    <\/tr>\n",
       "    <tr>\n",
       "      <th>30<\/th>\n",
       "      <td>Asia<\/td>\n",
       "      <td>2020<\/td>\n",
       "      <td>Jul<\/td>\n",
       "      <td>1396.580645<\/td>\n",
       "      <td>5509.114767<\/td>\n",
       "      <td>1426.0<\/td>\n",
       "      <td>1110.400711<\/td>\n",
       "      <td>1682.760580<\/td>\n",
       "    <\/tr>\n",
       "    <tr>\n",
       "      <th>31<\/th>\n",
       "      <td>Asia<\/td>\n",
       "      <td>2020<\/td>\n",
       "      <td>Aug<\/td>\n",
       "      <td>1976.046283<\/td>\n",
       "      <td>9438.275242<\/td>\n",
       "      <td>1426.0<\/td>\n",
       "      <td>1485.759712<\/td>\n",
       "      <td>2466.332855<\/td>\n",
       "    <\/tr>\n",
       "    <tr>\n",
       "      <th>32<\/th>\n",
       "      <td>Asia<\/td>\n",
       "      <td>2020<\/td>\n",
       "      <td>Sep<\/td>\n",
       "      <td>2576.080435<\/td>\n",
       "      <td>12741.756197<\/td>\n",
       "      <td>1380.0<\/td>\n",
       "      <td>1903.228995<\/td>\n",
       "      <td>3248.931874<\/td>\n",
       "    <\/tr>\n",
       "    <tr>\n",
       "      <th>33<\/th>\n",
       "      <td>Asia<\/td>\n",
       "      <td>2020<\/td>\n",
       "      <td>Oct<\/td>\n",
       "      <td>2137.612202<\/td>\n",
       "      <td>8947.155675<\/td>\n",
       "      <td>1426.0<\/td>\n",
       "      <td>1672.837636<\/td>\n",
       "      <td>2602.386768<\/td>\n",
       "    <\/tr>\n",
       "    <tr>\n",
       "      <th>34<\/th>\n",
       "      <td>Asia<\/td>\n",
       "      <td>2020<\/td>\n",
       "      <td>Nov<\/td>\n",
       "      <td>2233.760145<\/td>\n",
       "      <td>6712.137800<\/td>\n",
       "      <td>1380.0<\/td>\n",
       "      <td>1879.313591<\/td>\n",
       "      <td>2588.206699<\/td>\n",
       "    <\/tr>\n",
       "    <tr>\n",
       "      <th>35<\/th>\n",
       "      <td>Asia<\/td>\n",
       "      <td>2020<\/td>\n",
       "      <td>Dec<\/td>\n",
       "      <td>2760.654278<\/td>\n",
       "      <td>22415.623487<\/td>\n",
       "      <td>1426.0<\/td>\n",
       "      <td>1596.238227<\/td>\n",
       "      <td>3925.070329<\/td>\n",
       "    <\/tr>\n",
       "  <\/tbody>\n",
       "<\/table>\n",
       "<\/div>"
      ]
     },
     "metadata":{
      
     },
     "output_type":"display_data"
    }
   ],
   "metadata":{
    "datalore":{
     "type":"CODE",
     "hide_input_from_viewers":false,
     "hide_output_from_viewers":false
    }
   }
  },
  {
   "cell_type":"code",
   "source":[
    "statsAs20.columns=['country','year','month','mean','std','size','lb','ub']"
   ],
   "execution_count":166,
   "outputs":[
    
   ],
   "metadata":{
    "datalore":{
     "type":"CODE",
     "hide_input_from_viewers":false,
     "hide_output_from_viewers":false
    }
   }
  },
  {
   "cell_type":"markdown",
   "source":[
    "# Analysis of CoronaVirus Pandemic Over the Period Between 2020 and 2021 including several graphs (regions, income, and continents)"
   ],
   "attachments":{
    
   },
   "metadata":{
    "datalore":{
     "type":"MD",
     "hide_input_from_viewers":false,
     "hide_output_from_viewers":false
    }
   }
  },
  {
   "cell_type":"markdown",
   "source":[
    "As you can see this graph is the average daily cases of covid-19 the continent asia throughout the year 2020 starting from january to december and as you can see it is increasing."
   ],
   "attachments":{
    
   },
   "metadata":{
    "datalore":{
     "type":"MD",
     "hide_input_from_viewers":false,
     "hide_output_from_viewers":false
    }
   }
  },
  {
   "cell_type":"code",
   "source":[
    "plt.plot( 'month', 'mean', data=statsAs20, marker='s', color='black', markersize=4,     linewidth=1, linestyle='--')\n",
    "plt.plot( 'month', 'mean', data=statsAs20, marker='o', color='black',  markersize=4, linewidth=1,linestyle='-')\n",
    "plt.xlabel(\"Month\")\n",
    "plt.ylabel(\"Average Daily COVID CASES\")\n",
    "plt.title(\"Asia\")\n",
    "plt.show()"
   ],
   "execution_count":167,
   "outputs":[
    {
     "data":{
      "image\/png":"[encoded data removed]"
     },
     "metadata":{
      "image\/png":{
       
      }
     },
     "output_type":"display_data"
    }
   ],
   "metadata":{
    "datalore":{
     "type":"CODE",
     "hide_input_from_viewers":false,
     "hide_output_from_viewers":false
    }
   }
  },
  {
   "cell_type":"code",
   "source":[
    "ci_lb_ub=[statsAs20['lb'],statsAs20['ub']]"
   ],
   "execution_count":168,
   "outputs":[
    
   ],
   "metadata":{
    "datalore":{
     "type":"CODE",
     "hide_input_from_viewers":false,
     "hide_output_from_viewers":false
    }
   }
  },
  {
   "cell_type":"code",
   "source":[
    "err = np.abs(ci_lb_ub - statsAs20['mean'].to_numpy())"
   ],
   "execution_count":169,
   "outputs":[
    
   ],
   "metadata":{
    "datalore":{
     "type":"CODE",
     "hide_input_from_viewers":false,
     "hide_output_from_viewers":false
    }
   }
  },
  {
   "cell_type":"markdown",
   "source":[
    "in this below graph you can see the marginal error that could happen through the calculations."
   ],
   "attachments":{
    
   },
   "metadata":{
    "datalore":{
     "type":"MD",
     "hide_input_from_viewers":false,
     "hide_output_from_viewers":false
    }
   }
  },
  {
   "cell_type":"code",
   "source":[
    "plt.errorbar('month', 'mean',  yerr=err, data=statsAs20,marker='s', capsize=2,\n",
    "             color='black', markersize=4, linewidth=1, linestyle='--')\n",
    "plt.xlabel(\"Month\")\n",
    "plt.ylabel(\"Average Daily COVID CASES\")\n",
    "plt.title(\"Asia\")\n",
    "plt.show()"
   ],
   "execution_count":170,
   "outputs":[
    {
     "data":{
      "image\/png":"[encoded data removed]"
     },
     "metadata":{
      "image\/png":{
       
      }
     },
     "output_type":"display_data"
    }
   ],
   "metadata":{
    "datalore":{
     "type":"CODE",
     "hide_input_from_viewers":false,
     "hide_output_from_viewers":false
    }
   }
  },
  {
   "cell_type":"code",
   "source":[
    "statsAs21=statsdcases[(statsdcases['continent']=='Asia')\n",
    "                       & (statsdcases['year']==2021)]\n",
    "statsAs21"
   ],
   "execution_count":171,
   "outputs":[
    {
     "data":{
      "text\/html":[
       "<div>\n",
       "<style scoped>\n",
       "    .dataframe tbody tr th:only-of-type {\n",
       "        vertical-align: middle;\n",
       "    }\n",
       "\n",
       "    .dataframe tbody tr th {\n",
       "        vertical-align: top;\n",
       "    }\n",
       "\n",
       "    .dataframe thead tr th {\n",
       "        text-align: left;\n",
       "    }\n",
       "<\/style>\n",
       "<table border=\"1\" class=\"dataframe\">\n",
       "  <thead>\n",
       "    <tr>\n",
       "      <th><\/th>\n",
       "      <th>continent<\/th>\n",
       "      <th>year<\/th>\n",
       "      <th>month<\/th>\n",
       "      <th colspan=\"5\" halign=\"left\">dcases<\/th>\n",
       "    <\/tr>\n",
       "    <tr>\n",
       "      <th><\/th>\n",
       "      <th><\/th>\n",
       "      <th><\/th>\n",
       "      <th><\/th>\n",
       "      <th>mean<\/th>\n",
       "      <th>std<\/th>\n",
       "      <th>size<\/th>\n",
       "      <th>get_ci_lb<\/th>\n",
       "      <th>get_ci_ub<\/th>\n",
       "    <\/tr>\n",
       "  <\/thead>\n",
       "  <tbody>\n",
       "    <tr>\n",
       "      <th>36<\/th>\n",
       "      <td>Asia<\/td>\n",
       "      <td>2021<\/td>\n",
       "      <td>Jan<\/td>\n",
       "      <td>1687.433380<\/td>\n",
       "      <td>3319.399414<\/td>\n",
       "      <td>1426.0<\/td>\n",
       "      <td>1515.001774<\/td>\n",
       "      <td>1859.864986<\/td>\n",
       "    <\/tr>\n",
       "    <tr>\n",
       "      <th>37<\/th>\n",
       "      <td>Asia<\/td>\n",
       "      <td>2021<\/td>\n",
       "      <td>Feb<\/td>\n",
       "      <td>1485.468944<\/td>\n",
       "      <td>2780.488524<\/td>\n",
       "      <td>1288.0<\/td>\n",
       "      <td>1333.477239<\/td>\n",
       "      <td>1637.460649<\/td>\n",
       "    <\/tr>\n",
       "    <tr>\n",
       "      <th>38<\/th>\n",
       "      <td>Asia<\/td>\n",
       "      <td>2021<\/td>\n",
       "      <td>Mar<\/td>\n",
       "      <td>2451.384993<\/td>\n",
       "      <td>6687.838246<\/td>\n",
       "      <td>1426.0<\/td>\n",
       "      <td>2103.974349<\/td>\n",
       "      <td>2798.795637<\/td>\n",
       "    <\/tr>\n",
       "    <tr>\n",
       "      <th>39<\/th>\n",
       "      <td>Asia<\/td>\n",
       "      <td>2021<\/td>\n",
       "      <td>Apr<\/td>\n",
       "      <td>7998.099275<\/td>\n",
       "      <td>37527.035782<\/td>\n",
       "      <td>1380.0<\/td>\n",
       "      <td>6016.416401<\/td>\n",
       "      <td>9979.782150<\/td>\n",
       "    <\/tr>\n",
       "    <tr>\n",
       "      <th>40<\/th>\n",
       "      <td>Asia<\/td>\n",
       "      <td>2021<\/td>\n",
       "      <td>May<\/td>\n",
       "      <td>8233.206872<\/td>\n",
       "      <td>44061.157010<\/td>\n",
       "      <td>1426.0<\/td>\n",
       "      <td>5944.378347<\/td>\n",
       "      <td>10522.035397<\/td>\n",
       "    <\/tr>\n",
       "    <tr>\n",
       "      <th>41<\/th>\n",
       "      <td>Asia<\/td>\n",
       "      <td>2021<\/td>\n",
       "      <td>Jun<\/td>\n",
       "      <td>3299.422464<\/td>\n",
       "      <td>11770.007270<\/td>\n",
       "      <td>1380.0<\/td>\n",
       "      <td>2677.885981<\/td>\n",
       "      <td>3920.958947<\/td>\n",
       "    <\/tr>\n",
       "    <tr>\n",
       "      <th>42<\/th>\n",
       "      <td>Asia<\/td>\n",
       "      <td>2021<\/td>\n",
       "      <td>Jul<\/td>\n",
       "      <td>4400.887097<\/td>\n",
       "      <td>9153.630152<\/td>\n",
       "      <td>1426.0<\/td>\n",
       "      <td>3925.386878<\/td>\n",
       "      <td>4876.387316<\/td>\n",
       "    <\/tr>\n",
       "    <tr>\n",
       "      <th>43<\/th>\n",
       "      <td>Asia<\/td>\n",
       "      <td>2021<\/td>\n",
       "      <td>Aug<\/td>\n",
       "      <td>5685.551192<\/td>\n",
       "      <td>9482.403695<\/td>\n",
       "      <td>1426.0<\/td>\n",
       "      <td>5192.972296<\/td>\n",
       "      <td>6178.130088<\/td>\n",
       "    <\/tr>\n",
       "    <tr>\n",
       "      <th>44<\/th>\n",
       "      <td>Asia<\/td>\n",
       "      <td>2021<\/td>\n",
       "      <td>Sep<\/td>\n",
       "      <td>4201.860870<\/td>\n",
       "      <td>7508.954554<\/td>\n",
       "      <td>1380.0<\/td>\n",
       "      <td>3805.336968<\/td>\n",
       "      <td>4598.384771<\/td>\n",
       "    <\/tr>\n",
       "    <tr>\n",
       "      <th>45<\/th>\n",
       "      <td>Asia<\/td>\n",
       "      <td>2021<\/td>\n",
       "      <td>Oct<\/td>\n",
       "      <td>2593.950912<\/td>\n",
       "      <td>5312.542472<\/td>\n",
       "      <td>1426.0<\/td>\n",
       "      <td>2317.982245<\/td>\n",
       "      <td>2869.919578<\/td>\n",
       "    <\/tr>\n",
       "    <tr>\n",
       "      <th>46<\/th>\n",
       "      <td>Asia<\/td>\n",
       "      <td>2021<\/td>\n",
       "      <td>Nov<\/td>\n",
       "      <td>2035.668116<\/td>\n",
       "      <td>4450.232884<\/td>\n",
       "      <td>1380.0<\/td>\n",
       "      <td>1800.665534<\/td>\n",
       "      <td>2270.670698<\/td>\n",
       "    <\/tr>\n",
       "    <tr>\n",
       "      <th>47<\/th>\n",
       "      <td>Asia<\/td>\n",
       "      <td>2021<\/td>\n",
       "      <td>Dec<\/td>\n",
       "      <td>1795.433380<\/td>\n",
       "      <td>4308.138282<\/td>\n",
       "      <td>1426.0<\/td>\n",
       "      <td>1571.640124<\/td>\n",
       "      <td>2019.226636<\/td>\n",
       "    <\/tr>\n",
       "  <\/tbody>\n",
       "<\/table>\n",
       "<\/div>"
      ]
     },
     "metadata":{
      
     },
     "output_type":"display_data"
    }
   ],
   "metadata":{
    "datalore":{
     "type":"CODE",
     "hide_input_from_viewers":false,
     "hide_output_from_viewers":false
    }
   }
  },
  {
   "cell_type":"code",
   "source":[
    "statsAs20.columns=['continent','year','month','mean','std','size','lb','ub']"
   ],
   "execution_count":172,
   "outputs":[
    
   ],
   "metadata":{
    "datalore":{
     "type":"CODE",
     "hide_input_from_viewers":false,
     "hide_output_from_viewers":false
    }
   }
  },
  {
   "cell_type":"code",
   "source":[
    "statsAs21.columns=['continent','year','month','mean','std','size','lb','ub']"
   ],
   "execution_count":173,
   "outputs":[
    
   ],
   "metadata":{
    "datalore":{
     "type":"CODE",
     "hide_input_from_viewers":false,
     "hide_output_from_viewers":false
    }
   }
  },
  {
   "cell_type":"code",
   "source":[
    "ci_lb_ub20=[statsAs20['lb'],statsAs20['ub']]\n",
    "err20 = np.abs(ci_lb_ub20 - statsAs20['mean'].to_numpy())"
   ],
   "execution_count":174,
   "outputs":[
    
   ],
   "metadata":{
    "datalore":{
     "type":"CODE",
     "hide_input_from_viewers":false,
     "hide_output_from_viewers":false
    }
   }
  },
  {
   "cell_type":"code",
   "source":[
    "ci_lb_ub21=[statsAs21['lb'],statsAs21['ub']]\n",
    "err21 = np.abs(ci_lb_ub21 - statsAs21['mean'].to_numpy())"
   ],
   "execution_count":175,
   "outputs":[
    
   ],
   "metadata":{
    "datalore":{
     "type":"CODE",
     "hide_input_from_viewers":false,
     "hide_output_from_viewers":false
    }
   }
  },
  {
   "cell_type":"code",
   "source":[
    "from matplotlib.transforms import Affine2D"
   ],
   "execution_count":176,
   "outputs":[
    
   ],
   "metadata":{
    "datalore":{
     "type":"CODE",
     "hide_input_from_viewers":false,
     "hide_output_from_viewers":false
    }
   }
  },
  {
   "cell_type":"markdown",
   "source":[
    "As you can see in the below graph we included the graph of the year 2021 to the year 2020 to be able to see whether the cases has increased in the following year or not however the cases in asia seems to have increased a lot from 2020  to 2021"
   ],
   "attachments":{
    
   },
   "metadata":{
    "datalore":{
     "type":"MD",
     "hide_input_from_viewers":false,
     "hide_output_from_viewers":false
    }
   }
  },
  {
   "cell_type":"code",
   "source":[
    "fig, ax = plt.subplots()\n",
    "\n",
    "trans1 = Affine2D().translate(-0.1, 0.0) + ax.transData\n",
    "trans2 = Affine2D().translate(+0.1, 0.0) + ax.transData\n",
    "plt.errorbar('month', 'mean',  yerr=err20, data=statsAs20,marker='s', capsize=2,\n",
    "             color='blue', markersize=4, linewidth=1, linestyle='--',transform=trans1)\n",
    "plt.errorbar('month', 'mean',  yerr=err21, data=statsAs21,marker='s', capsize=2,\n",
    "             color='red', markersize=4, linewidth=1, linestyle='--',transform=trans2)\n",
    "plt.legend(['2020','2021'])\n",
    "plt.xlabel(\"Month\")\n",
    "plt.ylabel(\"Average Daily COVID CASES\")\n",
    "plt.title(\"Asia\")\n",
    "plt.show()"
   ],
   "execution_count":177,
   "outputs":[
    {
     "data":{
      "image\/png":"[encoded data removed]"
     },
     "metadata":{
      "image\/png":{
       
      }
     },
     "output_type":"display_data"
    }
   ],
   "metadata":{
    "datalore":{
     "type":"CODE",
     "hide_input_from_viewers":false,
     "hide_output_from_viewers":false
    }
   }
  },
  {
   "cell_type":"code",
   "source":[
    "statsEu20=statsdcases[(statsdcases['continent']=='Europe') & (statsdcases['year']==2020)]"
   ],
   "execution_count":178,
   "outputs":[
    
   ],
   "metadata":{
    "datalore":{
     "type":"CODE",
     "hide_input_from_viewers":false,
     "hide_output_from_viewers":false
    }
   }
  },
  {
   "cell_type":"code",
   "source":[
    "statsEu20"
   ],
   "execution_count":179,
   "outputs":[
    {
     "data":{
      "text\/html":[
       "<div>\n",
       "<style scoped>\n",
       "    .dataframe tbody tr th:only-of-type {\n",
       "        vertical-align: middle;\n",
       "    }\n",
       "\n",
       "    .dataframe tbody tr th {\n",
       "        vertical-align: top;\n",
       "    }\n",
       "\n",
       "    .dataframe thead tr th {\n",
       "        text-align: left;\n",
       "    }\n",
       "<\/style>\n",
       "<table border=\"1\" class=\"dataframe\">\n",
       "  <thead>\n",
       "    <tr>\n",
       "      <th><\/th>\n",
       "      <th>continent<\/th>\n",
       "      <th>year<\/th>\n",
       "      <th>month<\/th>\n",
       "      <th colspan=\"5\" halign=\"left\">dcases<\/th>\n",
       "    <\/tr>\n",
       "    <tr>\n",
       "      <th><\/th>\n",
       "      <th><\/th>\n",
       "      <th><\/th>\n",
       "      <th><\/th>\n",
       "      <th>mean<\/th>\n",
       "      <th>std<\/th>\n",
       "      <th>size<\/th>\n",
       "      <th>get_ci_lb<\/th>\n",
       "      <th>get_ci_ub<\/th>\n",
       "    <\/tr>\n",
       "  <\/thead>\n",
       "  <tbody>\n",
       "    <tr>\n",
       "      <th>48<\/th>\n",
       "      <td>Europe<\/td>\n",
       "      <td>2020<\/td>\n",
       "      <td>Jan<\/td>\n",
       "      <td>0.894737<\/td>\n",
       "      <td>0.936586<\/td>\n",
       "      <td>19.0<\/td>\n",
       "      <td>0.443317<\/td>\n",
       "      <td>1.346157<\/td>\n",
       "    <\/tr>\n",
       "    <tr>\n",
       "      <th>49<\/th>\n",
       "      <td>Europe<\/td>\n",
       "      <td>2020<\/td>\n",
       "      <td>Feb<\/td>\n",
       "      <td>4.879479<\/td>\n",
       "      <td>25.101789<\/td>\n",
       "      <td>307.0<\/td>\n",
       "      <td>2.060416<\/td>\n",
       "      <td>7.698541<\/td>\n",
       "    <\/tr>\n",
       "    <tr>\n",
       "      <th>50<\/th>\n",
       "      <td>Europe<\/td>\n",
       "      <td>2020<\/td>\n",
       "      <td>Mar<\/td>\n",
       "      <td>369.486078<\/td>\n",
       "      <td>1120.091160<\/td>\n",
       "      <td>1257.0<\/td>\n",
       "      <td>307.505941<\/td>\n",
       "      <td>431.466215<\/td>\n",
       "    <\/tr>\n",
       "    <tr>\n",
       "      <th>51<\/th>\n",
       "      <td>Europe<\/td>\n",
       "      <td>2020<\/td>\n",
       "      <td>Apr<\/td>\n",
       "      <td>716.859690<\/td>\n",
       "      <td>2026.953638<\/td>\n",
       "      <td>1290.0<\/td>\n",
       "      <td>606.145054<\/td>\n",
       "      <td>827.574326<\/td>\n",
       "    <\/tr>\n",
       "    <tr>\n",
       "      <th>52<\/th>\n",
       "      <td>Europe<\/td>\n",
       "      <td>2020<\/td>\n",
       "      <td>May<\/td>\n",
       "      <td>451.645911<\/td>\n",
       "      <td>1513.905248<\/td>\n",
       "      <td>1333.0<\/td>\n",
       "      <td>370.301725<\/td>\n",
       "      <td>532.990098<\/td>\n",
       "    <\/tr>\n",
       "    <tr>\n",
       "      <th>53<\/th>\n",
       "      <td>Europe<\/td>\n",
       "      <td>2020<\/td>\n",
       "      <td>Jun<\/td>\n",
       "      <td>350.358915<\/td>\n",
       "      <td>1227.591513<\/td>\n",
       "      <td>1290.0<\/td>\n",
       "      <td>283.306396<\/td>\n",
       "      <td>417.411434<\/td>\n",
       "    <\/tr>\n",
       "    <tr>\n",
       "      <th>54<\/th>\n",
       "      <td>Europe<\/td>\n",
       "      <td>2020<\/td>\n",
       "      <td>Jul<\/td>\n",
       "      <td>342.822206<\/td>\n",
       "      <td>978.006769<\/td>\n",
       "      <td>1333.0<\/td>\n",
       "      <td>290.272573<\/td>\n",
       "      <td>395.371838<\/td>\n",
       "    <\/tr>\n",
       "    <tr>\n",
       "      <th>55<\/th>\n",
       "      <td>Europe<\/td>\n",
       "      <td>2020<\/td>\n",
       "      <td>Aug<\/td>\n",
       "      <td>574.078770<\/td>\n",
       "      <td>1526.829653<\/td>\n",
       "      <td>1333.0<\/td>\n",
       "      <td>492.040137<\/td>\n",
       "      <td>656.117402<\/td>\n",
       "    <\/tr>\n",
       "    <tr>\n",
       "      <th>56<\/th>\n",
       "      <td>Europe<\/td>\n",
       "      <td>2020<\/td>\n",
       "      <td>Sep<\/td>\n",
       "      <td>1124.893023<\/td>\n",
       "      <td>2728.262523<\/td>\n",
       "      <td>1290.0<\/td>\n",
       "      <td>975.872056<\/td>\n",
       "      <td>1273.913991<\/td>\n",
       "    <\/tr>\n",
       "    <tr>\n",
       "      <th>57<\/th>\n",
       "      <td>Europe<\/td>\n",
       "      <td>2020<\/td>\n",
       "      <td>Oct<\/td>\n",
       "      <td>3655.168792<\/td>\n",
       "      <td>6861.235403<\/td>\n",
       "      <td>1333.0<\/td>\n",
       "      <td>3286.505289<\/td>\n",
       "      <td>4023.832295<\/td>\n",
       "    <\/tr>\n",
       "    <tr>\n",
       "      <th>58<\/th>\n",
       "      <td>Europe<\/td>\n",
       "      <td>2020<\/td>\n",
       "      <td>Nov<\/td>\n",
       "      <td>5744.452713<\/td>\n",
       "      <td>9583.968860<\/td>\n",
       "      <td>1290.0<\/td>\n",
       "      <td>5220.964852<\/td>\n",
       "      <td>6267.940574<\/td>\n",
       "    <\/tr>\n",
       "    <tr>\n",
       "      <th>59<\/th>\n",
       "      <td>Europe<\/td>\n",
       "      <td>2020<\/td>\n",
       "      <td>Dec<\/td>\n",
       "      <td>4883.578395<\/td>\n",
       "      <td>7650.466032<\/td>\n",
       "      <td>1333.0<\/td>\n",
       "      <td>4472.508458<\/td>\n",
       "      <td>5294.648332<\/td>\n",
       "    <\/tr>\n",
       "  <\/tbody>\n",
       "<\/table>\n",
       "<\/div>"
      ]
     },
     "metadata":{
      
     },
     "output_type":"display_data"
    }
   ],
   "metadata":{
    "datalore":{
     "type":"CODE",
     "hide_input_from_viewers":false,
     "hide_output_from_viewers":false
    }
   }
  },
  {
   "cell_type":"code",
   "source":[
    "statsEu20.columns=['continent','year','month','mean','std','size','lb','ub']"
   ],
   "execution_count":180,
   "outputs":[
    
   ],
   "metadata":{
    "datalore":{
     "type":"CODE",
     "hide_input_from_viewers":false,
     "hide_output_from_viewers":false
    }
   }
  },
  {
   "cell_type":"markdown",
   "source":[
    "As you can see this graph is the average daily cases of covid-19 the continent europe throughout the year 2020 starting from january till december and as you can see the number of daily cases increased gradually. "
   ],
   "attachments":{
    
   },
   "metadata":{
    "datalore":{
     "type":"MD",
     "hide_input_from_viewers":false,
     "hide_output_from_viewers":false
    }
   }
  },
  {
   "cell_type":"code",
   "source":[
    "plt.plot( 'month', 'mean', data=statsEu20, marker='s', color='black', markersize=4,     linewidth=1, linestyle='--')\n",
    "plt.plot( 'month', 'mean', data=statsEu20, marker='o', color='black',  markersize=4, linewidth=1,linestyle='-')\n",
    "plt.xlabel(\"Month\")\n",
    "plt.ylabel(\"Average Daily COVID CASES\")\n",
    "plt.title(\"Europe\")\n",
    "plt.show()"
   ],
   "execution_count":181,
   "outputs":[
    {
     "data":{
      "image\/png":"[encoded data removed]"
     },
     "metadata":{
      "image\/png":{
       
      }
     },
     "output_type":"display_data"
    }
   ],
   "metadata":{
    "datalore":{
     "type":"CODE",
     "hide_input_from_viewers":false,
     "hide_output_from_viewers":false
    }
   }
  },
  {
   "cell_type":"code",
   "source":[
    "ci_lb_ub=[statsEu20['lb'],statsEu20['ub']]"
   ],
   "execution_count":182,
   "outputs":[
    
   ],
   "metadata":{
    "datalore":{
     "type":"CODE",
     "hide_input_from_viewers":false,
     "hide_output_from_viewers":false
    }
   }
  },
  {
   "cell_type":"code",
   "source":[
    "err = np.abs(ci_lb_ub - statsEu20['mean'].to_numpy())"
   ],
   "execution_count":183,
   "outputs":[
    
   ],
   "metadata":{
    "datalore":{
     "type":"CODE",
     "hide_input_from_viewers":false,
     "hide_output_from_viewers":false
    }
   }
  },
  {
   "cell_type":"markdown",
   "source":[
    "in this below graph you can see the marginal error that could happen through the calculations."
   ],
   "attachments":{
    
   },
   "metadata":{
    "datalore":{
     "type":"MD",
     "hide_input_from_viewers":false,
     "hide_output_from_viewers":false
    }
   }
  },
  {
   "cell_type":"code",
   "source":[
    "plt.errorbar('month', 'mean',  yerr=err, data=statsEu20,marker='s', capsize=2,\n",
    "             color='black', markersize=4, linewidth=1, linestyle='--')\n",
    "plt.xlabel(\"Month\")\n",
    "plt.ylabel(\"Average Daily COVID CASES\")\n",
    "plt.title(\"Europe\")\n",
    "plt.show()"
   ],
   "execution_count":184,
   "outputs":[
    {
     "data":{
      "image\/png":"[encoded data removed]"
     },
     "metadata":{
      "image\/png":{
       
      }
     },
     "output_type":"display_data"
    }
   ],
   "metadata":{
    "datalore":{
     "type":"CODE",
     "hide_input_from_viewers":false,
     "hide_output_from_viewers":false
    }
   }
  },
  {
   "cell_type":"code",
   "source":[
    "statsEu21=statsdcases[(statsdcases['continent']=='Europe')\n",
    "                       & (statsdcases['year']==2021)]\n",
    "statsEu21"
   ],
   "execution_count":185,
   "outputs":[
    {
     "data":{
      "text\/html":[
       "<div>\n",
       "<style scoped>\n",
       "    .dataframe tbody tr th:only-of-type {\n",
       "        vertical-align: middle;\n",
       "    }\n",
       "\n",
       "    .dataframe tbody tr th {\n",
       "        vertical-align: top;\n",
       "    }\n",
       "\n",
       "    .dataframe thead tr th {\n",
       "        text-align: left;\n",
       "    }\n",
       "<\/style>\n",
       "<table border=\"1\" class=\"dataframe\">\n",
       "  <thead>\n",
       "    <tr>\n",
       "      <th><\/th>\n",
       "      <th>continent<\/th>\n",
       "      <th>year<\/th>\n",
       "      <th>month<\/th>\n",
       "      <th colspan=\"5\" halign=\"left\">dcases<\/th>\n",
       "    <\/tr>\n",
       "    <tr>\n",
       "      <th><\/th>\n",
       "      <th><\/th>\n",
       "      <th><\/th>\n",
       "      <th><\/th>\n",
       "      <th>mean<\/th>\n",
       "      <th>std<\/th>\n",
       "      <th>size<\/th>\n",
       "      <th>get_ci_lb<\/th>\n",
       "      <th>get_ci_ub<\/th>\n",
       "    <\/tr>\n",
       "  <\/thead>\n",
       "  <tbody>\n",
       "    <tr>\n",
       "      <th>60<\/th>\n",
       "      <td>Europe<\/td>\n",
       "      <td>2021<\/td>\n",
       "      <td>Jan<\/td>\n",
       "      <td>4974.927982<\/td>\n",
       "      <td>9883.362427<\/td>\n",
       "      <td>1333.0<\/td>\n",
       "      <td>4443.881487<\/td>\n",
       "      <td>5505.974477<\/td>\n",
       "    <\/tr>\n",
       "    <tr>\n",
       "      <th>61<\/th>\n",
       "      <td>Europe<\/td>\n",
       "      <td>2021<\/td>\n",
       "      <td>Feb<\/td>\n",
       "      <td>3370.627076<\/td>\n",
       "      <td>5876.172663<\/td>\n",
       "      <td>1204.0<\/td>\n",
       "      <td>3038.375874<\/td>\n",
       "      <td>3702.878279<\/td>\n",
       "    <\/tr>\n",
       "    <tr>\n",
       "      <th>62<\/th>\n",
       "      <td>Europe<\/td>\n",
       "      <td>2021<\/td>\n",
       "      <td>Mar<\/td>\n",
       "      <td>4226.169542<\/td>\n",
       "      <td>6925.883241<\/td>\n",
       "      <td>1333.0<\/td>\n",
       "      <td>3854.032423<\/td>\n",
       "      <td>4598.306661<\/td>\n",
       "    <\/tr>\n",
       "    <tr>\n",
       "      <th>63<\/th>\n",
       "      <td>Europe<\/td>\n",
       "      <td>2021<\/td>\n",
       "      <td>Apr<\/td>\n",
       "      <td>3882.789922<\/td>\n",
       "      <td>7984.927128<\/td>\n",
       "      <td>1290.0<\/td>\n",
       "      <td>3446.643637<\/td>\n",
       "      <td>4318.936208<\/td>\n",
       "    <\/tr>\n",
       "    <tr>\n",
       "      <th>64<\/th>\n",
       "      <td>Europe<\/td>\n",
       "      <td>2021<\/td>\n",
       "      <td>May<\/td>\n",
       "      <td>1778.587397<\/td>\n",
       "      <td>3377.861190<\/td>\n",
       "      <td>1333.0<\/td>\n",
       "      <td>1597.090325<\/td>\n",
       "      <td>1960.084469<\/td>\n",
       "    <\/tr>\n",
       "    <tr>\n",
       "      <th>65<\/th>\n",
       "      <td>Europe<\/td>\n",
       "      <td>2021<\/td>\n",
       "      <td>Jun<\/td>\n",
       "      <td>1061.393798<\/td>\n",
       "      <td>3027.147988<\/td>\n",
       "      <td>1290.0<\/td>\n",
       "      <td>896.047349<\/td>\n",
       "      <td>1226.740248<\/td>\n",
       "    <\/tr>\n",
       "    <tr>\n",
       "      <th>66<\/th>\n",
       "      <td>Europe<\/td>\n",
       "      <td>2021<\/td>\n",
       "      <td>Jul<\/td>\n",
       "      <td>2644.664666<\/td>\n",
       "      <td>7673.031751<\/td>\n",
       "      <td>1333.0<\/td>\n",
       "      <td>2232.382242<\/td>\n",
       "      <td>3056.947090<\/td>\n",
       "    <\/tr>\n",
       "    <tr>\n",
       "      <th>67<\/th>\n",
       "      <td>Europe<\/td>\n",
       "      <td>2021<\/td>\n",
       "      <td>Aug<\/td>\n",
       "      <td>2896.221305<\/td>\n",
       "      <td>6796.809360<\/td>\n",
       "      <td>1333.0<\/td>\n",
       "      <td>2531.019501<\/td>\n",
       "      <td>3261.423109<\/td>\n",
       "    <\/tr>\n",
       "    <tr>\n",
       "      <th>68<\/th>\n",
       "      <td>Europe<\/td>\n",
       "      <td>2021<\/td>\n",
       "      <td>Sep<\/td>\n",
       "      <td>2872.321705<\/td>\n",
       "      <td>6136.287433<\/td>\n",
       "      <td>1290.0<\/td>\n",
       "      <td>2537.150335<\/td>\n",
       "      <td>3207.493076<\/td>\n",
       "    <\/tr>\n",
       "    <tr>\n",
       "      <th>69<\/th>\n",
       "      <td>Europe<\/td>\n",
       "      <td>2021<\/td>\n",
       "      <td>Oct<\/td>\n",
       "      <td>4167.192798<\/td>\n",
       "      <td>8245.780023<\/td>\n",
       "      <td>1333.0<\/td>\n",
       "      <td>3724.135831<\/td>\n",
       "      <td>4610.249765<\/td>\n",
       "    <\/tr>\n",
       "    <tr>\n",
       "      <th>70<\/th>\n",
       "      <td>Europe<\/td>\n",
       "      <td>2021<\/td>\n",
       "      <td>Nov<\/td>\n",
       "      <td>7224.170543<\/td>\n",
       "      <td>11493.930719<\/td>\n",
       "      <td>1290.0<\/td>\n",
       "      <td>6596.358277<\/td>\n",
       "      <td>7851.982808<\/td>\n",
       "    <\/tr>\n",
       "    <tr>\n",
       "      <th>71<\/th>\n",
       "      <td>Europe<\/td>\n",
       "      <td>2021<\/td>\n",
       "      <td>Dec<\/td>\n",
       "      <td>10521.554389<\/td>\n",
       "      <td>23984.334327<\/td>\n",
       "      <td>1333.0<\/td>\n",
       "      <td>9232.843510<\/td>\n",
       "      <td>11810.265267<\/td>\n",
       "    <\/tr>\n",
       "  <\/tbody>\n",
       "<\/table>\n",
       "<\/div>"
      ]
     },
     "metadata":{
      
     },
     "output_type":"display_data"
    }
   ],
   "metadata":{
    "datalore":{
     "type":"CODE",
     "hide_input_from_viewers":false,
     "hide_output_from_viewers":false
    }
   }
  },
  {
   "cell_type":"code",
   "source":[
    "statsEu20.columns=['continent','year','month','mean','std','size','lb','ub']"
   ],
   "execution_count":186,
   "outputs":[
    
   ],
   "metadata":{
    "datalore":{
     "type":"CODE",
     "hide_input_from_viewers":false,
     "hide_output_from_viewers":false
    }
   }
  },
  {
   "cell_type":"code",
   "source":[
    "statsEu21.columns=['continent','year','month','mean','std','size','lb','ub']"
   ],
   "execution_count":187,
   "outputs":[
    
   ],
   "metadata":{
    "datalore":{
     "type":"CODE",
     "hide_input_from_viewers":false,
     "hide_output_from_viewers":false
    }
   }
  },
  {
   "cell_type":"code",
   "source":[
    "ci_lb_ub20=[statsEu20['lb'],statsEu20['ub']]\n",
    "err20 = np.abs(ci_lb_ub20 - statsEu20['mean'].to_numpy())"
   ],
   "execution_count":188,
   "outputs":[
    
   ],
   "metadata":{
    "datalore":{
     "type":"CODE",
     "hide_input_from_viewers":false,
     "hide_output_from_viewers":false
    }
   }
  },
  {
   "cell_type":"code",
   "source":[
    "ci_lb_ub21=[statsEu21['lb'],statsEu21['ub']]\n",
    "err21 = np.abs(ci_lb_ub21 - statsEu21['mean'].to_numpy())"
   ],
   "execution_count":189,
   "outputs":[
    
   ],
   "metadata":{
    "datalore":{
     "type":"CODE",
     "hide_input_from_viewers":false,
     "hide_output_from_viewers":false
    }
   }
  },
  {
   "cell_type":"code",
   "source":[
    "from matplotlib.transforms import Affine2D"
   ],
   "execution_count":190,
   "outputs":[
    
   ],
   "metadata":{
    "datalore":{
     "type":"CODE",
     "hide_input_from_viewers":false,
     "hide_output_from_viewers":false
    }
   }
  },
  {
   "cell_type":"markdown",
   "source":[
    "As you can see in the below graph we included the graph of the year 2021 to the year 2020 to be able to see whether the cases has increased in the following year or not however the cases in europe seems to have increased a lot. Now we will be able to compare not only the different years but we can also compare europe with asia and as you can see they're similar in the number of cases."
   ],
   "attachments":{
    
   },
   "metadata":{
    "datalore":{
     "type":"MD",
     "hide_input_from_viewers":false,
     "hide_output_from_viewers":false
    }
   }
  },
  {
   "cell_type":"code",
   "source":[
    "fig, ax = plt.subplots()\n",
    "\n",
    "trans1 = Affine2D().translate(-0.1, 0.0) + ax.transData\n",
    "trans2 = Affine2D().translate(+0.1, 0.0) + ax.transData\n",
    "plt.errorbar('month', 'mean',  yerr=err20, data=statsEu20,marker='s', capsize=2,\n",
    "             color='blue', markersize=4, linewidth=1, linestyle='--',transform=trans1)\n",
    "plt.errorbar('month', 'mean',  yerr=err21, data=statsEu21,marker='s', capsize=2,\n",
    "             color='red', markersize=4, linewidth=1, linestyle='--',transform=trans2)\n",
    "plt.legend(['2020','2021'])\n",
    "plt.xlabel(\"Month\")\n",
    "plt.ylabel(\"Average Daily COVID CASES\")\n",
    "plt.title(\"Europe\")\n",
    "plt.show()"
   ],
   "execution_count":191,
   "outputs":[
    {
     "data":{
      "image\/png":"[encoded data removed]"
     },
     "metadata":{
      "image\/png":{
       
      }
     },
     "output_type":"display_data"
    }
   ],
   "metadata":{
    "datalore":{
     "type":"CODE",
     "hide_input_from_viewers":false,
     "hide_output_from_viewers":false
    }
   }
  },
  {
   "cell_type":"code",
   "source":[
    "statsdcases=df.groupby(['region','year','month']).agg({\"dcases\": [np.mean, np.std, np.size,get_ci_lb,get_ci_ub]})"
   ],
   "execution_count":192,
   "outputs":[
    
   ],
   "metadata":{
    "datalore":{
     "type":"CODE",
     "hide_input_from_viewers":false,
     "hide_output_from_viewers":false
    }
   }
  },
  {
   "cell_type":"code",
   "source":[
    "statsdcases"
   ],
   "execution_count":193,
   "outputs":[
    {
     "data":{
      "text\/html":[
       "<div>\n",
       "<style scoped>\n",
       "    .dataframe tbody tr th:only-of-type {\n",
       "        vertical-align: middle;\n",
       "    }\n",
       "\n",
       "    .dataframe tbody tr th {\n",
       "        vertical-align: top;\n",
       "    }\n",
       "\n",
       "    .dataframe thead tr th {\n",
       "        text-align: left;\n",
       "    }\n",
       "\n",
       "    .dataframe thead tr:last-of-type th {\n",
       "        text-align: right;\n",
       "    }\n",
       "<\/style>\n",
       "<table border=\"1\" class=\"dataframe\">\n",
       "  <thead>\n",
       "    <tr>\n",
       "      <th><\/th>\n",
       "      <th><\/th>\n",
       "      <th><\/th>\n",
       "      <th colspan=\"5\" halign=\"left\">dcases<\/th>\n",
       "    <\/tr>\n",
       "    <tr>\n",
       "      <th><\/th>\n",
       "      <th><\/th>\n",
       "      <th><\/th>\n",
       "      <th>mean<\/th>\n",
       "      <th>std<\/th>\n",
       "      <th>size<\/th>\n",
       "      <th>get_ci_lb<\/th>\n",
       "      <th>get_ci_ub<\/th>\n",
       "    <\/tr>\n",
       "    <tr>\n",
       "      <th>region<\/th>\n",
       "      <th>year<\/th>\n",
       "      <th>month<\/th>\n",
       "      <th><\/th>\n",
       "      <th><\/th>\n",
       "      <th><\/th>\n",
       "      <th><\/th>\n",
       "      <th><\/th>\n",
       "    <\/tr>\n",
       "  <\/thead>\n",
       "  <tbody>\n",
       "    <tr>\n",
       "      <th rowspan=\"5\" valign=\"top\">East Asia &amp; Pacific<\/th>\n",
       "      <th rowspan=\"5\" valign=\"top\">2020<\/th>\n",
       "      <th>Jan<\/th>\n",
       "      <td>126.679487<\/td>\n",
       "      <td>436.945076<\/td>\n",
       "      <td>78.0<\/td>\n",
       "      <td>28.163595<\/td>\n",
       "      <td>225.195380<\/td>\n",
       "    <\/tr>\n",
       "    <tr>\n",
       "      <th>Feb<\/th>\n",
       "      <td>250.304795<\/td>\n",
       "      <td>1155.872616<\/td>\n",
       "      <td>292.0<\/td>\n",
       "      <td>117.174576<\/td>\n",
       "      <td>383.435013<\/td>\n",
       "    <\/tr>\n",
       "    <tr>\n",
       "      <th>Mar<\/th>\n",
       "      <td>55.969828<\/td>\n",
       "      <td>102.512114<\/td>\n",
       "      <td>464.0<\/td>\n",
       "      <td>46.617902<\/td>\n",
       "      <td>65.321753<\/td>\n",
       "    <\/tr>\n",
       "    <tr>\n",
       "      <th>Apr<\/th>\n",
       "      <td>92.700000<\/td>\n",
       "      <td>177.828711<\/td>\n",
       "      <td>570.0<\/td>\n",
       "      <td>78.070236<\/td>\n",
       "      <td>107.329764<\/td>\n",
       "    <\/tr>\n",
       "    <tr>\n",
       "      <th>May<\/th>\n",
       "      <td>86.125637<\/td>\n",
       "      <td>193.352744<\/td>\n",
       "      <td>589.0<\/td>\n",
       "      <td>70.478472<\/td>\n",
       "      <td>101.772801<\/td>\n",
       "    <\/tr>\n",
       "    <tr>\n",
       "      <th>...<\/th>\n",
       "      <th>...<\/th>\n",
       "      <th>...<\/th>\n",
       "      <td>...<\/td>\n",
       "      <td>...<\/td>\n",
       "      <td>...<\/td>\n",
       "      <td>...<\/td>\n",
       "      <td>...<\/td>\n",
       "    <\/tr>\n",
       "    <tr>\n",
       "      <th rowspan=\"5\" valign=\"top\">Sub-Saharan Africa<\/th>\n",
       "      <th rowspan=\"5\" valign=\"top\">2021<\/th>\n",
       "      <th>Aug<\/th>\n",
       "      <td>466.880577<\/td>\n",
       "      <td>1745.719642<\/td>\n",
       "      <td>1457.0<\/td>\n",
       "      <td>377.167865<\/td>\n",
       "      <td>556.593288<\/td>\n",
       "    <\/tr>\n",
       "    <tr>\n",
       "      <th>Sep<\/th>\n",
       "      <td>247.950355<\/td>\n",
       "      <td>1021.166824<\/td>\n",
       "      <td>1410.0<\/td>\n",
       "      <td>194.603545<\/td>\n",
       "      <td>301.297165<\/td>\n",
       "    <\/tr>\n",
       "    <tr>\n",
       "      <th>Oct<\/th>\n",
       "      <td>87.528483<\/td>\n",
       "      <td>293.259577<\/td>\n",
       "      <td>1457.0<\/td>\n",
       "      <td>72.457843<\/td>\n",
       "      <td>102.599123<\/td>\n",
       "    <\/tr>\n",
       "    <tr>\n",
       "      <th>Nov<\/th>\n",
       "      <td>89.737589<\/td>\n",
       "      <td>588.981229<\/td>\n",
       "      <td>1410.0<\/td>\n",
       "      <td>58.968601<\/td>\n",
       "      <td>120.506577<\/td>\n",
       "    <\/tr>\n",
       "    <tr>\n",
       "      <th>Dec<\/th>\n",
       "      <td>682.937543<\/td>\n",
       "      <td>2624.860565<\/td>\n",
       "      <td>1457.0<\/td>\n",
       "      <td>548.045689<\/td>\n",
       "      <td>817.829397<\/td>\n",
       "    <\/tr>\n",
       "  <\/tbody>\n",
       "<\/table>\n",
       "<p>168 rows × 5 columns<\/p>\n",
       "<\/div>"
      ]
     },
     "metadata":{
      
     },
     "output_type":"display_data"
    }
   ],
   "metadata":{
    "datalore":{
     "type":"CODE",
     "hide_input_from_viewers":false,
     "hide_output_from_viewers":false
    }
   }
  },
  {
   "cell_type":"code",
   "source":[
    "statsdcases=statsdcases.reset_index()\n",
    "statsdcases"
   ],
   "execution_count":194,
   "outputs":[
    {
     "data":{
      "text\/html":[
       "<div>\n",
       "<style scoped>\n",
       "    .dataframe tbody tr th:only-of-type {\n",
       "        vertical-align: middle;\n",
       "    }\n",
       "\n",
       "    .dataframe tbody tr th {\n",
       "        vertical-align: top;\n",
       "    }\n",
       "\n",
       "    .dataframe thead tr th {\n",
       "        text-align: left;\n",
       "    }\n",
       "<\/style>\n",
       "<table border=\"1\" class=\"dataframe\">\n",
       "  <thead>\n",
       "    <tr>\n",
       "      <th><\/th>\n",
       "      <th>region<\/th>\n",
       "      <th>year<\/th>\n",
       "      <th>month<\/th>\n",
       "      <th colspan=\"5\" halign=\"left\">dcases<\/th>\n",
       "    <\/tr>\n",
       "    <tr>\n",
       "      <th><\/th>\n",
       "      <th><\/th>\n",
       "      <th><\/th>\n",
       "      <th><\/th>\n",
       "      <th>mean<\/th>\n",
       "      <th>std<\/th>\n",
       "      <th>size<\/th>\n",
       "      <th>get_ci_lb<\/th>\n",
       "      <th>get_ci_ub<\/th>\n",
       "    <\/tr>\n",
       "  <\/thead>\n",
       "  <tbody>\n",
       "    <tr>\n",
       "      <th>0<\/th>\n",
       "      <td>East Asia &amp; Pacific<\/td>\n",
       "      <td>2020<\/td>\n",
       "      <td>Jan<\/td>\n",
       "      <td>126.679487<\/td>\n",
       "      <td>436.945076<\/td>\n",
       "      <td>78.0<\/td>\n",
       "      <td>28.163595<\/td>\n",
       "      <td>225.195380<\/td>\n",
       "    <\/tr>\n",
       "    <tr>\n",
       "      <th>1<\/th>\n",
       "      <td>East Asia &amp; Pacific<\/td>\n",
       "      <td>2020<\/td>\n",
       "      <td>Feb<\/td>\n",
       "      <td>250.304795<\/td>\n",
       "      <td>1155.872616<\/td>\n",
       "      <td>292.0<\/td>\n",
       "      <td>117.174576<\/td>\n",
       "      <td>383.435013<\/td>\n",
       "    <\/tr>\n",
       "    <tr>\n",
       "      <th>2<\/th>\n",
       "      <td>East Asia &amp; Pacific<\/td>\n",
       "      <td>2020<\/td>\n",
       "      <td>Mar<\/td>\n",
       "      <td>55.969828<\/td>\n",
       "      <td>102.512114<\/td>\n",
       "      <td>464.0<\/td>\n",
       "      <td>46.617902<\/td>\n",
       "      <td>65.321753<\/td>\n",
       "    <\/tr>\n",
       "    <tr>\n",
       "      <th>3<\/th>\n",
       "      <td>East Asia &amp; Pacific<\/td>\n",
       "      <td>2020<\/td>\n",
       "      <td>Apr<\/td>\n",
       "      <td>92.700000<\/td>\n",
       "      <td>177.828711<\/td>\n",
       "      <td>570.0<\/td>\n",
       "      <td>78.070236<\/td>\n",
       "      <td>107.329764<\/td>\n",
       "    <\/tr>\n",
       "    <tr>\n",
       "      <th>4<\/th>\n",
       "      <td>East Asia &amp; Pacific<\/td>\n",
       "      <td>2020<\/td>\n",
       "      <td>May<\/td>\n",
       "      <td>86.125637<\/td>\n",
       "      <td>193.352744<\/td>\n",
       "      <td>589.0<\/td>\n",
       "      <td>70.478472<\/td>\n",
       "      <td>101.772801<\/td>\n",
       "    <\/tr>\n",
       "    <tr>\n",
       "      <th>...<\/th>\n",
       "      <td>...<\/td>\n",
       "      <td>...<\/td>\n",
       "      <td>...<\/td>\n",
       "      <td>...<\/td>\n",
       "      <td>...<\/td>\n",
       "      <td>...<\/td>\n",
       "      <td>...<\/td>\n",
       "      <td>...<\/td>\n",
       "    <\/tr>\n",
       "    <tr>\n",
       "      <th>163<\/th>\n",
       "      <td>Sub-Saharan Africa<\/td>\n",
       "      <td>2021<\/td>\n",
       "      <td>Aug<\/td>\n",
       "      <td>466.880577<\/td>\n",
       "      <td>1745.719642<\/td>\n",
       "      <td>1457.0<\/td>\n",
       "      <td>377.167865<\/td>\n",
       "      <td>556.593288<\/td>\n",
       "    <\/tr>\n",
       "    <tr>\n",
       "      <th>164<\/th>\n",
       "      <td>Sub-Saharan Africa<\/td>\n",
       "      <td>2021<\/td>\n",
       "      <td>Sep<\/td>\n",
       "      <td>247.950355<\/td>\n",
       "      <td>1021.166824<\/td>\n",
       "      <td>1410.0<\/td>\n",
       "      <td>194.603545<\/td>\n",
       "      <td>301.297165<\/td>\n",
       "    <\/tr>\n",
       "    <tr>\n",
       "      <th>165<\/th>\n",
       "      <td>Sub-Saharan Africa<\/td>\n",
       "      <td>2021<\/td>\n",
       "      <td>Oct<\/td>\n",
       "      <td>87.528483<\/td>\n",
       "      <td>293.259577<\/td>\n",
       "      <td>1457.0<\/td>\n",
       "      <td>72.457843<\/td>\n",
       "      <td>102.599123<\/td>\n",
       "    <\/tr>\n",
       "    <tr>\n",
       "      <th>166<\/th>\n",
       "      <td>Sub-Saharan Africa<\/td>\n",
       "      <td>2021<\/td>\n",
       "      <td>Nov<\/td>\n",
       "      <td>89.737589<\/td>\n",
       "      <td>588.981229<\/td>\n",
       "      <td>1410.0<\/td>\n",
       "      <td>58.968601<\/td>\n",
       "      <td>120.506577<\/td>\n",
       "    <\/tr>\n",
       "    <tr>\n",
       "      <th>167<\/th>\n",
       "      <td>Sub-Saharan Africa<\/td>\n",
       "      <td>2021<\/td>\n",
       "      <td>Dec<\/td>\n",
       "      <td>682.937543<\/td>\n",
       "      <td>2624.860565<\/td>\n",
       "      <td>1457.0<\/td>\n",
       "      <td>548.045689<\/td>\n",
       "      <td>817.829397<\/td>\n",
       "    <\/tr>\n",
       "  <\/tbody>\n",
       "<\/table>\n",
       "<p>168 rows × 8 columns<\/p>\n",
       "<\/div>"
      ]
     },
     "metadata":{
      
     },
     "output_type":"display_data"
    }
   ],
   "metadata":{
    "datalore":{
     "type":"CODE",
     "hide_input_from_viewers":false,
     "hide_output_from_viewers":false
    }
   }
  },
  {
   "cell_type":"code",
   "source":[
    "statsSA20=statsdcases[(statsdcases['region']=='South Asia') & (statsdcases['year']==2020)]"
   ],
   "execution_count":195,
   "outputs":[
    
   ],
   "metadata":{
    "datalore":{
     "type":"CODE",
     "hide_input_from_viewers":false,
     "hide_output_from_viewers":false
    }
   }
  },
  {
   "cell_type":"code",
   "source":[
    "statsSA20"
   ],
   "execution_count":196,
   "outputs":[
    {
     "data":{
      "text\/html":[
       "<div>\n",
       "<style scoped>\n",
       "    .dataframe tbody tr th:only-of-type {\n",
       "        vertical-align: middle;\n",
       "    }\n",
       "\n",
       "    .dataframe tbody tr th {\n",
       "        vertical-align: top;\n",
       "    }\n",
       "\n",
       "    .dataframe thead tr th {\n",
       "        text-align: left;\n",
       "    }\n",
       "<\/style>\n",
       "<table border=\"1\" class=\"dataframe\">\n",
       "  <thead>\n",
       "    <tr>\n",
       "      <th><\/th>\n",
       "      <th>region<\/th>\n",
       "      <th>year<\/th>\n",
       "      <th>month<\/th>\n",
       "      <th colspan=\"5\" halign=\"left\">dcases<\/th>\n",
       "    <\/tr>\n",
       "    <tr>\n",
       "      <th><\/th>\n",
       "      <th><\/th>\n",
       "      <th><\/th>\n",
       "      <th><\/th>\n",
       "      <th>mean<\/th>\n",
       "      <th>std<\/th>\n",
       "      <th>size<\/th>\n",
       "      <th>get_ci_lb<\/th>\n",
       "      <th>get_ci_ub<\/th>\n",
       "    <\/tr>\n",
       "  <\/thead>\n",
       "  <tbody>\n",
       "    <tr>\n",
       "      <th>120<\/th>\n",
       "      <td>South Asia<\/td>\n",
       "      <td>2020<\/td>\n",
       "      <td>Jan<\/td>\n",
       "      <td>0.214286<\/td>\n",
       "      <td>0.425815<\/td>\n",
       "      <td>14.0<\/td>\n",
       "      <td>-0.031573<\/td>\n",
       "      <td>0.460144<\/td>\n",
       "    <\/tr>\n",
       "    <tr>\n",
       "      <th>121<\/th>\n",
       "      <td>South Asia<\/td>\n",
       "      <td>2020<\/td>\n",
       "      <td>Feb<\/td>\n",
       "      <td>0.112245<\/td>\n",
       "      <td>0.589997<\/td>\n",
       "      <td>98.0<\/td>\n",
       "      <td>-0.006042<\/td>\n",
       "      <td>0.230532<\/td>\n",
       "    <\/tr>\n",
       "    <tr>\n",
       "      <th>122<\/th>\n",
       "      <td>South Asia<\/td>\n",
       "      <td>2020<\/td>\n",
       "      <td>Mar<\/td>\n",
       "      <td>16.986900<\/td>\n",
       "      <td>41.824978<\/td>\n",
       "      <td>229.0<\/td>\n",
       "      <td>11.540901<\/td>\n",
       "      <td>22.432898<\/td>\n",
       "    <\/tr>\n",
       "    <tr>\n",
       "      <th>123<\/th>\n",
       "      <td>South Asia<\/td>\n",
       "      <td>2020<\/td>\n",
       "      <td>Apr<\/td>\n",
       "      <td>249.016667<\/td>\n",
       "      <td>434.304474<\/td>\n",
       "      <td>240.0<\/td>\n",
       "      <td>193.790926<\/td>\n",
       "      <td>304.242407<\/td>\n",
       "    <\/tr>\n",
       "    <tr>\n",
       "      <th>124<\/th>\n",
       "      <td>South Asia<\/td>\n",
       "      <td>2020<\/td>\n",
       "      <td>May<\/td>\n",
       "      <td>1075.637097<\/td>\n",
       "      <td>1777.675480<\/td>\n",
       "      <td>248.0<\/td>\n",
       "      <td>853.302048<\/td>\n",
       "      <td>1297.972146<\/td>\n",
       "    <\/tr>\n",
       "    <tr>\n",
       "      <th>125<\/th>\n",
       "      <td>South Asia<\/td>\n",
       "      <td>2020<\/td>\n",
       "      <td>Jun<\/td>\n",
       "      <td>2764.604167<\/td>\n",
       "      <td>4509.400678<\/td>\n",
       "      <td>240.0<\/td>\n",
       "      <td>2191.193097<\/td>\n",
       "      <td>3338.015236<\/td>\n",
       "    <\/tr>\n",
       "    <tr>\n",
       "      <th>126<\/th>\n",
       "      <td>South Asia<\/td>\n",
       "      <td>2020<\/td>\n",
       "      <td>Jul<\/td>\n",
       "      <td>5165.862903<\/td>\n",
       "      <td>12359.181246<\/td>\n",
       "      <td>248.0<\/td>\n",
       "      <td>3620.091923<\/td>\n",
       "      <td>6711.633884<\/td>\n",
       "    <\/tr>\n",
       "    <tr>\n",
       "      <th>127<\/th>\n",
       "      <td>South Asia<\/td>\n",
       "      <td>2020<\/td>\n",
       "      <td>Aug<\/td>\n",
       "      <td>8523.125000<\/td>\n",
       "      <td>21375.481545<\/td>\n",
       "      <td>248.0<\/td>\n",
       "      <td>5849.679372<\/td>\n",
       "      <td>11196.570628<\/td>\n",
       "    <\/tr>\n",
       "    <tr>\n",
       "      <th>128<\/th>\n",
       "      <td>South Asia<\/td>\n",
       "      <td>2020<\/td>\n",
       "      <td>Sep<\/td>\n",
       "      <td>11379.983333<\/td>\n",
       "      <td>28894.458700<\/td>\n",
       "      <td>240.0<\/td>\n",
       "      <td>7705.791650<\/td>\n",
       "      <td>15054.175017<\/td>\n",
       "    <\/tr>\n",
       "    <tr>\n",
       "      <th>129<\/th>\n",
       "      <td>South Asia<\/td>\n",
       "      <td>2020<\/td>\n",
       "      <td>Oct<\/td>\n",
       "      <td>8227.786290<\/td>\n",
       "      <td>20223.802330<\/td>\n",
       "      <td>248.0<\/td>\n",
       "      <td>5698.381944<\/td>\n",
       "      <td>10757.190636<\/td>\n",
       "    <\/tr>\n",
       "    <tr>\n",
       "      <th>130<\/th>\n",
       "      <td>South Asia<\/td>\n",
       "      <td>2020<\/td>\n",
       "      <td>Nov<\/td>\n",
       "      <td>6186.725000<\/td>\n",
       "      <td>13958.944716<\/td>\n",
       "      <td>240.0<\/td>\n",
       "      <td>4411.718964<\/td>\n",
       "      <td>7961.731036<\/td>\n",
       "    <\/tr>\n",
       "    <tr>\n",
       "      <th>131<\/th>\n",
       "      <td>South Asia<\/td>\n",
       "      <td>2020<\/td>\n",
       "      <td>Dec<\/td>\n",
       "      <td>4063.500000<\/td>\n",
       "      <td>8817.022427<\/td>\n",
       "      <td>248.0<\/td>\n",
       "      <td>2960.749168<\/td>\n",
       "      <td>5166.250832<\/td>\n",
       "    <\/tr>\n",
       "  <\/tbody>\n",
       "<\/table>\n",
       "<\/div>"
      ]
     },
     "metadata":{
      
     },
     "output_type":"display_data"
    }
   ],
   "metadata":{
    "datalore":{
     "type":"CODE",
     "hide_input_from_viewers":false,
     "hide_output_from_viewers":false
    }
   }
  },
  {
   "cell_type":"code",
   "source":[
    "statsSA20.columns=['region','year','month','mean','std','size','lb','ub']"
   ],
   "execution_count":197,
   "outputs":[
    
   ],
   "metadata":{
    "datalore":{
     "type":"CODE",
     "hide_input_from_viewers":false,
     "hide_output_from_viewers":false
    }
   }
  },
  {
   "cell_type":"markdown",
   "source":[
    "As you can see this graph is the average daily cases of covid-19 the region South Asia throughout the year 2020 starting from january till december and as you can see the average daily cases started to increase gradually then started to decline again. \n"
   ],
   "attachments":{
    
   },
   "metadata":{
    "datalore":{
     "type":"MD",
     "hide_input_from_viewers":false,
     "hide_output_from_viewers":false
    }
   }
  },
  {
   "cell_type":"code",
   "source":[
    "plt.plot( 'month', 'mean', data=statsSA20, marker='s', color='black', markersize=4,     linewidth=1, linestyle='--')\n",
    "plt.plot( 'month', 'mean', data=statsSA20, marker='o', color='black',  markersize=4, linewidth=1,linestyle='-')\n",
    "plt.xlabel(\"Month\")\n",
    "plt.ylabel(\"Average Daily COVID CASES\")\n",
    "plt.title(\"South Asia\")\n",
    "plt.show()"
   ],
   "execution_count":198,
   "outputs":[
    {
     "data":{
      "image\/png":"[encoded data removed]"
     },
     "metadata":{
      "image\/png":{
       
      }
     },
     "output_type":"display_data"
    }
   ],
   "metadata":{
    "datalore":{
     "type":"CODE",
     "hide_input_from_viewers":false,
     "hide_output_from_viewers":false
    }
   }
  },
  {
   "cell_type":"code",
   "source":[
    "ci_lb_ub=[statsSA20['lb'],statsSA20['ub']]"
   ],
   "execution_count":199,
   "outputs":[
    
   ],
   "metadata":{
    "datalore":{
     "type":"CODE",
     "hide_input_from_viewers":false,
     "hide_output_from_viewers":false
    }
   }
  },
  {
   "cell_type":"code",
   "source":[
    "err = np.abs(ci_lb_ub - statsSA20['mean'].to_numpy())"
   ],
   "execution_count":200,
   "outputs":[
    
   ],
   "metadata":{
    "datalore":{
     "type":"CODE",
     "hide_input_from_viewers":false,
     "hide_output_from_viewers":false
    }
   }
  },
  {
   "cell_type":"markdown",
   "source":[
    "in this below graph you can see the marginal error that could happen through the calculations."
   ],
   "attachments":{
    
   },
   "metadata":{
    "datalore":{
     "type":"MD",
     "hide_input_from_viewers":false,
     "hide_output_from_viewers":false
    }
   }
  },
  {
   "cell_type":"code",
   "source":[
    "plt.errorbar('month', 'mean',  yerr=err, data=statsSA20,marker='s', capsize=2,\n",
    "             color='black', markersize=4, linewidth=1, linestyle='--')\n",
    "plt.xlabel(\"Month\")\n",
    "plt.ylabel(\"Average Daily COVID CASES\")\n",
    "plt.title(\"South Asia\")\n",
    "plt.show()"
   ],
   "execution_count":201,
   "outputs":[
    {
     "data":{
      "image\/png":"[encoded data removed]"
     },
     "metadata":{
      "image\/png":{
       
      }
     },
     "output_type":"display_data"
    }
   ],
   "metadata":{
    "datalore":{
     "type":"CODE",
     "hide_input_from_viewers":false,
     "hide_output_from_viewers":false
    }
   }
  },
  {
   "cell_type":"code",
   "source":[
    "statsSA21=statsdcases[(statsdcases['region']=='South Asia')\n",
    "                       & (statsdcases['year']==2021)]\n",
    "statsSA21"
   ],
   "execution_count":202,
   "outputs":[
    {
     "data":{
      "text\/html":[
       "<div>\n",
       "<style scoped>\n",
       "    .dataframe tbody tr th:only-of-type {\n",
       "        vertical-align: middle;\n",
       "    }\n",
       "\n",
       "    .dataframe tbody tr th {\n",
       "        vertical-align: top;\n",
       "    }\n",
       "\n",
       "    .dataframe thead tr th {\n",
       "        text-align: left;\n",
       "    }\n",
       "<\/style>\n",
       "<table border=\"1\" class=\"dataframe\">\n",
       "  <thead>\n",
       "    <tr>\n",
       "      <th><\/th>\n",
       "      <th>region<\/th>\n",
       "      <th>year<\/th>\n",
       "      <th>month<\/th>\n",
       "      <th colspan=\"5\" halign=\"left\">dcases<\/th>\n",
       "    <\/tr>\n",
       "    <tr>\n",
       "      <th><\/th>\n",
       "      <th><\/th>\n",
       "      <th><\/th>\n",
       "      <th><\/th>\n",
       "      <th>mean<\/th>\n",
       "      <th>std<\/th>\n",
       "      <th>size<\/th>\n",
       "      <th>get_ci_lb<\/th>\n",
       "      <th>get_ci_ub<\/th>\n",
       "    <\/tr>\n",
       "  <\/thead>\n",
       "  <tbody>\n",
       "    <tr>\n",
       "      <th>132<\/th>\n",
       "      <td>South Asia<\/td>\n",
       "      <td>2021<\/td>\n",
       "      <td>Jan<\/td>\n",
       "      <td>2391.008065<\/td>\n",
       "      <td>5254.481990<\/td>\n",
       "      <td>248.0<\/td>\n",
       "      <td>1733.826523<\/td>\n",
       "      <td>3048.189606<\/td>\n",
       "    <\/tr>\n",
       "    <tr>\n",
       "      <th>133<\/th>\n",
       "      <td>South Asia<\/td>\n",
       "      <td>2021<\/td>\n",
       "      <td>Feb<\/td>\n",
       "      <td>1908.111607<\/td>\n",
       "      <td>4175.464437<\/td>\n",
       "      <td>224.0<\/td>\n",
       "      <td>1358.327410<\/td>\n",
       "      <td>2457.895804<\/td>\n",
       "    <\/tr>\n",
       "    <tr>\n",
       "      <th>134<\/th>\n",
       "      <td>South Asia<\/td>\n",
       "      <td>2021<\/td>\n",
       "      <td>Mar<\/td>\n",
       "      <td>5176.931452<\/td>\n",
       "      <td>13268.004868<\/td>\n",
       "      <td>248.0<\/td>\n",
       "      <td>3517.493299<\/td>\n",
       "      <td>6836.369604<\/td>\n",
       "    <\/tr>\n",
       "    <tr>\n",
       "      <th>135<\/th>\n",
       "      <td>South Asia<\/td>\n",
       "      <td>2021<\/td>\n",
       "      <td>Apr<\/td>\n",
       "      <td>30476.229167<\/td>\n",
       "      <td>84562.122914<\/td>\n",
       "      <td>240.0<\/td>\n",
       "      <td>19723.390638<\/td>\n",
       "      <td>41229.067695<\/td>\n",
       "    <\/tr>\n",
       "    <tr>\n",
       "      <th>136<\/th>\n",
       "      <td>South Asia<\/td>\n",
       "      <td>2021<\/td>\n",
       "      <td>May<\/td>\n",
       "      <td>38356.133065<\/td>\n",
       "      <td>100189.922947<\/td>\n",
       "      <td>248.0<\/td>\n",
       "      <td>25825.313073<\/td>\n",
       "      <td>50886.953056<\/td>\n",
       "    <\/tr>\n",
       "    <tr>\n",
       "      <th>137<\/th>\n",
       "      <td>South Asia<\/td>\n",
       "      <td>2021<\/td>\n",
       "      <td>Jun<\/td>\n",
       "      <td>10799.262500<\/td>\n",
       "      <td>26253.582576<\/td>\n",
       "      <td>240.0<\/td>\n",
       "      <td>7460.882094<\/td>\n",
       "      <td>14137.642906<\/td>\n",
       "    <\/tr>\n",
       "    <tr>\n",
       "      <th>138<\/th>\n",
       "      <td>South Asia<\/td>\n",
       "      <td>2021<\/td>\n",
       "      <td>Jul<\/td>\n",
       "      <td>7240.709677<\/td>\n",
       "      <td>13014.640919<\/td>\n",
       "      <td>248.0<\/td>\n",
       "      <td>5612.959922<\/td>\n",
       "      <td>8868.459433<\/td>\n",
       "    <\/tr>\n",
       "    <tr>\n",
       "      <th>139<\/th>\n",
       "      <td>South Asia<\/td>\n",
       "      <td>2021<\/td>\n",
       "      <td>Aug<\/td>\n",
       "      <td>7030.568548<\/td>\n",
       "      <td>12041.588531<\/td>\n",
       "      <td>248.0<\/td>\n",
       "      <td>5524.519099<\/td>\n",
       "      <td>8536.617998<\/td>\n",
       "    <\/tr>\n",
       "    <tr>\n",
       "      <th>140<\/th>\n",
       "      <td>South Asia<\/td>\n",
       "      <td>2021<\/td>\n",
       "      <td>Sep<\/td>\n",
       "      <td>5038.125000<\/td>\n",
       "      <td>10563.826738<\/td>\n",
       "      <td>240.0<\/td>\n",
       "      <td>3694.838914<\/td>\n",
       "      <td>6381.411086<\/td>\n",
       "    <\/tr>\n",
       "    <tr>\n",
       "      <th>141<\/th>\n",
       "      <td>South Asia<\/td>\n",
       "      <td>2021<\/td>\n",
       "      <td>Oct<\/td>\n",
       "      <td>2439.060484<\/td>\n",
       "      <td>5546.820540<\/td>\n",
       "      <td>248.0<\/td>\n",
       "      <td>1745.315967<\/td>\n",
       "      <td>3132.805001<\/td>\n",
       "    <\/tr>\n",
       "    <tr>\n",
       "      <th>142<\/th>\n",
       "      <td>South Asia<\/td>\n",
       "      <td>2021<\/td>\n",
       "      <td>Nov<\/td>\n",
       "      <td>1525.762500<\/td>\n",
       "      <td>3404.577307<\/td>\n",
       "      <td>240.0<\/td>\n",
       "      <td>1092.839712<\/td>\n",
       "      <td>1958.685288<\/td>\n",
       "    <\/tr>\n",
       "    <tr>\n",
       "      <th>143<\/th>\n",
       "      <td>South Asia<\/td>\n",
       "      <td>2021<\/td>\n",
       "      <td>Dec<\/td>\n",
       "      <td>1290.012097<\/td>\n",
       "      <td>3164.751858<\/td>\n",
       "      <td>248.0<\/td>\n",
       "      <td>894.194487<\/td>\n",
       "      <td>1685.829707<\/td>\n",
       "    <\/tr>\n",
       "  <\/tbody>\n",
       "<\/table>\n",
       "<\/div>"
      ]
     },
     "metadata":{
      
     },
     "output_type":"display_data"
    }
   ],
   "metadata":{
    "datalore":{
     "type":"CODE",
     "hide_input_from_viewers":false,
     "hide_output_from_viewers":false
    }
   }
  },
  {
   "cell_type":"code",
   "source":[
    "statsSA20.columns=['region','year','month','mean','std','size','lb','ub']"
   ],
   "execution_count":203,
   "outputs":[
    
   ],
   "metadata":{
    "datalore":{
     "type":"CODE",
     "hide_input_from_viewers":false,
     "hide_output_from_viewers":false
    }
   }
  },
  {
   "cell_type":"code",
   "source":[
    "statsSA21.columns=['region','year','month','mean','std','size','lb','ub']"
   ],
   "execution_count":204,
   "outputs":[
    
   ],
   "metadata":{
    "datalore":{
     "type":"CODE",
     "hide_input_from_viewers":false,
     "hide_output_from_viewers":false
    }
   }
  },
  {
   "cell_type":"code",
   "source":[
    "ci_lb_ub20=[statsSA20['lb'],statsSA20['ub']]\n",
    "err20 = np.abs(ci_lb_ub20 - statsSA20['mean'].to_numpy())"
   ],
   "execution_count":205,
   "outputs":[
    
   ],
   "metadata":{
    "datalore":{
     "type":"CODE",
     "hide_input_from_viewers":false,
     "hide_output_from_viewers":false
    }
   }
  },
  {
   "cell_type":"code",
   "source":[
    "ci_lb_ub21=[statsSA21['lb'],statsSA21['ub']]\n",
    "err21 = np.abs(ci_lb_ub21 - statsSA21['mean'].to_numpy())"
   ],
   "execution_count":206,
   "outputs":[
    
   ],
   "metadata":{
    "datalore":{
     "type":"CODE",
     "hide_input_from_viewers":false,
     "hide_output_from_viewers":false
    }
   }
  },
  {
   "cell_type":"code",
   "source":[
    "from matplotlib.transforms import Affine2D"
   ],
   "execution_count":207,
   "outputs":[
    
   ],
   "metadata":{
    "datalore":{
     "type":"CODE",
     "hide_input_from_viewers":false,
     "hide_output_from_viewers":false
    }
   }
  },
  {
   "cell_type":"markdown",
   "source":[
    "As you can see in the below graph we included the graph of the year 2021 to the year 2020 to be able to see whether the cases has increased in the following year or not however the cases in south asia seems to have increased a lot, however in the end of the year they started to decrease and 2020 had more cases than 2021."
   ],
   "attachments":{
    
   },
   "metadata":{
    "datalore":{
     "type":"MD",
     "hide_input_from_viewers":false,
     "hide_output_from_viewers":false
    }
   }
  },
  {
   "cell_type":"code",
   "source":[
    "fig, ax = plt.subplots()\n",
    "\n",
    "trans1 = Affine2D().translate(-0.1, 0.0) + ax.transData\n",
    "trans2 = Affine2D().translate(+0.1, 0.0) + ax.transData\n",
    "plt.errorbar('month', 'mean',  yerr=err20, data=statsSA20,marker='s', capsize=2,\n",
    "             color='blue', markersize=4, linewidth=1, linestyle='--',transform=trans1)\n",
    "plt.errorbar('month', 'mean',  yerr=err21, data=statsSA21,marker='s', capsize=2,\n",
    "             color='red', markersize=4, linewidth=1, linestyle='--',transform=trans2)\n",
    "plt.legend(['2020','2021'])\n",
    "plt.xlabel(\"Month\")\n",
    "plt.ylabel(\"Average Daily COVID CASES\")\n",
    "plt.title(\"South Asia\")\n",
    "plt.show()"
   ],
   "execution_count":208,
   "outputs":[
    {
     "data":{
      "image\/png":"[encoded data removed]"
     },
     "metadata":{
      "image\/png":{
       
      }
     },
     "output_type":"display_data"
    }
   ],
   "metadata":{
    "datalore":{
     "type":"CODE",
     "hide_input_from_viewers":false,
     "hide_output_from_viewers":false
    }
   }
  },
  {
   "cell_type":"code",
   "source":[
    "statsME20=statsdcases[(statsdcases['region']=='Middle East & North Africa') & (statsdcases['year']==2020)]"
   ],
   "execution_count":209,
   "outputs":[
    
   ],
   "metadata":{
    "datalore":{
     "type":"CODE",
     "hide_input_from_viewers":false,
     "hide_output_from_viewers":false
    }
   }
  },
  {
   "cell_type":"code",
   "source":[
    "statsME20"
   ],
   "execution_count":210,
   "outputs":[
    {
     "data":{
      "text\/html":[
       "<div>\n",
       "<style scoped>\n",
       "    .dataframe tbody tr th:only-of-type {\n",
       "        vertical-align: middle;\n",
       "    }\n",
       "\n",
       "    .dataframe tbody tr th {\n",
       "        vertical-align: top;\n",
       "    }\n",
       "\n",
       "    .dataframe thead tr th {\n",
       "        text-align: left;\n",
       "    }\n",
       "<\/style>\n",
       "<table border=\"1\" class=\"dataframe\">\n",
       "  <thead>\n",
       "    <tr>\n",
       "      <th><\/th>\n",
       "      <th>region<\/th>\n",
       "      <th>year<\/th>\n",
       "      <th>month<\/th>\n",
       "      <th colspan=\"5\" halign=\"left\">dcases<\/th>\n",
       "    <\/tr>\n",
       "    <tr>\n",
       "      <th><\/th>\n",
       "      <th><\/th>\n",
       "      <th><\/th>\n",
       "      <th><\/th>\n",
       "      <th>mean<\/th>\n",
       "      <th>std<\/th>\n",
       "      <th>size<\/th>\n",
       "      <th>get_ci_lb<\/th>\n",
       "      <th>get_ci_ub<\/th>\n",
       "    <\/tr>\n",
       "  <\/thead>\n",
       "  <tbody>\n",
       "    <tr>\n",
       "      <th>72<\/th>\n",
       "      <td>Middle East &amp; North Africa<\/td>\n",
       "      <td>2020<\/td>\n",
       "      <td>Jan<\/td>\n",
       "      <td>1.333333<\/td>\n",
       "      <td>2.309401<\/td>\n",
       "      <td>3.0<\/td>\n",
       "      <td>-4.403537<\/td>\n",
       "      <td>7.070204<\/td>\n",
       "    <\/tr>\n",
       "    <tr>\n",
       "      <th>73<\/th>\n",
       "      <td>Middle East &amp; North Africa<\/td>\n",
       "      <td>2020<\/td>\n",
       "      <td>Feb<\/td>\n",
       "      <td>7.000000<\/td>\n",
       "      <td>26.790811<\/td>\n",
       "      <td>104.0<\/td>\n",
       "      <td>1.789856<\/td>\n",
       "      <td>12.210144<\/td>\n",
       "    <\/tr>\n",
       "    <tr>\n",
       "      <th>74<\/th>\n",
       "      <td>Middle East &amp; North Africa<\/td>\n",
       "      <td>2020<\/td>\n",
       "      <td>Mar<\/td>\n",
       "      <td>106.802583<\/td>\n",
       "      <td>387.634558<\/td>\n",
       "      <td>542.0<\/td>\n",
       "      <td>74.095364<\/td>\n",
       "      <td>139.509802<\/td>\n",
       "    <\/tr>\n",
       "    <tr>\n",
       "      <th>75<\/th>\n",
       "      <td>Middle East &amp; North Africa<\/td>\n",
       "      <td>2020<\/td>\n",
       "      <td>Apr<\/td>\n",
       "      <td>209.711755<\/td>\n",
       "      <td>416.318100<\/td>\n",
       "      <td>621.0<\/td>\n",
       "      <td>176.904023<\/td>\n",
       "      <td>242.519488<\/td>\n",
       "    <\/tr>\n",
       "    <tr>\n",
       "      <th>76<\/th>\n",
       "      <td>Middle East &amp; North Africa<\/td>\n",
       "      <td>2020<\/td>\n",
       "      <td>May<\/td>\n",
       "      <td>404.010753<\/td>\n",
       "      <td>637.407884<\/td>\n",
       "      <td>651.0<\/td>\n",
       "      <td>354.955620<\/td>\n",
       "      <td>453.065885<\/td>\n",
       "    <\/tr>\n",
       "    <tr>\n",
       "      <th>77<\/th>\n",
       "      <td>Middle East &amp; North Africa<\/td>\n",
       "      <td>2020<\/td>\n",
       "      <td>Jun<\/td>\n",
       "      <td>647.385714<\/td>\n",
       "      <td>954.622947<\/td>\n",
       "      <td>630.0<\/td>\n",
       "      <td>572.698517<\/td>\n",
       "      <td>722.072912<\/td>\n",
       "    <\/tr>\n",
       "    <tr>\n",
       "      <th>78<\/th>\n",
       "      <td>Middle East &amp; North Africa<\/td>\n",
       "      <td>2020<\/td>\n",
       "      <td>Jul<\/td>\n",
       "      <td>699.082949<\/td>\n",
       "      <td>889.344877<\/td>\n",
       "      <td>651.0<\/td>\n",
       "      <td>630.638658<\/td>\n",
       "      <td>767.527241<\/td>\n",
       "    <\/tr>\n",
       "    <tr>\n",
       "      <th>79<\/th>\n",
       "      <td>Middle East &amp; North Africa<\/td>\n",
       "      <td>2020<\/td>\n",
       "      <td>Aug<\/td>\n",
       "      <td>641.867896<\/td>\n",
       "      <td>894.732215<\/td>\n",
       "      <td>651.0<\/td>\n",
       "      <td>573.008993<\/td>\n",
       "      <td>710.726798<\/td>\n",
       "    <\/tr>\n",
       "    <tr>\n",
       "      <th>80<\/th>\n",
       "      <td>Middle East &amp; North Africa<\/td>\n",
       "      <td>2020<\/td>\n",
       "      <td>Sep<\/td>\n",
       "      <td>955.063492<\/td>\n",
       "      <td>1365.640403<\/td>\n",
       "      <td>630.0<\/td>\n",
       "      <td>848.219366<\/td>\n",
       "      <td>1061.907618<\/td>\n",
       "    <\/tr>\n",
       "    <tr>\n",
       "      <th>81<\/th>\n",
       "      <td>Middle East &amp; North Africa<\/td>\n",
       "      <td>2020<\/td>\n",
       "      <td>Oct<\/td>\n",
       "      <td>1124.852535<\/td>\n",
       "      <td>1487.973491<\/td>\n",
       "      <td>651.0<\/td>\n",
       "      <td>1010.337577<\/td>\n",
       "      <td>1239.367493<\/td>\n",
       "    <\/tr>\n",
       "    <tr>\n",
       "      <th>82<\/th>\n",
       "      <td>Middle East &amp; North Africa<\/td>\n",
       "      <td>2020<\/td>\n",
       "      <td>Nov<\/td>\n",
       "      <td>1582.941270<\/td>\n",
       "      <td>2690.395225<\/td>\n",
       "      <td>630.0<\/td>\n",
       "      <td>1372.451799<\/td>\n",
       "      <td>1793.430740<\/td>\n",
       "    <\/tr>\n",
       "    <tr>\n",
       "      <th>83<\/th>\n",
       "      <td>Middle East &amp; North Africa<\/td>\n",
       "      <td>2020<\/td>\n",
       "      <td>Dec<\/td>\n",
       "      <td>1273.310292<\/td>\n",
       "      <td>2001.556385<\/td>\n",
       "      <td>651.0<\/td>\n",
       "      <td>1119.269816<\/td>\n",
       "      <td>1427.350768<\/td>\n",
       "    <\/tr>\n",
       "  <\/tbody>\n",
       "<\/table>\n",
       "<\/div>"
      ]
     },
     "metadata":{
      
     },
     "output_type":"display_data"
    }
   ],
   "metadata":{
    "datalore":{
     "type":"CODE",
     "hide_input_from_viewers":false,
     "hide_output_from_viewers":false
    }
   }
  },
  {
   "cell_type":"code",
   "source":[
    "statsME20.columns=['region','year','month','mean','std','size','lb','ub']"
   ],
   "execution_count":211,
   "outputs":[
    
   ],
   "metadata":{
    "datalore":{
     "type":"CODE",
     "hide_input_from_viewers":false,
     "hide_output_from_viewers":false
    }
   }
  },
  {
   "cell_type":"markdown",
   "source":[
    "As you can see this graph is the average daily cases of covid-19 the region Middle East and north africa throughout the year 2020 starting from january to december, and as you can see the number of average dsily cases are increasing. "
   ],
   "attachments":{
    
   },
   "metadata":{
    "datalore":{
     "type":"MD",
     "hide_input_from_viewers":false,
     "hide_output_from_viewers":false
    }
   }
  },
  {
   "cell_type":"code",
   "source":[
    "plt.plot( 'month', 'mean', data=statsME20, marker='s', color='black', markersize=4,     linewidth=1, linestyle='--')\n",
    "plt.plot( 'month', 'mean', data=statsME20, marker='o', color='black',  markersize=4, linewidth=1,linestyle='-')\n",
    "plt.xlabel(\"Month\")\n",
    "plt.ylabel(\"Average Daily COVID CASES\")\n",
    "plt.title(\"Middle East & North Africa\")\n",
    "plt.show()"
   ],
   "execution_count":212,
   "outputs":[
    {
     "data":{
      "image\/png":"[encoded data removed]"
     },
     "metadata":{
      "image\/png":{
       
      }
     },
     "output_type":"display_data"
    }
   ],
   "metadata":{
    "datalore":{
     "type":"CODE",
     "hide_input_from_viewers":false,
     "hide_output_from_viewers":false
    }
   }
  },
  {
   "cell_type":"code",
   "source":[
    "ci_lb_ub=[statsME20['lb'],statsME20['ub']]"
   ],
   "execution_count":213,
   "outputs":[
    
   ],
   "metadata":{
    "datalore":{
     "type":"CODE",
     "hide_input_from_viewers":false,
     "hide_output_from_viewers":false
    }
   }
  },
  {
   "cell_type":"code",
   "source":[
    "err = np.abs(ci_lb_ub - statsME20['mean'].to_numpy())"
   ],
   "execution_count":214,
   "outputs":[
    
   ],
   "metadata":{
    "datalore":{
     "type":"CODE",
     "hide_input_from_viewers":false,
     "hide_output_from_viewers":false
    }
   }
  },
  {
   "cell_type":"markdown",
   "source":[
    "in this below graph you can see the marginal error that could happen through the calculations."
   ],
   "attachments":{
    
   },
   "metadata":{
    "datalore":{
     "type":"MD",
     "hide_input_from_viewers":false,
     "hide_output_from_viewers":false
    }
   }
  },
  {
   "cell_type":"code",
   "source":[
    "plt.errorbar('month', 'mean',  yerr=err, data=statsME20,marker='s', capsize=2,\n",
    "             color='black', markersize=4, linewidth=1, linestyle='--')\n",
    "plt.xlabel(\"Month\")\n",
    "plt.ylabel(\"Average Daily COVID CASES\")\n",
    "plt.title(\"Middle East & North Africa\")\n",
    "plt.show()"
   ],
   "execution_count":215,
   "outputs":[
    {
     "data":{
      "image\/png":"[encoded data removed]"
     },
     "metadata":{
      "image\/png":{
       
      }
     },
     "output_type":"display_data"
    }
   ],
   "metadata":{
    "datalore":{
     "type":"CODE",
     "hide_input_from_viewers":false,
     "hide_output_from_viewers":false
    }
   }
  },
  {
   "cell_type":"code",
   "source":[
    "statsME21=statsdcases[(statsdcases['region']=='Middle East & North Africa')\n",
    "                       & (statsdcases['year']==2021)]\n",
    "statsME21"
   ],
   "execution_count":216,
   "outputs":[
    {
     "data":{
      "text\/html":[
       "<div>\n",
       "<style scoped>\n",
       "    .dataframe tbody tr th:only-of-type {\n",
       "        vertical-align: middle;\n",
       "    }\n",
       "\n",
       "    .dataframe tbody tr th {\n",
       "        vertical-align: top;\n",
       "    }\n",
       "\n",
       "    .dataframe thead tr th {\n",
       "        text-align: left;\n",
       "    }\n",
       "<\/style>\n",
       "<table border=\"1\" class=\"dataframe\">\n",
       "  <thead>\n",
       "    <tr>\n",
       "      <th><\/th>\n",
       "      <th>region<\/th>\n",
       "      <th>year<\/th>\n",
       "      <th>month<\/th>\n",
       "      <th colspan=\"5\" halign=\"left\">dcases<\/th>\n",
       "    <\/tr>\n",
       "    <tr>\n",
       "      <th><\/th>\n",
       "      <th><\/th>\n",
       "      <th><\/th>\n",
       "      <th><\/th>\n",
       "      <th>mean<\/th>\n",
       "      <th>std<\/th>\n",
       "      <th>size<\/th>\n",
       "      <th>get_ci_lb<\/th>\n",
       "      <th>get_ci_ub<\/th>\n",
       "    <\/tr>\n",
       "  <\/thead>\n",
       "  <tbody>\n",
       "    <tr>\n",
       "      <th>84<\/th>\n",
       "      <td>Middle East &amp; North Africa<\/td>\n",
       "      <td>2021<\/td>\n",
       "      <td>Jan<\/td>\n",
       "      <td>1402.342550<\/td>\n",
       "      <td>2059.496147<\/td>\n",
       "      <td>651.0<\/td>\n",
       "      <td>1243.843009<\/td>\n",
       "      <td>1560.842090<\/td>\n",
       "    <\/tr>\n",
       "    <tr>\n",
       "      <th>85<\/th>\n",
       "      <td>Middle East &amp; North Africa<\/td>\n",
       "      <td>2021<\/td>\n",
       "      <td>Feb<\/td>\n",
       "      <td>1405.054422<\/td>\n",
       "      <td>1954.685370<\/td>\n",
       "      <td>588.0<\/td>\n",
       "      <td>1246.735554<\/td>\n",
       "      <td>1563.373290<\/td>\n",
       "    <\/tr>\n",
       "    <tr>\n",
       "      <th>86<\/th>\n",
       "      <td>Middle East &amp; North Africa<\/td>\n",
       "      <td>2021<\/td>\n",
       "      <td>Mar<\/td>\n",
       "      <td>1714.384025<\/td>\n",
       "      <td>2338.872107<\/td>\n",
       "      <td>651.0<\/td>\n",
       "      <td>1534.383613<\/td>\n",
       "      <td>1894.384436<\/td>\n",
       "    <\/tr>\n",
       "    <tr>\n",
       "      <th>87<\/th>\n",
       "      <td>Middle East &amp; North Africa<\/td>\n",
       "      <td>2021<\/td>\n",
       "      <td>Apr<\/td>\n",
       "      <td>2214.015873<\/td>\n",
       "      <td>4494.082227<\/td>\n",
       "      <td>630.0<\/td>\n",
       "      <td>1862.410659<\/td>\n",
       "      <td>2565.621087<\/td>\n",
       "    <\/tr>\n",
       "    <tr>\n",
       "      <th>88<\/th>\n",
       "      <td>Middle East &amp; North Africa<\/td>\n",
       "      <td>2021<\/td>\n",
       "      <td>May<\/td>\n",
       "      <td>1409.675883<\/td>\n",
       "      <td>2994.057808<\/td>\n",
       "      <td>651.0<\/td>\n",
       "      <td>1179.252152<\/td>\n",
       "      <td>1640.099615<\/td>\n",
       "    <\/tr>\n",
       "    <tr>\n",
       "      <th>89<\/th>\n",
       "      <td>Middle East &amp; North Africa<\/td>\n",
       "      <td>2021<\/td>\n",
       "      <td>Jun<\/td>\n",
       "      <td>1296.085714<\/td>\n",
       "      <td>2302.221239<\/td>\n",
       "      <td>630.0<\/td>\n",
       "      <td>1115.965959<\/td>\n",
       "      <td>1476.205470<\/td>\n",
       "    <\/tr>\n",
       "    <tr>\n",
       "      <th>90<\/th>\n",
       "      <td>Middle East &amp; North Africa<\/td>\n",
       "      <td>2021<\/td>\n",
       "      <td>Jul<\/td>\n",
       "      <td>2359.718894<\/td>\n",
       "      <td>5094.053939<\/td>\n",
       "      <td>651.0<\/td>\n",
       "      <td>1967.678729<\/td>\n",
       "      <td>2751.759059<\/td>\n",
       "    <\/tr>\n",
       "    <tr>\n",
       "      <th>91<\/th>\n",
       "      <td>Middle East &amp; North Africa<\/td>\n",
       "      <td>2021<\/td>\n",
       "      <td>Aug<\/td>\n",
       "      <td>3312.694316<\/td>\n",
       "      <td>7919.025055<\/td>\n",
       "      <td>651.0<\/td>\n",
       "      <td>2703.243391<\/td>\n",
       "      <td>3922.145242<\/td>\n",
       "    <\/tr>\n",
       "    <tr>\n",
       "      <th>92<\/th>\n",
       "      <td>Middle East &amp; North Africa<\/td>\n",
       "      <td>2021<\/td>\n",
       "      <td>Sep<\/td>\n",
       "      <td>1978.706349<\/td>\n",
       "      <td>4665.790138<\/td>\n",
       "      <td>630.0<\/td>\n",
       "      <td>1613.667158<\/td>\n",
       "      <td>2343.745540<\/td>\n",
       "    <\/tr>\n",
       "    <tr>\n",
       "      <th>93<\/th>\n",
       "      <td>Middle East &amp; North Africa<\/td>\n",
       "      <td>2021<\/td>\n",
       "      <td>Oct<\/td>\n",
       "      <td>964.829493<\/td>\n",
       "      <td>2616.431979<\/td>\n",
       "      <td>651.0<\/td>\n",
       "      <td>763.467977<\/td>\n",
       "      <td>1166.191009<\/td>\n",
       "    <\/tr>\n",
       "    <tr>\n",
       "      <th>94<\/th>\n",
       "      <td>Middle East &amp; North Africa<\/td>\n",
       "      <td>2021<\/td>\n",
       "      <td>Nov<\/td>\n",
       "      <td>690.525397<\/td>\n",
       "      <td>1576.597451<\/td>\n",
       "      <td>630.0<\/td>\n",
       "      <td>567.176545<\/td>\n",
       "      <td>813.874249<\/td>\n",
       "    <\/tr>\n",
       "    <tr>\n",
       "      <th>95<\/th>\n",
       "      <td>Middle East &amp; North Africa<\/td>\n",
       "      <td>2021<\/td>\n",
       "      <td>Dec<\/td>\n",
       "      <td>672.032258<\/td>\n",
       "      <td>1064.245135<\/td>\n",
       "      <td>651.0<\/td>\n",
       "      <td>590.127582<\/td>\n",
       "      <td>753.936934<\/td>\n",
       "    <\/tr>\n",
       "  <\/tbody>\n",
       "<\/table>\n",
       "<\/div>"
      ]
     },
     "metadata":{
      
     },
     "output_type":"display_data"
    }
   ],
   "metadata":{
    "datalore":{
     "type":"CODE",
     "hide_input_from_viewers":false,
     "hide_output_from_viewers":false
    }
   }
  },
  {
   "cell_type":"code",
   "source":[
    "statsME20.columns=['region','year','month','mean','std','size','lb','ub']"
   ],
   "execution_count":217,
   "outputs":[
    
   ],
   "metadata":{
    "datalore":{
     "type":"CODE",
     "hide_input_from_viewers":false,
     "hide_output_from_viewers":false
    }
   }
  },
  {
   "cell_type":"code",
   "source":[
    "statsME21.columns=['region','year','month','mean','std','size','lb','ub']"
   ],
   "execution_count":218,
   "outputs":[
    
   ],
   "metadata":{
    "datalore":{
     "type":"CODE",
     "hide_input_from_viewers":false,
     "hide_output_from_viewers":false
    }
   }
  },
  {
   "cell_type":"code",
   "source":[
    "ci_lb_ub20=[statsME20['lb'],statsME20['ub']]\n",
    "err20 = np.abs(ci_lb_ub20 - statsME20['mean'].to_numpy())"
   ],
   "execution_count":219,
   "outputs":[
    
   ],
   "metadata":{
    "datalore":{
     "type":"CODE",
     "hide_input_from_viewers":false,
     "hide_output_from_viewers":false
    }
   }
  },
  {
   "cell_type":"code",
   "source":[
    "ci_lb_ub21=[statsME21['lb'],statsME21['ub']]\n",
    "err21 = np.abs(ci_lb_ub21 - statsME21['mean'].to_numpy())"
   ],
   "execution_count":220,
   "outputs":[
    
   ],
   "metadata":{
    "datalore":{
     "type":"CODE",
     "hide_input_from_viewers":false,
     "hide_output_from_viewers":false
    }
   }
  },
  {
   "cell_type":"code",
   "source":[
    "from matplotlib.transforms import Affine2D"
   ],
   "execution_count":221,
   "outputs":[
    
   ],
   "metadata":{
    "datalore":{
     "type":"CODE",
     "hide_input_from_viewers":false,
     "hide_output_from_viewers":false
    }
   }
  },
  {
   "cell_type":"markdown",
   "source":[
    "As you can see in the below graph we included the graph of the year 2021 to the year 2020 to be able to see whether the cases has increased in the following year or not however the cases in Middle east and north africa seems to have increased a lot, however at the ned of the year starting from october the cases of 2020 started tp increase. Now we will be able to compare not only the different years but we can also compare south Asia with Middle east and north africa and as you can see they're similar in the number of cases."
   ],
   "attachments":{
    
   },
   "metadata":{
    "datalore":{
     "type":"MD",
     "hide_input_from_viewers":false,
     "hide_output_from_viewers":false
    }
   }
  },
  {
   "cell_type":"code",
   "source":[
    "fig, ax = plt.subplots()\n",
    "\n",
    "trans1 = Affine2D().translate(-0.1, 0.0) + ax.transData\n",
    "trans2 = Affine2D().translate(+0.1, 0.0) + ax.transData\n",
    "plt.errorbar('month', 'mean',  yerr=err20, data=statsME20,marker='s', capsize=2,\n",
    "             color='blue', markersize=4, linewidth=1, linestyle='--',transform=trans1)\n",
    "plt.errorbar('month', 'mean',  yerr=err21, data=statsME21,marker='s', capsize=2,\n",
    "             color='red', markersize=4, linewidth=1, linestyle='--',transform=trans2)\n",
    "plt.legend(['2020','2021'])\n",
    "plt.xlabel(\"Month\")\n",
    "plt.ylabel(\"Average Daily COVID CASES\")\n",
    "plt.title(\"Middle East & North Africa\")\n",
    "plt.show()"
   ],
   "execution_count":222,
   "outputs":[
    {
     "data":{
      "image\/png":"[encoded data removed]"
     },
     "metadata":{
      "image\/png":{
       
      }
     },
     "output_type":"display_data"
    }
   ],
   "metadata":{
    "datalore":{
     "type":"CODE",
     "hide_input_from_viewers":false,
     "hide_output_from_viewers":false
    }
   }
  },
  {
   "cell_type":"code",
   "source":[
    "statsdcases=df.groupby(['continent','year','income']).agg({\"dcases\": [np.mean, np.std, np.size,get_ci_lb,get_ci_ub]})"
   ],
   "execution_count":223,
   "outputs":[
    
   ],
   "metadata":{
    "datalore":{
     "type":"CODE",
     "hide_input_from_viewers":false,
     "hide_output_from_viewers":false
    }
   }
  },
  {
   "cell_type":"code",
   "source":[
    "statsdcases"
   ],
   "execution_count":224,
   "outputs":[
    {
     "data":{
      "text\/html":[
       "<div>\n",
       "<style scoped>\n",
       "    .dataframe tbody tr th:only-of-type {\n",
       "        vertical-align: middle;\n",
       "    }\n",
       "\n",
       "    .dataframe tbody tr th {\n",
       "        vertical-align: top;\n",
       "    }\n",
       "\n",
       "    .dataframe thead tr th {\n",
       "        text-align: left;\n",
       "    }\n",
       "\n",
       "    .dataframe thead tr:last-of-type th {\n",
       "        text-align: right;\n",
       "    }\n",
       "<\/style>\n",
       "<table border=\"1\" class=\"dataframe\">\n",
       "  <thead>\n",
       "    <tr>\n",
       "      <th><\/th>\n",
       "      <th><\/th>\n",
       "      <th><\/th>\n",
       "      <th colspan=\"5\" halign=\"left\">dcases<\/th>\n",
       "    <\/tr>\n",
       "    <tr>\n",
       "      <th><\/th>\n",
       "      <th><\/th>\n",
       "      <th><\/th>\n",
       "      <th>mean<\/th>\n",
       "      <th>std<\/th>\n",
       "      <th>size<\/th>\n",
       "      <th>get_ci_lb<\/th>\n",
       "      <th>get_ci_ub<\/th>\n",
       "    <\/tr>\n",
       "    <tr>\n",
       "      <th>continent<\/th>\n",
       "      <th>year<\/th>\n",
       "      <th>income<\/th>\n",
       "      <th><\/th>\n",
       "      <th><\/th>\n",
       "      <th><\/th>\n",
       "      <th><\/th>\n",
       "      <th><\/th>\n",
       "    <\/tr>\n",
       "  <\/thead>\n",
       "  <tbody>\n",
       "    <tr>\n",
       "      <th rowspan=\"8\" valign=\"top\">Africa<\/th>\n",
       "      <th rowspan=\"4\" valign=\"top\">2020<\/th>\n",
       "      <th>High income<\/th>\n",
       "      <td>0.787671<\/td>\n",
       "      <td>3.579646<\/td>\n",
       "      <td>292<\/td>\n",
       "      <td>0.375377<\/td>\n",
       "      <td>1.199965<\/td>\n",
       "    <\/tr>\n",
       "    <tr>\n",
       "      <th>Low income<\/th>\n",
       "      <td>44.443453<\/td>\n",
       "      <td>132.969996<\/td>\n",
       "      <td>6614<\/td>\n",
       "      <td>41.238297<\/td>\n",
       "      <td>47.648609<\/td>\n",
       "    <\/tr>\n",
       "    <tr>\n",
       "      <th>Lower middle income<\/th>\n",
       "      <td>189.657246<\/td>\n",
       "      <td>538.688967<\/td>\n",
       "      <td>6086<\/td>\n",
       "      <td>176.120740<\/td>\n",
       "      <td>203.193753<\/td>\n",
       "    <\/tr>\n",
       "    <tr>\n",
       "      <th>Upper middle income<\/th>\n",
       "      <td>560.328632<\/td>\n",
       "      <td>1821.377564<\/td>\n",
       "      <td>2340<\/td>\n",
       "      <td>486.493181<\/td>\n",
       "      <td>634.164084<\/td>\n",
       "    <\/tr>\n",
       "    <tr>\n",
       "      <th rowspan=\"4\" valign=\"top\">2021<\/th>\n",
       "      <th>High income<\/th>\n",
       "      <td>67.295890<\/td>\n",
       "      <td>75.206384<\/td>\n",
       "      <td>365<\/td>\n",
       "      <td>59.554788<\/td>\n",
       "      <td>75.036992<\/td>\n",
       "    <\/tr>\n",
       "    <tr>\n",
       "      <th>Low income<\/th>\n",
       "      <td>124.504110<\/td>\n",
       "      <td>487.424340<\/td>\n",
       "      <td>8395<\/td>\n",
       "      <td>114.075952<\/td>\n",
       "      <td>134.932267<\/td>\n",
       "    <\/tr>\n",
       "    <tr>\n",
       "      <th>Lower middle income<\/th>\n",
       "      <td>348.812394<\/td>\n",
       "      <td>906.988518<\/td>\n",
       "      <td>7665<\/td>\n",
       "      <td>328.504617<\/td>\n",
       "      <td>369.120171<\/td>\n",
       "    <\/tr>\n",
       "    <tr>\n",
       "      <th>Upper middle income<\/th>\n",
       "      <td>1111.608219<\/td>\n",
       "      <td>3232.130518<\/td>\n",
       "      <td>2920<\/td>\n",
       "      <td>994.327756<\/td>\n",
       "      <td>1228.888682<\/td>\n",
       "    <\/tr>\n",
       "    <tr>\n",
       "      <th rowspan=\"8\" valign=\"top\">Asia<\/th>\n",
       "      <th rowspan=\"4\" valign=\"top\">2020<\/th>\n",
       "      <th>High income<\/th>\n",
       "      <td>493.063446<\/td>\n",
       "      <td>805.001966<\/td>\n",
       "      <td>3830<\/td>\n",
       "      <td>467.560935<\/td>\n",
       "      <td>518.565958<\/td>\n",
       "    <\/tr>\n",
       "    <tr>\n",
       "      <th>Low income<\/th>\n",
       "      <td>234.568966<\/td>\n",
       "      <td>592.926675<\/td>\n",
       "      <td>1450<\/td>\n",
       "      <td>204.024819<\/td>\n",
       "      <td>265.113112<\/td>\n",
       "    <\/tr>\n",
       "    <tr>\n",
       "      <th>Lower middle income<\/th>\n",
       "      <td>2808.383312<\/td>\n",
       "      <td>11214.023994<\/td>\n",
       "      <td>4602<\/td>\n",
       "      <td>2484.304582<\/td>\n",
       "      <td>3132.462041<\/td>\n",
       "    <\/tr>\n",
       "    <tr>\n",
       "      <th>Upper middle income<\/th>\n",
       "      <td>1260.403746<\/td>\n",
       "      <td>12681.057660<\/td>\n",
       "      <td>4431<\/td>\n",
       "      <td>886.920292<\/td>\n",
       "      <td>1633.887201<\/td>\n",
       "    <\/tr>\n",
       "    <tr>\n",
       "      <th rowspan=\"4\" valign=\"top\">2021<\/th>\n",
       "      <th>High income<\/th>\n",
       "      <td>1118.581050<\/td>\n",
       "      <td>2276.307266<\/td>\n",
       "      <td>4380<\/td>\n",
       "      <td>1051.149681<\/td>\n",
       "      <td>1186.012419<\/td>\n",
       "    <\/tr>\n",
       "    <tr>\n",
       "      <th>Low income<\/th>\n",
       "      <td>396.871781<\/td>\n",
       "      <td>1160.547691<\/td>\n",
       "      <td>1825<\/td>\n",
       "      <td>343.591325<\/td>\n",
       "      <td>450.152236<\/td>\n",
       "    <\/tr>\n",
       "    <tr>\n",
       "      <th>Lower middle income<\/th>\n",
       "      <td>6573.092785<\/td>\n",
       "      <td>30463.243191<\/td>\n",
       "      <td>5475<\/td>\n",
       "      <td>5765.991192<\/td>\n",
       "      <td>7380.194379<\/td>\n",
       "    <\/tr>\n",
       "    <tr>\n",
       "      <th>Upper middle income<\/th>\n",
       "      <td>4458.967906<\/td>\n",
       "      <td>7567.969641<\/td>\n",
       "      <td>5110<\/td>\n",
       "      <td>4251.419252<\/td>\n",
       "      <td>4666.516560<\/td>\n",
       "    <\/tr>\n",
       "    <tr>\n",
       "      <th rowspan=\"6\" valign=\"top\">Europe<\/th>\n",
       "      <th rowspan=\"3\" valign=\"top\">2020<\/th>\n",
       "      <th>High income<\/th>\n",
       "      <td>1779.303054<\/td>\n",
       "      <td>5273.235892<\/td>\n",
       "      <td>10051<\/td>\n",
       "      <td>1676.199661<\/td>\n",
       "      <td>1882.406448<\/td>\n",
       "    <\/tr>\n",
       "    <tr>\n",
       "      <th>Lower middle income<\/th>\n",
       "      <td>2042.810945<\/td>\n",
       "      <td>3495.523582<\/td>\n",
       "      <td>603<\/td>\n",
       "      <td>1763.250515<\/td>\n",
       "      <td>2322.371375<\/td>\n",
       "    <\/tr>\n",
       "    <tr>\n",
       "      <th>Upper middle income<\/th>\n",
       "      <td>1741.089325<\/td>\n",
       "      <td>4306.900675<\/td>\n",
       "      <td>2754<\/td>\n",
       "      <td>1580.164902<\/td>\n",
       "      <td>1902.013747<\/td>\n",
       "    <\/tr>\n",
       "    <tr>\n",
       "      <th rowspan=\"3\" valign=\"top\">2021<\/th>\n",
       "      <th>High income<\/th>\n",
       "      <td>4374.541866<\/td>\n",
       "      <td>11242.058453<\/td>\n",
       "      <td>11680<\/td>\n",
       "      <td>4170.641729<\/td>\n",
       "      <td>4578.442004<\/td>\n",
       "    <\/tr>\n",
       "    <tr>\n",
       "      <th>Lower middle income<\/th>\n",
       "      <td>4098.035616<\/td>\n",
       "      <td>5827.432894<\/td>\n",
       "      <td>730<\/td>\n",
       "      <td>3674.601757<\/td>\n",
       "      <td>4521.469476<\/td>\n",
       "    <\/tr>\n",
       "    <tr>\n",
       "      <th>Upper middle income<\/th>\n",
       "      <td>3341.404262<\/td>\n",
       "      <td>6800.069089<\/td>\n",
       "      <td>3285<\/td>\n",
       "      <td>3108.780635<\/td>\n",
       "      <td>3574.027889<\/td>\n",
       "    <\/tr>\n",
       "    <tr>\n",
       "      <th rowspan=\"8\" valign=\"top\">North America(continent)<\/th>\n",
       "      <th rowspan=\"4\" valign=\"top\">2020<\/th>\n",
       "      <th>High income<\/th>\n",
       "      <td>8639.475780<\/td>\n",
       "      <td>31304.439194<\/td>\n",
       "      <td>2436<\/td>\n",
       "      <td>7395.730907<\/td>\n",
       "      <td>9883.220653<\/td>\n",
       "    <\/tr>\n",
       "    <tr>\n",
       "      <th>Low income<\/th>\n",
       "      <td>34.839721<\/td>\n",
       "      <td>52.551228<\/td>\n",
       "      <td>287<\/td>\n",
       "      <td>28.734074<\/td>\n",
       "      <td>40.945369<\/td>\n",
       "    <\/tr>\n",
       "    <tr>\n",
       "      <th>Lower middle income<\/th>\n",
       "      <td>199.801606<\/td>\n",
       "      <td>264.273075<\/td>\n",
       "      <td>872<\/td>\n",
       "      <td>182.236665<\/td>\n",
       "      <td>217.366546<\/td>\n",
       "    <\/tr>\n",
       "    <tr>\n",
       "      <th>Upper middle income<\/th>\n",
       "      <td>599.063600<\/td>\n",
       "      <td>1714.741391<\/td>\n",
       "      <td>3239<\/td>\n",
       "      <td>539.988615<\/td>\n",
       "      <td>658.138584<\/td>\n",
       "    <\/tr>\n",
       "    <tr>\n",
       "      <th rowspan=\"4\" valign=\"top\">2021<\/th>\n",
       "      <th>High income<\/th>\n",
       "      <td>12546.505822<\/td>\n",
       "      <td>42428.147946<\/td>\n",
       "      <td>2920<\/td>\n",
       "      <td>11006.966250<\/td>\n",
       "      <td>14086.045394<\/td>\n",
       "    <\/tr>\n",
       "    <tr>\n",
       "      <th>Low income<\/th>\n",
       "      <td>43.797260<\/td>\n",
       "      <td>73.758460<\/td>\n",
       "      <td>365<\/td>\n",
       "      <td>36.205195<\/td>\n",
       "      <td>51.389325<\/td>\n",
       "    <\/tr>\n",
       "    <tr>\n",
       "      <th>Lower middle income<\/th>\n",
       "      <td>314.811872<\/td>\n",
       "      <td>572.884005<\/td>\n",
       "      <td>1095<\/td>\n",
       "      <td>280.842425<\/td>\n",
       "      <td>348.781319<\/td>\n",
       "    <\/tr>\n",
       "    <tr>\n",
       "      <th>Upper middle income<\/th>\n",
       "      <td>1191.098879<\/td>\n",
       "      <td>2969.473694<\/td>\n",
       "      <td>4015<\/td>\n",
       "      <td>1099.219982<\/td>\n",
       "      <td>1282.977776<\/td>\n",
       "    <\/tr>\n",
       "    <tr>\n",
       "      <th rowspan=\"6\" valign=\"top\">Oceania<\/th>\n",
       "      <th rowspan=\"3\" valign=\"top\">2020<\/th>\n",
       "      <th>High income<\/th>\n",
       "      <td>47.132512<\/td>\n",
       "      <td>105.576757<\/td>\n",
       "      <td>649<\/td>\n",
       "      <td>38.994731<\/td>\n",
       "      <td>55.270292<\/td>\n",
       "    <\/tr>\n",
       "    <tr>\n",
       "      <th>Lower middle income<\/th>\n",
       "      <td>1.938095<\/td>\n",
       "      <td>6.796811<\/td>\n",
       "      <td>420<\/td>\n",
       "      <td>1.286189<\/td>\n",
       "      <td>2.590001<\/td>\n",
       "    <\/tr>\n",
       "    <tr>\n",
       "      <th>Upper middle income<\/th>\n",
       "      <td>0.141058<\/td>\n",
       "      <td>0.577571<\/td>\n",
       "      <td>397<\/td>\n",
       "      <td>0.084069<\/td>\n",
       "      <td>0.198046<\/td>\n",
       "    <\/tr>\n",
       "    <tr>\n",
       "      <th rowspan=\"3\" valign=\"top\">2021<\/th>\n",
       "      <th>High income<\/th>\n",
       "      <td>474.526682<\/td>\n",
       "      <td>2065.170313<\/td>\n",
       "      <td>862<\/td>\n",
       "      <td>336.468782<\/td>\n",
       "      <td>612.584582<\/td>\n",
       "    <\/tr>\n",
       "    <tr>\n",
       "      <th>Lower middle income<\/th>\n",
       "      <td>26.752079<\/td>\n",
       "      <td>94.939477<\/td>\n",
       "      <td>1323<\/td>\n",
       "      <td>21.631574<\/td>\n",
       "      <td>31.872584<\/td>\n",
       "    <\/tr>\n",
       "    <tr>\n",
       "      <th>Upper middle income<\/th>\n",
       "      <td>48.661187<\/td>\n",
       "      <td>182.408544<\/td>\n",
       "      <td>1095<\/td>\n",
       "      <td>37.845180<\/td>\n",
       "      <td>59.477194<\/td>\n",
       "    <\/tr>\n",
       "    <tr>\n",
       "      <th rowspan=\"6\" valign=\"top\">South America(continent)<\/th>\n",
       "      <th rowspan=\"3\" valign=\"top\">2020<\/th>\n",
       "      <th>High income<\/th>\n",
       "      <td>1034.782537<\/td>\n",
       "      <td>1573.531300<\/td>\n",
       "      <td>607<\/td>\n",
       "      <td>909.353703<\/td>\n",
       "      <td>1160.211371<\/td>\n",
       "    <\/tr>\n",
       "    <tr>\n",
       "      <th>Lower middle income<\/th>\n",
       "      <td>540.959459<\/td>\n",
       "      <td>534.276573<\/td>\n",
       "      <td>296<\/td>\n",
       "      <td>479.843620<\/td>\n",
       "      <td>602.075299<\/td>\n",
       "    <\/tr>\n",
       "    <tr>\n",
       "      <th>Upper middle income<\/th>\n",
       "      <td>4604.692450<\/td>\n",
       "      <td>9993.572248<\/td>\n",
       "      <td>2702<\/td>\n",
       "      <td>4227.710261<\/td>\n",
       "      <td>4981.674639<\/td>\n",
       "    <\/tr>\n",
       "    <tr>\n",
       "      <th rowspan=\"3\" valign=\"top\">2021<\/th>\n",
       "      <th>High income<\/th>\n",
       "      <td>2180.527397<\/td>\n",
       "      <td>2183.763529<\/td>\n",
       "      <td>730<\/td>\n",
       "      <td>2021.850423<\/td>\n",
       "      <td>2339.204372<\/td>\n",
       "    <\/tr>\n",
       "    <tr>\n",
       "      <th>Lower middle income<\/th>\n",
       "      <td>1204.463014<\/td>\n",
       "      <td>1128.098194<\/td>\n",
       "      <td>365<\/td>\n",
       "      <td>1088.346232<\/td>\n",
       "      <td>1320.579795<\/td>\n",
       "    <\/tr>\n",
       "    <tr>\n",
       "      <th>Upper middle income<\/th>\n",
       "      <td>7470.957686<\/td>\n",
       "      <td>15944.888037<\/td>\n",
       "      <td>3285<\/td>\n",
       "      <td>6925.498862<\/td>\n",
       "      <td>8016.416511<\/td>\n",
       "    <\/tr>\n",
       "  <\/tbody>\n",
       "<\/table>\n",
       "<\/div>"
      ]
     },
     "metadata":{
      
     },
     "output_type":"display_data"
    }
   ],
   "metadata":{
    "datalore":{
     "type":"CODE",
     "hide_input_from_viewers":false,
     "hide_output_from_viewers":false
    }
   }
  },
  {
   "cell_type":"code",
   "source":[
    "statsdcases=statsdcases.reset_index()\n",
    "statsdcases"
   ],
   "execution_count":225,
   "outputs":[
    {
     "data":{
      "text\/html":[
       "<div>\n",
       "<style scoped>\n",
       "    .dataframe tbody tr th:only-of-type {\n",
       "        vertical-align: middle;\n",
       "    }\n",
       "\n",
       "    .dataframe tbody tr th {\n",
       "        vertical-align: top;\n",
       "    }\n",
       "\n",
       "    .dataframe thead tr th {\n",
       "        text-align: left;\n",
       "    }\n",
       "<\/style>\n",
       "<table border=\"1\" class=\"dataframe\">\n",
       "  <thead>\n",
       "    <tr>\n",
       "      <th><\/th>\n",
       "      <th>continent<\/th>\n",
       "      <th>year<\/th>\n",
       "      <th>income<\/th>\n",
       "      <th colspan=\"5\" halign=\"left\">dcases<\/th>\n",
       "    <\/tr>\n",
       "    <tr>\n",
       "      <th><\/th>\n",
       "      <th><\/th>\n",
       "      <th><\/th>\n",
       "      <th><\/th>\n",
       "      <th>mean<\/th>\n",
       "      <th>std<\/th>\n",
       "      <th>size<\/th>\n",
       "      <th>get_ci_lb<\/th>\n",
       "      <th>get_ci_ub<\/th>\n",
       "    <\/tr>\n",
       "  <\/thead>\n",
       "  <tbody>\n",
       "    <tr>\n",
       "      <th>0<\/th>\n",
       "      <td>Africa<\/td>\n",
       "      <td>2020<\/td>\n",
       "      <td>High income<\/td>\n",
       "      <td>0.787671<\/td>\n",
       "      <td>3.579646<\/td>\n",
       "      <td>292<\/td>\n",
       "      <td>0.375377<\/td>\n",
       "      <td>1.199965<\/td>\n",
       "    <\/tr>\n",
       "    <tr>\n",
       "      <th>1<\/th>\n",
       "      <td>Africa<\/td>\n",
       "      <td>2020<\/td>\n",
       "      <td>Low income<\/td>\n",
       "      <td>44.443453<\/td>\n",
       "      <td>132.969996<\/td>\n",
       "      <td>6614<\/td>\n",
       "      <td>41.238297<\/td>\n",
       "      <td>47.648609<\/td>\n",
       "    <\/tr>\n",
       "    <tr>\n",
       "      <th>2<\/th>\n",
       "      <td>Africa<\/td>\n",
       "      <td>2020<\/td>\n",
       "      <td>Lower middle income<\/td>\n",
       "      <td>189.657246<\/td>\n",
       "      <td>538.688967<\/td>\n",
       "      <td>6086<\/td>\n",
       "      <td>176.120740<\/td>\n",
       "      <td>203.193753<\/td>\n",
       "    <\/tr>\n",
       "    <tr>\n",
       "      <th>3<\/th>\n",
       "      <td>Africa<\/td>\n",
       "      <td>2020<\/td>\n",
       "      <td>Upper middle income<\/td>\n",
       "      <td>560.328632<\/td>\n",
       "      <td>1821.377564<\/td>\n",
       "      <td>2340<\/td>\n",
       "      <td>486.493181<\/td>\n",
       "      <td>634.164084<\/td>\n",
       "    <\/tr>\n",
       "    <tr>\n",
       "      <th>4<\/th>\n",
       "      <td>Africa<\/td>\n",
       "      <td>2021<\/td>\n",
       "      <td>High income<\/td>\n",
       "      <td>67.295890<\/td>\n",
       "      <td>75.206384<\/td>\n",
       "      <td>365<\/td>\n",
       "      <td>59.554788<\/td>\n",
       "      <td>75.036992<\/td>\n",
       "    <\/tr>\n",
       "    <tr>\n",
       "      <th>5<\/th>\n",
       "      <td>Africa<\/td>\n",
       "      <td>2021<\/td>\n",
       "      <td>Low income<\/td>\n",
       "      <td>124.504110<\/td>\n",
       "      <td>487.424340<\/td>\n",
       "      <td>8395<\/td>\n",
       "      <td>114.075952<\/td>\n",
       "      <td>134.932267<\/td>\n",
       "    <\/tr>\n",
       "    <tr>\n",
       "      <th>6<\/th>\n",
       "      <td>Africa<\/td>\n",
       "      <td>2021<\/td>\n",
       "      <td>Lower middle income<\/td>\n",
       "      <td>348.812394<\/td>\n",
       "      <td>906.988518<\/td>\n",
       "      <td>7665<\/td>\n",
       "      <td>328.504617<\/td>\n",
       "      <td>369.120171<\/td>\n",
       "    <\/tr>\n",
       "    <tr>\n",
       "      <th>7<\/th>\n",
       "      <td>Africa<\/td>\n",
       "      <td>2021<\/td>\n",
       "      <td>Upper middle income<\/td>\n",
       "      <td>1111.608219<\/td>\n",
       "      <td>3232.130518<\/td>\n",
       "      <td>2920<\/td>\n",
       "      <td>994.327756<\/td>\n",
       "      <td>1228.888682<\/td>\n",
       "    <\/tr>\n",
       "    <tr>\n",
       "      <th>8<\/th>\n",
       "      <td>Asia<\/td>\n",
       "      <td>2020<\/td>\n",
       "      <td>High income<\/td>\n",
       "      <td>493.063446<\/td>\n",
       "      <td>805.001966<\/td>\n",
       "      <td>3830<\/td>\n",
       "      <td>467.560935<\/td>\n",
       "      <td>518.565958<\/td>\n",
       "    <\/tr>\n",
       "    <tr>\n",
       "      <th>9<\/th>\n",
       "      <td>Asia<\/td>\n",
       "      <td>2020<\/td>\n",
       "      <td>Low income<\/td>\n",
       "      <td>234.568966<\/td>\n",
       "      <td>592.926675<\/td>\n",
       "      <td>1450<\/td>\n",
       "      <td>204.024819<\/td>\n",
       "      <td>265.113112<\/td>\n",
       "    <\/tr>\n",
       "    <tr>\n",
       "      <th>10<\/th>\n",
       "      <td>Asia<\/td>\n",
       "      <td>2020<\/td>\n",
       "      <td>Lower middle income<\/td>\n",
       "      <td>2808.383312<\/td>\n",
       "      <td>11214.023994<\/td>\n",
       "      <td>4602<\/td>\n",
       "      <td>2484.304582<\/td>\n",
       "      <td>3132.462041<\/td>\n",
       "    <\/tr>\n",
       "    <tr>\n",
       "      <th>11<\/th>\n",
       "      <td>Asia<\/td>\n",
       "      <td>2020<\/td>\n",
       "      <td>Upper middle income<\/td>\n",
       "      <td>1260.403746<\/td>\n",
       "      <td>12681.057660<\/td>\n",
       "      <td>4431<\/td>\n",
       "      <td>886.920292<\/td>\n",
       "      <td>1633.887201<\/td>\n",
       "    <\/tr>\n",
       "    <tr>\n",
       "      <th>12<\/th>\n",
       "      <td>Asia<\/td>\n",
       "      <td>2021<\/td>\n",
       "      <td>High income<\/td>\n",
       "      <td>1118.581050<\/td>\n",
       "      <td>2276.307266<\/td>\n",
       "      <td>4380<\/td>\n",
       "      <td>1051.149681<\/td>\n",
       "      <td>1186.012419<\/td>\n",
       "    <\/tr>\n",
       "    <tr>\n",
       "      <th>13<\/th>\n",
       "      <td>Asia<\/td>\n",
       "      <td>2021<\/td>\n",
       "      <td>Low income<\/td>\n",
       "      <td>396.871781<\/td>\n",
       "      <td>1160.547691<\/td>\n",
       "      <td>1825<\/td>\n",
       "      <td>343.591325<\/td>\n",
       "      <td>450.152236<\/td>\n",
       "    <\/tr>\n",
       "    <tr>\n",
       "      <th>14<\/th>\n",
       "      <td>Asia<\/td>\n",
       "      <td>2021<\/td>\n",
       "      <td>Lower middle income<\/td>\n",
       "      <td>6573.092785<\/td>\n",
       "      <td>30463.243191<\/td>\n",
       "      <td>5475<\/td>\n",
       "      <td>5765.991192<\/td>\n",
       "      <td>7380.194379<\/td>\n",
       "    <\/tr>\n",
       "    <tr>\n",
       "      <th>15<\/th>\n",
       "      <td>Asia<\/td>\n",
       "      <td>2021<\/td>\n",
       "      <td>Upper middle income<\/td>\n",
       "      <td>4458.967906<\/td>\n",
       "      <td>7567.969641<\/td>\n",
       "      <td>5110<\/td>\n",
       "      <td>4251.419252<\/td>\n",
       "      <td>4666.516560<\/td>\n",
       "    <\/tr>\n",
       "    <tr>\n",
       "      <th>16<\/th>\n",
       "      <td>Europe<\/td>\n",
       "      <td>2020<\/td>\n",
       "      <td>High income<\/td>\n",
       "      <td>1779.303054<\/td>\n",
       "      <td>5273.235892<\/td>\n",
       "      <td>10051<\/td>\n",
       "      <td>1676.199661<\/td>\n",
       "      <td>1882.406448<\/td>\n",
       "    <\/tr>\n",
       "    <tr>\n",
       "      <th>17<\/th>\n",
       "      <td>Europe<\/td>\n",
       "      <td>2020<\/td>\n",
       "      <td>Lower middle income<\/td>\n",
       "      <td>2042.810945<\/td>\n",
       "      <td>3495.523582<\/td>\n",
       "      <td>603<\/td>\n",
       "      <td>1763.250515<\/td>\n",
       "      <td>2322.371375<\/td>\n",
       "    <\/tr>\n",
       "    <tr>\n",
       "      <th>18<\/th>\n",
       "      <td>Europe<\/td>\n",
       "      <td>2020<\/td>\n",
       "      <td>Upper middle income<\/td>\n",
       "      <td>1741.089325<\/td>\n",
       "      <td>4306.900675<\/td>\n",
       "      <td>2754<\/td>\n",
       "      <td>1580.164902<\/td>\n",
       "      <td>1902.013747<\/td>\n",
       "    <\/tr>\n",
       "    <tr>\n",
       "      <th>19<\/th>\n",
       "      <td>Europe<\/td>\n",
       "      <td>2021<\/td>\n",
       "      <td>High income<\/td>\n",
       "      <td>4374.541866<\/td>\n",
       "      <td>11242.058453<\/td>\n",
       "      <td>11680<\/td>\n",
       "      <td>4170.641729<\/td>\n",
       "      <td>4578.442004<\/td>\n",
       "    <\/tr>\n",
       "    <tr>\n",
       "      <th>20<\/th>\n",
       "      <td>Europe<\/td>\n",
       "      <td>2021<\/td>\n",
       "      <td>Lower middle income<\/td>\n",
       "      <td>4098.035616<\/td>\n",
       "      <td>5827.432894<\/td>\n",
       "      <td>730<\/td>\n",
       "      <td>3674.601757<\/td>\n",
       "      <td>4521.469476<\/td>\n",
       "    <\/tr>\n",
       "    <tr>\n",
       "      <th>21<\/th>\n",
       "      <td>Europe<\/td>\n",
       "      <td>2021<\/td>\n",
       "      <td>Upper middle income<\/td>\n",
       "      <td>3341.404262<\/td>\n",
       "      <td>6800.069089<\/td>\n",
       "      <td>3285<\/td>\n",
       "      <td>3108.780635<\/td>\n",
       "      <td>3574.027889<\/td>\n",
       "    <\/tr>\n",
       "    <tr>\n",
       "      <th>22<\/th>\n",
       "      <td>North America(continent)<\/td>\n",
       "      <td>2020<\/td>\n",
       "      <td>High income<\/td>\n",
       "      <td>8639.475780<\/td>\n",
       "      <td>31304.439194<\/td>\n",
       "      <td>2436<\/td>\n",
       "      <td>7395.730907<\/td>\n",
       "      <td>9883.220653<\/td>\n",
       "    <\/tr>\n",
       "    <tr>\n",
       "      <th>23<\/th>\n",
       "      <td>North America(continent)<\/td>\n",
       "      <td>2020<\/td>\n",
       "      <td>Low income<\/td>\n",
       "      <td>34.839721<\/td>\n",
       "      <td>52.551228<\/td>\n",
       "      <td>287<\/td>\n",
       "      <td>28.734074<\/td>\n",
       "      <td>40.945369<\/td>\n",
       "    <\/tr>\n",
       "    <tr>\n",
       "      <th>24<\/th>\n",
       "      <td>North America(continent)<\/td>\n",
       "      <td>2020<\/td>\n",
       "      <td>Lower middle income<\/td>\n",
       "      <td>199.801606<\/td>\n",
       "      <td>264.273075<\/td>\n",
       "      <td>872<\/td>\n",
       "      <td>182.236665<\/td>\n",
       "      <td>217.366546<\/td>\n",
       "    <\/tr>\n",
       "    <tr>\n",
       "      <th>25<\/th>\n",
       "      <td>North America(continent)<\/td>\n",
       "      <td>2020<\/td>\n",
       "      <td>Upper middle income<\/td>\n",
       "      <td>599.063600<\/td>\n",
       "      <td>1714.741391<\/td>\n",
       "      <td>3239<\/td>\n",
       "      <td>539.988615<\/td>\n",
       "      <td>658.138584<\/td>\n",
       "    <\/tr>\n",
       "    <tr>\n",
       "      <th>26<\/th>\n",
       "      <td>North America(continent)<\/td>\n",
       "      <td>2021<\/td>\n",
       "      <td>High income<\/td>\n",
       "      <td>12546.505822<\/td>\n",
       "      <td>42428.147946<\/td>\n",
       "      <td>2920<\/td>\n",
       "      <td>11006.966250<\/td>\n",
       "      <td>14086.045394<\/td>\n",
       "    <\/tr>\n",
       "    <tr>\n",
       "      <th>27<\/th>\n",
       "      <td>North America(continent)<\/td>\n",
       "      <td>2021<\/td>\n",
       "      <td>Low income<\/td>\n",
       "      <td>43.797260<\/td>\n",
       "      <td>73.758460<\/td>\n",
       "      <td>365<\/td>\n",
       "      <td>36.205195<\/td>\n",
       "      <td>51.389325<\/td>\n",
       "    <\/tr>\n",
       "    <tr>\n",
       "      <th>28<\/th>\n",
       "      <td>North America(continent)<\/td>\n",
       "      <td>2021<\/td>\n",
       "      <td>Lower middle income<\/td>\n",
       "      <td>314.811872<\/td>\n",
       "      <td>572.884005<\/td>\n",
       "      <td>1095<\/td>\n",
       "      <td>280.842425<\/td>\n",
       "      <td>348.781319<\/td>\n",
       "    <\/tr>\n",
       "    <tr>\n",
       "      <th>29<\/th>\n",
       "      <td>North America(continent)<\/td>\n",
       "      <td>2021<\/td>\n",
       "      <td>Upper middle income<\/td>\n",
       "      <td>1191.098879<\/td>\n",
       "      <td>2969.473694<\/td>\n",
       "      <td>4015<\/td>\n",
       "      <td>1099.219982<\/td>\n",
       "      <td>1282.977776<\/td>\n",
       "    <\/tr>\n",
       "    <tr>\n",
       "      <th>30<\/th>\n",
       "      <td>Oceania<\/td>\n",
       "      <td>2020<\/td>\n",
       "      <td>High income<\/td>\n",
       "      <td>47.132512<\/td>\n",
       "      <td>105.576757<\/td>\n",
       "      <td>649<\/td>\n",
       "      <td>38.994731<\/td>\n",
       "      <td>55.270292<\/td>\n",
       "    <\/tr>\n",
       "    <tr>\n",
       "      <th>31<\/th>\n",
       "      <td>Oceania<\/td>\n",
       "      <td>2020<\/td>\n",
       "      <td>Lower middle income<\/td>\n",
       "      <td>1.938095<\/td>\n",
       "      <td>6.796811<\/td>\n",
       "      <td>420<\/td>\n",
       "      <td>1.286189<\/td>\n",
       "      <td>2.590001<\/td>\n",
       "    <\/tr>\n",
       "    <tr>\n",
       "      <th>32<\/th>\n",
       "      <td>Oceania<\/td>\n",
       "      <td>2020<\/td>\n",
       "      <td>Upper middle income<\/td>\n",
       "      <td>0.141058<\/td>\n",
       "      <td>0.577571<\/td>\n",
       "      <td>397<\/td>\n",
       "      <td>0.084069<\/td>\n",
       "      <td>0.198046<\/td>\n",
       "    <\/tr>\n",
       "    <tr>\n",
       "      <th>33<\/th>\n",
       "      <td>Oceania<\/td>\n",
       "      <td>2021<\/td>\n",
       "      <td>High income<\/td>\n",
       "      <td>474.526682<\/td>\n",
       "      <td>2065.170313<\/td>\n",
       "      <td>862<\/td>\n",
       "      <td>336.468782<\/td>\n",
       "      <td>612.584582<\/td>\n",
       "    <\/tr>\n",
       "    <tr>\n",
       "      <th>34<\/th>\n",
       "      <td>Oceania<\/td>\n",
       "      <td>2021<\/td>\n",
       "      <td>Lower middle income<\/td>\n",
       "      <td>26.752079<\/td>\n",
       "      <td>94.939477<\/td>\n",
       "      <td>1323<\/td>\n",
       "      <td>21.631574<\/td>\n",
       "      <td>31.872584<\/td>\n",
       "    <\/tr>\n",
       "    <tr>\n",
       "      <th>35<\/th>\n",
       "      <td>Oceania<\/td>\n",
       "      <td>2021<\/td>\n",
       "      <td>Upper middle income<\/td>\n",
       "      <td>48.661187<\/td>\n",
       "      <td>182.408544<\/td>\n",
       "      <td>1095<\/td>\n",
       "      <td>37.845180<\/td>\n",
       "      <td>59.477194<\/td>\n",
       "    <\/tr>\n",
       "    <tr>\n",
       "      <th>36<\/th>\n",
       "      <td>South America(continent)<\/td>\n",
       "      <td>2020<\/td>\n",
       "      <td>High income<\/td>\n",
       "      <td>1034.782537<\/td>\n",
       "      <td>1573.531300<\/td>\n",
       "      <td>607<\/td>\n",
       "      <td>909.353703<\/td>\n",
       "      <td>1160.211371<\/td>\n",
       "    <\/tr>\n",
       "    <tr>\n",
       "      <th>37<\/th>\n",
       "      <td>South America(continent)<\/td>\n",
       "      <td>2020<\/td>\n",
       "      <td>Lower middle income<\/td>\n",
       "      <td>540.959459<\/td>\n",
       "      <td>534.276573<\/td>\n",
       "      <td>296<\/td>\n",
       "      <td>479.843620<\/td>\n",
       "      <td>602.075299<\/td>\n",
       "    <\/tr>\n",
       "    <tr>\n",
       "      <th>38<\/th>\n",
       "      <td>South America(continent)<\/td>\n",
       "      <td>2020<\/td>\n",
       "      <td>Upper middle income<\/td>\n",
       "      <td>4604.692450<\/td>\n",
       "      <td>9993.572248<\/td>\n",
       "      <td>2702<\/td>\n",
       "      <td>4227.710261<\/td>\n",
       "      <td>4981.674639<\/td>\n",
       "    <\/tr>\n",
       "    <tr>\n",
       "      <th>39<\/th>\n",
       "      <td>South America(continent)<\/td>\n",
       "      <td>2021<\/td>\n",
       "      <td>High income<\/td>\n",
       "      <td>2180.527397<\/td>\n",
       "      <td>2183.763529<\/td>\n",
       "      <td>730<\/td>\n",
       "      <td>2021.850423<\/td>\n",
       "      <td>2339.204372<\/td>\n",
       "    <\/tr>\n",
       "    <tr>\n",
       "      <th>40<\/th>\n",
       "      <td>South America(continent)<\/td>\n",
       "      <td>2021<\/td>\n",
       "      <td>Lower middle income<\/td>\n",
       "      <td>1204.463014<\/td>\n",
       "      <td>1128.098194<\/td>\n",
       "      <td>365<\/td>\n",
       "      <td>1088.346232<\/td>\n",
       "      <td>1320.579795<\/td>\n",
       "    <\/tr>\n",
       "    <tr>\n",
       "      <th>41<\/th>\n",
       "      <td>South America(continent)<\/td>\n",
       "      <td>2021<\/td>\n",
       "      <td>Upper middle income<\/td>\n",
       "      <td>7470.957686<\/td>\n",
       "      <td>15944.888037<\/td>\n",
       "      <td>3285<\/td>\n",
       "      <td>6925.498862<\/td>\n",
       "      <td>8016.416511<\/td>\n",
       "    <\/tr>\n",
       "  <\/tbody>\n",
       "<\/table>\n",
       "<\/div>"
      ]
     },
     "metadata":{
      
     },
     "output_type":"display_data"
    }
   ],
   "metadata":{
    "datalore":{
     "type":"CODE",
     "hide_input_from_viewers":false,
     "hide_output_from_viewers":false
    }
   }
  },
  {
   "cell_type":"code",
   "source":[
    "statsHI20=statsdcases[(statsdcases['income']=='High income') & (statsdcases['year']==2020)]"
   ],
   "execution_count":226,
   "outputs":[
    
   ],
   "metadata":{
    "datalore":{
     "type":"CODE",
     "hide_input_from_viewers":false,
     "hide_output_from_viewers":false
    }
   }
  },
  {
   "cell_type":"code",
   "source":[
    "statsHI20"
   ],
   "execution_count":227,
   "outputs":[
    {
     "data":{
      "text\/html":[
       "<div>\n",
       "<style scoped>\n",
       "    .dataframe tbody tr th:only-of-type {\n",
       "        vertical-align: middle;\n",
       "    }\n",
       "\n",
       "    .dataframe tbody tr th {\n",
       "        vertical-align: top;\n",
       "    }\n",
       "\n",
       "    .dataframe thead tr th {\n",
       "        text-align: left;\n",
       "    }\n",
       "<\/style>\n",
       "<table border=\"1\" class=\"dataframe\">\n",
       "  <thead>\n",
       "    <tr>\n",
       "      <th><\/th>\n",
       "      <th>continent<\/th>\n",
       "      <th>year<\/th>\n",
       "      <th>income<\/th>\n",
       "      <th colspan=\"5\" halign=\"left\">dcases<\/th>\n",
       "    <\/tr>\n",
       "    <tr>\n",
       "      <th><\/th>\n",
       "      <th><\/th>\n",
       "      <th><\/th>\n",
       "      <th><\/th>\n",
       "      <th>mean<\/th>\n",
       "      <th>std<\/th>\n",
       "      <th>size<\/th>\n",
       "      <th>get_ci_lb<\/th>\n",
       "      <th>get_ci_ub<\/th>\n",
       "    <\/tr>\n",
       "  <\/thead>\n",
       "  <tbody>\n",
       "    <tr>\n",
       "      <th>0<\/th>\n",
       "      <td>Africa<\/td>\n",
       "      <td>2020<\/td>\n",
       "      <td>High income<\/td>\n",
       "      <td>0.787671<\/td>\n",
       "      <td>3.579646<\/td>\n",
       "      <td>292<\/td>\n",
       "      <td>0.375377<\/td>\n",
       "      <td>1.199965<\/td>\n",
       "    <\/tr>\n",
       "    <tr>\n",
       "      <th>8<\/th>\n",
       "      <td>Asia<\/td>\n",
       "      <td>2020<\/td>\n",
       "      <td>High income<\/td>\n",
       "      <td>493.063446<\/td>\n",
       "      <td>805.001966<\/td>\n",
       "      <td>3830<\/td>\n",
       "      <td>467.560935<\/td>\n",
       "      <td>518.565958<\/td>\n",
       "    <\/tr>\n",
       "    <tr>\n",
       "      <th>16<\/th>\n",
       "      <td>Europe<\/td>\n",
       "      <td>2020<\/td>\n",
       "      <td>High income<\/td>\n",
       "      <td>1779.303054<\/td>\n",
       "      <td>5273.235892<\/td>\n",
       "      <td>10051<\/td>\n",
       "      <td>1676.199661<\/td>\n",
       "      <td>1882.406448<\/td>\n",
       "    <\/tr>\n",
       "    <tr>\n",
       "      <th>22<\/th>\n",
       "      <td>North America(continent)<\/td>\n",
       "      <td>2020<\/td>\n",
       "      <td>High income<\/td>\n",
       "      <td>8639.475780<\/td>\n",
       "      <td>31304.439194<\/td>\n",
       "      <td>2436<\/td>\n",
       "      <td>7395.730907<\/td>\n",
       "      <td>9883.220653<\/td>\n",
       "    <\/tr>\n",
       "    <tr>\n",
       "      <th>30<\/th>\n",
       "      <td>Oceania<\/td>\n",
       "      <td>2020<\/td>\n",
       "      <td>High income<\/td>\n",
       "      <td>47.132512<\/td>\n",
       "      <td>105.576757<\/td>\n",
       "      <td>649<\/td>\n",
       "      <td>38.994731<\/td>\n",
       "      <td>55.270292<\/td>\n",
       "    <\/tr>\n",
       "    <tr>\n",
       "      <th>36<\/th>\n",
       "      <td>South America(continent)<\/td>\n",
       "      <td>2020<\/td>\n",
       "      <td>High income<\/td>\n",
       "      <td>1034.782537<\/td>\n",
       "      <td>1573.531300<\/td>\n",
       "      <td>607<\/td>\n",
       "      <td>909.353703<\/td>\n",
       "      <td>1160.211371<\/td>\n",
       "    <\/tr>\n",
       "  <\/tbody>\n",
       "<\/table>\n",
       "<\/div>"
      ]
     },
     "metadata":{
      
     },
     "output_type":"display_data"
    }
   ],
   "metadata":{
    "datalore":{
     "type":"CODE",
     "hide_input_from_viewers":false,
     "hide_output_from_viewers":false
    }
   }
  },
  {
   "cell_type":"code",
   "source":[
    "statsHI20.columns=['continent','year','income','mean','std','size','lb','ub']"
   ],
   "execution_count":228,
   "outputs":[
    
   ],
   "metadata":{
    "datalore":{
     "type":"CODE",
     "hide_input_from_viewers":false,
     "hide_output_from_viewers":false
    }
   }
  },
  {
   "cell_type":"markdown",
   "source":[
    "as you can see in the following graph the high income people have been infected to covid but not a lot. we can conclude from this that these people have money which means they have money to protect them selves hygenically from the virus"
   ],
   "attachments":{
    
   },
   "metadata":{
    "datalore":{
     "type":"MD",
     "hide_input_from_viewers":false,
     "hide_output_from_viewers":false
    }
   }
  },
  {
   "cell_type":"code",
   "source":[
    "plt.bar( 'continent', 'mean', data=statsHI20)\n",
    "plt.bar( 'continent', 'mean', data=statsHI20)\n",
    "plt.xlabel(\"Continents\")\n",
    "plt.ylabel(\"Average Daily COVID CASES\")\n",
    "plt.xticks(rotation=90)\n",
    "plt.title(\"High income\")\n",
    "plt.show()"
   ],
   "execution_count":229,
   "outputs":[
    {
     "data":{
      "image\/png":"[encoded data removed]"
     },
     "metadata":{
      "image\/png":{
       
      }
     },
     "output_type":"display_data"
    }
   ],
   "metadata":{
    "datalore":{
     "type":"CODE",
     "hide_input_from_viewers":false,
     "hide_output_from_viewers":false
    }
   }
  },
  {
   "cell_type":"code",
   "source":[
    "ci_lb_ub=[statsHI20['lb'],statsHI20['ub']]"
   ],
   "execution_count":230,
   "outputs":[
    
   ],
   "metadata":{
    "datalore":{
     "type":"CODE",
     "hide_input_from_viewers":false,
     "hide_output_from_viewers":false
    }
   }
  },
  {
   "cell_type":"code",
   "source":[
    "err = np.abs(ci_lb_ub - statsHI20['mean'].to_numpy())"
   ],
   "execution_count":231,
   "outputs":[
    
   ],
   "metadata":{
    "datalore":{
     "type":"CODE",
     "hide_input_from_viewers":false,
     "hide_output_from_viewers":false
    }
   }
  },
  {
   "cell_type":"markdown",
   "source":[
    "here we can see the margin of error because people could've done some mistakes while calculating "
   ],
   "attachments":{
    
   },
   "metadata":{
    "datalore":{
     "type":"MD",
     "hide_input_from_viewers":false,
     "hide_output_from_viewers":false
    }
   }
  },
  {
   "cell_type":"code",
   "source":[
    "plt.bar('continent', 'mean',  yerr=err, data=statsHI20, capsize=4)\n",
    "plt.xlabel(\"Continents\")\n",
    "plt.ylabel(\"Average Daily COVID CASES\")\n",
    "plt.xticks(rotation=90)\n",
    "plt.title(\"High income\")\n",
    "plt.show()"
   ],
   "execution_count":232,
   "outputs":[
    {
     "data":{
      "image\/png":"[encoded data removed]"
     },
     "metadata":{
      "image\/png":{
       
      }
     },
     "output_type":"display_data"
    }
   ],
   "metadata":{
    "datalore":{
     "type":"CODE",
     "hide_input_from_viewers":false,
     "hide_output_from_viewers":false
    }
   }
  },
  {
   "cell_type":"code",
   "source":[
    "statsHI21=statsdcases[(statsdcases['income']=='High income')\n",
    "                       & (statsdcases['year']==2021)]\n",
    "statsHI21"
   ],
   "execution_count":233,
   "outputs":[
    {
     "data":{
      "text\/html":[
       "<div>\n",
       "<style scoped>\n",
       "    .dataframe tbody tr th:only-of-type {\n",
       "        vertical-align: middle;\n",
       "    }\n",
       "\n",
       "    .dataframe tbody tr th {\n",
       "        vertical-align: top;\n",
       "    }\n",
       "\n",
       "    .dataframe thead tr th {\n",
       "        text-align: left;\n",
       "    }\n",
       "<\/style>\n",
       "<table border=\"1\" class=\"dataframe\">\n",
       "  <thead>\n",
       "    <tr>\n",
       "      <th><\/th>\n",
       "      <th>continent<\/th>\n",
       "      <th>year<\/th>\n",
       "      <th>income<\/th>\n",
       "      <th colspan=\"5\" halign=\"left\">dcases<\/th>\n",
       "    <\/tr>\n",
       "    <tr>\n",
       "      <th><\/th>\n",
       "      <th><\/th>\n",
       "      <th><\/th>\n",
       "      <th><\/th>\n",
       "      <th>mean<\/th>\n",
       "      <th>std<\/th>\n",
       "      <th>size<\/th>\n",
       "      <th>get_ci_lb<\/th>\n",
       "      <th>get_ci_ub<\/th>\n",
       "    <\/tr>\n",
       "  <\/thead>\n",
       "  <tbody>\n",
       "    <tr>\n",
       "      <th>4<\/th>\n",
       "      <td>Africa<\/td>\n",
       "      <td>2021<\/td>\n",
       "      <td>High income<\/td>\n",
       "      <td>67.295890<\/td>\n",
       "      <td>75.206384<\/td>\n",
       "      <td>365<\/td>\n",
       "      <td>59.554788<\/td>\n",
       "      <td>75.036992<\/td>\n",
       "    <\/tr>\n",
       "    <tr>\n",
       "      <th>12<\/th>\n",
       "      <td>Asia<\/td>\n",
       "      <td>2021<\/td>\n",
       "      <td>High income<\/td>\n",
       "      <td>1118.581050<\/td>\n",
       "      <td>2276.307266<\/td>\n",
       "      <td>4380<\/td>\n",
       "      <td>1051.149681<\/td>\n",
       "      <td>1186.012419<\/td>\n",
       "    <\/tr>\n",
       "    <tr>\n",
       "      <th>19<\/th>\n",
       "      <td>Europe<\/td>\n",
       "      <td>2021<\/td>\n",
       "      <td>High income<\/td>\n",
       "      <td>4374.541866<\/td>\n",
       "      <td>11242.058453<\/td>\n",
       "      <td>11680<\/td>\n",
       "      <td>4170.641729<\/td>\n",
       "      <td>4578.442004<\/td>\n",
       "    <\/tr>\n",
       "    <tr>\n",
       "      <th>26<\/th>\n",
       "      <td>North America(continent)<\/td>\n",
       "      <td>2021<\/td>\n",
       "      <td>High income<\/td>\n",
       "      <td>12546.505822<\/td>\n",
       "      <td>42428.147946<\/td>\n",
       "      <td>2920<\/td>\n",
       "      <td>11006.966250<\/td>\n",
       "      <td>14086.045394<\/td>\n",
       "    <\/tr>\n",
       "    <tr>\n",
       "      <th>33<\/th>\n",
       "      <td>Oceania<\/td>\n",
       "      <td>2021<\/td>\n",
       "      <td>High income<\/td>\n",
       "      <td>474.526682<\/td>\n",
       "      <td>2065.170313<\/td>\n",
       "      <td>862<\/td>\n",
       "      <td>336.468782<\/td>\n",
       "      <td>612.584582<\/td>\n",
       "    <\/tr>\n",
       "    <tr>\n",
       "      <th>39<\/th>\n",
       "      <td>South America(continent)<\/td>\n",
       "      <td>2021<\/td>\n",
       "      <td>High income<\/td>\n",
       "      <td>2180.527397<\/td>\n",
       "      <td>2183.763529<\/td>\n",
       "      <td>730<\/td>\n",
       "      <td>2021.850423<\/td>\n",
       "      <td>2339.204372<\/td>\n",
       "    <\/tr>\n",
       "  <\/tbody>\n",
       "<\/table>\n",
       "<\/div>"
      ]
     },
     "metadata":{
      
     },
     "output_type":"display_data"
    }
   ],
   "metadata":{
    "datalore":{
     "type":"CODE",
     "hide_input_from_viewers":false,
     "hide_output_from_viewers":false
    }
   }
  },
  {
   "cell_type":"code",
   "source":[
    "statsHI20.columns=['continent','year','income','mean','std','size','lb','ub']"
   ],
   "execution_count":234,
   "outputs":[
    
   ],
   "metadata":{
    "datalore":{
     "type":"CODE",
     "hide_input_from_viewers":false,
     "hide_output_from_viewers":false
    }
   }
  },
  {
   "cell_type":"code",
   "source":[
    "statsHI21.columns=['continent','year','income','mean','std','size','lb','ub']"
   ],
   "execution_count":235,
   "outputs":[
    
   ],
   "metadata":{
    "datalore":{
     "type":"CODE",
     "hide_input_from_viewers":false,
     "hide_output_from_viewers":false
    }
   }
  },
  {
   "cell_type":"code",
   "source":[
    "ci_lb_ub20=[statsHI20['lb'],statsHI20['ub']]\n",
    "err20 = np.abs(ci_lb_ub20 - statsHI20['mean'].to_numpy())"
   ],
   "execution_count":236,
   "outputs":[
    
   ],
   "metadata":{
    "datalore":{
     "type":"CODE",
     "hide_input_from_viewers":false,
     "hide_output_from_viewers":false
    }
   }
  },
  {
   "cell_type":"code",
   "source":[
    "ci_lb_ub21=[statsHI21['lb'],statsHI21['ub']]\n",
    "err21 = np.abs(ci_lb_ub21 - statsHI21['mean'].to_numpy())"
   ],
   "execution_count":237,
   "outputs":[
    
   ],
   "metadata":{
    "datalore":{
     "type":"CODE",
     "hide_input_from_viewers":false,
     "hide_output_from_viewers":false
    }
   }
  },
  {
   "cell_type":"code",
   "source":[
    "from matplotlib.transforms import Affine2D"
   ],
   "execution_count":238,
   "outputs":[
    
   ],
   "metadata":{
    "datalore":{
     "type":"CODE",
     "hide_input_from_viewers":false,
     "hide_output_from_viewers":false
    }
   }
  },
  {
   "cell_type":"markdown",
   "source":[
    "This graph includes 2020 and 2021 together here we can see that in 2020 cases are much more unlike the others. we can conclude from this that high income people had money to be vaccinated first and become immuned from the virus."
   ],
   "attachments":{
    
   },
   "metadata":{
    "datalore":{
     "type":"MD",
     "hide_input_from_viewers":false,
     "hide_output_from_viewers":false
    }
   }
  },
  {
   "cell_type":"code",
   "source":[
    "fig, ax = plt.subplots()\n",
    "\n",
    "trans1 = Affine2D().translate(-0.1, 0.0) + ax.transData\n",
    "trans2 = Affine2D().translate(+0.1, 0.0) + ax.transData\n",
    "plt.bar('continent', 'mean',  yerr=err21, data=statsHI21, capsize=4,\n",
    "             color='red',width=0.55)\n",
    "plt.bar('continent', 'mean',  yerr=err20, data=statsHI20, capsize=4,\n",
    "             color='blue',width=0.55\/3)\n",
    "plt.legend(['2020','2021'])\n",
    "plt.xlabel('Continents')\n",
    "plt.xticks(rotation=90)\n",
    "plt.ylabel(\"Average Daily COVID CASES\")\n",
    "plt.title(\"High income\")\n",
    "plt.show()"
   ],
   "execution_count":239,
   "outputs":[
    {
     "data":{
      "image\/png":"[encoded data removed]"
     },
     "metadata":{
      "image\/png":{
       
      }
     },
     "output_type":"display_data"
    }
   ],
   "metadata":{
    "datalore":{
     "type":"CODE",
     "hide_input_from_viewers":false,
     "hide_output_from_viewers":false
    }
   }
  },
  {
   "cell_type":"code",
   "source":[
    "statsLMI20=statsdcases[(statsdcases['income']=='Lower middle income') & (statsdcases['year']==2020)]"
   ],
   "execution_count":240,
   "outputs":[
    
   ],
   "metadata":{
    "datalore":{
     "type":"CODE",
     "hide_input_from_viewers":false,
     "hide_output_from_viewers":false
    }
   }
  },
  {
   "cell_type":"code",
   "source":[
    "statsLMI20"
   ],
   "execution_count":241,
   "outputs":[
    {
     "data":{
      "text\/html":[
       "<div>\n",
       "<style scoped>\n",
       "    .dataframe tbody tr th:only-of-type {\n",
       "        vertical-align: middle;\n",
       "    }\n",
       "\n",
       "    .dataframe tbody tr th {\n",
       "        vertical-align: top;\n",
       "    }\n",
       "\n",
       "    .dataframe thead tr th {\n",
       "        text-align: left;\n",
       "    }\n",
       "<\/style>\n",
       "<table border=\"1\" class=\"dataframe\">\n",
       "  <thead>\n",
       "    <tr>\n",
       "      <th><\/th>\n",
       "      <th>continent<\/th>\n",
       "      <th>year<\/th>\n",
       "      <th>income<\/th>\n",
       "      <th colspan=\"5\" halign=\"left\">dcases<\/th>\n",
       "    <\/tr>\n",
       "    <tr>\n",
       "      <th><\/th>\n",
       "      <th><\/th>\n",
       "      <th><\/th>\n",
       "      <th><\/th>\n",
       "      <th>mean<\/th>\n",
       "      <th>std<\/th>\n",
       "      <th>size<\/th>\n",
       "      <th>get_ci_lb<\/th>\n",
       "      <th>get_ci_ub<\/th>\n",
       "    <\/tr>\n",
       "  <\/thead>\n",
       "  <tbody>\n",
       "    <tr>\n",
       "      <th>2<\/th>\n",
       "      <td>Africa<\/td>\n",
       "      <td>2020<\/td>\n",
       "      <td>Lower middle income<\/td>\n",
       "      <td>189.657246<\/td>\n",
       "      <td>538.688967<\/td>\n",
       "      <td>6086<\/td>\n",
       "      <td>176.120740<\/td>\n",
       "      <td>203.193753<\/td>\n",
       "    <\/tr>\n",
       "    <tr>\n",
       "      <th>10<\/th>\n",
       "      <td>Asia<\/td>\n",
       "      <td>2020<\/td>\n",
       "      <td>Lower middle income<\/td>\n",
       "      <td>2808.383312<\/td>\n",
       "      <td>11214.023994<\/td>\n",
       "      <td>4602<\/td>\n",
       "      <td>2484.304582<\/td>\n",
       "      <td>3132.462041<\/td>\n",
       "    <\/tr>\n",
       "    <tr>\n",
       "      <th>17<\/th>\n",
       "      <td>Europe<\/td>\n",
       "      <td>2020<\/td>\n",
       "      <td>Lower middle income<\/td>\n",
       "      <td>2042.810945<\/td>\n",
       "      <td>3495.523582<\/td>\n",
       "      <td>603<\/td>\n",
       "      <td>1763.250515<\/td>\n",
       "      <td>2322.371375<\/td>\n",
       "    <\/tr>\n",
       "    <tr>\n",
       "      <th>24<\/th>\n",
       "      <td>North America(continent)<\/td>\n",
       "      <td>2020<\/td>\n",
       "      <td>Lower middle income<\/td>\n",
       "      <td>199.801606<\/td>\n",
       "      <td>264.273075<\/td>\n",
       "      <td>872<\/td>\n",
       "      <td>182.236665<\/td>\n",
       "      <td>217.366546<\/td>\n",
       "    <\/tr>\n",
       "    <tr>\n",
       "      <th>31<\/th>\n",
       "      <td>Oceania<\/td>\n",
       "      <td>2020<\/td>\n",
       "      <td>Lower middle income<\/td>\n",
       "      <td>1.938095<\/td>\n",
       "      <td>6.796811<\/td>\n",
       "      <td>420<\/td>\n",
       "      <td>1.286189<\/td>\n",
       "      <td>2.590001<\/td>\n",
       "    <\/tr>\n",
       "    <tr>\n",
       "      <th>37<\/th>\n",
       "      <td>South America(continent)<\/td>\n",
       "      <td>2020<\/td>\n",
       "      <td>Lower middle income<\/td>\n",
       "      <td>540.959459<\/td>\n",
       "      <td>534.276573<\/td>\n",
       "      <td>296<\/td>\n",
       "      <td>479.843620<\/td>\n",
       "      <td>602.075299<\/td>\n",
       "    <\/tr>\n",
       "  <\/tbody>\n",
       "<\/table>\n",
       "<\/div>"
      ]
     },
     "metadata":{
      
     },
     "output_type":"display_data"
    }
   ],
   "metadata":{
    "datalore":{
     "type":"CODE",
     "hide_input_from_viewers":false,
     "hide_output_from_viewers":false
    }
   }
  },
  {
   "cell_type":"code",
   "source":[
    "statsLMI20.columns=['continent','year','income','mean','std','size','lb','ub']"
   ],
   "execution_count":242,
   "outputs":[
    
   ],
   "metadata":{
    "datalore":{
     "type":"CODE",
     "hide_input_from_viewers":false,
     "hide_output_from_viewers":false
    }
   }
  },
  {
   "cell_type":"markdown",
   "source":[
    "This graph shows that the lower middle income class have had a lot more of covid 19 cases. we can conclude that they didn't have enough of money to stay hygenically clean from the virus and they weren't able to claim the vaccine like the high income people."
   ],
   "attachments":{
    
   },
   "metadata":{
    "datalore":{
     "type":"MD",
     "hide_input_from_viewers":false,
     "hide_output_from_viewers":false
    }
   }
  },
  {
   "cell_type":"code",
   "source":[
    "plt.bar( 'continent', 'mean', data=statsLMI20)\n",
    "plt.bar( 'continent', 'mean', data=statsLMI20)\n",
    "plt.xlabel(\"Continents\")\n",
    "plt.ylabel(\"Average Daily COVID CASES\")\n",
    "plt.xticks(rotation=90)\n",
    "plt.title(\"Lower middle income\")\n",
    "plt.show()"
   ],
   "execution_count":243,
   "outputs":[
    {
     "data":{
      "image\/png":"[encoded data removed]"
     },
     "metadata":{
      "image\/png":{
       
      }
     },
     "output_type":"display_data"
    }
   ],
   "metadata":{
    "datalore":{
     "type":"CODE",
     "hide_input_from_viewers":false,
     "hide_output_from_viewers":false
    }
   }
  },
  {
   "cell_type":"code",
   "source":[
    "ci_lb_ub=[statsLMI20['lb'],statsLMI20['ub']]"
   ],
   "execution_count":244,
   "outputs":[
    
   ],
   "metadata":{
    "datalore":{
     "type":"CODE",
     "hide_input_from_viewers":false,
     "hide_output_from_viewers":false
    }
   }
  },
  {
   "cell_type":"code",
   "source":[
    "err = np.abs(ci_lb_ub - statsLMI20['mean'].to_numpy())"
   ],
   "execution_count":245,
   "outputs":[
    
   ],
   "metadata":{
    "datalore":{
     "type":"CODE",
     "hide_input_from_viewers":false,
     "hide_output_from_viewers":false
    }
   }
  },
  {
   "cell_type":"markdown",
   "source":[
    "here is a margin of error as people could've made a mistake while calculating the number of people"
   ],
   "attachments":{
    
   },
   "metadata":{
    "datalore":{
     "type":"MD",
     "hide_input_from_viewers":false,
     "hide_output_from_viewers":false
    }
   }
  },
  {
   "cell_type":"code",
   "source":[
    "plt.bar('continent', 'mean',  yerr=err, data=statsLMI20, capsize=4)\n",
    "plt.xlabel(\"Continents\")\n",
    "plt.ylabel(\"Average Daily COVID CASES\")\n",
    "plt.xticks(rotation=90)\n",
    "plt.title(\"Lower middle income\")\n",
    "plt.show()"
   ],
   "execution_count":246,
   "outputs":[
    {
     "data":{
      "image\/png":"[encoded data removed]"
     },
     "metadata":{
      "image\/png":{
       
      }
     },
     "output_type":"display_data"
    }
   ],
   "metadata":{
    "datalore":{
     "type":"CODE",
     "hide_input_from_viewers":false,
     "hide_output_from_viewers":false
    }
   }
  },
  {
   "cell_type":"code",
   "source":[
    "statsLMI21=statsdcases[(statsdcases['income']=='Lower middle income')\n",
    "                       & (statsdcases['year']==2021)]\n",
    "statsLMI21"
   ],
   "execution_count":247,
   "outputs":[
    {
     "data":{
      "text\/html":[
       "<div>\n",
       "<style scoped>\n",
       "    .dataframe tbody tr th:only-of-type {\n",
       "        vertical-align: middle;\n",
       "    }\n",
       "\n",
       "    .dataframe tbody tr th {\n",
       "        vertical-align: top;\n",
       "    }\n",
       "\n",
       "    .dataframe thead tr th {\n",
       "        text-align: left;\n",
       "    }\n",
       "<\/style>\n",
       "<table border=\"1\" class=\"dataframe\">\n",
       "  <thead>\n",
       "    <tr>\n",
       "      <th><\/th>\n",
       "      <th>continent<\/th>\n",
       "      <th>year<\/th>\n",
       "      <th>income<\/th>\n",
       "      <th colspan=\"5\" halign=\"left\">dcases<\/th>\n",
       "    <\/tr>\n",
       "    <tr>\n",
       "      <th><\/th>\n",
       "      <th><\/th>\n",
       "      <th><\/th>\n",
       "      <th><\/th>\n",
       "      <th>mean<\/th>\n",
       "      <th>std<\/th>\n",
       "      <th>size<\/th>\n",
       "      <th>get_ci_lb<\/th>\n",
       "      <th>get_ci_ub<\/th>\n",
       "    <\/tr>\n",
       "  <\/thead>\n",
       "  <tbody>\n",
       "    <tr>\n",
       "      <th>6<\/th>\n",
       "      <td>Africa<\/td>\n",
       "      <td>2021<\/td>\n",
       "      <td>Lower middle income<\/td>\n",
       "      <td>348.812394<\/td>\n",
       "      <td>906.988518<\/td>\n",
       "      <td>7665<\/td>\n",
       "      <td>328.504617<\/td>\n",
       "      <td>369.120171<\/td>\n",
       "    <\/tr>\n",
       "    <tr>\n",
       "      <th>14<\/th>\n",
       "      <td>Asia<\/td>\n",
       "      <td>2021<\/td>\n",
       "      <td>Lower middle income<\/td>\n",
       "      <td>6573.092785<\/td>\n",
       "      <td>30463.243191<\/td>\n",
       "      <td>5475<\/td>\n",
       "      <td>5765.991192<\/td>\n",
       "      <td>7380.194379<\/td>\n",
       "    <\/tr>\n",
       "    <tr>\n",
       "      <th>20<\/th>\n",
       "      <td>Europe<\/td>\n",
       "      <td>2021<\/td>\n",
       "      <td>Lower middle income<\/td>\n",
       "      <td>4098.035616<\/td>\n",
       "      <td>5827.432894<\/td>\n",
       "      <td>730<\/td>\n",
       "      <td>3674.601757<\/td>\n",
       "      <td>4521.469476<\/td>\n",
       "    <\/tr>\n",
       "    <tr>\n",
       "      <th>28<\/th>\n",
       "      <td>North America(continent)<\/td>\n",
       "      <td>2021<\/td>\n",
       "      <td>Lower middle income<\/td>\n",
       "      <td>314.811872<\/td>\n",
       "      <td>572.884005<\/td>\n",
       "      <td>1095<\/td>\n",
       "      <td>280.842425<\/td>\n",
       "      <td>348.781319<\/td>\n",
       "    <\/tr>\n",
       "    <tr>\n",
       "      <th>34<\/th>\n",
       "      <td>Oceania<\/td>\n",
       "      <td>2021<\/td>\n",
       "      <td>Lower middle income<\/td>\n",
       "      <td>26.752079<\/td>\n",
       "      <td>94.939477<\/td>\n",
       "      <td>1323<\/td>\n",
       "      <td>21.631574<\/td>\n",
       "      <td>31.872584<\/td>\n",
       "    <\/tr>\n",
       "    <tr>\n",
       "      <th>40<\/th>\n",
       "      <td>South America(continent)<\/td>\n",
       "      <td>2021<\/td>\n",
       "      <td>Lower middle income<\/td>\n",
       "      <td>1204.463014<\/td>\n",
       "      <td>1128.098194<\/td>\n",
       "      <td>365<\/td>\n",
       "      <td>1088.346232<\/td>\n",
       "      <td>1320.579795<\/td>\n",
       "    <\/tr>\n",
       "  <\/tbody>\n",
       "<\/table>\n",
       "<\/div>"
      ]
     },
     "metadata":{
      
     },
     "output_type":"display_data"
    }
   ],
   "metadata":{
    "datalore":{
     "type":"CODE",
     "hide_input_from_viewers":false,
     "hide_output_from_viewers":false
    }
   }
  },
  {
   "cell_type":"code",
   "source":[
    "statsLMI20.columns=['continent','year','income','mean','std','size','lb','ub']"
   ],
   "execution_count":248,
   "outputs":[
    
   ],
   "metadata":{
    "datalore":{
     "type":"CODE",
     "hide_input_from_viewers":false,
     "hide_output_from_viewers":false
    }
   }
  },
  {
   "cell_type":"code",
   "source":[
    "statsLMI21.columns=['continent','year','income','mean','std','size','lb','ub']"
   ],
   "execution_count":249,
   "outputs":[
    
   ],
   "metadata":{
    "datalore":{
     "type":"CODE",
     "hide_input_from_viewers":false,
     "hide_output_from_viewers":false
    }
   }
  },
  {
   "cell_type":"code",
   "source":[
    "ci_lb_ub20=[statsLMI20['lb'],statsLMI20['ub']]\n",
    "err20 = np.abs(ci_lb_ub20 - statsHI20['mean'].to_numpy())"
   ],
   "execution_count":250,
   "outputs":[
    
   ],
   "metadata":{
    "datalore":{
     "type":"CODE",
     "hide_input_from_viewers":false,
     "hide_output_from_viewers":false
    }
   }
  },
  {
   "cell_type":"code",
   "source":[
    "ci_lb_ub21=[statsLMI21['lb'],statsLMI21['ub']]\n",
    "err21 = np.abs(ci_lb_ub21 - statsLMI21['mean'].to_numpy())"
   ],
   "execution_count":251,
   "outputs":[
    
   ],
   "metadata":{
    "datalore":{
     "type":"CODE",
     "hide_input_from_viewers":false,
     "hide_output_from_viewers":false
    }
   }
  },
  {
   "cell_type":"code",
   "source":[
    "from matplotlib.transforms import Affine2D"
   ],
   "execution_count":252,
   "outputs":[
    
   ],
   "metadata":{
    "datalore":{
     "type":"CODE",
     "hide_input_from_viewers":false,
     "hide_output_from_viewers":false
    }
   }
  },
  {
   "cell_type":"code",
   "source":[
    "import matplotlib.pyplot as plt"
   ],
   "execution_count":253,
   "outputs":[
    
   ],
   "metadata":{
    "datalore":{
     "type":"CODE",
     "hide_input_from_viewers":false,
     "hide_output_from_viewers":false
    }
   }
  },
  {
   "cell_type":"markdown",
   "source":[
    "here we have the 2020 and 2021 graoh and we can conclude that 2020 had more cases probably because they had the chance to take the vaccination and become immuned. Now we will also be able to compare it with the high income and the high income have less covid-19 cases because they probably wre able to stay at hospital and have better medical conditions"
   ],
   "attachments":{
    
   },
   "metadata":{
    "datalore":{
     "type":"MD",
     "hide_input_from_viewers":false,
     "hide_output_from_viewers":false
    }
   }
  },
  {
   "cell_type":"code",
   "source":[
    "fig, ax = plt.subplots()\n",
    "\n",
    "trans1 = Affine2D().translate(-0.1, 0.0) + ax.transData\n",
    "trans2 = Affine2D().translate(+0.1, 0.0) + ax.transData\n",
    "plt.bar('continent', 'mean',  yerr=err21, data=statsLMI21, capsize=4,\n",
    "             color='red',width=0.55)\n",
    "plt.bar('continent', 'mean',  yerr=err20, data=statsLMI20, capsize=4,\n",
    "             color='blue',width=0.55\/3)\n",
    "plt.ylim(ymin=0)\n",
    "plt.legend(['2020','2021'])\n",
    "plt.xlabel('Continents')\n",
    "plt.xticks(rotation=90)\n",
    "plt.ylabel(\"Average Daily COVID CASES\")\n",
    "plt.title(\"Lower middle income\")\n",
    "plt.show()"
   ],
   "execution_count":254,
   "outputs":[
    {
     "data":{
      "image\/png":"[encoded data removed]"
     },
     "metadata":{
      "image\/png":{
       
      }
     },
     "output_type":"display_data"
    }
   ],
   "metadata":{
    "datalore":{
     "type":"CODE",
     "hide_input_from_viewers":false,
     "hide_output_from_viewers":false
    }
   }
  }
 ],
 "metadata":{
  "datalore":{
   "version":1,
   "computation_mode":"JUPYTER",
   "package_manager":"pip",
   "base_environment":"default",
   "packages":[
    
   ]
  }
 },
 "nbformat":4,
 "nbformat_minor":4
}